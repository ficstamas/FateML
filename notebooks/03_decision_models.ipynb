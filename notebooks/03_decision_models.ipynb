{
 "cells": [
  {
   "cell_type": "code",
   "execution_count": 10,
   "id": "871a0332-2a64-4593-b4e6-0ffc08d7f395",
   "metadata": {},
   "outputs": [
    {
     "name": "stdout",
     "output_type": "stream",
     "text": [
      "Collecting git+https://github.com/ficstamas/FateML.git\n",
      "  Cloning https://github.com/ficstamas/FateML.git to c:\\users\\ftkni\\appdata\\local\\temp\\pip-req-build-tigmtf_1\n",
      "  Resolved https://github.com/ficstamas/FateML.git to commit 39e82ee436e6aff468145505419928fb7bdbd97b\n",
      "  Installing build dependencies: started\n",
      "  Installing build dependencies: finished with status 'done'\n",
      "  Getting requirements to build wheel: started\n",
      "  Getting requirements to build wheel: finished with status 'done'\n",
      "  Preparing metadata (pyproject.toml): started\n",
      "  Preparing metadata (pyproject.toml): finished with status 'done'\n",
      "Requirement already satisfied: scikit-learn in e:\\programs\\anaconda3\\envs\\fateml\\lib\\site-packages (from fateml==0.0.12) (1.2.0)\n",
      "Requirement already satisfied: pandas in e:\\programs\\anaconda3\\envs\\fateml\\lib\\site-packages (from fateml==0.0.12) (1.5.2)\n",
      "Requirement already satisfied: numpy in e:\\programs\\anaconda3\\envs\\fateml\\lib\\site-packages (from fateml==0.0.12) (1.23.5)\n",
      "Requirement already satisfied: cvxopt in e:\\programs\\anaconda3\\envs\\fateml\\lib\\site-packages (from fateml==0.0.12) (1.3.0)\n",
      "Requirement already satisfied: lxml in e:\\programs\\anaconda3\\envs\\fateml\\lib\\site-packages (from fateml==0.0.12) (4.9.2)\n",
      "Requirement already satisfied: pytz>=2020.1 in e:\\programs\\anaconda3\\envs\\fateml\\lib\\site-packages (from pandas->fateml==0.0.12) (2022.7)\n",
      "Requirement already satisfied: python-dateutil>=2.8.1 in e:\\programs\\anaconda3\\envs\\fateml\\lib\\site-packages (from pandas->fateml==0.0.12) (2.8.2)\n",
      "Requirement already satisfied: joblib>=1.1.1 in e:\\programs\\anaconda3\\envs\\fateml\\lib\\site-packages (from scikit-learn->fateml==0.0.12) (1.2.0)\n",
      "Requirement already satisfied: scipy>=1.3.2 in e:\\programs\\anaconda3\\envs\\fateml\\lib\\site-packages (from scikit-learn->fateml==0.0.12) (1.9.3)\n",
      "Requirement already satisfied: threadpoolctl>=2.0.0 in e:\\programs\\anaconda3\\envs\\fateml\\lib\\site-packages (from scikit-learn->fateml==0.0.12) (3.1.0)\n",
      "Requirement already satisfied: six>=1.5 in e:\\programs\\anaconda3\\envs\\fateml\\lib\\site-packages (from python-dateutil>=2.8.1->pandas->fateml==0.0.12) (1.16.0)\n",
      "Building wheels for collected packages: fateml\n",
      "  Building wheel for fateml (pyproject.toml): started\n",
      "  Building wheel for fateml (pyproject.toml): finished with status 'done'\n",
      "  Created wheel for fateml: filename=fateml-0.0.12-py3-none-any.whl size=9037 sha256=ca25796392b406943a8cc6dd151bf71e8b9fb0253ec4ce95aa3dce7c8642900e\n",
      "  Stored in directory: C:\\Users\\ftkni\\AppData\\Local\\Temp\\pip-ephem-wheel-cache-jf9hymy0\\wheels\\87\\6c\\e2\\33c99a760bb427c6cfafafdac061de3071a08d3bc865be1a8b\n",
      "Successfully built fateml\n",
      "Installing collected packages: fateml\n",
      "  Attempting uninstall: fateml\n",
      "    Found existing installation: fateml 0.0.11\n",
      "    Uninstalling fateml-0.0.11:\n",
      "      Successfully uninstalled fateml-0.0.11\n",
      "Successfully installed fateml-0.0.12\n"
     ]
    },
    {
     "name": "stderr",
     "output_type": "stream",
     "text": [
      "  Running command git clone --filter=blob:none --quiet https://github.com/ficstamas/FateML.git 'C:\\Users\\ftkni\\AppData\\Local\\Temp\\pip-req-build-tigmtf_1'\n"
     ]
    }
   ],
   "source": [
    "!pip install git+https://github.com/ficstamas/FateML.git"
   ]
  },
  {
   "cell_type": "code",
   "execution_count": 94,
   "id": "24e3e617-c605-4380-94cf-f34f62bb2d53",
   "metadata": {},
   "outputs": [
    {
     "name": "stdout",
     "output_type": "stream",
     "text": [
      "Requirement already satisfied: graphviz in e:\\programs\\anaconda3\\envs\\fateml\\lib\\site-packages (0.20.1)\n",
      "Collecting imodels\n",
      "  Downloading imodels-1.3.12-py3-none-any.whl (194 kB)\n",
      "     -------------------------------------- 195.0/195.0 kB 2.0 MB/s eta 0:00:00\n",
      "Requirement already satisfied: pandas in e:\\programs\\anaconda3\\envs\\fateml\\lib\\site-packages (from imodels) (1.5.2)\n",
      "Requirement already satisfied: matplotlib in e:\\programs\\anaconda3\\envs\\fateml\\lib\\site-packages (from imodels) (3.5.1)\n",
      "Requirement already satisfied: numpy in e:\\programs\\anaconda3\\envs\\fateml\\lib\\site-packages (from imodels) (1.23.5)\n",
      "Collecting mlxtend>=0.18.0\n",
      "  Downloading mlxtend-0.21.0-py2.py3-none-any.whl (1.3 MB)\n",
      "     ---------------------------------------- 1.3/1.3 MB 9.5 MB/s eta 0:00:00\n",
      "Collecting tqdm\n",
      "  Using cached tqdm-4.64.1-py2.py3-none-any.whl (78 kB)\n",
      "Requirement already satisfied: scipy in e:\\programs\\anaconda3\\envs\\fateml\\lib\\site-packages (from imodels) (1.9.3)\n",
      "Requirement already satisfied: scikit-learn in e:\\programs\\anaconda3\\envs\\fateml\\lib\\site-packages (from imodels) (1.2.0)\n",
      "Requirement already satisfied: requests in e:\\programs\\anaconda3\\envs\\fateml\\lib\\site-packages (from imodels) (2.28.2)\n",
      "Requirement already satisfied: joblib>=0.13.2 in e:\\programs\\anaconda3\\envs\\fateml\\lib\\site-packages (from mlxtend>=0.18.0->imodels) (1.2.0)\n",
      "Requirement already satisfied: setuptools in e:\\programs\\anaconda3\\envs\\fateml\\lib\\site-packages (from mlxtend>=0.18.0->imodels) (65.5.0)\n",
      "Requirement already satisfied: pyparsing>=2.2.1 in e:\\programs\\anaconda3\\envs\\fateml\\lib\\site-packages (from matplotlib->imodels) (3.0.9)\n",
      "Requirement already satisfied: python-dateutil>=2.7 in e:\\programs\\anaconda3\\envs\\fateml\\lib\\site-packages (from matplotlib->imodels) (2.8.2)\n",
      "Requirement already satisfied: kiwisolver>=1.0.1 in e:\\programs\\anaconda3\\envs\\fateml\\lib\\site-packages (from matplotlib->imodels) (1.4.4)\n",
      "Requirement already satisfied: pillow>=6.2.0 in e:\\programs\\anaconda3\\envs\\fateml\\lib\\site-packages (from matplotlib->imodels) (9.4.0)\n",
      "Requirement already satisfied: cycler>=0.10 in e:\\programs\\anaconda3\\envs\\fateml\\lib\\site-packages (from matplotlib->imodels) (0.11.0)\n",
      "Requirement already satisfied: fonttools>=4.22.0 in e:\\programs\\anaconda3\\envs\\fateml\\lib\\site-packages (from matplotlib->imodels) (4.38.0)\n",
      "Requirement already satisfied: packaging>=20.0 in e:\\programs\\anaconda3\\envs\\fateml\\lib\\site-packages (from matplotlib->imodels) (22.0)\n",
      "Requirement already satisfied: pytz>=2020.1 in e:\\programs\\anaconda3\\envs\\fateml\\lib\\site-packages (from pandas->imodels) (2022.7)\n",
      "Requirement already satisfied: threadpoolctl>=2.0.0 in e:\\programs\\anaconda3\\envs\\fateml\\lib\\site-packages (from scikit-learn->imodels) (3.1.0)\n",
      "Requirement already satisfied: idna<4,>=2.5 in e:\\programs\\anaconda3\\envs\\fateml\\lib\\site-packages (from requests->imodels) (3.4)\n",
      "Requirement already satisfied: charset-normalizer<4,>=2 in e:\\programs\\anaconda3\\envs\\fateml\\lib\\site-packages (from requests->imodels) (3.0.1)\n",
      "Requirement already satisfied: certifi>=2017.4.17 in e:\\programs\\anaconda3\\envs\\fateml\\lib\\site-packages (from requests->imodels) (2022.12.7)\n",
      "Requirement already satisfied: urllib3<1.27,>=1.21.1 in e:\\programs\\anaconda3\\envs\\fateml\\lib\\site-packages (from requests->imodels) (1.26.14)\n",
      "Requirement already satisfied: colorama in e:\\programs\\anaconda3\\envs\\fateml\\lib\\site-packages (from tqdm->imodels) (0.4.6)\n",
      "Requirement already satisfied: six>=1.5 in e:\\programs\\anaconda3\\envs\\fateml\\lib\\site-packages (from python-dateutil>=2.7->matplotlib->imodels) (1.16.0)\n",
      "Installing collected packages: tqdm, mlxtend, imodels\n",
      "Successfully installed imodels-1.3.12 mlxtend-0.21.0 tqdm-4.64.1\n"
     ]
    }
   ],
   "source": [
    "!pip install graphviz imodels"
   ]
  },
  {
   "cell_type": "code",
   "execution_count": 8,
   "id": "1120c6c7-8fc8-4515-8872-2b62dfe2642c",
   "metadata": {},
   "outputs": [],
   "source": [
    "import numpy as np\n",
    "import pandas as pd\n",
    "import matplotlib.pyplot as plt\n",
    "import seaborn as sns"
   ]
  },
  {
   "cell_type": "markdown",
   "id": "9f09a054-3e48-413b-b4c7-077906434fd1",
   "metadata": {
    "tags": []
   },
   "source": [
    "# Datasets\n",
    "\n",
    "In this notebook we are going use 2 datasets:\n",
    "- [Iris dataset](https://scikit-learn.org/stable/datasets/toy_dataset.html#iris-plants-dataset) (Classification) \n",
    "  - Features: petal length (cm), petal width (cm), sepal length (cm), sepal width (cm)\n",
    "  - Target: setosa (0), versicolor (1), virginica (2)\n",
    "- [Diabetes dataset](https://scikit-learn.org/stable/datasets/toy_dataset.html#diabetes-dataset) (Regression)\n",
    "  - Features: age, sex, bmi, bp, s1 (total serum cholesterol), s2 (low-density lipoproteins), s3 (high-density lipoproteins \\[HDL\\]), s4 (total cholesterol / HDL), s5 (possibly log of serum triglycerides level), s6 (blood sugar level)\n",
    "  - Target:  quantitative measure of disease progression one year after baseline"
   ]
  },
  {
   "cell_type": "code",
   "execution_count": 1,
   "id": "6bfb5dfd-2dfe-4da3-a10f-2df3ce4c01f6",
   "metadata": {},
   "outputs": [],
   "source": [
    "from fateml.data import load_dataset\n",
    "\n",
    "iris = load_dataset(\"iris\", standardize=False, statsmodels_format=False)\n",
    "diabetes = load_dataset(\"diabetes\", standardize=False, statsmodels_format=False)"
   ]
  },
  {
   "cell_type": "code",
   "execution_count": 82,
   "id": "4d66586d-d133-41d0-a2cf-b866daa24125",
   "metadata": {},
   "outputs": [
    {
     "data": {
      "text/html": [
       "<div>\n",
       "<style scoped>\n",
       "    .dataframe tbody tr th:only-of-type {\n",
       "        vertical-align: middle;\n",
       "    }\n",
       "\n",
       "    .dataframe tbody tr th {\n",
       "        vertical-align: top;\n",
       "    }\n",
       "\n",
       "    .dataframe thead th {\n",
       "        text-align: right;\n",
       "    }\n",
       "</style>\n",
       "<table border=\"1\" class=\"dataframe\">\n",
       "  <thead>\n",
       "    <tr style=\"text-align: right;\">\n",
       "      <th></th>\n",
       "      <th>petal length (cm)</th>\n",
       "      <th>petal width (cm)</th>\n",
       "      <th>sepal length (cm)</th>\n",
       "      <th>sepal width (cm)</th>\n",
       "    </tr>\n",
       "  </thead>\n",
       "  <tbody>\n",
       "    <tr>\n",
       "      <th>105</th>\n",
       "      <td>6.6</td>\n",
       "      <td>2.1</td>\n",
       "      <td>7.6</td>\n",
       "      <td>3.0</td>\n",
       "    </tr>\n",
       "    <tr>\n",
       "      <th>85</th>\n",
       "      <td>4.5</td>\n",
       "      <td>1.6</td>\n",
       "      <td>6.0</td>\n",
       "      <td>3.4</td>\n",
       "    </tr>\n",
       "    <tr>\n",
       "      <th>15</th>\n",
       "      <td>1.5</td>\n",
       "      <td>0.4</td>\n",
       "      <td>5.7</td>\n",
       "      <td>4.4</td>\n",
       "    </tr>\n",
       "    <tr>\n",
       "      <th>70</th>\n",
       "      <td>4.8</td>\n",
       "      <td>1.8</td>\n",
       "      <td>5.9</td>\n",
       "      <td>3.2</td>\n",
       "    </tr>\n",
       "    <tr>\n",
       "      <th>34</th>\n",
       "      <td>1.5</td>\n",
       "      <td>0.2</td>\n",
       "      <td>4.9</td>\n",
       "      <td>3.1</td>\n",
       "    </tr>\n",
       "    <tr>\n",
       "      <th>...</th>\n",
       "      <td>...</td>\n",
       "      <td>...</td>\n",
       "      <td>...</td>\n",
       "      <td>...</td>\n",
       "    </tr>\n",
       "    <tr>\n",
       "      <th>4</th>\n",
       "      <td>1.4</td>\n",
       "      <td>0.2</td>\n",
       "      <td>5.0</td>\n",
       "      <td>3.6</td>\n",
       "    </tr>\n",
       "    <tr>\n",
       "      <th>113</th>\n",
       "      <td>5.0</td>\n",
       "      <td>2.0</td>\n",
       "      <td>5.7</td>\n",
       "      <td>2.5</td>\n",
       "    </tr>\n",
       "    <tr>\n",
       "      <th>67</th>\n",
       "      <td>4.1</td>\n",
       "      <td>1.0</td>\n",
       "      <td>5.8</td>\n",
       "      <td>2.7</td>\n",
       "    </tr>\n",
       "    <tr>\n",
       "      <th>98</th>\n",
       "      <td>3.0</td>\n",
       "      <td>1.1</td>\n",
       "      <td>5.1</td>\n",
       "      <td>2.5</td>\n",
       "    </tr>\n",
       "    <tr>\n",
       "      <th>52</th>\n",
       "      <td>4.9</td>\n",
       "      <td>1.5</td>\n",
       "      <td>6.9</td>\n",
       "      <td>3.1</td>\n",
       "    </tr>\n",
       "  </tbody>\n",
       "</table>\n",
       "<p>105 rows × 4 columns</p>\n",
       "</div>"
      ],
      "text/plain": [
       "     petal length (cm)  petal width (cm)  sepal length (cm)  sepal width (cm)\n",
       "105                6.6               2.1                7.6               3.0\n",
       "85                 4.5               1.6                6.0               3.4\n",
       "15                 1.5               0.4                5.7               4.4\n",
       "70                 4.8               1.8                5.9               3.2\n",
       "34                 1.5               0.2                4.9               3.1\n",
       "..                 ...               ...                ...               ...\n",
       "4                  1.4               0.2                5.0               3.6\n",
       "113                5.0               2.0                5.7               2.5\n",
       "67                 4.1               1.0                5.8               2.7\n",
       "98                 3.0               1.1                5.1               2.5\n",
       "52                 4.9               1.5                6.9               3.1\n",
       "\n",
       "[105 rows x 4 columns]"
      ]
     },
     "execution_count": 82,
     "metadata": {},
     "output_type": "execute_result"
    }
   ],
   "source": [
    "iris.train_x"
   ]
  },
  {
   "cell_type": "code",
   "execution_count": 83,
   "id": "ae8ad6e7-3c2b-408b-bee9-6a12966892ab",
   "metadata": {},
   "outputs": [
    {
     "data": {
      "text/html": [
       "<div>\n",
       "<style scoped>\n",
       "    .dataframe tbody tr th:only-of-type {\n",
       "        vertical-align: middle;\n",
       "    }\n",
       "\n",
       "    .dataframe tbody tr th {\n",
       "        vertical-align: top;\n",
       "    }\n",
       "\n",
       "    .dataframe thead th {\n",
       "        text-align: right;\n",
       "    }\n",
       "</style>\n",
       "<table border=\"1\" class=\"dataframe\">\n",
       "  <thead>\n",
       "    <tr style=\"text-align: right;\">\n",
       "      <th></th>\n",
       "      <th>age</th>\n",
       "      <th>bmi</th>\n",
       "      <th>bp</th>\n",
       "      <th>s1</th>\n",
       "      <th>s2</th>\n",
       "      <th>s3</th>\n",
       "      <th>s4</th>\n",
       "      <th>s5</th>\n",
       "      <th>s6</th>\n",
       "      <th>sex</th>\n",
       "    </tr>\n",
       "  </thead>\n",
       "  <tbody>\n",
       "    <tr>\n",
       "      <th>251</th>\n",
       "      <td>-0.052738</td>\n",
       "      <td>0.098342</td>\n",
       "      <td>0.087287</td>\n",
       "      <td>0.060349</td>\n",
       "      <td>0.048790</td>\n",
       "      <td>-0.058127</td>\n",
       "      <td>0.108111</td>\n",
       "      <td>0.084492</td>\n",
       "      <td>0.040343</td>\n",
       "      <td>0.050680</td>\n",
       "    </tr>\n",
       "    <tr>\n",
       "      <th>385</th>\n",
       "      <td>0.023546</td>\n",
       "      <td>-0.019140</td>\n",
       "      <td>0.049415</td>\n",
       "      <td>-0.063487</td>\n",
       "      <td>-0.061125</td>\n",
       "      <td>0.004460</td>\n",
       "      <td>-0.039493</td>\n",
       "      <td>-0.025953</td>\n",
       "      <td>-0.013504</td>\n",
       "      <td>0.050680</td>\n",
       "    </tr>\n",
       "    <tr>\n",
       "      <th>162</th>\n",
       "      <td>-0.052738</td>\n",
       "      <td>0.030440</td>\n",
       "      <td>-0.074527</td>\n",
       "      <td>-0.023584</td>\n",
       "      <td>-0.011335</td>\n",
       "      <td>-0.002903</td>\n",
       "      <td>-0.002592</td>\n",
       "      <td>-0.030748</td>\n",
       "      <td>-0.001078</td>\n",
       "      <td>-0.044642</td>\n",
       "    </tr>\n",
       "    <tr>\n",
       "      <th>231</th>\n",
       "      <td>0.009016</td>\n",
       "      <td>-0.030996</td>\n",
       "      <td>0.021872</td>\n",
       "      <td>0.008063</td>\n",
       "      <td>0.008707</td>\n",
       "      <td>0.004460</td>\n",
       "      <td>-0.002592</td>\n",
       "      <td>0.009434</td>\n",
       "      <td>0.011349</td>\n",
       "      <td>-0.044642</td>\n",
       "    </tr>\n",
       "    <tr>\n",
       "      <th>345</th>\n",
       "      <td>0.081666</td>\n",
       "      <td>-0.002973</td>\n",
       "      <td>-0.033213</td>\n",
       "      <td>0.042462</td>\n",
       "      <td>0.057871</td>\n",
       "      <td>-0.010266</td>\n",
       "      <td>0.034309</td>\n",
       "      <td>-0.000612</td>\n",
       "      <td>-0.001078</td>\n",
       "      <td>0.050680</td>\n",
       "    </tr>\n",
       "    <tr>\n",
       "      <th>...</th>\n",
       "      <td>...</td>\n",
       "      <td>...</td>\n",
       "      <td>...</td>\n",
       "      <td>...</td>\n",
       "      <td>...</td>\n",
       "      <td>...</td>\n",
       "      <td>...</td>\n",
       "      <td>...</td>\n",
       "      <td>...</td>\n",
       "      <td>...</td>\n",
       "    </tr>\n",
       "    <tr>\n",
       "      <th>404</th>\n",
       "      <td>-0.016412</td>\n",
       "      <td>0.054152</td>\n",
       "      <td>0.070072</td>\n",
       "      <td>-0.033216</td>\n",
       "      <td>-0.027931</td>\n",
       "      <td>0.008142</td>\n",
       "      <td>-0.039493</td>\n",
       "      <td>-0.027129</td>\n",
       "      <td>-0.009362</td>\n",
       "      <td>-0.044642</td>\n",
       "    </tr>\n",
       "    <tr>\n",
       "      <th>312</th>\n",
       "      <td>-0.074533</td>\n",
       "      <td>-0.023451</td>\n",
       "      <td>-0.005670</td>\n",
       "      <td>-0.020832</td>\n",
       "      <td>-0.014153</td>\n",
       "      <td>0.015505</td>\n",
       "      <td>-0.039493</td>\n",
       "      <td>-0.038460</td>\n",
       "      <td>-0.030072</td>\n",
       "      <td>-0.044642</td>\n",
       "    </tr>\n",
       "    <tr>\n",
       "      <th>433</th>\n",
       "      <td>-0.027310</td>\n",
       "      <td>-0.060097</td>\n",
       "      <td>-0.029770</td>\n",
       "      <td>0.046589</td>\n",
       "      <td>0.019980</td>\n",
       "      <td>0.122273</td>\n",
       "      <td>-0.039493</td>\n",
       "      <td>-0.051404</td>\n",
       "      <td>-0.009362</td>\n",
       "      <td>-0.044642</td>\n",
       "    </tr>\n",
       "    <tr>\n",
       "      <th>254</th>\n",
       "      <td>0.030811</td>\n",
       "      <td>0.056307</td>\n",
       "      <td>0.076958</td>\n",
       "      <td>0.049341</td>\n",
       "      <td>-0.012274</td>\n",
       "      <td>-0.036038</td>\n",
       "      <td>0.071210</td>\n",
       "      <td>0.120051</td>\n",
       "      <td>0.090049</td>\n",
       "      <td>0.050680</td>\n",
       "    </tr>\n",
       "    <tr>\n",
       "      <th>349</th>\n",
       "      <td>0.001751</td>\n",
       "      <td>-0.057941</td>\n",
       "      <td>-0.043542</td>\n",
       "      <td>-0.096510</td>\n",
       "      <td>-0.047034</td>\n",
       "      <td>-0.098625</td>\n",
       "      <td>0.034309</td>\n",
       "      <td>-0.061176</td>\n",
       "      <td>-0.071494</td>\n",
       "      <td>0.050680</td>\n",
       "    </tr>\n",
       "  </tbody>\n",
       "</table>\n",
       "<p>309 rows × 10 columns</p>\n",
       "</div>"
      ],
      "text/plain": [
       "          age       bmi        bp        s1        s2        s3        s4  \\\n",
       "251 -0.052738  0.098342  0.087287  0.060349  0.048790 -0.058127  0.108111   \n",
       "385  0.023546 -0.019140  0.049415 -0.063487 -0.061125  0.004460 -0.039493   \n",
       "162 -0.052738  0.030440 -0.074527 -0.023584 -0.011335 -0.002903 -0.002592   \n",
       "231  0.009016 -0.030996  0.021872  0.008063  0.008707  0.004460 -0.002592   \n",
       "345  0.081666 -0.002973 -0.033213  0.042462  0.057871 -0.010266  0.034309   \n",
       "..        ...       ...       ...       ...       ...       ...       ...   \n",
       "404 -0.016412  0.054152  0.070072 -0.033216 -0.027931  0.008142 -0.039493   \n",
       "312 -0.074533 -0.023451 -0.005670 -0.020832 -0.014153  0.015505 -0.039493   \n",
       "433 -0.027310 -0.060097 -0.029770  0.046589  0.019980  0.122273 -0.039493   \n",
       "254  0.030811  0.056307  0.076958  0.049341 -0.012274 -0.036038  0.071210   \n",
       "349  0.001751 -0.057941 -0.043542 -0.096510 -0.047034 -0.098625  0.034309   \n",
       "\n",
       "           s5        s6       sex  \n",
       "251  0.084492  0.040343  0.050680  \n",
       "385 -0.025953 -0.013504  0.050680  \n",
       "162 -0.030748 -0.001078 -0.044642  \n",
       "231  0.009434  0.011349 -0.044642  \n",
       "345 -0.000612 -0.001078  0.050680  \n",
       "..        ...       ...       ...  \n",
       "404 -0.027129 -0.009362 -0.044642  \n",
       "312 -0.038460 -0.030072 -0.044642  \n",
       "433 -0.051404 -0.009362 -0.044642  \n",
       "254  0.120051  0.090049  0.050680  \n",
       "349 -0.061176 -0.071494  0.050680  \n",
       "\n",
       "[309 rows x 10 columns]"
      ]
     },
     "execution_count": 83,
     "metadata": {},
     "output_type": "execute_result"
    }
   ],
   "source": [
    "diabetes.train_x"
   ]
  },
  {
   "cell_type": "markdown",
   "id": "2441ea0a-a890-4691-a9d9-0ccb8b3b8389",
   "metadata": {},
   "source": [
    "# Decision Trees\n",
    "\n",
    "Linear and Logistic regression models are not suitable for scenarios when the features are interacting with eachother and/or a non-linear relationship is present between the target variable amd the features. In such case we can rely on decision trees. A decision tree is a flowchart-like structure in which an internal node represents a feature (or attribute), the branch represents a decision rule, and each leaf node represents the outcome. \n",
    "\n",
    "A dicision tree can handle non-linearity, categorical variables, missing data (not all of them, see CART below), and highly interpretable. Additionally, they don't require the data to be normalised or scaled. However decision trees have other issues. They are more prone to overfit the data (if the tree is too deep and complex) and less accurate overall.\n",
    "\n",
    "<img src=\"https://github.com/ficstamas/FateML/raw/master/notebooks/images/tree-artificial-1.png\" width=\"500\">"
   ]
  },
  {
   "cell_type": "markdown",
   "id": "a507eb8c-e462-4be3-ae78-6c6761fa4b36",
   "metadata": {
    "tags": []
   },
   "source": [
    "## CART - Classification And Regression Trees\n",
    "\n",
    "A popular decision tree algorithm. It can perform regression and classification tasks as well. The CART algorithm uses a top-down, greedy approach called recursive binary splitting to build the tree. It starts at the root node and selects the attribute that best splits the data into subsets with the most homogeneous class labels (in classification) or output values (in regression). The process is then repeated for each subset recursively, until a stopping criterion is met (e.g., maximum tree depth, minimum number of samples in a leaf node...). CART can only work on clean data, so we have to handle missing values beforehand.\n",
    "\n",
    "- For classification problems, the Gini impurity is used as the criterion. Gini impurity measures the probability of a random sample being misclassified if it is randomly labeled according to the class distribution in the subset. The split that results in the lowest Gini impurity is chosen as the best split.\n",
    "\n",
    "- For regression problems, the criterion used is the reduction in variance. The split that results in the largest reduction in variance is chosen as the best split.\n",
    "\n",
    "In both cases, the algorithm will try all possible splits for all features and it will select the best split using the specified criterion. Once a split is chosen, the algorithm will recursively repeat the process for each subset of the data, until a stopping criterion is met.\n",
    "\n",
    "It can be formulated as:\n",
    "$$\\hat{y}=\\hat{f}(x)=\\sum_{m=1}^Mc_mI_{\\{x\\in R_m\\}},$$\n",
    "where $I_{\\{x\\in R_m\\}}$ is an indicator function which yields 1 if $x\\in R_m$ and 0 otherwise. in other words if $x$ is part of node $m$ then it returns 1. Furthermore, $M$ denotes the number of all subsets and an instance ($x$) can only be in exactly one subset.\n"
   ]
  },
  {
   "cell_type": "markdown",
   "id": "945a6329-032c-43a8-9183-cf95da61a272",
   "metadata": {},
   "source": [
    "### Regression"
   ]
  },
  {
   "cell_type": "code",
   "execution_count": 84,
   "id": "20050965-1bdb-47fb-9408-eb8f761e09ef",
   "metadata": {},
   "outputs": [
    {
     "data": {
      "text/html": [
       "<style>#sk-container-id-25 {color: black;background-color: white;}#sk-container-id-25 pre{padding: 0;}#sk-container-id-25 div.sk-toggleable {background-color: white;}#sk-container-id-25 label.sk-toggleable__label {cursor: pointer;display: block;width: 100%;margin-bottom: 0;padding: 0.3em;box-sizing: border-box;text-align: center;}#sk-container-id-25 label.sk-toggleable__label-arrow:before {content: \"▸\";float: left;margin-right: 0.25em;color: #696969;}#sk-container-id-25 label.sk-toggleable__label-arrow:hover:before {color: black;}#sk-container-id-25 div.sk-estimator:hover label.sk-toggleable__label-arrow:before {color: black;}#sk-container-id-25 div.sk-toggleable__content {max-height: 0;max-width: 0;overflow: hidden;text-align: left;background-color: #f0f8ff;}#sk-container-id-25 div.sk-toggleable__content pre {margin: 0.2em;color: black;border-radius: 0.25em;background-color: #f0f8ff;}#sk-container-id-25 input.sk-toggleable__control:checked~div.sk-toggleable__content {max-height: 200px;max-width: 100%;overflow: auto;}#sk-container-id-25 input.sk-toggleable__control:checked~label.sk-toggleable__label-arrow:before {content: \"▾\";}#sk-container-id-25 div.sk-estimator input.sk-toggleable__control:checked~label.sk-toggleable__label {background-color: #d4ebff;}#sk-container-id-25 div.sk-label input.sk-toggleable__control:checked~label.sk-toggleable__label {background-color: #d4ebff;}#sk-container-id-25 input.sk-hidden--visually {border: 0;clip: rect(1px 1px 1px 1px);clip: rect(1px, 1px, 1px, 1px);height: 1px;margin: -1px;overflow: hidden;padding: 0;position: absolute;width: 1px;}#sk-container-id-25 div.sk-estimator {font-family: monospace;background-color: #f0f8ff;border: 1px dotted black;border-radius: 0.25em;box-sizing: border-box;margin-bottom: 0.5em;}#sk-container-id-25 div.sk-estimator:hover {background-color: #d4ebff;}#sk-container-id-25 div.sk-parallel-item::after {content: \"\";width: 100%;border-bottom: 1px solid gray;flex-grow: 1;}#sk-container-id-25 div.sk-label:hover label.sk-toggleable__label {background-color: #d4ebff;}#sk-container-id-25 div.sk-serial::before {content: \"\";position: absolute;border-left: 1px solid gray;box-sizing: border-box;top: 0;bottom: 0;left: 50%;z-index: 0;}#sk-container-id-25 div.sk-serial {display: flex;flex-direction: column;align-items: center;background-color: white;padding-right: 0.2em;padding-left: 0.2em;position: relative;}#sk-container-id-25 div.sk-item {position: relative;z-index: 1;}#sk-container-id-25 div.sk-parallel {display: flex;align-items: stretch;justify-content: center;background-color: white;position: relative;}#sk-container-id-25 div.sk-item::before, #sk-container-id-25 div.sk-parallel-item::before {content: \"\";position: absolute;border-left: 1px solid gray;box-sizing: border-box;top: 0;bottom: 0;left: 50%;z-index: -1;}#sk-container-id-25 div.sk-parallel-item {display: flex;flex-direction: column;z-index: 1;position: relative;background-color: white;}#sk-container-id-25 div.sk-parallel-item:first-child::after {align-self: flex-end;width: 50%;}#sk-container-id-25 div.sk-parallel-item:last-child::after {align-self: flex-start;width: 50%;}#sk-container-id-25 div.sk-parallel-item:only-child::after {width: 0;}#sk-container-id-25 div.sk-dashed-wrapped {border: 1px dashed gray;margin: 0 0.4em 0.5em 0.4em;box-sizing: border-box;padding-bottom: 0.4em;background-color: white;}#sk-container-id-25 div.sk-label label {font-family: monospace;font-weight: bold;display: inline-block;line-height: 1.2em;}#sk-container-id-25 div.sk-label-container {text-align: center;}#sk-container-id-25 div.sk-container {/* jupyter's `normalize.less` sets `[hidden] { display: none; }` but bootstrap.min.css set `[hidden] { display: none !important; }` so we also need the `!important` here to be able to override the default hidden behavior on the sphinx rendered scikit-learn.org. See: https://github.com/scikit-learn/scikit-learn/issues/21755 */display: inline-block !important;position: relative;}#sk-container-id-25 div.sk-text-repr-fallback {display: none;}</style><div id=\"sk-container-id-25\" class=\"sk-top-container\"><div class=\"sk-text-repr-fallback\"><pre>DecisionTreeRegressor(max_depth=3, random_state=0)</pre><b>In a Jupyter environment, please rerun this cell to show the HTML representation or trust the notebook. <br />On GitHub, the HTML representation is unable to render, please try loading this page with nbviewer.org.</b></div><div class=\"sk-container\" hidden><div class=\"sk-item\"><div class=\"sk-estimator sk-toggleable\"><input class=\"sk-toggleable__control sk-hidden--visually\" id=\"sk-estimator-id-25\" type=\"checkbox\" checked><label for=\"sk-estimator-id-25\" class=\"sk-toggleable__label sk-toggleable__label-arrow\">DecisionTreeRegressor</label><div class=\"sk-toggleable__content\"><pre>DecisionTreeRegressor(max_depth=3, random_state=0)</pre></div></div></div></div></div>"
      ],
      "text/plain": [
       "DecisionTreeRegressor(max_depth=3, random_state=0)"
      ]
     },
     "execution_count": 84,
     "metadata": {},
     "output_type": "execute_result"
    }
   ],
   "source": [
    "from sklearn.tree import DecisionTreeRegressor\n",
    "\n",
    "regression_tree = DecisionTreeRegressor(random_state=0, max_depth=3)\n",
    "regression_tree.fit(diabetes.train_x, diabetes.train_y)"
   ]
  },
  {
   "cell_type": "code",
   "execution_count": 85,
   "id": "ddb79117-2534-42dd-900c-78f42e21f50e",
   "metadata": {},
   "outputs": [
    {
     "data": {
      "text/plain": [
       "0.06595503286274407"
      ]
     },
     "execution_count": 85,
     "metadata": {},
     "output_type": "execute_result"
    }
   ],
   "source": [
    "from sklearn.metrics import r2_score\n",
    "\n",
    "r2_score(diabetes.test_y, regression_tree.predict(diabetes.test_x))"
   ]
  },
  {
   "cell_type": "markdown",
   "id": "cad82661-5375-4c59-869c-cd4aa6cab0d4",
   "metadata": {},
   "source": [
    "#### Visualization"
   ]
  },
  {
   "cell_type": "code",
   "execution_count": 86,
   "id": "5a57fd3a-6a5b-4f5c-b30d-2c54f851702b",
   "metadata": {},
   "outputs": [
    {
     "data": {
      "image/svg+xml": [
       "<?xml version=\"1.0\" encoding=\"UTF-8\" standalone=\"no\"?>\n",
       "<!DOCTYPE svg PUBLIC \"-//W3C//DTD SVG 1.1//EN\"\n",
       " \"http://www.w3.org/Graphics/SVG/1.1/DTD/svg11.dtd\">\n",
       "<!-- Generated by graphviz version 7.0.6 (20230106.0513)\n",
       " -->\n",
       "<!-- Title: Tree Pages: 1 -->\n",
       "<svg width=\"1590pt\" height=\"373pt\"\n",
       " viewBox=\"0.00 0.00 1590.00 373.00\" xmlns=\"http://www.w3.org/2000/svg\" xmlns:xlink=\"http://www.w3.org/1999/xlink\">\n",
       "<g id=\"graph0\" class=\"graph\" transform=\"scale(1 1) rotate(0) translate(4 369)\">\n",
       "<title>Tree</title>\n",
       "<polygon fill=\"white\" stroke=\"none\" points=\"-4,4 -4,-369 1586,-369 1586,4 -4,4\"/>\n",
       "<!-- 0 -->\n",
       "<g id=\"node1\" class=\"node\">\n",
       "<title>0</title>\n",
       "<path fill=\"#f7d6bf\" stroke=\"black\" d=\"M863,-365C863,-365 703,-365 703,-365 697,-365 691,-359 691,-353 691,-353 691,-309 691,-309 691,-303 697,-297 703,-297 703,-297 863,-297 863,-297 869,-297 875,-303 875,-309 875,-309 875,-353 875,-353 875,-359 869,-365 863,-365\"/>\n",
       "<text text-anchor=\"start\" x=\"745\" y=\"-349.8\" font-family=\"Helvetica,sans-Serif\" font-size=\"14.00\">bmi ≤ 0.005</text>\n",
       "<text text-anchor=\"start\" x=\"699\" y=\"-334.8\" font-family=\"Helvetica,sans-Serif\" font-size=\"14.00\">squared_error = 6170.321</text>\n",
       "<text text-anchor=\"start\" x=\"735.5\" y=\"-319.8\" font-family=\"Helvetica,sans-Serif\" font-size=\"14.00\">samples = 309</text>\n",
       "<text text-anchor=\"start\" x=\"731.5\" y=\"-304.8\" font-family=\"Helvetica,sans-Serif\" font-size=\"14.00\">value = 149.812</text>\n",
       "</g>\n",
       "<!-- 1 -->\n",
       "<g id=\"node2\" class=\"node\">\n",
       "<title>1</title>\n",
       "<path fill=\"#fcefe6\" stroke=\"black\" d=\"M667,-261C667,-261 507,-261 507,-261 501,-261 495,-255 495,-249 495,-249 495,-205 495,-205 495,-199 501,-193 507,-193 507,-193 667,-193 667,-193 673,-193 679,-199 679,-205 679,-205 679,-249 679,-249 679,-255 673,-261 667,-261\"/>\n",
       "<text text-anchor=\"start\" x=\"553\" y=\"-245.8\" font-family=\"Helvetica,sans-Serif\" font-size=\"14.00\">s5 ≤ 0.018</text>\n",
       "<text text-anchor=\"start\" x=\"503\" y=\"-230.8\" font-family=\"Helvetica,sans-Serif\" font-size=\"14.00\">squared_error = 3637.987</text>\n",
       "<text text-anchor=\"start\" x=\"539.5\" y=\"-215.8\" font-family=\"Helvetica,sans-Serif\" font-size=\"14.00\">samples = 196</text>\n",
       "<text text-anchor=\"start\" x=\"535.5\" y=\"-200.8\" font-family=\"Helvetica,sans-Serif\" font-size=\"14.00\">value = 116.587</text>\n",
       "</g>\n",
       "<!-- 0&#45;&gt;1 -->\n",
       "<g id=\"edge1\" class=\"edge\">\n",
       "<title>0&#45;&gt;1</title>\n",
       "<path fill=\"none\" stroke=\"black\" d=\"M718.82,-296.6C700.46,-287.05 680.3,-276.55 661.38,-266.71\"/>\n",
       "<polygon fill=\"black\" stroke=\"black\" points=\"663.15,-263.68 652.66,-262.17 659.92,-269.89 663.15,-263.68\"/>\n",
       "<text text-anchor=\"middle\" x=\"658.84\" y=\"-281.62\" font-family=\"Helvetica,sans-Serif\" font-size=\"14.00\">True</text>\n",
       "</g>\n",
       "<!-- 8 -->\n",
       "<g id=\"node9\" class=\"node\">\n",
       "<title>8</title>\n",
       "<path fill=\"#eeac7c\" stroke=\"black\" d=\"M1065,-261C1065,-261 905,-261 905,-261 899,-261 893,-255 893,-249 893,-249 893,-205 893,-205 893,-199 899,-193 905,-193 905,-193 1065,-193 1065,-193 1071,-193 1077,-199 1077,-205 1077,-205 1077,-249 1077,-249 1077,-255 1071,-261 1065,-261\"/>\n",
       "<text text-anchor=\"start\" x=\"951\" y=\"-245.8\" font-family=\"Helvetica,sans-Serif\" font-size=\"14.00\">s5 ≤ 0.028</text>\n",
       "<text text-anchor=\"start\" x=\"901\" y=\"-230.8\" font-family=\"Helvetica,sans-Serif\" font-size=\"14.00\">squared_error = 5326.654</text>\n",
       "<text text-anchor=\"start\" x=\"937.5\" y=\"-215.8\" font-family=\"Helvetica,sans-Serif\" font-size=\"14.00\">samples = 113</text>\n",
       "<text text-anchor=\"start\" x=\"933.5\" y=\"-200.8\" font-family=\"Helvetica,sans-Serif\" font-size=\"14.00\">value = 207.442</text>\n",
       "</g>\n",
       "<!-- 0&#45;&gt;8 -->\n",
       "<g id=\"edge8\" class=\"edge\">\n",
       "<title>0&#45;&gt;8</title>\n",
       "<path fill=\"none\" stroke=\"black\" d=\"M849.14,-296.6C868.15,-287 889.04,-276.46 908.61,-266.57\"/>\n",
       "<polygon fill=\"black\" stroke=\"black\" points=\"910.01,-269.79 917.36,-262.16 906.85,-263.54 910.01,-269.79\"/>\n",
       "<text text-anchor=\"middle\" x=\"910.9\" y=\"-281.52\" font-family=\"Helvetica,sans-Serif\" font-size=\"14.00\">False</text>\n",
       "</g>\n",
       "<!-- 2 -->\n",
       "<g id=\"node3\" class=\"node\">\n",
       "<title>2</title>\n",
       "<path fill=\"#fefaf8\" stroke=\"black\" d=\"M370,-157C370,-157 218,-157 218,-157 212,-157 206,-151 206,-145 206,-145 206,-101 206,-101 206,-95 212,-89 218,-89 218,-89 370,-89 370,-89 376,-89 382,-95 382,-101 382,-101 382,-145 382,-145 382,-151 376,-157 370,-157\"/>\n",
       "<text text-anchor=\"start\" x=\"257.5\" y=\"-141.8\" font-family=\"Helvetica,sans-Serif\" font-size=\"14.00\">s3 ≤ &#45;0.023</text>\n",
       "<text text-anchor=\"start\" x=\"214\" y=\"-126.8\" font-family=\"Helvetica,sans-Serif\" font-size=\"14.00\">squared_error = 2413.83</text>\n",
       "<text text-anchor=\"start\" x=\"246.5\" y=\"-111.8\" font-family=\"Helvetica,sans-Serif\" font-size=\"14.00\">samples = 158</text>\n",
       "<text text-anchor=\"start\" x=\"242.5\" y=\"-96.8\" font-family=\"Helvetica,sans-Serif\" font-size=\"14.00\">value = 101.456</text>\n",
       "</g>\n",
       "<!-- 1&#45;&gt;2 -->\n",
       "<g id=\"edge2\" class=\"edge\">\n",
       "<title>1&#45;&gt;2</title>\n",
       "<path fill=\"none\" stroke=\"black\" d=\"M494.7,-193.87C462.3,-182.59 425.8,-169.88 392.89,-158.43\"/>\n",
       "<polygon fill=\"black\" stroke=\"black\" points=\"394.36,-155.23 383.77,-155.25 392.06,-161.84 394.36,-155.23\"/>\n",
       "</g>\n",
       "<!-- 5 -->\n",
       "<g id=\"node6\" class=\"node\">\n",
       "<title>5</title>\n",
       "<path fill=\"#f2c09d\" stroke=\"black\" d=\"M667,-157C667,-157 507,-157 507,-157 501,-157 495,-151 495,-145 495,-145 495,-101 495,-101 495,-95 501,-89 507,-89 507,-89 667,-89 667,-89 673,-89 679,-95 679,-101 679,-101 679,-145 679,-145 679,-151 673,-157 667,-157\"/>\n",
       "<text text-anchor=\"start\" x=\"550.5\" y=\"-141.8\" font-family=\"Helvetica,sans-Serif\" font-size=\"14.00\">bp ≤ &#45;0.044</text>\n",
       "<text text-anchor=\"start\" x=\"503\" y=\"-126.8\" font-family=\"Helvetica,sans-Serif\" font-size=\"14.00\">squared_error = 3817.882</text>\n",
       "<text text-anchor=\"start\" x=\"543.5\" y=\"-111.8\" font-family=\"Helvetica,sans-Serif\" font-size=\"14.00\">samples = 38</text>\n",
       "<text text-anchor=\"start\" x=\"544\" y=\"-96.8\" font-family=\"Helvetica,sans-Serif\" font-size=\"14.00\">value = 179.5</text>\n",
       "</g>\n",
       "<!-- 1&#45;&gt;5 -->\n",
       "<g id=\"edge5\" class=\"edge\">\n",
       "<title>1&#45;&gt;5</title>\n",
       "<path fill=\"none\" stroke=\"black\" d=\"M587,-192.6C587,-185.03 587,-176.87 587,-168.9\"/>\n",
       "<polygon fill=\"black\" stroke=\"black\" points=\"590.5,-168.99 587,-158.99 583.5,-168.99 590.5,-168.99\"/>\n",
       "</g>\n",
       "<!-- 3 -->\n",
       "<g id=\"node4\" class=\"node\">\n",
       "<title>3</title>\n",
       "<path fill=\"#fae4d5\" stroke=\"black\" d=\"M172,-53C172,-53 12,-53 12,-53 6,-53 0,-47 0,-41 0,-41 0,-12 0,-12 0,-6 6,0 12,0 12,0 172,0 172,0 178,0 184,-6 184,-12 184,-12 184,-41 184,-41 184,-47 178,-53 172,-53\"/>\n",
       "<text text-anchor=\"start\" x=\"8\" y=\"-37.8\" font-family=\"Helvetica,sans-Serif\" font-size=\"14.00\">squared_error = 3267.852</text>\n",
       "<text text-anchor=\"start\" x=\"48.5\" y=\"-22.8\" font-family=\"Helvetica,sans-Serif\" font-size=\"14.00\">samples = 28</text>\n",
       "<text text-anchor=\"start\" x=\"40.5\" y=\"-7.8\" font-family=\"Helvetica,sans-Serif\" font-size=\"14.00\">value = 130.929</text>\n",
       "</g>\n",
       "<!-- 2&#45;&gt;3 -->\n",
       "<g id=\"edge3\" class=\"edge\">\n",
       "<title>2&#45;&gt;3</title>\n",
       "<path fill=\"none\" stroke=\"black\" d=\"M222.5,-88.55C201.43,-78.69 178.48,-67.96 157.79,-58.28\"/>\n",
       "<polygon fill=\"black\" stroke=\"black\" points=\"159.43,-55.18 148.89,-54.11 156.46,-61.52 159.43,-55.18\"/>\n",
       "</g>\n",
       "<!-- 4 -->\n",
       "<g id=\"node5\" class=\"node\">\n",
       "<title>4</title>\n",
       "<path fill=\"#ffffff\" stroke=\"black\" d=\"M374,-53C374,-53 214,-53 214,-53 208,-53 202,-47 202,-41 202,-41 202,-12 202,-12 202,-6 208,0 214,0 214,0 374,0 374,0 380,0 386,-6 386,-12 386,-12 386,-41 386,-41 386,-47 380,-53 374,-53\"/>\n",
       "<text text-anchor=\"start\" x=\"210\" y=\"-37.8\" font-family=\"Helvetica,sans-Serif\" font-size=\"14.00\">squared_error = 2002.496</text>\n",
       "<text text-anchor=\"start\" x=\"246.5\" y=\"-22.8\" font-family=\"Helvetica,sans-Serif\" font-size=\"14.00\">samples = 130</text>\n",
       "<text text-anchor=\"start\" x=\"247\" y=\"-7.8\" font-family=\"Helvetica,sans-Serif\" font-size=\"14.00\">value = 95.108</text>\n",
       "</g>\n",
       "<!-- 2&#45;&gt;4 -->\n",
       "<g id=\"edge4\" class=\"edge\">\n",
       "<title>2&#45;&gt;4</title>\n",
       "<path fill=\"none\" stroke=\"black\" d=\"M294,-88.68C294,-80.99 294,-72.76 294,-64.9\"/>\n",
       "<polygon fill=\"black\" stroke=\"black\" points=\"297.5,-64.91 294,-54.91 290.5,-64.91 297.5,-64.91\"/>\n",
       "</g>\n",
       "<!-- 6 -->\n",
       "<g id=\"node7\" class=\"node\">\n",
       "<title>6</title>\n",
       "<path fill=\"#fdf3ed\" stroke=\"black\" d=\"M568,-53C568,-53 416,-53 416,-53 410,-53 404,-47 404,-41 404,-41 404,-12 404,-12 404,-6 410,0 416,0 416,0 568,0 568,0 574,0 580,-6 580,-12 580,-12 580,-41 580,-41 580,-47 574,-53 568,-53\"/>\n",
       "<text text-anchor=\"start\" x=\"412\" y=\"-37.8\" font-family=\"Helvetica,sans-Serif\" font-size=\"14.00\">squared_error = 401.918</text>\n",
       "<text text-anchor=\"start\" x=\"452.5\" y=\"-22.8\" font-family=\"Helvetica,sans-Serif\" font-size=\"14.00\">samples = 7</text>\n",
       "<text text-anchor=\"start\" x=\"440.5\" y=\"-7.8\" font-family=\"Helvetica,sans-Serif\" font-size=\"14.00\">value = 110.714</text>\n",
       "</g>\n",
       "<!-- 5&#45;&gt;6 -->\n",
       "<g id=\"edge6\" class=\"edge\">\n",
       "<title>5&#45;&gt;6</title>\n",
       "<path fill=\"none\" stroke=\"black\" d=\"M553.51,-88.68C544.59,-79.81 534.95,-70.23 526.01,-61.33\"/>\n",
       "<polygon fill=\"black\" stroke=\"black\" points=\"528.66,-59.03 519.1,-54.46 523.73,-64 528.66,-59.03\"/>\n",
       "</g>\n",
       "<!-- 7 -->\n",
       "<g id=\"node8\" class=\"node\">\n",
       "<title>7</title>\n",
       "<path fill=\"#f0b58b\" stroke=\"black\" d=\"M762,-53C762,-53 610,-53 610,-53 604,-53 598,-47 598,-41 598,-41 598,-12 598,-12 598,-6 604,0 610,0 610,0 762,0 762,0 768,0 774,-6 774,-12 774,-12 774,-41 774,-41 774,-47 768,-53 762,-53\"/>\n",
       "<text text-anchor=\"start\" x=\"606\" y=\"-37.8\" font-family=\"Helvetica,sans-Serif\" font-size=\"14.00\">squared_error = 3279.58</text>\n",
       "<text text-anchor=\"start\" x=\"642.5\" y=\"-22.8\" font-family=\"Helvetica,sans-Serif\" font-size=\"14.00\">samples = 31</text>\n",
       "<text text-anchor=\"start\" x=\"634.5\" y=\"-7.8\" font-family=\"Helvetica,sans-Serif\" font-size=\"14.00\">value = 195.032</text>\n",
       "</g>\n",
       "<!-- 5&#45;&gt;7 -->\n",
       "<g id=\"edge7\" class=\"edge\">\n",
       "<title>5&#45;&gt;7</title>\n",
       "<path fill=\"none\" stroke=\"black\" d=\"M621.9,-88.68C631.2,-79.81 641.24,-70.23 650.56,-61.33\"/>\n",
       "<polygon fill=\"black\" stroke=\"black\" points=\"652.96,-63.88 657.78,-54.44 648.13,-58.81 652.96,-63.88\"/>\n",
       "</g>\n",
       "<!-- 9 -->\n",
       "<g id=\"node10\" class=\"node\">\n",
       "<title>9</title>\n",
       "<path fill=\"#f2c19e\" stroke=\"black\" d=\"M1065,-157C1065,-157 905,-157 905,-157 899,-157 893,-151 893,-145 893,-145 893,-101 893,-101 893,-95 899,-89 905,-89 905,-89 1065,-89 1065,-89 1071,-89 1077,-95 1077,-101 1077,-101 1077,-145 1077,-145 1077,-151 1071,-157 1065,-157\"/>\n",
       "<text text-anchor=\"start\" x=\"950.5\" y=\"-141.8\" font-family=\"Helvetica,sans-Serif\" font-size=\"14.00\">bp ≤ 0.024</text>\n",
       "<text text-anchor=\"start\" x=\"901\" y=\"-126.8\" font-family=\"Helvetica,sans-Serif\" font-size=\"14.00\">squared_error = 5266.224</text>\n",
       "<text text-anchor=\"start\" x=\"941.5\" y=\"-111.8\" font-family=\"Helvetica,sans-Serif\" font-size=\"14.00\">samples = 61</text>\n",
       "<text text-anchor=\"start\" x=\"933.5\" y=\"-96.8\" font-family=\"Helvetica,sans-Serif\" font-size=\"14.00\">value = 178.197</text>\n",
       "</g>\n",
       "<!-- 8&#45;&gt;9 -->\n",
       "<g id=\"edge9\" class=\"edge\">\n",
       "<title>8&#45;&gt;9</title>\n",
       "<path fill=\"none\" stroke=\"black\" d=\"M985,-192.6C985,-185.03 985,-176.87 985,-168.9\"/>\n",
       "<polygon fill=\"black\" stroke=\"black\" points=\"988.5,-168.99 985,-158.99 981.5,-168.99 988.5,-168.99\"/>\n",
       "</g>\n",
       "<!-- 12 -->\n",
       "<g id=\"node13\" class=\"node\">\n",
       "<title>12</title>\n",
       "<path fill=\"#e99254\" stroke=\"black\" d=\"M1368,-157C1368,-157 1208,-157 1208,-157 1202,-157 1196,-151 1196,-145 1196,-145 1196,-101 1196,-101 1196,-95 1202,-89 1208,-89 1208,-89 1368,-89 1368,-89 1374,-89 1380,-95 1380,-101 1380,-101 1380,-145 1380,-145 1380,-151 1374,-157 1368,-157\"/>\n",
       "<text text-anchor=\"start\" x=\"1254\" y=\"-141.8\" font-family=\"Helvetica,sans-Serif\" font-size=\"14.00\">s2 ≤ 0.042</text>\n",
       "<text text-anchor=\"start\" x=\"1204\" y=\"-126.8\" font-family=\"Helvetica,sans-Serif\" font-size=\"14.00\">squared_error = 3217.188</text>\n",
       "<text text-anchor=\"start\" x=\"1244.5\" y=\"-111.8\" font-family=\"Helvetica,sans-Serif\" font-size=\"14.00\">samples = 52</text>\n",
       "<text text-anchor=\"start\" x=\"1241\" y=\"-96.8\" font-family=\"Helvetica,sans-Serif\" font-size=\"14.00\">value = 241.75</text>\n",
       "</g>\n",
       "<!-- 8&#45;&gt;12 -->\n",
       "<g id=\"edge12\" class=\"edge\">\n",
       "<title>8&#45;&gt;12</title>\n",
       "<path fill=\"none\" stroke=\"black\" d=\"M1077.14,-194.98C1111.15,-183.53 1149.89,-170.49 1184.81,-158.74\"/>\n",
       "<polygon fill=\"black\" stroke=\"black\" points=\"1185.72,-162.13 1194.08,-155.62 1183.48,-155.49 1185.72,-162.13\"/>\n",
       "</g>\n",
       "<!-- 10 -->\n",
       "<g id=\"node11\" class=\"node\">\n",
       "<title>10</title>\n",
       "<path fill=\"#f7d8c2\" stroke=\"black\" d=\"M964,-53C964,-53 804,-53 804,-53 798,-53 792,-47 792,-41 792,-41 792,-12 792,-12 792,-6 798,0 804,0 804,0 964,0 964,0 970,0 976,-6 976,-12 976,-12 976,-41 976,-41 976,-47 970,-53 964,-53\"/>\n",
       "<text text-anchor=\"start\" x=\"800\" y=\"-37.8\" font-family=\"Helvetica,sans-Serif\" font-size=\"14.00\">squared_error = 2847.262</text>\n",
       "<text text-anchor=\"start\" x=\"840.5\" y=\"-22.8\" font-family=\"Helvetica,sans-Serif\" font-size=\"14.00\">samples = 37</text>\n",
       "<text text-anchor=\"start\" x=\"832.5\" y=\"-7.8\" font-family=\"Helvetica,sans-Serif\" font-size=\"14.00\">value = 147.378</text>\n",
       "</g>\n",
       "<!-- 9&#45;&gt;10 -->\n",
       "<g id=\"edge10\" class=\"edge\">\n",
       "<title>9&#45;&gt;10</title>\n",
       "<path fill=\"none\" stroke=\"black\" d=\"M949.39,-88.68C939.82,-79.72 929.45,-70.03 919.86,-61.06\"/>\n",
       "<polygon fill=\"black\" stroke=\"black\" points=\"922.47,-58.7 912.78,-54.43 917.69,-63.82 922.47,-58.7\"/>\n",
       "</g>\n",
       "<!-- 11 -->\n",
       "<g id=\"node12\" class=\"node\">\n",
       "<title>11</title>\n",
       "<path fill=\"#eb9e67\" stroke=\"black\" d=\"M1166,-53C1166,-53 1006,-53 1006,-53 1000,-53 994,-47 994,-41 994,-41 994,-12 994,-12 994,-6 1000,0 1006,0 1006,0 1166,0 1166,0 1172,0 1178,-6 1178,-12 1178,-12 1178,-41 1178,-41 1178,-47 1172,-53 1166,-53\"/>\n",
       "<text text-anchor=\"start\" x=\"1002\" y=\"-37.8\" font-family=\"Helvetica,sans-Serif\" font-size=\"14.00\">squared_error = 5273.873</text>\n",
       "<text text-anchor=\"start\" x=\"1042.5\" y=\"-22.8\" font-family=\"Helvetica,sans-Serif\" font-size=\"14.00\">samples = 24</text>\n",
       "<text text-anchor=\"start\" x=\"1034.5\" y=\"-7.8\" font-family=\"Helvetica,sans-Serif\" font-size=\"14.00\">value = 225.708</text>\n",
       "</g>\n",
       "<!-- 9&#45;&gt;11 -->\n",
       "<g id=\"edge11\" class=\"edge\">\n",
       "<title>9&#45;&gt;11</title>\n",
       "<path fill=\"none\" stroke=\"black\" d=\"M1020.61,-88.68C1030.18,-79.72 1040.55,-70.03 1050.14,-61.06\"/>\n",
       "<polygon fill=\"black\" stroke=\"black\" points=\"1052.31,-63.82 1057.22,-54.43 1047.53,-58.7 1052.31,-63.82\"/>\n",
       "</g>\n",
       "<!-- 13 -->\n",
       "<g id=\"node14\" class=\"node\">\n",
       "<title>13</title>\n",
       "<path fill=\"#e58139\" stroke=\"black\" d=\"M1368,-53C1368,-53 1208,-53 1208,-53 1202,-53 1196,-47 1196,-41 1196,-41 1196,-12 1196,-12 1196,-6 1202,0 1208,0 1208,0 1368,0 1368,0 1374,0 1380,-6 1380,-12 1380,-12 1380,-41 1380,-41 1380,-47 1374,-53 1368,-53\"/>\n",
       "<text text-anchor=\"start\" x=\"1204\" y=\"-37.8\" font-family=\"Helvetica,sans-Serif\" font-size=\"14.00\">squared_error = 1532.556</text>\n",
       "<text text-anchor=\"start\" x=\"1244.5\" y=\"-22.8\" font-family=\"Helvetica,sans-Serif\" font-size=\"14.00\">samples = 36</text>\n",
       "<text text-anchor=\"start\" x=\"1245\" y=\"-7.8\" font-family=\"Helvetica,sans-Serif\" font-size=\"14.00\">value = 265.0</text>\n",
       "</g>\n",
       "<!-- 12&#45;&gt;13 -->\n",
       "<g id=\"edge13\" class=\"edge\">\n",
       "<title>12&#45;&gt;13</title>\n",
       "<path fill=\"none\" stroke=\"black\" d=\"M1288,-88.68C1288,-80.99 1288,-72.76 1288,-64.9\"/>\n",
       "<polygon fill=\"black\" stroke=\"black\" points=\"1291.5,-64.91 1288,-54.91 1284.5,-64.91 1291.5,-64.91\"/>\n",
       "</g>\n",
       "<!-- 14 -->\n",
       "<g id=\"node15\" class=\"node\">\n",
       "<title>14</title>\n",
       "<path fill=\"#f1b991\" stroke=\"black\" d=\"M1570,-53C1570,-53 1410,-53 1410,-53 1404,-53 1398,-47 1398,-41 1398,-41 1398,-12 1398,-12 1398,-6 1404,0 1410,0 1410,0 1570,0 1570,0 1576,0 1582,-6 1582,-12 1582,-12 1582,-41 1582,-41 1582,-47 1576,-53 1570,-53\"/>\n",
       "<text text-anchor=\"start\" x=\"1406\" y=\"-37.8\" font-family=\"Helvetica,sans-Serif\" font-size=\"14.00\">squared_error = 3054.746</text>\n",
       "<text text-anchor=\"start\" x=\"1446.5\" y=\"-22.8\" font-family=\"Helvetica,sans-Serif\" font-size=\"14.00\">samples = 16</text>\n",
       "<text text-anchor=\"start\" x=\"1438.5\" y=\"-7.8\" font-family=\"Helvetica,sans-Serif\" font-size=\"14.00\">value = 189.438</text>\n",
       "</g>\n",
       "<!-- 12&#45;&gt;14 -->\n",
       "<g id=\"edge14\" class=\"edge\">\n",
       "<title>12&#45;&gt;14</title>\n",
       "<path fill=\"none\" stroke=\"black\" d=\"M1359.5,-88.55C1380.57,-78.69 1403.52,-67.96 1424.21,-58.28\"/>\n",
       "<polygon fill=\"black\" stroke=\"black\" points=\"1425.54,-61.52 1433.11,-54.11 1422.57,-55.18 1425.54,-61.52\"/>\n",
       "</g>\n",
       "</g>\n",
       "</svg>\n"
      ],
      "text/plain": [
       "<graphviz.sources.Source at 0x247513c94f0>"
      ]
     },
     "execution_count": 86,
     "metadata": {},
     "output_type": "execute_result"
    }
   ],
   "source": [
    "import graphviz\n",
    "import sklearn.tree as tree\n",
    "\n",
    "dot_data = tree.export_graphviz(regression_tree, out_file=None, feature_names=diabetes.train_x.columns, filled=True, rounded=True, special_characters=True)  \n",
    "graph = graphviz.Source(dot_data)  \n",
    "graph "
   ]
  },
  {
   "cell_type": "markdown",
   "id": "72700c40-985e-4035-8984-f36d8ac40ceb",
   "metadata": {},
   "source": [
    "#### Importance"
   ]
  },
  {
   "cell_type": "code",
   "execution_count": 87,
   "id": "98934ca4-0f7f-4f77-a7ba-4bab75e5de0d",
   "metadata": {},
   "outputs": [
    {
     "data": {
      "text/plain": [
       "array([0.        , 0.53095453, 0.11658503, 0.        , 0.05675555,\n",
       "       0.02652732, 0.        , 0.26917758, 0.        , 0.        ])"
      ]
     },
     "execution_count": 87,
     "metadata": {},
     "output_type": "execute_result"
    }
   ],
   "source": [
    "regression_tree.feature_importances_"
   ]
  },
  {
   "cell_type": "code",
   "execution_count": 88,
   "id": "e785bfd7-d4cc-435a-aa78-73ca01954c86",
   "metadata": {},
   "outputs": [
    {
     "data": {
      "text/plain": [
       "<seaborn.axisgrid.FacetGrid at 0x247513c9610>"
      ]
     },
     "execution_count": 88,
     "metadata": {},
     "output_type": "execute_result"
    },
    {
     "data": {
      "image/png": "[encoded data removed]",
      "text/plain": [
       "<Figure size 500x500 with 1 Axes>"
      ]
     },
     "metadata": {},
     "output_type": "display_data"
    }
   ],
   "source": [
    "feature_importances = pd.DataFrame(data=regression_tree.feature_importances_, columns=[\"feature importance\"], index=diabetes.train_x.columns)\n",
    "\n",
    "sns.catplot(kind=\"bar\", data=feature_importances, y=diabetes.train_x.columns.to_list(), x=\"feature importance\", orient=\"h\")"
   ]
  },
  {
   "cell_type": "markdown",
   "id": "045154e4-4c4c-46e9-8549-3038c7fd6572",
   "metadata": {},
   "source": [
    "### Classification"
   ]
  },
  {
   "cell_type": "code",
   "execution_count": 89,
   "id": "1fda3c4a-2ed0-440c-b8b5-cea04d2f2e39",
   "metadata": {},
   "outputs": [
    {
     "data": {
      "text/html": [
       "<style>#sk-container-id-26 {color: black;background-color: white;}#sk-container-id-26 pre{padding: 0;}#sk-container-id-26 div.sk-toggleable {background-color: white;}#sk-container-id-26 label.sk-toggleable__label {cursor: pointer;display: block;width: 100%;margin-bottom: 0;padding: 0.3em;box-sizing: border-box;text-align: center;}#sk-container-id-26 label.sk-toggleable__label-arrow:before {content: \"▸\";float: left;margin-right: 0.25em;color: #696969;}#sk-container-id-26 label.sk-toggleable__label-arrow:hover:before {color: black;}#sk-container-id-26 div.sk-estimator:hover label.sk-toggleable__label-arrow:before {color: black;}#sk-container-id-26 div.sk-toggleable__content {max-height: 0;max-width: 0;overflow: hidden;text-align: left;background-color: #f0f8ff;}#sk-container-id-26 div.sk-toggleable__content pre {margin: 0.2em;color: black;border-radius: 0.25em;background-color: #f0f8ff;}#sk-container-id-26 input.sk-toggleable__control:checked~div.sk-toggleable__content {max-height: 200px;max-width: 100%;overflow: auto;}#sk-container-id-26 input.sk-toggleable__control:checked~label.sk-toggleable__label-arrow:before {content: \"▾\";}#sk-container-id-26 div.sk-estimator input.sk-toggleable__control:checked~label.sk-toggleable__label {background-color: #d4ebff;}#sk-container-id-26 div.sk-label input.sk-toggleable__control:checked~label.sk-toggleable__label {background-color: #d4ebff;}#sk-container-id-26 input.sk-hidden--visually {border: 0;clip: rect(1px 1px 1px 1px);clip: rect(1px, 1px, 1px, 1px);height: 1px;margin: -1px;overflow: hidden;padding: 0;position: absolute;width: 1px;}#sk-container-id-26 div.sk-estimator {font-family: monospace;background-color: #f0f8ff;border: 1px dotted black;border-radius: 0.25em;box-sizing: border-box;margin-bottom: 0.5em;}#sk-container-id-26 div.sk-estimator:hover {background-color: #d4ebff;}#sk-container-id-26 div.sk-parallel-item::after {content: \"\";width: 100%;border-bottom: 1px solid gray;flex-grow: 1;}#sk-container-id-26 div.sk-label:hover label.sk-toggleable__label {background-color: #d4ebff;}#sk-container-id-26 div.sk-serial::before {content: \"\";position: absolute;border-left: 1px solid gray;box-sizing: border-box;top: 0;bottom: 0;left: 50%;z-index: 0;}#sk-container-id-26 div.sk-serial {display: flex;flex-direction: column;align-items: center;background-color: white;padding-right: 0.2em;padding-left: 0.2em;position: relative;}#sk-container-id-26 div.sk-item {position: relative;z-index: 1;}#sk-container-id-26 div.sk-parallel {display: flex;align-items: stretch;justify-content: center;background-color: white;position: relative;}#sk-container-id-26 div.sk-item::before, #sk-container-id-26 div.sk-parallel-item::before {content: \"\";position: absolute;border-left: 1px solid gray;box-sizing: border-box;top: 0;bottom: 0;left: 50%;z-index: -1;}#sk-container-id-26 div.sk-parallel-item {display: flex;flex-direction: column;z-index: 1;position: relative;background-color: white;}#sk-container-id-26 div.sk-parallel-item:first-child::after {align-self: flex-end;width: 50%;}#sk-container-id-26 div.sk-parallel-item:last-child::after {align-self: flex-start;width: 50%;}#sk-container-id-26 div.sk-parallel-item:only-child::after {width: 0;}#sk-container-id-26 div.sk-dashed-wrapped {border: 1px dashed gray;margin: 0 0.4em 0.5em 0.4em;box-sizing: border-box;padding-bottom: 0.4em;background-color: white;}#sk-container-id-26 div.sk-label label {font-family: monospace;font-weight: bold;display: inline-block;line-height: 1.2em;}#sk-container-id-26 div.sk-label-container {text-align: center;}#sk-container-id-26 div.sk-container {/* jupyter's `normalize.less` sets `[hidden] { display: none; }` but bootstrap.min.css set `[hidden] { display: none !important; }` so we also need the `!important` here to be able to override the default hidden behavior on the sphinx rendered scikit-learn.org. See: https://github.com/scikit-learn/scikit-learn/issues/21755 */display: inline-block !important;position: relative;}#sk-container-id-26 div.sk-text-repr-fallback {display: none;}</style><div id=\"sk-container-id-26\" class=\"sk-top-container\"><div class=\"sk-text-repr-fallback\"><pre>DecisionTreeClassifier(max_depth=3, random_state=0)</pre><b>In a Jupyter environment, please rerun this cell to show the HTML representation or trust the notebook. <br />On GitHub, the HTML representation is unable to render, please try loading this page with nbviewer.org.</b></div><div class=\"sk-container\" hidden><div class=\"sk-item\"><div class=\"sk-estimator sk-toggleable\"><input class=\"sk-toggleable__control sk-hidden--visually\" id=\"sk-estimator-id-26\" type=\"checkbox\" checked><label for=\"sk-estimator-id-26\" class=\"sk-toggleable__label sk-toggleable__label-arrow\">DecisionTreeClassifier</label><div class=\"sk-toggleable__content\"><pre>DecisionTreeClassifier(max_depth=3, random_state=0)</pre></div></div></div></div></div>"
      ],
      "text/plain": [
       "DecisionTreeClassifier(max_depth=3, random_state=0)"
      ]
     },
     "execution_count": 89,
     "metadata": {},
     "output_type": "execute_result"
    }
   ],
   "source": [
    "from sklearn.tree import DecisionTreeClassifier\n",
    "\n",
    "classification_tree = DecisionTreeClassifier(random_state=0, max_depth=3)\n",
    "classification_tree.fit(iris.train_x, iris.train_y)"
   ]
  },
  {
   "cell_type": "code",
   "execution_count": 90,
   "id": "4bfea50a-2a63-4c8f-9a99-bf892cd65129",
   "metadata": {},
   "outputs": [
    {
     "data": {
      "text/plain": [
       "1.0"
      ]
     },
     "execution_count": 90,
     "metadata": {},
     "output_type": "execute_result"
    }
   ],
   "source": [
    "from sklearn.metrics import accuracy_score\n",
    "\n",
    "accuracy_score(iris.test_y, classification_tree.predict(iris.test_x))"
   ]
  },
  {
   "cell_type": "markdown",
   "id": "bc2e0934-1311-4b94-b98f-060c04ba5f8e",
   "metadata": {},
   "source": [
    "#### Visualization"
   ]
  },
  {
   "cell_type": "code",
   "execution_count": 91,
   "id": "5e976233-7746-4743-b5da-777c1b93cf32",
   "metadata": {},
   "outputs": [
    {
     "data": {
      "image/svg+xml": [
       "<?xml version=\"1.0\" encoding=\"UTF-8\" standalone=\"no\"?>\n",
       "<!DOCTYPE svg PUBLIC \"-//W3C//DTD SVG 1.1//EN\"\n",
       " \"http://www.w3.org/Graphics/SVG/1.1/DTD/svg11.dtd\">\n",
       "<!-- Generated by graphviz version 7.0.6 (20230106.0513)\n",
       " -->\n",
       "<!-- Title: Tree Pages: 1 -->\n",
       "<svg width=\"566pt\" height=\"433pt\"\n",
       " viewBox=\"0.00 0.00 566.00 433.00\" xmlns=\"http://www.w3.org/2000/svg\" xmlns:xlink=\"http://www.w3.org/1999/xlink\">\n",
       "<g id=\"graph0\" class=\"graph\" transform=\"scale(1 1) rotate(0) translate(4 429)\">\n",
       "<title>Tree</title>\n",
       "<polygon fill=\"white\" stroke=\"none\" points=\"-4,4 -4,-429 562,-429 562,4 -4,4\"/>\n",
       "<!-- 0 -->\n",
       "<g id=\"node1\" class=\"node\">\n",
       "<title>0</title>\n",
       "<path fill=\"#f6f1fd\" stroke=\"black\" d=\"M264,-425C264,-425 137,-425 137,-425 131,-425 125,-419 125,-413 125,-413 125,-354 125,-354 125,-348 131,-342 137,-342 137,-342 264,-342 264,-342 270,-342 276,-348 276,-354 276,-354 276,-413 276,-413 276,-419 270,-425 264,-425\"/>\n",
       "<text text-anchor=\"start\" x=\"133\" y=\"-409.8\" font-family=\"Helvetica,sans-Serif\" font-size=\"14.00\">petal width (cm) ≤ 0.8</text>\n",
       "<text text-anchor=\"start\" x=\"163\" y=\"-394.8\" font-family=\"Helvetica,sans-Serif\" font-size=\"14.00\">gini = 0.664</text>\n",
       "<text text-anchor=\"start\" x=\"153\" y=\"-379.8\" font-family=\"Helvetica,sans-Serif\" font-size=\"14.00\">samples = 105</text>\n",
       "<text text-anchor=\"start\" x=\"140\" y=\"-364.8\" font-family=\"Helvetica,sans-Serif\" font-size=\"14.00\">value = [34, 32, 39]</text>\n",
       "<text text-anchor=\"start\" x=\"150.5\" y=\"-349.8\" font-family=\"Helvetica,sans-Serif\" font-size=\"14.00\">class = virginica</text>\n",
       "</g>\n",
       "<!-- 1 -->\n",
       "<g id=\"node2\" class=\"node\">\n",
       "<title>1</title>\n",
       "<path fill=\"#e58139\" stroke=\"black\" d=\"M169,-298.5C169,-298.5 72,-298.5 72,-298.5 66,-298.5 60,-292.5 60,-286.5 60,-286.5 60,-242.5 60,-242.5 60,-236.5 66,-230.5 72,-230.5 72,-230.5 169,-230.5 169,-230.5 175,-230.5 181,-236.5 181,-242.5 181,-242.5 181,-286.5 181,-286.5 181,-292.5 175,-298.5 169,-298.5\"/>\n",
       "<text text-anchor=\"start\" x=\"91.5\" y=\"-283.3\" font-family=\"Helvetica,sans-Serif\" font-size=\"14.00\">gini = 0.0</text>\n",
       "<text text-anchor=\"start\" x=\"77\" y=\"-268.3\" font-family=\"Helvetica,sans-Serif\" font-size=\"14.00\">samples = 34</text>\n",
       "<text text-anchor=\"start\" x=\"68\" y=\"-253.3\" font-family=\"Helvetica,sans-Serif\" font-size=\"14.00\">value = [34, 0, 0]</text>\n",
       "<text text-anchor=\"start\" x=\"74.5\" y=\"-238.3\" font-family=\"Helvetica,sans-Serif\" font-size=\"14.00\">class = setosa</text>\n",
       "</g>\n",
       "<!-- 0&#45;&gt;1 -->\n",
       "<g id=\"edge1\" class=\"edge\">\n",
       "<title>0&#45;&gt;1</title>\n",
       "<path fill=\"none\" stroke=\"black\" d=\"M172.52,-341.58C165.13,-330.77 157.14,-319.09 149.69,-308.19\"/>\n",
       "<polygon fill=\"black\" stroke=\"black\" points=\"152.7,-306.39 144.17,-300.11 146.92,-310.34 152.7,-306.39\"/>\n",
       "<text text-anchor=\"middle\" x=\"138.7\" y=\"-319.73\" font-family=\"Helvetica,sans-Serif\" font-size=\"14.00\">True</text>\n",
       "</g>\n",
       "<!-- 2 -->\n",
       "<g id=\"node3\" class=\"node\">\n",
       "<title>2</title>\n",
       "<path fill=\"#e8dbfa\" stroke=\"black\" d=\"M352,-306C352,-306 211,-306 211,-306 205,-306 199,-300 199,-294 199,-294 199,-235 199,-235 199,-229 205,-223 211,-223 211,-223 352,-223 352,-223 358,-223 364,-229 364,-235 364,-235 364,-294 364,-294 364,-300 358,-306 352,-306\"/>\n",
       "<text text-anchor=\"start\" x=\"207\" y=\"-290.8\" font-family=\"Helvetica,sans-Serif\" font-size=\"14.00\">petal length (cm) ≤ 4.95</text>\n",
       "<text text-anchor=\"start\" x=\"244\" y=\"-275.8\" font-family=\"Helvetica,sans-Serif\" font-size=\"14.00\">gini = 0.495</text>\n",
       "<text text-anchor=\"start\" x=\"238\" y=\"-260.8\" font-family=\"Helvetica,sans-Serif\" font-size=\"14.00\">samples = 71</text>\n",
       "<text text-anchor=\"start\" x=\"225\" y=\"-245.8\" font-family=\"Helvetica,sans-Serif\" font-size=\"14.00\">value = [0, 32, 39]</text>\n",
       "<text text-anchor=\"start\" x=\"231.5\" y=\"-230.8\" font-family=\"Helvetica,sans-Serif\" font-size=\"14.00\">class = virginica</text>\n",
       "</g>\n",
       "<!-- 0&#45;&gt;2 -->\n",
       "<g id=\"edge2\" class=\"edge\">\n",
       "<title>0&#45;&gt;2</title>\n",
       "<path fill=\"none\" stroke=\"black\" d=\"M228.83,-341.58C234.66,-333.16 240.86,-324.2 246.88,-315.5\"/>\n",
       "<polygon fill=\"black\" stroke=\"black\" points=\"249.65,-317.66 252.46,-307.44 243.89,-313.67 249.65,-317.66\"/>\n",
       "<text text-anchor=\"middle\" x=\"257.8\" y=\"-327.1\" font-family=\"Helvetica,sans-Serif\" font-size=\"14.00\">False</text>\n",
       "</g>\n",
       "<!-- 3 -->\n",
       "<g id=\"node4\" class=\"node\">\n",
       "<title>3</title>\n",
       "<path fill=\"#4ce88d\" stroke=\"black\" d=\"M259,-187C259,-187 124,-187 124,-187 118,-187 112,-181 112,-175 112,-175 112,-116 112,-116 112,-110 118,-104 124,-104 124,-104 259,-104 259,-104 265,-104 271,-110 271,-116 271,-116 271,-175 271,-175 271,-181 265,-187 259,-187\"/>\n",
       "<text text-anchor=\"start\" x=\"120\" y=\"-171.8\" font-family=\"Helvetica,sans-Serif\" font-size=\"14.00\">petal width (cm) ≤ 1.65</text>\n",
       "<text text-anchor=\"start\" x=\"154\" y=\"-156.8\" font-family=\"Helvetica,sans-Serif\" font-size=\"14.00\">gini = 0.161</text>\n",
       "<text text-anchor=\"start\" x=\"148\" y=\"-141.8\" font-family=\"Helvetica,sans-Serif\" font-size=\"14.00\">samples = 34</text>\n",
       "<text text-anchor=\"start\" x=\"139\" y=\"-126.8\" font-family=\"Helvetica,sans-Serif\" font-size=\"14.00\">value = [0, 31, 3]</text>\n",
       "<text text-anchor=\"start\" x=\"136\" y=\"-111.8\" font-family=\"Helvetica,sans-Serif\" font-size=\"14.00\">class = versicolor</text>\n",
       "</g>\n",
       "<!-- 2&#45;&gt;3 -->\n",
       "<g id=\"edge3\" class=\"edge\">\n",
       "<title>2&#45;&gt;3</title>\n",
       "<path fill=\"none\" stroke=\"black\" d=\"M250.02,-222.58C243.48,-214.07 236.51,-205.01 229.75,-196.23\"/>\n",
       "<polygon fill=\"black\" stroke=\"black\" points=\"232.6,-194.19 223.73,-188.4 227.05,-198.46 232.6,-194.19\"/>\n",
       "</g>\n",
       "<!-- 6 -->\n",
       "<g id=\"node7\" class=\"node\">\n",
       "<title>6</title>\n",
       "<path fill=\"#843ee6\" stroke=\"black\" d=\"M442,-187C442,-187 301,-187 301,-187 295,-187 289,-181 289,-175 289,-175 289,-116 289,-116 289,-110 295,-104 301,-104 301,-104 442,-104 442,-104 448,-104 454,-110 454,-116 454,-116 454,-175 454,-175 454,-181 448,-187 442,-187\"/>\n",
       "<text text-anchor=\"start\" x=\"297\" y=\"-171.8\" font-family=\"Helvetica,sans-Serif\" font-size=\"14.00\">petal length (cm) ≤ 5.05</text>\n",
       "<text text-anchor=\"start\" x=\"334\" y=\"-156.8\" font-family=\"Helvetica,sans-Serif\" font-size=\"14.00\">gini = 0.053</text>\n",
       "<text text-anchor=\"start\" x=\"328\" y=\"-141.8\" font-family=\"Helvetica,sans-Serif\" font-size=\"14.00\">samples = 37</text>\n",
       "<text text-anchor=\"start\" x=\"319\" y=\"-126.8\" font-family=\"Helvetica,sans-Serif\" font-size=\"14.00\">value = [0, 1, 36]</text>\n",
       "<text text-anchor=\"start\" x=\"321.5\" y=\"-111.8\" font-family=\"Helvetica,sans-Serif\" font-size=\"14.00\">class = virginica</text>\n",
       "</g>\n",
       "<!-- 2&#45;&gt;6 -->\n",
       "<g id=\"edge6\" class=\"edge\">\n",
       "<title>2&#45;&gt;6</title>\n",
       "<path fill=\"none\" stroke=\"black\" d=\"M312.98,-222.58C319.52,-214.07 326.49,-205.01 333.25,-196.23\"/>\n",
       "<polygon fill=\"black\" stroke=\"black\" points=\"335.95,-198.46 339.27,-188.4 330.4,-194.19 335.95,-198.46\"/>\n",
       "</g>\n",
       "<!-- 4 -->\n",
       "<g id=\"node5\" class=\"node\">\n",
       "<title>4</title>\n",
       "<path fill=\"#39e581\" stroke=\"black\" d=\"M115,-68C115,-68 12,-68 12,-68 6,-68 0,-62 0,-56 0,-56 0,-12 0,-12 0,-6 6,0 12,0 12,0 115,0 115,0 121,0 127,-6 127,-12 127,-12 127,-56 127,-56 127,-62 121,-68 115,-68\"/>\n",
       "<text text-anchor=\"start\" x=\"34.5\" y=\"-52.8\" font-family=\"Helvetica,sans-Serif\" font-size=\"14.00\">gini = 0.0</text>\n",
       "<text text-anchor=\"start\" x=\"20\" y=\"-37.8\" font-family=\"Helvetica,sans-Serif\" font-size=\"14.00\">samples = 30</text>\n",
       "<text text-anchor=\"start\" x=\"11\" y=\"-22.8\" font-family=\"Helvetica,sans-Serif\" font-size=\"14.00\">value = [0, 30, 0]</text>\n",
       "<text text-anchor=\"start\" x=\"8\" y=\"-7.8\" font-family=\"Helvetica,sans-Serif\" font-size=\"14.00\">class = versicolor</text>\n",
       "</g>\n",
       "<!-- 3&#45;&gt;4 -->\n",
       "<g id=\"edge4\" class=\"edge\">\n",
       "<title>3&#45;&gt;4</title>\n",
       "<path fill=\"none\" stroke=\"black\" d=\"M143.84,-103.73C133.07,-94.51 121.64,-84.74 110.88,-75.53\"/>\n",
       "<polygon fill=\"black\" stroke=\"black\" points=\"113.45,-73.12 103.58,-69.28 108.9,-78.44 113.45,-73.12\"/>\n",
       "</g>\n",
       "<!-- 5 -->\n",
       "<g id=\"node6\" class=\"node\">\n",
       "<title>5</title>\n",
       "<path fill=\"#ab7bee\" stroke=\"black\" d=\"M249.5,-68C249.5,-68 157.5,-68 157.5,-68 151.5,-68 145.5,-62 145.5,-56 145.5,-56 145.5,-12 145.5,-12 145.5,-6 151.5,0 157.5,0 157.5,0 249.5,0 249.5,0 255.5,0 261.5,-6 261.5,-12 261.5,-12 261.5,-56 261.5,-56 261.5,-62 255.5,-68 249.5,-68\"/>\n",
       "<text text-anchor=\"start\" x=\"166\" y=\"-52.8\" font-family=\"Helvetica,sans-Serif\" font-size=\"14.00\">gini = 0.375</text>\n",
       "<text text-anchor=\"start\" x=\"164\" y=\"-37.8\" font-family=\"Helvetica,sans-Serif\" font-size=\"14.00\">samples = 4</text>\n",
       "<text text-anchor=\"start\" x=\"155\" y=\"-22.8\" font-family=\"Helvetica,sans-Serif\" font-size=\"14.00\">value = [0, 1, 3]</text>\n",
       "<text text-anchor=\"start\" x=\"153.5\" y=\"-7.8\" font-family=\"Helvetica,sans-Serif\" font-size=\"14.00\">class = virginica</text>\n",
       "</g>\n",
       "<!-- 3&#45;&gt;5 -->\n",
       "<g id=\"edge5\" class=\"edge\">\n",
       "<title>3&#45;&gt;5</title>\n",
       "<path fill=\"none\" stroke=\"black\" d=\"M195.97,-103.73C196.83,-95.88 197.73,-87.63 198.6,-79.67\"/>\n",
       "<polygon fill=\"black\" stroke=\"black\" points=\"202.08,-80.13 199.69,-69.8 195.12,-79.36 202.08,-80.13\"/>\n",
       "</g>\n",
       "<!-- 7 -->\n",
       "<g id=\"node8\" class=\"node\">\n",
       "<title>7</title>\n",
       "<path fill=\"#ab7bee\" stroke=\"black\" d=\"M406.5,-68C406.5,-68 314.5,-68 314.5,-68 308.5,-68 302.5,-62 302.5,-56 302.5,-56 302.5,-12 302.5,-12 302.5,-6 308.5,0 314.5,0 314.5,0 406.5,0 406.5,0 412.5,0 418.5,-6 418.5,-12 418.5,-12 418.5,-56 418.5,-56 418.5,-62 412.5,-68 406.5,-68\"/>\n",
       "<text text-anchor=\"start\" x=\"323\" y=\"-52.8\" font-family=\"Helvetica,sans-Serif\" font-size=\"14.00\">gini = 0.375</text>\n",
       "<text text-anchor=\"start\" x=\"321\" y=\"-37.8\" font-family=\"Helvetica,sans-Serif\" font-size=\"14.00\">samples = 4</text>\n",
       "<text text-anchor=\"start\" x=\"312\" y=\"-22.8\" font-family=\"Helvetica,sans-Serif\" font-size=\"14.00\">value = [0, 1, 3]</text>\n",
       "<text text-anchor=\"start\" x=\"310.5\" y=\"-7.8\" font-family=\"Helvetica,sans-Serif\" font-size=\"14.00\">class = virginica</text>\n",
       "</g>\n",
       "<!-- 6&#45;&gt;7 -->\n",
       "<g id=\"edge7\" class=\"edge\">\n",
       "<title>6&#45;&gt;7</title>\n",
       "<path fill=\"none\" stroke=\"black\" d=\"M367.4,-103.73C366.62,-95.88 365.79,-87.63 364.99,-79.67\"/>\n",
       "<polygon fill=\"black\" stroke=\"black\" points=\"368.48,-79.41 364,-69.81 361.51,-80.11 368.48,-79.41\"/>\n",
       "</g>\n",
       "<!-- 8 -->\n",
       "<g id=\"node9\" class=\"node\">\n",
       "<title>8</title>\n",
       "<path fill=\"#8139e5\" stroke=\"black\" d=\"M546,-68C546,-68 449,-68 449,-68 443,-68 437,-62 437,-56 437,-56 437,-12 437,-12 437,-6 443,0 449,0 449,0 546,0 546,0 552,0 558,-6 558,-12 558,-12 558,-56 558,-56 558,-62 552,-68 546,-68\"/>\n",
       "<text text-anchor=\"start\" x=\"468.5\" y=\"-52.8\" font-family=\"Helvetica,sans-Serif\" font-size=\"14.00\">gini = 0.0</text>\n",
       "<text text-anchor=\"start\" x=\"454\" y=\"-37.8\" font-family=\"Helvetica,sans-Serif\" font-size=\"14.00\">samples = 33</text>\n",
       "<text text-anchor=\"start\" x=\"445\" y=\"-22.8\" font-family=\"Helvetica,sans-Serif\" font-size=\"14.00\">value = [0, 0, 33]</text>\n",
       "<text text-anchor=\"start\" x=\"447.5\" y=\"-7.8\" font-family=\"Helvetica,sans-Serif\" font-size=\"14.00\">class = virginica</text>\n",
       "</g>\n",
       "<!-- 6&#45;&gt;8 -->\n",
       "<g id=\"edge8\" class=\"edge\">\n",
       "<title>6&#45;&gt;8</title>\n",
       "<path fill=\"none\" stroke=\"black\" d=\"M418.42,-103.73C428.91,-94.61 440.05,-84.93 450.54,-75.81\"/>\n",
       "<polygon fill=\"black\" stroke=\"black\" points=\"452.79,-78.49 458.04,-69.29 448.2,-73.21 452.79,-78.49\"/>\n",
       "</g>\n",
       "</g>\n",
       "</svg>\n"
      ],
      "text/plain": [
       "<graphviz.sources.Source at 0x24751012790>"
      ]
     },
     "execution_count": 91,
     "metadata": {},
     "output_type": "execute_result"
    }
   ],
   "source": [
    "import graphviz\n",
    "import sklearn.tree as tree\n",
    "\n",
    "dot_data = tree.export_graphviz(classification_tree, out_file=None, feature_names=iris.train_x.columns, class_names=iris.features[\"target_names\"], filled=True, rounded=True, special_characters=True)  \n",
    "graph = graphviz.Source(dot_data)  \n",
    "graph "
   ]
  },
  {
   "cell_type": "markdown",
   "id": "0df54f6a-2010-4f76-8ec8-5e2de00f63d6",
   "metadata": {},
   "source": [
    "#### Feature Importance"
   ]
  },
  {
   "cell_type": "code",
   "execution_count": 92,
   "id": "3d753cb5-5eac-49f1-acb5-a435712e1194",
   "metadata": {},
   "outputs": [
    {
     "data": {
      "text/plain": [
       "array([0.42222226, 0.57777774, 0.        , 0.        ])"
      ]
     },
     "execution_count": 92,
     "metadata": {},
     "output_type": "execute_result"
    }
   ],
   "source": [
    "classification_tree.feature_importances_"
   ]
  },
  {
   "cell_type": "code",
   "execution_count": 93,
   "id": "cecfb399-01a3-4c34-a77a-115efa4b7043",
   "metadata": {},
   "outputs": [
    {
     "data": {
      "text/plain": [
       "<seaborn.axisgrid.FacetGrid at 0x247514569d0>"
      ]
     },
     "execution_count": 93,
     "metadata": {},
     "output_type": "execute_result"
    },
    {
     "data": {
      "image/png": "[encoded data removed]",
      "text/plain": [
       "<Figure size 500x500 with 1 Axes>"
      ]
     },
     "metadata": {},
     "output_type": "display_data"
    }
   ],
   "source": [
    "feature_importances = pd.DataFrame(data=classification_tree.feature_importances_, columns=[\"feature importance\"], index=iris.train_x.columns)\n",
    "\n",
    "sns.catplot(kind=\"bar\", data=feature_importances, y=iris.train_x.columns.to_list(), x=\"feature importance\", orient=\"h\")"
   ]
  },
  {
   "cell_type": "markdown",
   "id": "c0e1440a-72b3-4d8f-86e0-3ae5b0ba3df1",
   "metadata": {},
   "source": [
    "# Decision Rules"
   ]
  },
  {
   "cell_type": "markdown",
   "id": "7ef2efa3-f255-4a71-a02b-48b29db8460b",
   "metadata": {},
   "source": [
    "## OneR\n",
    "\n",
    "One Rule (OneR) is a simple but surprisingly efficient classification algorithm. It works by iterating over each feature and creating a rule that uses the feature to predict the class label. The algorithm then selects the feature that results in the highest accuracy.\n",
    "\n",
    "Outline of the algorithm is as follows:\n",
    "\n",
    "0. Preprocessing: Discretize all continuous feature\n",
    "1. Training: Iterate over each feature (columns):\n",
    "   1. For each feature value, count the number times a label occures with that value.\n",
    "   2. Regard the class label with the highest frequency (count) as the majority class.\n",
    "   3. Record the error for each feature.\n",
    "3. Evaluation: Select the feature with the least error and use the corresponting rule to classifi the examples"
   ]
  },
  {
   "cell_type": "code",
   "execution_count": 39,
   "id": "e16d338b-81c3-47a9-8b69-23cbe47309c0",
   "metadata": {},
   "outputs": [],
   "source": [
    "# X_train, y_train\n",
    "from pandas.api.types import is_float_dtype\n",
    "\n",
    "class OneR:\n",
    "    def __init__(self):\n",
    "        self.meta_ = {\"feature\": [], \"error\": [], \"most frequent\": [], \"rules\": []}\n",
    "        self.best_feature_ = -1\n",
    "        self.best_rules_ = []\n",
    "        self.most_frequent_ = -1\n",
    "\n",
    "    def fit(self, X: pd.DataFrame, y: pd.DataFrame):\n",
    "        for feature in X.columns:\n",
    "            if is_float_dtype(X[feature]):\n",
    "                # calculate quantiles\n",
    "                discr = np.quantile(X[feature], [0.8, 0.6, 0.4, 0.2][::-1])\n",
    "                discr = np.concatenate([[-np.inf], discr, [np.inf]])  # include infinity to the ranges\n",
    "                categories = []\n",
    "                # frequency table\n",
    "                table = np.zeros([len(discr), len(y.unique())])\n",
    "                # calculate label frequencies for each feature value\n",
    "                for i in range(len(discr)-1):\n",
    "                    lower = discr[i]\n",
    "                    upper = discr[i+1]\n",
    "                    categories.append([discr[i], discr[i+1]])\n",
    "\n",
    "                    freq = y[(lower < X[feature]) & (X[feature] <= upper)].value_counts()\n",
    "                    for j in freq.index:\n",
    "                        table[i, j] = freq[j]\n",
    "\n",
    "                table = table[:-1, :]  # remove padding\n",
    "                # calculate meta information\n",
    "                total = np.sum(table)\n",
    "                self.meta_[\"most frequent\"].append(np.argmax(table, axis=1))\n",
    "                self.meta_[\"rules\"].append(categories)\n",
    "\n",
    "                # we are going to set the majority labels for each rule to 0\n",
    "                # so we can calculate the error for each decision\n",
    "                # num_miss_classified/total\n",
    "                table[np.arange(len(table)), np.argmax(table, axis=1)] = 0\n",
    "                error = np.sum(table)/total\n",
    "                self.meta_[\"feature\"].append(feature)\n",
    "                self.meta_[\"error\"].append(error)\n",
    "                print(feature, error)\n",
    "        min_idx = np.argmin(self.meta_[\"error\"])\n",
    "        self.best_feature_ = self.meta_[\"feature\"][min_idx]\n",
    "        self.best_rules_ = self.meta_[\"rules\"][min_idx]\n",
    "        self.most_frequent_ = self.meta_[\"most frequent\"][min_idx]\n",
    "\n",
    "    def predict(self, X):\n",
    "        selected = X[self.best_feature_]\n",
    "        predictions = np.zeros([len(X),])\n",
    "        predictions[:] = -1\n",
    "        for i, idx in enumerate(selected.index):\n",
    "            value = selected[idx]\n",
    "            for j, rule in enumerate(self.best_rules_):\n",
    "                if rule[0] < value <= rule[1]:\n",
    "                    predictions[i] = self.most_frequent_[j]\n",
    "                    break\n",
    "        return predictions\n",
    "\n",
    "    def score(self, X, y):\n",
    "        preds = self.predict(X)\n",
    "        return len(np.where(y == preds)[0])/len(y)"
   ]
  },
  {
   "cell_type": "code",
   "execution_count": 40,
   "id": "b67fb1ed-ef13-4237-ba46-ffd14343b4fe",
   "metadata": {},
   "outputs": [
    {
     "name": "stdout",
     "output_type": "stream",
     "text": [
      "petal length (cm) 0.14285714285714285\n",
      "petal width (cm) 0.12380952380952381\n",
      "sepal length (cm) 0.29523809523809524\n",
      "sepal width (cm) 0.42857142857142855\n"
     ]
    }
   ],
   "source": [
    "oner = OneR()\n",
    "\n",
    "oner.fit(iris.train_x, iris.train_y['target'])"
   ]
  },
  {
   "cell_type": "code",
   "execution_count": 42,
   "id": "ee36e6d3-d7b5-4e47-abeb-815588aea146",
   "metadata": {},
   "outputs": [
    {
     "data": {
      "text/plain": [
       "0.9"
      ]
     },
     "execution_count": 42,
     "metadata": {},
     "output_type": "execute_result"
    }
   ],
   "source": [
    "oner.score(iris.test_x, iris.test_y['target'])"
   ]
  },
  {
   "cell_type": "code",
   "execution_count": 43,
   "id": "af54b049-8cd8-4b0d-a33a-18c480ae229d",
   "metadata": {},
   "outputs": [
    {
     "data": {
      "text/plain": [
       "'petal width (cm)'"
      ]
     },
     "execution_count": 43,
     "metadata": {},
     "output_type": "execute_result"
    }
   ],
   "source": [
    "oner.best_feature_"
   ]
  },
  {
   "cell_type": "code",
   "execution_count": 44,
   "id": "a5782bd0-2983-4ac7-a5cb-62341322598a",
   "metadata": {},
   "outputs": [
    {
     "data": {
      "text/plain": [
       "[[-inf, 0.2],\n",
       " [0.2, 1.1600000000000001],\n",
       " [1.1600000000000001, 1.5],\n",
       " [1.5, 2.0],\n",
       " [2.0, inf]]"
      ]
     },
     "execution_count": 44,
     "metadata": {},
     "output_type": "execute_result"
    }
   ],
   "source": [
    "oner.best_rules_"
   ]
  },
  {
   "cell_type": "code",
   "execution_count": 47,
   "id": "16b394e6-f0dc-4150-a8e4-2ad3038c7474",
   "metadata": {},
   "outputs": [
    {
     "name": "stdout",
     "output_type": "stream",
     "text": [
      "{'error': [0.14285714285714285,\n",
      "           0.12380952380952381,\n",
      "           0.29523809523809524,\n",
      "           0.42857142857142855],\n",
      " 'feature': ['petal length (cm)',\n",
      "             'petal width (cm)',\n",
      "             'sepal length (cm)',\n",
      "             'sepal width (cm)'],\n",
      " 'most frequent': [array([0, 0, 1, 2, 2], dtype=int64),\n",
      "                   array([0, 0, 1, 2, 2], dtype=int64),\n",
      "                   array([0, 1, 1, 2, 2], dtype=int64),\n",
      "                   array([1, 2, 2, 0, 0], dtype=int64)],\n",
      " 'rules': [[[-inf, 1.5],\n",
      "            [1.5, 3.9],\n",
      "            [3.9, 4.74],\n",
      "            [4.74, 5.420000000000001],\n",
      "            [5.420000000000001, inf]],\n",
      "           [[-inf, 0.2],\n",
      "            [0.2, 1.1600000000000001],\n",
      "            [1.1600000000000001, 1.5],\n",
      "            [1.5, 2.0],\n",
      "            [2.0, inf]],\n",
      "           [[-inf, 5.1], [5.1, 5.6], [5.6, 6.14], [6.14, 6.62], [6.62, inf]],\n",
      "           [[-inf, 2.7], [2.7, 3.0], [3.0, 3.1], [3.1, 3.4], [3.4, inf]]]}\n"
     ]
    }
   ],
   "source": [
    "import pprint\n",
    "\n",
    "pprint.pprint(oner.meta_)"
   ]
  },
  {
   "cell_type": "markdown",
   "id": "57e02468-d0bc-4a18-9bd1-a99eb10d39fd",
   "metadata": {},
   "source": [
    "## Sequential Covering\n",
    "\n",
    "TODO\n",
    "\n",
    "<img src=\"https://github.com/ficstamas/FateML/raw/master/notebooks/images/sequential_covering.png\" width=500>"
   ]
  },
  {
   "cell_type": "code",
   "execution_count": 79,
   "id": "d5d6997c-7309-45a7-8487-6a187b2c3fcf",
   "metadata": {},
   "outputs": [],
   "source": [
    "# X_train, y_train\n",
    "from sklearn.tree import DecisionTreeClassifier\n",
    "from pprint import pprint\n",
    "\n",
    "class SequentialCavering:\n",
    "    def __init__(self):\n",
    "        self.rules_ = {}\n",
    "        self.feature_names_in_ = []\n",
    "        self.learner_ = DecisionTreeClassifier(random_state=0)\n",
    "        self.outlier_ = -1\n",
    "\n",
    "    def _path(self, tree):\n",
    "        children_left = tree.children_left\n",
    "        children_right = tree.children_right\n",
    "        feature = tree.feature\n",
    "        threshold = tree.threshold\n",
    "        impurity = tree.impurity\n",
    "\n",
    "        rule = {}\n",
    "        decision = None\n",
    "\n",
    "        stack = [(0, 0)]\n",
    "        while len(stack) > 0:\n",
    "            node_id, depth = stack.pop()\n",
    "            cl = children_left[node_id]\n",
    "            cr = children_right[node_id]\n",
    "\n",
    "            is_split_node = cl != cr\n",
    "            if is_split_node:\n",
    "                if impurity[cl] <= impurity[cr]:\n",
    "                    rule[len(rule)] = {\"leq\": True,\n",
    "                                       \"feature\": self.feature_names_in_[feature[node_id]],\n",
    "                                       \"threshold\": threshold[node_id]}\n",
    "                    stack.append((cl, depth+1))\n",
    "                else:\n",
    "                    rule[len(rule)] = {\"leq\": False,\n",
    "                                       \"feature\": self.feature_names_in_[feature[node_id]],\n",
    "                                       \"threshold\": threshold[node_id]}\n",
    "                    stack.append((cr, depth+1))\n",
    "            decision = np.argmax(tree.value[node_id])\n",
    "        return rule, decision\n",
    "            \n",
    "\n",
    "    def _remove_covering(self, X, y):\n",
    "        _X = X.copy()\n",
    "        all_cond = []\n",
    "        for _, rule_dict in self.rules_.items():\n",
    "            rule_cond = []\n",
    "            rule = rule_dict[\"rule\"]\n",
    "            for _, condition in rule.items():\n",
    "                feature = condition[\"feature\"]\n",
    "                th = condition[\"threshold\"]\n",
    "                col = _X[feature]\n",
    "                if condition[\"leq\"]:\n",
    "                    rule_cond.append(col <= th)\n",
    "                else:\n",
    "                    rule_cond.append(col > th)\n",
    "\n",
    "            conditioned = rule_cond[0]\n",
    "            for cond in rule_cond:\n",
    "                conditioned = conditioned & cond\n",
    "            all_cond.append(conditioned)\n",
    "\n",
    "        conditioned = all_cond[0]\n",
    "        for cond in all_cond:\n",
    "            conditioned = conditioned | cond\n",
    "\n",
    "        return _X.loc[~conditioned], y.loc[~conditioned]\n",
    "\n",
    "\n",
    "    def fit(self, X, y, threshold=0.05):\n",
    "        X = X.copy()\n",
    "        y = y.copy()\n",
    "\n",
    "        self.learner_ = self.learner_.fit(X, y)\n",
    "        self.feature_names_in_ = self.learner_.feature_names_in_\n",
    "\n",
    "        rule, label = self._path(self.learner_.tree_)\n",
    "        quality = 2\n",
    "        while quality > threshold:\n",
    "            self.rules_[len(self.rules_)] = {\"rule\": rule, \"label\": label}\n",
    "            if quality == 1.0:\n",
    "                break\n",
    "            X, y = self._remove_covering(X, y)\n",
    "\n",
    "            self.learner_ = self.learner_.fit(X, y)\n",
    "            rule, label = self._path(self.learner_.tree_)\n",
    "            total = len(y)\n",
    "            positive = len(np.where(y.values == 1)[0])\n",
    "            quality = positive/total\n",
    "        self.outlier_ = y.value_counts().idxmax()\n",
    "\n",
    "\n",
    "    def predict(self, X):\n",
    "        _X = X.copy()\n",
    "        y_pred = np.zeros([len(X), ])\n",
    "        for _, rule_dict in self.rules_.items():\n",
    "            rule_cond = []\n",
    "            rule = rule_dict[\"rule\"]\n",
    "            if len(rule) == 0:\n",
    "                continue\n",
    "            for _, condition in rule.items():\n",
    "                feature = condition[\"feature\"]\n",
    "                th = condition[\"threshold\"]\n",
    "                col = _X[feature]\n",
    "                if condition[\"leq\"]:\n",
    "                    rule_cond.append(col <= th)\n",
    "                else:\n",
    "                    rule_cond.append(col > th)\n",
    "\n",
    "            conditioned = rule_cond[0]\n",
    "            for cond in rule_cond:\n",
    "                conditioned = conditioned & cond\n",
    "            y_pred[conditioned.values] = rule_dict[\"label\"]\n",
    "        y_pred[y_pred == -1] = self.outlier_\n",
    "        return y_pred\n",
    "    \n",
    "\n",
    "    def score(self, X, y):\n",
    "        preds = self.predict(X)\n",
    "        return len(np.where(y == preds)[0])/len(y)\n",
    "\n",
    "    \n",
    "    def print_rules(self):\n",
    "        for _, rule in self.rules_.items():\n",
    "            rule_str = []\n",
    "            if len(rule['rule']) > 0:\n",
    "                for _, cond in rule['rule'].items():\n",
    "                    rule_str.append(f\"{cond['feature']} {'<=' if cond['leq'] else '>'} {cond['threshold']:.2f}\")\n",
    "                rule_str = \" AND \".join(rule_str)\n",
    "            else:\n",
    "                rule_str = \"default\"\n",
    "            print(f\"IF {rule_str} THEN {rule['label']}\")"
   ]
  },
  {
   "cell_type": "code",
   "execution_count": 80,
   "id": "19621492-fc04-4d0f-a531-5d327529b068",
   "metadata": {},
   "outputs": [
    {
     "name": "stdout",
     "output_type": "stream",
     "text": [
      "0.36666666666666664\n",
      "IF petal length (cm) <= 4.85 AND petal width (cm) <= 1.65 THEN 0\n",
      "IF petal length (cm) > 5.05 THEN 1\n",
      "IF sepal width (cm) > 3.05 THEN 0\n",
      "IF sepal length (cm) > 6.50 THEN 0\n",
      "IF petal width (cm) > 1.60 THEN 1\n",
      "IF sepal length (cm) <= 6.15 THEN 1\n"
     ]
    }
   ],
   "source": [
    "selected_class = 2\n",
    "train_y_modified = (iris.train_y['target'] == selected_class).astype(int)\n",
    "test_y_modified = (iris.test_y['target'] == selected_class).astype(int)\n",
    "\n",
    "sq = SequentialCavering()\n",
    "sq.fit(iris.train_x, train_y_modified)\n",
    "\n",
    "print(sq.score(iris.test_x, test_y_modified))\n",
    "sq.print_rules()"
   ]
  },
  {
   "cell_type": "markdown",
   "id": "e683a243-ed25-445b-bb87-c3f1b3cf15b6",
   "metadata": {},
   "source": [
    "## Bayesian Rile Lists"
   ]
  },
  {
   "cell_type": "code",
   "execution_count": 125,
   "id": "03176f20-caf1-4c3d-a344-b7e9d75d9920",
   "metadata": {},
   "outputs": [
    {
     "name": "stderr",
     "output_type": "stream",
     "text": [
      "E:\\Programs\\Anaconda3\\envs\\FateML\\lib\\site-packages\\sklearn\\preprocessing\\_encoders.py:808: FutureWarning: `sparse` was renamed to `sparse_output` in version 1.2 and will be removed in 1.4. `sparse_output` is ignored unless you leave `sparse` to its default value.\n",
      "  warnings.warn(\n",
      "E:\\Programs\\Anaconda3\\envs\\FateML\\lib\\site-packages\\mlxtend\\frequent_patterns\\fpcommon.py:111: DeprecationWarning: DataFrames with non-bool types result in worse computationalperformance and their support might be discontinued in the future.Please use a DataFrame with bool type\n",
      "  warnings.warn(\n"
     ]
    },
    {
     "data": {
      "text/html": [
       "<style>#sk-container-id-4 {color: black;background-color: white;}#sk-container-id-4 pre{padding: 0;}#sk-container-id-4 div.sk-toggleable {background-color: white;}#sk-container-id-4 label.sk-toggleable__label {cursor: pointer;display: block;width: 100%;margin-bottom: 0;padding: 0.3em;box-sizing: border-box;text-align: center;}#sk-container-id-4 label.sk-toggleable__label-arrow:before {content: \"▸\";float: left;margin-right: 0.25em;color: #696969;}#sk-container-id-4 label.sk-toggleable__label-arrow:hover:before {color: black;}#sk-container-id-4 div.sk-estimator:hover label.sk-toggleable__label-arrow:before {color: black;}#sk-container-id-4 div.sk-toggleable__content {max-height: 0;max-width: 0;overflow: hidden;text-align: left;background-color: #f0f8ff;}#sk-container-id-4 div.sk-toggleable__content pre {margin: 0.2em;color: black;border-radius: 0.25em;background-color: #f0f8ff;}#sk-container-id-4 input.sk-toggleable__control:checked~div.sk-toggleable__content {max-height: 200px;max-width: 100%;overflow: auto;}#sk-container-id-4 input.sk-toggleable__control:checked~label.sk-toggleable__label-arrow:before {content: \"▾\";}#sk-container-id-4 div.sk-estimator input.sk-toggleable__control:checked~label.sk-toggleable__label {background-color: #d4ebff;}#sk-container-id-4 div.sk-label input.sk-toggleable__control:checked~label.sk-toggleable__label {background-color: #d4ebff;}#sk-container-id-4 input.sk-hidden--visually {border: 0;clip: rect(1px 1px 1px 1px);clip: rect(1px, 1px, 1px, 1px);height: 1px;margin: -1px;overflow: hidden;padding: 0;position: absolute;width: 1px;}#sk-container-id-4 div.sk-estimator {font-family: monospace;background-color: #f0f8ff;border: 1px dotted black;border-radius: 0.25em;box-sizing: border-box;margin-bottom: 0.5em;}#sk-container-id-4 div.sk-estimator:hover {background-color: #d4ebff;}#sk-container-id-4 div.sk-parallel-item::after {content: \"\";width: 100%;border-bottom: 1px solid gray;flex-grow: 1;}#sk-container-id-4 div.sk-label:hover label.sk-toggleable__label {background-color: #d4ebff;}#sk-container-id-4 div.sk-serial::before {content: \"\";position: absolute;border-left: 1px solid gray;box-sizing: border-box;top: 0;bottom: 0;left: 50%;z-index: 0;}#sk-container-id-4 div.sk-serial {display: flex;flex-direction: column;align-items: center;background-color: white;padding-right: 0.2em;padding-left: 0.2em;position: relative;}#sk-container-id-4 div.sk-item {position: relative;z-index: 1;}#sk-container-id-4 div.sk-parallel {display: flex;align-items: stretch;justify-content: center;background-color: white;position: relative;}#sk-container-id-4 div.sk-item::before, #sk-container-id-4 div.sk-parallel-item::before {content: \"\";position: absolute;border-left: 1px solid gray;box-sizing: border-box;top: 0;bottom: 0;left: 50%;z-index: -1;}#sk-container-id-4 div.sk-parallel-item {display: flex;flex-direction: column;z-index: 1;position: relative;background-color: white;}#sk-container-id-4 div.sk-parallel-item:first-child::after {align-self: flex-end;width: 50%;}#sk-container-id-4 div.sk-parallel-item:last-child::after {align-self: flex-start;width: 50%;}#sk-container-id-4 div.sk-parallel-item:only-child::after {width: 0;}#sk-container-id-4 div.sk-dashed-wrapped {border: 1px dashed gray;margin: 0 0.4em 0.5em 0.4em;box-sizing: border-box;padding-bottom: 0.4em;background-color: white;}#sk-container-id-4 div.sk-label label {font-family: monospace;font-weight: bold;display: inline-block;line-height: 1.2em;}#sk-container-id-4 div.sk-label-container {text-align: center;}#sk-container-id-4 div.sk-container {/* jupyter's `normalize.less` sets `[hidden] { display: none; }` but bootstrap.min.css set `[hidden] { display: none !important; }` so we also need the `!important` here to be able to override the default hidden behavior on the sphinx rendered scikit-learn.org. See: https://github.com/scikit-learn/scikit-learn/issues/21755 */display: inline-block !important;position: relative;}#sk-container-id-4 div.sk-text-repr-fallback {display: none;}</style><div id=\"sk-container-id-4\" class=\"sk-top-container\"><div class=\"sk-text-repr-fallback\"><pre>Trained RuleListClassifier for detecting versicolor\n",
       "====================================================\n",
       "IF petal length (cm)_4.966666666666667_to_6.9 &gt; 0.5 THEN probability of versicolor: 5.1% (0.6%-13.8%)\n",
       "ELSE IF petal width (cm)_0.1_to_0.8999999999999999 &gt; 0.5 THEN probability of versicolor: 2.8% (0.1%-10.0%)\n",
       "ELSE IF petal width (cm)_0.8999999999999999_to_1.7 &gt; 0.5 THEN probability of versicolor: 96.9% (88.8%-99.9%)\n",
       "ELSE probability of versicolor: 33.3% (5.3%-71.6%)\n",
       "===================================================\n",
       "</pre><b>In a Jupyter environment, please rerun this cell to show the HTML representation or trust the notebook. <br />On GitHub, the HTML representation is unable to render, please try loading this page with nbviewer.org.</b></div><div class=\"sk-container\" hidden><div class=\"sk-item\"><div class=\"sk-estimator sk-toggleable\"><input class=\"sk-toggleable__control sk-hidden--visually\" id=\"sk-estimator-id-4\" type=\"checkbox\" checked><label for=\"sk-estimator-id-4\" class=\"sk-toggleable__label sk-toggleable__label-arrow\">BayesianRuleListClassifier</label><div class=\"sk-toggleable__content\"><pre>Trained RuleListClassifier for detecting versicolor\n",
       "====================================================\n",
       "IF petal length (cm)_4.966666666666667_to_6.9 &gt; 0.5 THEN probability of versicolor: 5.1% (0.6%-13.8%)\n",
       "ELSE IF petal width (cm)_0.1_to_0.8999999999999999 &gt; 0.5 THEN probability of versicolor: 2.8% (0.1%-10.0%)\n",
       "ELSE IF petal width (cm)_0.8999999999999999_to_1.7 &gt; 0.5 THEN probability of versicolor: 96.9% (88.8%-99.9%)\n",
       "ELSE probability of versicolor: 33.3% (5.3%-71.6%)\n",
       "===================================================\n",
       "</pre></div></div></div></div></div>"
      ],
      "text/plain": [
       "Trained RuleListClassifier for detecting versicolor\n",
       "====================================================\n",
       "IF petal length (cm)_4.966666666666667_to_6.9 > 0.5 THEN probability of versicolor: 5.1% (0.6%-13.8%)\n",
       "ELSE IF petal width (cm)_0.1_to_0.8999999999999999 > 0.5 THEN probability of versicolor: 2.8% (0.1%-10.0%)\n",
       "ELSE IF petal width (cm)_0.8999999999999999_to_1.7 > 0.5 THEN probability of versicolor: 96.9% (88.8%-99.9%)\n",
       "ELSE probability of versicolor: 33.3% (5.3%-71.6%)\n",
       "===================================================\n"
      ]
     },
     "execution_count": 125,
     "metadata": {},
     "output_type": "execute_result"
    }
   ],
   "source": [
    "from imodels import BayesianRuleListClassifier\n",
    "from imodels.discretization import ExtraBasicDiscretizer\n",
    "\n",
    "# the model only operates on binary classification task\n",
    "selected_class = 1\n",
    "target_name = iris.features['target_names'][selected_class]\n",
    "train_y_modified = (iris.train_y['target'] == selected_class).astype(int)\n",
    "test_y_modified = (iris.test_y['target'] == selected_class).astype(int)\n",
    "\n",
    "# discretize dataset and fix the jank\n",
    "disc = ExtraBasicDiscretizer(iris.train_x.columns, n_bins=3, strategy='uniform')\n",
    "X_train_brl_df = disc.fit_transform(iris.train_x)\n",
    "X_train_brl_df = X_train_brl_df.loc[:len(iris.train_x)-1]\n",
    "X_train_brl_df.index = iris.train_x.index\n",
    "X_train_brl_df\n",
    "\n",
    "X_test_brl_df = disc.transform(iris.test_x)\n",
    "X_test_brl_df = X_test_brl_df.loc[:len(iris.test_x)-1]\n",
    "X_test_brl_df.index = iris.test_x.index\n",
    "X_test_brl_df\n",
    "\n",
    "# fir the model\n",
    "bayesian_rule = BayesianRuleListClassifier(max_iter=3000, class1label=target_name, verbose=False, random_state=42)\n",
    "bayesian_rule.fit(X_train_brl_df, train_y_modified, feature_names=X_train_brl_df.columns.tolist())"
   ]
  },
  {
   "cell_type": "code",
   "execution_count": 131,
   "id": "7e3db392-918e-4864-9dc1-a7831e08f61a",
   "metadata": {},
   "outputs": [],
   "source": [
    "def viz_classification_preds(probs, y_test):\n",
    "    '''look at prediction breakdown\n",
    "    '''\n",
    "    from sklearn import metrics\n",
    "    fig, axs = plt.subplots(1, 2)\n",
    "    axs[0].hist(probs[:, 1][y_test==0], label='Class 0')\n",
    "    axs[0].hist(probs[:, 1][y_test==1], label='Class 1', alpha=0.8)\n",
    "    axs[0].set_ylabel('Count')\n",
    "    axs[0].set_xlabel('Predicted probability of class 1')\n",
    "    axs[0].legend()\n",
    "    \n",
    "    preds = np.argmax(probs, axis=1)\n",
    "    axs[1].set_title('ROC curve')\n",
    "    fpr, tpr, thresholds = metrics.roc_curve(y_test, preds)\n",
    "    axs[1].plot([0, 1], [0, 1],'r--')\n",
    "    axs[1].set_xlabel('False positive rate')\n",
    "    axs[1].set_ylabel('True positive rate')\n",
    "    axs[1].plot(fpr, tpr)\n",
    "    fig.tight_layout()"
   ]
  },
  {
   "cell_type": "code",
   "execution_count": 133,
   "id": "607eea23-0c38-4f8d-bfe9-debea894bb5b",
   "metadata": {},
   "outputs": [
    {
     "data": {
      "image/png": "[encoded data removed]",
      "text/plain": [
       "<Figure size 1920x1440 with 2 Axes>"
      ]
     },
     "metadata": {},
     "output_type": "display_data"
    }
   ],
   "source": [
    "probs = bayesian_rule.predict_proba(X_test_brl_df)\n",
    "viz_classification_preds(probs, test_y_modified)"
   ]
  },
  {
   "cell_type": "markdown",
   "id": "6e098ce6-df8d-4961-b5de-3d6df8988843",
   "metadata": {},
   "source": [
    "## RuleFit"
   ]
  },
  {
   "cell_type": "code",
   "execution_count": 126,
   "id": "2283a9d6-e4c6-49eb-9704-745f707269b3",
   "metadata": {},
   "outputs": [
    {
     "name": "stderr",
     "output_type": "stream",
     "text": [
      "E:\\Programs\\Anaconda3\\envs\\FateML\\lib\\site-packages\\sklearn\\utils\\validation.py:1141: DataConversionWarning: A column-vector y was passed when a 1d array was expected. Please change the shape of y to (n_samples, ), for example using ravel().\n",
      "  y = column_or_1d(y, warn=True)\n"
     ]
    },
    {
     "data": {
      "text/html": [
       "<style>#sk-container-id-5 {color: black;background-color: white;}#sk-container-id-5 pre{padding: 0;}#sk-container-id-5 div.sk-toggleable {background-color: white;}#sk-container-id-5 label.sk-toggleable__label {cursor: pointer;display: block;width: 100%;margin-bottom: 0;padding: 0.3em;box-sizing: border-box;text-align: center;}#sk-container-id-5 label.sk-toggleable__label-arrow:before {content: \"▸\";float: left;margin-right: 0.25em;color: #696969;}#sk-container-id-5 label.sk-toggleable__label-arrow:hover:before {color: black;}#sk-container-id-5 div.sk-estimator:hover label.sk-toggleable__label-arrow:before {color: black;}#sk-container-id-5 div.sk-toggleable__content {max-height: 0;max-width: 0;overflow: hidden;text-align: left;background-color: #f0f8ff;}#sk-container-id-5 div.sk-toggleable__content pre {margin: 0.2em;color: black;border-radius: 0.25em;background-color: #f0f8ff;}#sk-container-id-5 input.sk-toggleable__control:checked~div.sk-toggleable__content {max-height: 200px;max-width: 100%;overflow: auto;}#sk-container-id-5 input.sk-toggleable__control:checked~label.sk-toggleable__label-arrow:before {content: \"▾\";}#sk-container-id-5 div.sk-estimator input.sk-toggleable__control:checked~label.sk-toggleable__label {background-color: #d4ebff;}#sk-container-id-5 div.sk-label input.sk-toggleable__control:checked~label.sk-toggleable__label {background-color: #d4ebff;}#sk-container-id-5 input.sk-hidden--visually {border: 0;clip: rect(1px 1px 1px 1px);clip: rect(1px, 1px, 1px, 1px);height: 1px;margin: -1px;overflow: hidden;padding: 0;position: absolute;width: 1px;}#sk-container-id-5 div.sk-estimator {font-family: monospace;background-color: #f0f8ff;border: 1px dotted black;border-radius: 0.25em;box-sizing: border-box;margin-bottom: 0.5em;}#sk-container-id-5 div.sk-estimator:hover {background-color: #d4ebff;}#sk-container-id-5 div.sk-parallel-item::after {content: \"\";width: 100%;border-bottom: 1px solid gray;flex-grow: 1;}#sk-container-id-5 div.sk-label:hover label.sk-toggleable__label {background-color: #d4ebff;}#sk-container-id-5 div.sk-serial::before {content: \"\";position: absolute;border-left: 1px solid gray;box-sizing: border-box;top: 0;bottom: 0;left: 50%;z-index: 0;}#sk-container-id-5 div.sk-serial {display: flex;flex-direction: column;align-items: center;background-color: white;padding-right: 0.2em;padding-left: 0.2em;position: relative;}#sk-container-id-5 div.sk-item {position: relative;z-index: 1;}#sk-container-id-5 div.sk-parallel {display: flex;align-items: stretch;justify-content: center;background-color: white;position: relative;}#sk-container-id-5 div.sk-item::before, #sk-container-id-5 div.sk-parallel-item::before {content: \"\";position: absolute;border-left: 1px solid gray;box-sizing: border-box;top: 0;bottom: 0;left: 50%;z-index: -1;}#sk-container-id-5 div.sk-parallel-item {display: flex;flex-direction: column;z-index: 1;position: relative;background-color: white;}#sk-container-id-5 div.sk-parallel-item:first-child::after {align-self: flex-end;width: 50%;}#sk-container-id-5 div.sk-parallel-item:last-child::after {align-self: flex-start;width: 50%;}#sk-container-id-5 div.sk-parallel-item:only-child::after {width: 0;}#sk-container-id-5 div.sk-dashed-wrapped {border: 1px dashed gray;margin: 0 0.4em 0.5em 0.4em;box-sizing: border-box;padding-bottom: 0.4em;background-color: white;}#sk-container-id-5 div.sk-label label {font-family: monospace;font-weight: bold;display: inline-block;line-height: 1.2em;}#sk-container-id-5 div.sk-label-container {text-align: center;}#sk-container-id-5 div.sk-container {/* jupyter's `normalize.less` sets `[hidden] { display: none; }` but bootstrap.min.css set `[hidden] { display: none !important; }` so we also need the `!important` here to be able to override the default hidden behavior on the sphinx rendered scikit-learn.org. See: https://github.com/scikit-learn/scikit-learn/issues/21755 */display: inline-block !important;position: relative;}#sk-container-id-5 div.sk-text-repr-fallback {display: none;}</style><div id=\"sk-container-id-5\" class=\"sk-top-container\"><div class=\"sk-text-repr-fallback\"><pre>&gt; ------------------------------\n",
       "&gt; RuleFit:\n",
       "&gt; \tPredictions are made by summing the coefficients of each rule\n",
       "&gt; ------------------------------\n",
       "                                              rule  coef\n",
       "                           petal width (cm) &gt; 0.75  0.00\n",
       "                         petal length (cm) &lt;= 4.95 -0.03\n",
       "                          petal width (cm) &lt;= 1.55 -0.15\n",
       "                         petal length (cm) &lt;= 4.85 -0.31\n",
       "                          petal width (cm) &lt;= 1.45 -0.11\n",
       "                          petal length (cm) &lt;= 4.4 -0.00\n",
       "petal length (cm) &gt; 4.8 and petal width (cm) &gt; 0.7  0.00\n",
       "                          petal width (cm) &lt;= 0.75 -0.55\n",
       "                          petal length (cm) &lt;= 2.7 -0.04\n",
       "</pre><b>In a Jupyter environment, please rerun this cell to show the HTML representation or trust the notebook. <br />On GitHub, the HTML representation is unable to render, please try loading this page with nbviewer.org.</b></div><div class=\"sk-container\" hidden><div class=\"sk-item\"><div class=\"sk-estimator sk-toggleable\"><input class=\"sk-toggleable__control sk-hidden--visually\" id=\"sk-estimator-id-5\" type=\"checkbox\" checked><label for=\"sk-estimator-id-5\" class=\"sk-toggleable__label sk-toggleable__label-arrow\">RuleFitRegressor</label><div class=\"sk-toggleable__content\"><pre>&gt; ------------------------------\n",
       "&gt; RuleFit:\n",
       "&gt; \tPredictions are made by summing the coefficients of each rule\n",
       "&gt; ------------------------------\n",
       "                                              rule  coef\n",
       "                           petal width (cm) &gt; 0.75  0.00\n",
       "                         petal length (cm) &lt;= 4.95 -0.03\n",
       "                          petal width (cm) &lt;= 1.55 -0.15\n",
       "                         petal length (cm) &lt;= 4.85 -0.31\n",
       "                          petal width (cm) &lt;= 1.45 -0.11\n",
       "                          petal length (cm) &lt;= 4.4 -0.00\n",
       "petal length (cm) &gt; 4.8 and petal width (cm) &gt; 0.7  0.00\n",
       "                          petal width (cm) &lt;= 0.75 -0.55\n",
       "                          petal length (cm) &lt;= 2.7 -0.04\n",
       "</pre></div></div></div></div></div>"
      ],
      "text/plain": [
       "RuleFitRegressor(max_rules=10, random_state=0)"
      ]
     },
     "execution_count": 126,
     "metadata": {},
     "output_type": "execute_result"
    }
   ],
   "source": [
    "from imodels import RuleFitRegressor\n",
    "\n",
    "rulefit = RuleFitRegressor(max_rules=10, random_state=0)\n",
    "rulefit.fit(iris.train_x, iris.train_y, feature_names=iris.train_x.columns)"
   ]
  },
  {
   "cell_type": "code",
   "execution_count": 130,
   "id": "3072b3e4-64e9-4783-878b-d60c100f5cd0",
   "metadata": {},
   "outputs": [
    {
     "name": "stdout",
     "output_type": "stream",
     "text": [
      "test r2: 0.783\n"
     ]
    },
    {
     "data": {
      "text/html": [
       "<style type=\"text/css\">\n",
       "#T_78c2a_row0_col2, #T_78c2a_row0_col3, #T_78c2a_row4_col3, #T_78c2a_row7_col4, #T_78c2a_row8_col4 {\n",
       "  background-color: #440154;\n",
       "  color: #f1f1f1;\n",
       "}\n",
       "#T_78c2a_row0_col4, #T_78c2a_row6_col2, #T_78c2a_row7_col2, #T_78c2a_row7_col3 {\n",
       "  background-color: #fde725;\n",
       "  color: #000000;\n",
       "}\n",
       "#T_78c2a_row1_col2 {\n",
       "  background-color: #27808e;\n",
       "  color: #f1f1f1;\n",
       "}\n",
       "#T_78c2a_row1_col3 {\n",
       "  background-color: #81d34d;\n",
       "  color: #000000;\n",
       "}\n",
       "#T_78c2a_row1_col4 {\n",
       "  background-color: #21a685;\n",
       "  color: #f1f1f1;\n",
       "}\n",
       "#T_78c2a_row2_col2 {\n",
       "  background-color: #54c568;\n",
       "  color: #000000;\n",
       "}\n",
       "#T_78c2a_row2_col3 {\n",
       "  background-color: #93d741;\n",
       "  color: #000000;\n",
       "}\n",
       "#T_78c2a_row2_col4 {\n",
       "  background-color: #38598c;\n",
       "  color: #f1f1f1;\n",
       "}\n",
       "#T_78c2a_row3_col2 {\n",
       "  background-color: #75d054;\n",
       "  color: #000000;\n",
       "}\n",
       "#T_78c2a_row3_col3 {\n",
       "  background-color: #38b977;\n",
       "  color: #f1f1f1;\n",
       "}\n",
       "#T_78c2a_row3_col4 {\n",
       "  background-color: #3f4889;\n",
       "  color: #f1f1f1;\n",
       "}\n",
       "#T_78c2a_row4_col2, #T_78c2a_row5_col3 {\n",
       "  background-color: #cae11f;\n",
       "  color: #000000;\n",
       "}\n",
       "#T_78c2a_row4_col4 {\n",
       "  background-color: #481c6e;\n",
       "  color: #f1f1f1;\n",
       "}\n",
       "#T_78c2a_row5_col2 {\n",
       "  background-color: #d5e21a;\n",
       "  color: #000000;\n",
       "}\n",
       "#T_78c2a_row5_col4 {\n",
       "  background-color: #481769;\n",
       "  color: #f1f1f1;\n",
       "}\n",
       "#T_78c2a_row6_col3 {\n",
       "  background-color: #424086;\n",
       "  color: #f1f1f1;\n",
       "}\n",
       "#T_78c2a_row6_col4 {\n",
       "  background-color: #440256;\n",
       "  color: #f1f1f1;\n",
       "}\n",
       "#T_78c2a_row8_col2 {\n",
       "  background-color: #fbe723;\n",
       "  color: #000000;\n",
       "}\n",
       "#T_78c2a_row8_col3 {\n",
       "  background-color: #1fa188;\n",
       "  color: #f1f1f1;\n",
       "}\n",
       "</style>\n",
       "<table id=\"T_78c2a\">\n",
       "  <thead>\n",
       "    <tr>\n",
       "      <th class=\"blank level0\" >&nbsp;</th>\n",
       "      <th id=\"T_78c2a_level0_col0\" class=\"col_heading level0 col0\" >rule</th>\n",
       "      <th id=\"T_78c2a_level0_col1\" class=\"col_heading level0 col1\" >type</th>\n",
       "      <th id=\"T_78c2a_level0_col2\" class=\"col_heading level0 col2\" >coef</th>\n",
       "      <th id=\"T_78c2a_level0_col3\" class=\"col_heading level0 col3\" >support</th>\n",
       "      <th id=\"T_78c2a_level0_col4\" class=\"col_heading level0 col4\" >importance</th>\n",
       "    </tr>\n",
       "  </thead>\n",
       "  <tbody>\n",
       "    <tr>\n",
       "      <th id=\"T_78c2a_level0_row0\" class=\"row_heading level0 row0\" >4</th>\n",
       "      <td id=\"T_78c2a_row0_col0\" class=\"data row0 col0\" >petal width (cm) <= 0.75</td>\n",
       "      <td id=\"T_78c2a_row0_col1\" class=\"data row0 col1\" >rule</td>\n",
       "      <td id=\"T_78c2a_row0_col2\" class=\"data row0 col2\" >-0.549813</td>\n",
       "      <td id=\"T_78c2a_row0_col3\" class=\"data row0 col3\" >0.323810</td>\n",
       "      <td id=\"T_78c2a_row0_col4\" class=\"data row0 col4\" >0.257273</td>\n",
       "    </tr>\n",
       "    <tr>\n",
       "      <th id=\"T_78c2a_level0_row1\" class=\"row_heading level0 row1\" >5</th>\n",
       "      <td id=\"T_78c2a_row1_col0\" class=\"data row1 col0\" >petal length (cm) <= 4.85</td>\n",
       "      <td id=\"T_78c2a_row1_col1\" class=\"data row1 col1\" >rule</td>\n",
       "      <td id=\"T_78c2a_row1_col2\" class=\"data row1 col2\" >-0.311917</td>\n",
       "      <td id=\"T_78c2a_row1_col3\" class=\"data row1 col3\" >0.609524</td>\n",
       "      <td id=\"T_78c2a_row1_col4\" class=\"data row1 col4\" >0.152171</td>\n",
       "    </tr>\n",
       "    <tr>\n",
       "      <th id=\"T_78c2a_level0_row2\" class=\"row_heading level0 row2\" >9</th>\n",
       "      <td id=\"T_78c2a_row2_col0\" class=\"data row2 col0\" >petal width (cm) <= 1.55</td>\n",
       "      <td id=\"T_78c2a_row2_col1\" class=\"data row2 col1\" >rule</td>\n",
       "      <td id=\"T_78c2a_row2_col2\" class=\"data row2 col2\" >-0.145908</td>\n",
       "      <td id=\"T_78c2a_row2_col3\" class=\"data row2 col3\" >0.619048</td>\n",
       "      <td id=\"T_78c2a_row2_col4\" class=\"data row2 col4\" >0.070856</td>\n",
       "    </tr>\n",
       "    <tr>\n",
       "      <th id=\"T_78c2a_level0_row3\" class=\"row_heading level0 row3\" >8</th>\n",
       "      <td id=\"T_78c2a_row3_col0\" class=\"data row3 col0\" >petal width (cm) <= 1.45</td>\n",
       "      <td id=\"T_78c2a_row3_col1\" class=\"data row3 col1\" >rule</td>\n",
       "      <td id=\"T_78c2a_row3_col2\" class=\"data row3 col2\" >-0.112854</td>\n",
       "      <td id=\"T_78c2a_row3_col3\" class=\"data row3 col3\" >0.561905</td>\n",
       "      <td id=\"T_78c2a_row3_col4\" class=\"data row3 col4\" >0.055993</td>\n",
       "    </tr>\n",
       "    <tr>\n",
       "      <th id=\"T_78c2a_level0_row4\" class=\"row_heading level0 row4\" >7</th>\n",
       "      <td id=\"T_78c2a_row4_col0\" class=\"data row4 col0\" >petal length (cm) <= 2.7</td>\n",
       "      <td id=\"T_78c2a_row4_col1\" class=\"data row4 col1\" >rule</td>\n",
       "      <td id=\"T_78c2a_row4_col2\" class=\"data row4 col2\" >-0.041842</td>\n",
       "      <td id=\"T_78c2a_row4_col3\" class=\"data row4 col3\" >0.323810</td>\n",
       "      <td id=\"T_78c2a_row4_col4\" class=\"data row4 col4\" >0.019579</td>\n",
       "    </tr>\n",
       "    <tr>\n",
       "      <th id=\"T_78c2a_level0_row5\" class=\"row_heading level0 row5\" >6</th>\n",
       "      <td id=\"T_78c2a_row5_col0\" class=\"data row5 col0\" >petal length (cm) <= 4.95</td>\n",
       "      <td id=\"T_78c2a_row5_col1\" class=\"data row5 col1\" >rule</td>\n",
       "      <td id=\"T_78c2a_row5_col2\" class=\"data row5 col2\" >-0.033513</td>\n",
       "      <td id=\"T_78c2a_row5_col3\" class=\"data row5 col3\" >0.647619</td>\n",
       "      <td id=\"T_78c2a_row5_col4\" class=\"data row5 col4\" >0.016010</td>\n",
       "    </tr>\n",
       "    <tr>\n",
       "      <th id=\"T_78c2a_level0_row6\" class=\"row_heading level0 row6\" >12</th>\n",
       "      <td id=\"T_78c2a_row6_col0\" class=\"data row6 col0\" >petal length (cm) > 4.8 and petal width (cm) > 0.7</td>\n",
       "      <td id=\"T_78c2a_row6_col1\" class=\"data row6 col1\" >rule</td>\n",
       "      <td id=\"T_78c2a_row6_col2\" class=\"data row6 col2\" >0.002171</td>\n",
       "      <td id=\"T_78c2a_row6_col3\" class=\"data row6 col3\" >0.390476</td>\n",
       "      <td id=\"T_78c2a_row6_col4\" class=\"data row6 col4\" >0.001059</td>\n",
       "    </tr>\n",
       "    <tr>\n",
       "      <th id=\"T_78c2a_level0_row7\" class=\"row_heading level0 row7\" >11</th>\n",
       "      <td id=\"T_78c2a_row7_col0\" class=\"data row7 col0\" >petal width (cm) > 0.75</td>\n",
       "      <td id=\"T_78c2a_row7_col1\" class=\"data row7 col1\" >rule</td>\n",
       "      <td id=\"T_78c2a_row7_col2\" class=\"data row7 col2\" >0.000716</td>\n",
       "      <td id=\"T_78c2a_row7_col3\" class=\"data row7 col3\" >0.676190</td>\n",
       "      <td id=\"T_78c2a_row7_col4\" class=\"data row7 col4\" >0.000335</td>\n",
       "    </tr>\n",
       "    <tr>\n",
       "      <th id=\"T_78c2a_level0_row8\" class=\"row_heading level0 row8\" >10</th>\n",
       "      <td id=\"T_78c2a_row8_col0\" class=\"data row8 col0\" >petal length (cm) <= 4.4</td>\n",
       "      <td id=\"T_78c2a_row8_col1\" class=\"data row8 col1\" >rule</td>\n",
       "      <td id=\"T_78c2a_row8_col2\" class=\"data row8 col2\" >-0.000002</td>\n",
       "      <td id=\"T_78c2a_row8_col3\" class=\"data row8 col3\" >0.523810</td>\n",
       "      <td id=\"T_78c2a_row8_col4\" class=\"data row8 col4\" >0.000001</td>\n",
       "    </tr>\n",
       "  </tbody>\n",
       "</table>\n"
      ],
      "text/plain": [
       "<pandas.io.formats.style.Styler at 0x244f5aaaac0>"
      ]
     },
     "execution_count": 130,
     "metadata": {},
     "output_type": "execute_result"
    }
   ],
   "source": [
    "from sklearn import metrics\n",
    "\n",
    "preds = rulefit.predict(iris.test_x)\n",
    "print(f'test r2: {metrics.r2_score(iris.test_y, preds):0.3f}')\n",
    "\n",
    "rules = rulefit._get_rules()\n",
    "rules = rules[rules.coef != 0].sort_values(\"importance\", ascending=False)\n",
    "\n",
    "# 'rule'\n",
    "# 'coef' weight of the decision\n",
    "# 'support' coverage\n",
    "# 'importance' importance of the rule\n",
    "rules.style.background_gradient(cmap='viridis')"
   ]
  },
  {
   "cell_type": "markdown",
   "id": "73235388-e1c3-4a87-bb8c-a994846d7861",
   "metadata": {},
   "source": [
    "# Other Popular Models"
   ]
  },
  {
   "cell_type": "markdown",
   "id": "578c2f65-603f-48b1-b3e7-974738cf701e",
   "metadata": {},
   "source": [
    "## Näive Bayes Classifier"
   ]
  },
  {
   "cell_type": "markdown",
   "id": "5a34f3bf-80ce-4798-8413-17b393561910",
   "metadata": {},
   "source": [
    "## k-NN Classifier"
   ]
  }
 ],
 "metadata": {
  "kernelspec": {
   "display_name": "Python 3 (ipykernel)",
   "language": "python",
   "name": "python3"
  },
  "language_info": {
   "codemirror_mode": {
    "name": "ipython",
    "version": 3
   },
   "file_extension": ".py",
   "mimetype": "text/x-python",
   "name": "python",
   "nbconvert_exporter": "python",
   "pygments_lexer": "ipython3",
   "version": "3.8.15"
  }
 },
 "nbformat": 4,
 "nbformat_minor": 5
}
