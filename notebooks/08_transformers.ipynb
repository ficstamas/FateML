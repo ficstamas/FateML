{
 "nbformat": 4,
 "nbformat_minor": 0,
 "metadata": {
  "colab": {
   "provenance": []
  },
  "kernelspec": {
   "name": "python3",
   "display_name": "Python 3"
  },
  "language_info": {
   "name": "python"
  },
  "accelerator": "GPU",
  "gpuClass": "standard",
  "widgets": {
   "application/vnd.jupyter.widget-state+json": {
    "f60f8781f141435194d84ebb08181c92": {
     "model_module": "@jupyter-widgets/controls",
     "model_name": "HBoxModel",
     "model_module_version": "1.5.0",
     "state": {
      "_dom_classes": [],
      "_model_module": "@jupyter-widgets/controls",
      "_model_module_version": "1.5.0",
      "_model_name": "HBoxModel",
      "_view_count": null,
      "_view_module": "@jupyter-widgets/controls",
      "_view_module_version": "1.5.0",
      "_view_name": "HBoxView",
      "box_style": "",
      "children": [
       "IPY_MODEL_736996839d0c46828d5437936ef4eef7",
       "IPY_MODEL_8a15fe23eb9543a49a8ab4a951ff1c80",
       "IPY_MODEL_dc13060fb9194cf1bba4d00f07e39f49"
      ],
      "layout": "IPY_MODEL_1de84320d51a4d95be577229f4b84c9d"
     }
    },
    "736996839d0c46828d5437936ef4eef7": {
     "model_module": "@jupyter-widgets/controls",
     "model_name": "HTMLModel",
     "model_module_version": "1.5.0",
     "state": {
      "_dom_classes": [],
      "_model_module": "@jupyter-widgets/controls",
      "_model_module_version": "1.5.0",
      "_model_name": "HTMLModel",
      "_view_count": null,
      "_view_module": "@jupyter-widgets/controls",
      "_view_module_version": "1.5.0",
      "_view_name": "HTMLView",
      "description": "",
      "description_tooltip": null,
      "layout": "IPY_MODEL_a71db39163a14cf78926a0313e27fc18",
      "placeholder": "​",
      "style": "IPY_MODEL_e8428fab3e3245879016782c28444197",
      "value": "100%"
     }
    },
    "8a15fe23eb9543a49a8ab4a951ff1c80": {
     "model_module": "@jupyter-widgets/controls",
     "model_name": "FloatProgressModel",
     "model_module_version": "1.5.0",
     "state": {
      "_dom_classes": [],
      "_model_module": "@jupyter-widgets/controls",
      "_model_module_version": "1.5.0",
      "_model_name": "FloatProgressModel",
      "_view_count": null,
      "_view_module": "@jupyter-widgets/controls",
      "_view_module_version": "1.5.0",
      "_view_name": "ProgressView",
      "bar_style": "success",
      "description": "",
      "description_tooltip": null,
      "layout": "IPY_MODEL_457e23638c344ad4a526092d55478d9a",
      "max": 3,
      "min": 0,
      "orientation": "horizontal",
      "style": "IPY_MODEL_cc638122add141e19d87ffd6384a840e",
      "value": 3
     }
    },
    "dc13060fb9194cf1bba4d00f07e39f49": {
     "model_module": "@jupyter-widgets/controls",
     "model_name": "HTMLModel",
     "model_module_version": "1.5.0",
     "state": {
      "_dom_classes": [],
      "_model_module": "@jupyter-widgets/controls",
      "_model_module_version": "1.5.0",
      "_model_name": "HTMLModel",
      "_view_count": null,
      "_view_module": "@jupyter-widgets/controls",
      "_view_module_version": "1.5.0",
      "_view_name": "HTMLView",
      "description": "",
      "description_tooltip": null,
      "layout": "IPY_MODEL_145fe487a0c04085bbb46c2bf942b522",
      "placeholder": "​",
      "style": "IPY_MODEL_80e958ea6160447b90b0dcaace975551",
      "value": " 3/3 [00:00&lt;00:00, 114.22it/s]"
     }
    },
    "1de84320d51a4d95be577229f4b84c9d": {
     "model_module": "@jupyter-widgets/base",
     "model_name": "LayoutModel",
     "model_module_version": "1.2.0",
     "state": {
      "_model_module": "@jupyter-widgets/base",
      "_model_module_version": "1.2.0",
      "_model_name": "LayoutModel",
      "_view_count": null,
      "_view_module": "@jupyter-widgets/base",
      "_view_module_version": "1.2.0",
      "_view_name": "LayoutView",
      "align_content": null,
      "align_items": null,
      "align_self": null,
      "border": null,
      "bottom": null,
      "display": null,
      "flex": null,
      "flex_flow": null,
      "grid_area": null,
      "grid_auto_columns": null,
      "grid_auto_flow": null,
      "grid_auto_rows": null,
      "grid_column": null,
      "grid_gap": null,
      "grid_row": null,
      "grid_template_areas": null,
      "grid_template_columns": null,
      "grid_template_rows": null,
      "height": null,
      "justify_content": null,
      "justify_items": null,
      "left": null,
      "margin": null,
      "max_height": null,
      "max_width": null,
      "min_height": null,
      "min_width": null,
      "object_fit": null,
      "object_position": null,
      "order": null,
      "overflow": null,
      "overflow_x": null,
      "overflow_y": null,
      "padding": null,
      "right": null,
      "top": null,
      "visibility": null,
      "width": null
     }
    },
    "a71db39163a14cf78926a0313e27fc18": {
     "model_module": "@jupyter-widgets/base",
     "model_name": "LayoutModel",
     "model_module_version": "1.2.0",
     "state": {
      "_model_module": "@jupyter-widgets/base",
      "_model_module_version": "1.2.0",
      "_model_name": "LayoutModel",
      "_view_count": null,
      "_view_module": "@jupyter-widgets/base",
      "_view_module_version": "1.2.0",
      "_view_name": "LayoutView",
      "align_content": null,
      "align_items": null,
      "align_self": null,
      "border": null,
      "bottom": null,
      "display": null,
      "flex": null,
      "flex_flow": null,
      "grid_area": null,
      "grid_auto_columns": null,
      "grid_auto_flow": null,
      "grid_auto_rows": null,
      "grid_column": null,
      "grid_gap": null,
      "grid_row": null,
      "grid_template_areas": null,
      "grid_template_columns": null,
      "grid_template_rows": null,
      "height": null,
      "justify_content": null,
      "justify_items": null,
      "left": null,
      "margin": null,
      "max_height": null,
      "max_width": null,
      "min_height": null,
      "min_width": null,
      "object_fit": null,
      "object_position": null,
      "order": null,
      "overflow": null,
      "overflow_x": null,
      "overflow_y": null,
      "padding": null,
      "right": null,
      "top": null,
      "visibility": null,
      "width": null
     }
    },
    "e8428fab3e3245879016782c28444197": {
     "model_module": "@jupyter-widgets/controls",
     "model_name": "DescriptionStyleModel",
     "model_module_version": "1.5.0",
     "state": {
      "_model_module": "@jupyter-widgets/controls",
      "_model_module_version": "1.5.0",
      "_model_name": "DescriptionStyleModel",
      "_view_count": null,
      "_view_module": "@jupyter-widgets/base",
      "_view_module_version": "1.2.0",
      "_view_name": "StyleView",
      "description_width": ""
     }
    },
    "457e23638c344ad4a526092d55478d9a": {
     "model_module": "@jupyter-widgets/base",
     "model_name": "LayoutModel",
     "model_module_version": "1.2.0",
     "state": {
      "_model_module": "@jupyter-widgets/base",
      "_model_module_version": "1.2.0",
      "_model_name": "LayoutModel",
      "_view_count": null,
      "_view_module": "@jupyter-widgets/base",
      "_view_module_version": "1.2.0",
      "_view_name": "LayoutView",
      "align_content": null,
      "align_items": null,
      "align_self": null,
      "border": null,
      "bottom": null,
      "display": null,
      "flex": null,
      "flex_flow": null,
      "grid_area": null,
      "grid_auto_columns": null,
      "grid_auto_flow": null,
      "grid_auto_rows": null,
      "grid_column": null,
      "grid_gap": null,
      "grid_row": null,
      "grid_template_areas": null,
      "grid_template_columns": null,
      "grid_template_rows": null,
      "height": null,
      "justify_content": null,
      "justify_items": null,
      "left": null,
      "margin": null,
      "max_height": null,
      "max_width": null,
      "min_height": null,
      "min_width": null,
      "object_fit": null,
      "object_position": null,
      "order": null,
      "overflow": null,
      "overflow_x": null,
      "overflow_y": null,
      "padding": null,
      "right": null,
      "top": null,
      "visibility": null,
      "width": null
     }
    },
    "cc638122add141e19d87ffd6384a840e": {
     "model_module": "@jupyter-widgets/controls",
     "model_name": "ProgressStyleModel",
     "model_module_version": "1.5.0",
     "state": {
      "_model_module": "@jupyter-widgets/controls",
      "_model_module_version": "1.5.0",
      "_model_name": "ProgressStyleModel",
      "_view_count": null,
      "_view_module": "@jupyter-widgets/base",
      "_view_module_version": "1.2.0",
      "_view_name": "StyleView",
      "bar_color": null,
      "description_width": ""
     }
    },
    "145fe487a0c04085bbb46c2bf942b522": {
     "model_module": "@jupyter-widgets/base",
     "model_name": "LayoutModel",
     "model_module_version": "1.2.0",
     "state": {
      "_model_module": "@jupyter-widgets/base",
      "_model_module_version": "1.2.0",
      "_model_name": "LayoutModel",
      "_view_count": null,
      "_view_module": "@jupyter-widgets/base",
      "_view_module_version": "1.2.0",
      "_view_name": "LayoutView",
      "align_content": null,
      "align_items": null,
      "align_self": null,
      "border": null,
      "bottom": null,
      "display": null,
      "flex": null,
      "flex_flow": null,
      "grid_area": null,
      "grid_auto_columns": null,
      "grid_auto_flow": null,
      "grid_auto_rows": null,
      "grid_column": null,
      "grid_gap": null,
      "grid_row": null,
      "grid_template_areas": null,
      "grid_template_columns": null,
      "grid_template_rows": null,
      "height": null,
      "justify_content": null,
      "justify_items": null,
      "left": null,
      "margin": null,
      "max_height": null,
      "max_width": null,
      "min_height": null,
      "min_width": null,
      "object_fit": null,
      "object_position": null,
      "order": null,
      "overflow": null,
      "overflow_x": null,
      "overflow_y": null,
      "padding": null,
      "right": null,
      "top": null,
      "visibility": null,
      "width": null
     }
    },
    "80e958ea6160447b90b0dcaace975551": {
     "model_module": "@jupyter-widgets/controls",
     "model_name": "DescriptionStyleModel",
     "model_module_version": "1.5.0",
     "state": {
      "_model_module": "@jupyter-widgets/controls",
      "_model_module_version": "1.5.0",
      "_model_name": "DescriptionStyleModel",
      "_view_count": null,
      "_view_module": "@jupyter-widgets/base",
      "_view_module_version": "1.2.0",
      "_view_name": "StyleView",
      "description_width": ""
     }
    },
    "bc0f8bb89d1f4b2580f282aba125c780": {
     "model_module": "@jupyter-widgets/controls",
     "model_name": "HBoxModel",
     "model_module_version": "1.5.0",
     "state": {
      "_dom_classes": [],
      "_model_module": "@jupyter-widgets/controls",
      "_model_module_version": "1.5.0",
      "_model_name": "HBoxModel",
      "_view_count": null,
      "_view_module": "@jupyter-widgets/controls",
      "_view_module_version": "1.5.0",
      "_view_name": "HBoxView",
      "box_style": "",
      "children": [
       "IPY_MODEL_4ff0bdb20d9f420c965016c37a382595",
       "IPY_MODEL_38095cab88564ab79df9df9e25d437b9",
       "IPY_MODEL_c2b393c6cf6442acaa318edd2386e112"
      ],
      "layout": "IPY_MODEL_1ab202f60a9340c5a3bba8b67b0273db"
     }
    },
    "4ff0bdb20d9f420c965016c37a382595": {
     "model_module": "@jupyter-widgets/controls",
     "model_name": "HTMLModel",
     "model_module_version": "1.5.0",
     "state": {
      "_dom_classes": [],
      "_model_module": "@jupyter-widgets/controls",
      "_model_module_version": "1.5.0",
      "_model_name": "HTMLModel",
      "_view_count": null,
      "_view_module": "@jupyter-widgets/controls",
      "_view_module_version": "1.5.0",
      "_view_name": "HTMLView",
      "description": "",
      "description_tooltip": null,
      "layout": "IPY_MODEL_67d21f66d5384c3db9142316bb8228f7",
      "placeholder": "​",
      "style": "IPY_MODEL_8d069a0e18f84dd8bb71a14c0763efdd",
      "value": "Downloading (…)okenizer_config.json: 100%"
     }
    },
    "38095cab88564ab79df9df9e25d437b9": {
     "model_module": "@jupyter-widgets/controls",
     "model_name": "FloatProgressModel",
     "model_module_version": "1.5.0",
     "state": {
      "_dom_classes": [],
      "_model_module": "@jupyter-widgets/controls",
      "_model_module_version": "1.5.0",
      "_model_name": "FloatProgressModel",
      "_view_count": null,
      "_view_module": "@jupyter-widgets/controls",
      "_view_module_version": "1.5.0",
      "_view_name": "ProgressView",
      "bar_style": "success",
      "description": "",
      "description_tooltip": null,
      "layout": "IPY_MODEL_09ce5617a74b4452a48d1345b73ec2b1",
      "max": 303,
      "min": 0,
      "orientation": "horizontal",
      "style": "IPY_MODEL_1dcace0753d4422f82c8c174de35708b",
      "value": 303
     }
    },
    "c2b393c6cf6442acaa318edd2386e112": {
     "model_module": "@jupyter-widgets/controls",
     "model_name": "HTMLModel",
     "model_module_version": "1.5.0",
     "state": {
      "_dom_classes": [],
      "_model_module": "@jupyter-widgets/controls",
      "_model_module_version": "1.5.0",
      "_model_name": "HTMLModel",
      "_view_count": null,
      "_view_module": "@jupyter-widgets/controls",
      "_view_module_version": "1.5.0",
      "_view_name": "HTMLView",
      "description": "",
      "description_tooltip": null,
      "layout": "IPY_MODEL_0948522b828d4bd986fb04ee23013e8f",
      "placeholder": "​",
      "style": "IPY_MODEL_e15f8f45d609427a94054cdd9cf6751b",
      "value": " 303/303 [00:00&lt;00:00, 9.09kB/s]"
     }
    },
    "1ab202f60a9340c5a3bba8b67b0273db": {
     "model_module": "@jupyter-widgets/base",
     "model_name": "LayoutModel",
     "model_module_version": "1.2.0",
     "state": {
      "_model_module": "@jupyter-widgets/base",
      "_model_module_version": "1.2.0",
      "_model_name": "LayoutModel",
      "_view_count": null,
      "_view_module": "@jupyter-widgets/base",
      "_view_module_version": "1.2.0",
      "_view_name": "LayoutView",
      "align_content": null,
      "align_items": null,
      "align_self": null,
      "border": null,
      "bottom": null,
      "display": null,
      "flex": null,
      "flex_flow": null,
      "grid_area": null,
      "grid_auto_columns": null,
      "grid_auto_flow": null,
      "grid_auto_rows": null,
      "grid_column": null,
      "grid_gap": null,
      "grid_row": null,
      "grid_template_areas": null,
      "grid_template_columns": null,
      "grid_template_rows": null,
      "height": null,
      "justify_content": null,
      "justify_items": null,
      "left": null,
      "margin": null,
      "max_height": null,
      "max_width": null,
      "min_height": null,
      "min_width": null,
      "object_fit": null,
      "object_position": null,
      "order": null,
      "overflow": null,
      "overflow_x": null,
      "overflow_y": null,
      "padding": null,
      "right": null,
      "top": null,
      "visibility": null,
      "width": null
     }
    },
    "67d21f66d5384c3db9142316bb8228f7": {
     "model_module": "@jupyter-widgets/base",
     "model_name": "LayoutModel",
     "model_module_version": "1.2.0",
     "state": {
      "_model_module": "@jupyter-widgets/base",
      "_model_module_version": "1.2.0",
      "_model_name": "LayoutModel",
      "_view_count": null,
      "_view_module": "@jupyter-widgets/base",
      "_view_module_version": "1.2.0",
      "_view_name": "LayoutView",
      "align_content": null,
      "align_items": null,
      "align_self": null,
      "border": null,
      "bottom": null,
      "display": null,
      "flex": null,
      "flex_flow": null,
      "grid_area": null,
      "grid_auto_columns": null,
      "grid_auto_flow": null,
      "grid_auto_rows": null,
      "grid_column": null,
      "grid_gap": null,
      "grid_row": null,
      "grid_template_areas": null,
      "grid_template_columns": null,
      "grid_template_rows": null,
      "height": null,
      "justify_content": null,
      "justify_items": null,
      "left": null,
      "margin": null,
      "max_height": null,
      "max_width": null,
      "min_height": null,
      "min_width": null,
      "object_fit": null,
      "object_position": null,
      "order": null,
      "overflow": null,
      "overflow_x": null,
      "overflow_y": null,
      "padding": null,
      "right": null,
      "top": null,
      "visibility": null,
      "width": null
     }
    },
    "8d069a0e18f84dd8bb71a14c0763efdd": {
     "model_module": "@jupyter-widgets/controls",
     "model_name": "DescriptionStyleModel",
     "model_module_version": "1.5.0",
     "state": {
      "_model_module": "@jupyter-widgets/controls",
      "_model_module_version": "1.5.0",
      "_model_name": "DescriptionStyleModel",
      "_view_count": null,
      "_view_module": "@jupyter-widgets/base",
      "_view_module_version": "1.2.0",
      "_view_name": "StyleView",
      "description_width": ""
     }
    },
    "09ce5617a74b4452a48d1345b73ec2b1": {
     "model_module": "@jupyter-widgets/base",
     "model_name": "LayoutModel",
     "model_module_version": "1.2.0",
     "state": {
      "_model_module": "@jupyter-widgets/base",
      "_model_module_version": "1.2.0",
      "_model_name": "LayoutModel",
      "_view_count": null,
      "_view_module": "@jupyter-widgets/base",
      "_view_module_version": "1.2.0",
      "_view_name": "LayoutView",
      "align_content": null,
      "align_items": null,
      "align_self": null,
      "border": null,
      "bottom": null,
      "display": null,
      "flex": null,
      "flex_flow": null,
      "grid_area": null,
      "grid_auto_columns": null,
      "grid_auto_flow": null,
      "grid_auto_rows": null,
      "grid_column": null,
      "grid_gap": null,
      "grid_row": null,
      "grid_template_areas": null,
      "grid_template_columns": null,
      "grid_template_rows": null,
      "height": null,
      "justify_content": null,
      "justify_items": null,
      "left": null,
      "margin": null,
      "max_height": null,
      "max_width": null,
      "min_height": null,
      "min_width": null,
      "object_fit": null,
      "object_position": null,
      "order": null,
      "overflow": null,
      "overflow_x": null,
      "overflow_y": null,
      "padding": null,
      "right": null,
      "top": null,
      "visibility": null,
      "width": null
     }
    },
    "1dcace0753d4422f82c8c174de35708b": {
     "model_module": "@jupyter-widgets/controls",
     "model_name": "ProgressStyleModel",
     "model_module_version": "1.5.0",
     "state": {
      "_model_module": "@jupyter-widgets/controls",
      "_model_module_version": "1.5.0",
      "_model_name": "ProgressStyleModel",
      "_view_count": null,
      "_view_module": "@jupyter-widgets/base",
      "_view_module_version": "1.2.0",
      "_view_name": "StyleView",
      "bar_color": null,
      "description_width": ""
     }
    },
    "0948522b828d4bd986fb04ee23013e8f": {
     "model_module": "@jupyter-widgets/base",
     "model_name": "LayoutModel",
     "model_module_version": "1.2.0",
     "state": {
      "_model_module": "@jupyter-widgets/base",
      "_model_module_version": "1.2.0",
      "_model_name": "LayoutModel",
      "_view_count": null,
      "_view_module": "@jupyter-widgets/base",
      "_view_module_version": "1.2.0",
      "_view_name": "LayoutView",
      "align_content": null,
      "align_items": null,
      "align_self": null,
      "border": null,
      "bottom": null,
      "display": null,
      "flex": null,
      "flex_flow": null,
      "grid_area": null,
      "grid_auto_columns": null,
      "grid_auto_flow": null,
      "grid_auto_rows": null,
      "grid_column": null,
      "grid_gap": null,
      "grid_row": null,
      "grid_template_areas": null,
      "grid_template_columns": null,
      "grid_template_rows": null,
      "height": null,
      "justify_content": null,
      "justify_items": null,
      "left": null,
      "margin": null,
      "max_height": null,
      "max_width": null,
      "min_height": null,
      "min_width": null,
      "object_fit": null,
      "object_position": null,
      "order": null,
      "overflow": null,
      "overflow_x": null,
      "overflow_y": null,
      "padding": null,
      "right": null,
      "top": null,
      "visibility": null,
      "width": null
     }
    },
    "e15f8f45d609427a94054cdd9cf6751b": {
     "model_module": "@jupyter-widgets/controls",
     "model_name": "DescriptionStyleModel",
     "model_module_version": "1.5.0",
     "state": {
      "_model_module": "@jupyter-widgets/controls",
      "_model_module_version": "1.5.0",
      "_model_name": "DescriptionStyleModel",
      "_view_count": null,
      "_view_module": "@jupyter-widgets/base",
      "_view_module_version": "1.2.0",
      "_view_name": "StyleView",
      "description_width": ""
     }
    },
    "38361e29d35241d8af087396dd9da75f": {
     "model_module": "@jupyter-widgets/controls",
     "model_name": "HBoxModel",
     "model_module_version": "1.5.0",
     "state": {
      "_dom_classes": [],
      "_model_module": "@jupyter-widgets/controls",
      "_model_module_version": "1.5.0",
      "_model_name": "HBoxModel",
      "_view_count": null,
      "_view_module": "@jupyter-widgets/controls",
      "_view_module_version": "1.5.0",
      "_view_name": "HBoxView",
      "box_style": "",
      "children": [
       "IPY_MODEL_a0f6405732e843668337e905196e0847",
       "IPY_MODEL_b90cfc61f1a9434fb30a218884eef2b6",
       "IPY_MODEL_ca26542a195e494eb6ccd2458a4cb857"
      ],
      "layout": "IPY_MODEL_4e236be494f445f5a1850a05d6bf6847"
     }
    },
    "a0f6405732e843668337e905196e0847": {
     "model_module": "@jupyter-widgets/controls",
     "model_name": "HTMLModel",
     "model_module_version": "1.5.0",
     "state": {
      "_dom_classes": [],
      "_model_module": "@jupyter-widgets/controls",
      "_model_module_version": "1.5.0",
      "_model_name": "HTMLModel",
      "_view_count": null,
      "_view_module": "@jupyter-widgets/controls",
      "_view_module_version": "1.5.0",
      "_view_name": "HTMLView",
      "description": "",
      "description_tooltip": null,
      "layout": "IPY_MODEL_c6e17a07dd1145f984f56da6e9c68181",
      "placeholder": "​",
      "style": "IPY_MODEL_90ff51cdb8a8497e9a24b79f79e247c7",
      "value": "Downloading (…)solve/main/vocab.txt: 100%"
     }
    },
    "b90cfc61f1a9434fb30a218884eef2b6": {
     "model_module": "@jupyter-widgets/controls",
     "model_name": "FloatProgressModel",
     "model_module_version": "1.5.0",
     "state": {
      "_dom_classes": [],
      "_model_module": "@jupyter-widgets/controls",
      "_model_module_version": "1.5.0",
      "_model_name": "FloatProgressModel",
      "_view_count": null,
      "_view_module": "@jupyter-widgets/controls",
      "_view_module_version": "1.5.0",
      "_view_name": "ProgressView",
      "bar_style": "success",
      "description": "",
      "description_tooltip": null,
      "layout": "IPY_MODEL_b18e7b5de00d4ae9ae5d71b03ae48bac",
      "max": 231508,
      "min": 0,
      "orientation": "horizontal",
      "style": "IPY_MODEL_6aab4347a43d4ae6bec58782ba63db70",
      "value": 231508
     }
    },
    "ca26542a195e494eb6ccd2458a4cb857": {
     "model_module": "@jupyter-widgets/controls",
     "model_name": "HTMLModel",
     "model_module_version": "1.5.0",
     "state": {
      "_dom_classes": [],
      "_model_module": "@jupyter-widgets/controls",
      "_model_module_version": "1.5.0",
      "_model_name": "HTMLModel",
      "_view_count": null,
      "_view_module": "@jupyter-widgets/controls",
      "_view_module_version": "1.5.0",
      "_view_name": "HTMLView",
      "description": "",
      "description_tooltip": null,
      "layout": "IPY_MODEL_3022f1482eaa4219bef1a2fcf4208138",
      "placeholder": "​",
      "style": "IPY_MODEL_7b349ff78d2143d2964984501ea6add8",
      "value": " 232k/232k [00:00&lt;00:00, 1.90MB/s]"
     }
    },
    "4e236be494f445f5a1850a05d6bf6847": {
     "model_module": "@jupyter-widgets/base",
     "model_name": "LayoutModel",
     "model_module_version": "1.2.0",
     "state": {
      "_model_module": "@jupyter-widgets/base",
      "_model_module_version": "1.2.0",
      "_model_name": "LayoutModel",
      "_view_count": null,
      "_view_module": "@jupyter-widgets/base",
      "_view_module_version": "1.2.0",
      "_view_name": "LayoutView",
      "align_content": null,
      "align_items": null,
      "align_self": null,
      "border": null,
      "bottom": null,
      "display": null,
      "flex": null,
      "flex_flow": null,
      "grid_area": null,
      "grid_auto_columns": null,
      "grid_auto_flow": null,
      "grid_auto_rows": null,
      "grid_column": null,
      "grid_gap": null,
      "grid_row": null,
      "grid_template_areas": null,
      "grid_template_columns": null,
      "grid_template_rows": null,
      "height": null,
      "justify_content": null,
      "justify_items": null,
      "left": null,
      "margin": null,
      "max_height": null,
      "max_width": null,
      "min_height": null,
      "min_width": null,
      "object_fit": null,
      "object_position": null,
      "order": null,
      "overflow": null,
      "overflow_x": null,
      "overflow_y": null,
      "padding": null,
      "right": null,
      "top": null,
      "visibility": null,
      "width": null
     }
    },
    "c6e17a07dd1145f984f56da6e9c68181": {
     "model_module": "@jupyter-widgets/base",
     "model_name": "LayoutModel",
     "model_module_version": "1.2.0",
     "state": {
      "_model_module": "@jupyter-widgets/base",
      "_model_module_version": "1.2.0",
      "_model_name": "LayoutModel",
      "_view_count": null,
      "_view_module": "@jupyter-widgets/base",
      "_view_module_version": "1.2.0",
      "_view_name": "LayoutView",
      "align_content": null,
      "align_items": null,
      "align_self": null,
      "border": null,
      "bottom": null,
      "display": null,
      "flex": null,
      "flex_flow": null,
      "grid_area": null,
      "grid_auto_columns": null,
      "grid_auto_flow": null,
      "grid_auto_rows": null,
      "grid_column": null,
      "grid_gap": null,
      "grid_row": null,
      "grid_template_areas": null,
      "grid_template_columns": null,
      "grid_template_rows": null,
      "height": null,
      "justify_content": null,
      "justify_items": null,
      "left": null,
      "margin": null,
      "max_height": null,
      "max_width": null,
      "min_height": null,
      "min_width": null,
      "object_fit": null,
      "object_position": null,
      "order": null,
      "overflow": null,
      "overflow_x": null,
      "overflow_y": null,
      "padding": null,
      "right": null,
      "top": null,
      "visibility": null,
      "width": null
     }
    },
    "90ff51cdb8a8497e9a24b79f79e247c7": {
     "model_module": "@jupyter-widgets/controls",
     "model_name": "DescriptionStyleModel",
     "model_module_version": "1.5.0",
     "state": {
      "_model_module": "@jupyter-widgets/controls",
      "_model_module_version": "1.5.0",
      "_model_name": "DescriptionStyleModel",
      "_view_count": null,
      "_view_module": "@jupyter-widgets/base",
      "_view_module_version": "1.2.0",
      "_view_name": "StyleView",
      "description_width": ""
     }
    },
    "b18e7b5de00d4ae9ae5d71b03ae48bac": {
     "model_module": "@jupyter-widgets/base",
     "model_name": "LayoutModel",
     "model_module_version": "1.2.0",
     "state": {
      "_model_module": "@jupyter-widgets/base",
      "_model_module_version": "1.2.0",
      "_model_name": "LayoutModel",
      "_view_count": null,
      "_view_module": "@jupyter-widgets/base",
      "_view_module_version": "1.2.0",
      "_view_name": "LayoutView",
      "align_content": null,
      "align_items": null,
      "align_self": null,
      "border": null,
      "bottom": null,
      "display": null,
      "flex": null,
      "flex_flow": null,
      "grid_area": null,
      "grid_auto_columns": null,
      "grid_auto_flow": null,
      "grid_auto_rows": null,
      "grid_column": null,
      "grid_gap": null,
      "grid_row": null,
      "grid_template_areas": null,
      "grid_template_columns": null,
      "grid_template_rows": null,
      "height": null,
      "justify_content": null,
      "justify_items": null,
      "left": null,
      "margin": null,
      "max_height": null,
      "max_width": null,
      "min_height": null,
      "min_width": null,
      "object_fit": null,
      "object_position": null,
      "order": null,
      "overflow": null,
      "overflow_x": null,
      "overflow_y": null,
      "padding": null,
      "right": null,
      "top": null,
      "visibility": null,
      "width": null
     }
    },
    "6aab4347a43d4ae6bec58782ba63db70": {
     "model_module": "@jupyter-widgets/controls",
     "model_name": "ProgressStyleModel",
     "model_module_version": "1.5.0",
     "state": {
      "_model_module": "@jupyter-widgets/controls",
      "_model_module_version": "1.5.0",
      "_model_name": "ProgressStyleModel",
      "_view_count": null,
      "_view_module": "@jupyter-widgets/base",
      "_view_module_version": "1.2.0",
      "_view_name": "StyleView",
      "bar_color": null,
      "description_width": ""
     }
    },
    "3022f1482eaa4219bef1a2fcf4208138": {
     "model_module": "@jupyter-widgets/base",
     "model_name": "LayoutModel",
     "model_module_version": "1.2.0",
     "state": {
      "_model_module": "@jupyter-widgets/base",
      "_model_module_version": "1.2.0",
      "_model_name": "LayoutModel",
      "_view_count": null,
      "_view_module": "@jupyter-widgets/base",
      "_view_module_version": "1.2.0",
      "_view_name": "LayoutView",
      "align_content": null,
      "align_items": null,
      "align_self": null,
      "border": null,
      "bottom": null,
      "display": null,
      "flex": null,
      "flex_flow": null,
      "grid_area": null,
      "grid_auto_columns": null,
      "grid_auto_flow": null,
      "grid_auto_rows": null,
      "grid_column": null,
      "grid_gap": null,
      "grid_row": null,
      "grid_template_areas": null,
      "grid_template_columns": null,
      "grid_template_rows": null,
      "height": null,
      "justify_content": null,
      "justify_items": null,
      "left": null,
      "margin": null,
      "max_height": null,
      "max_width": null,
      "min_height": null,
      "min_width": null,
      "object_fit": null,
      "object_position": null,
      "order": null,
      "overflow": null,
      "overflow_x": null,
      "overflow_y": null,
      "padding": null,
      "right": null,
      "top": null,
      "visibility": null,
      "width": null
     }
    },
    "7b349ff78d2143d2964984501ea6add8": {
     "model_module": "@jupyter-widgets/controls",
     "model_name": "DescriptionStyleModel",
     "model_module_version": "1.5.0",
     "state": {
      "_model_module": "@jupyter-widgets/controls",
      "_model_module_version": "1.5.0",
      "_model_name": "DescriptionStyleModel",
      "_view_count": null,
      "_view_module": "@jupyter-widgets/base",
      "_view_module_version": "1.2.0",
      "_view_name": "StyleView",
      "description_width": ""
     }
    },
    "21f610e233c549fe9877965593e009df": {
     "model_module": "@jupyter-widgets/controls",
     "model_name": "HBoxModel",
     "model_module_version": "1.5.0",
     "state": {
      "_dom_classes": [],
      "_model_module": "@jupyter-widgets/controls",
      "_model_module_version": "1.5.0",
      "_model_name": "HBoxModel",
      "_view_count": null,
      "_view_module": "@jupyter-widgets/controls",
      "_view_module_version": "1.5.0",
      "_view_name": "HBoxView",
      "box_style": "",
      "children": [
       "IPY_MODEL_07d65c12faa0440b8870837c83756a91",
       "IPY_MODEL_1744803e241343b48d2aaabc6d63b355",
       "IPY_MODEL_d0865b3923c94a78a3e9411e959eba49"
      ],
      "layout": "IPY_MODEL_9cbcfc1c7a9a4084a02cab681ad414e1"
     }
    },
    "07d65c12faa0440b8870837c83756a91": {
     "model_module": "@jupyter-widgets/controls",
     "model_name": "HTMLModel",
     "model_module_version": "1.5.0",
     "state": {
      "_dom_classes": [],
      "_model_module": "@jupyter-widgets/controls",
      "_model_module_version": "1.5.0",
      "_model_name": "HTMLModel",
      "_view_count": null,
      "_view_module": "@jupyter-widgets/controls",
      "_view_module_version": "1.5.0",
      "_view_name": "HTMLView",
      "description": "",
      "description_tooltip": null,
      "layout": "IPY_MODEL_70d282779ca34f24af98f0ce246ab788",
      "placeholder": "​",
      "style": "IPY_MODEL_f04f1f184c184ca58d9d7f468b0a8cb3",
      "value": "Downloading (…)/main/tokenizer.json: 100%"
     }
    },
    "1744803e241343b48d2aaabc6d63b355": {
     "model_module": "@jupyter-widgets/controls",
     "model_name": "FloatProgressModel",
     "model_module_version": "1.5.0",
     "state": {
      "_dom_classes": [],
      "_model_module": "@jupyter-widgets/controls",
      "_model_module_version": "1.5.0",
      "_model_name": "FloatProgressModel",
      "_view_count": null,
      "_view_module": "@jupyter-widgets/controls",
      "_view_module_version": "1.5.0",
      "_view_name": "ProgressView",
      "bar_style": "success",
      "description": "",
      "description_tooltip": null,
      "layout": "IPY_MODEL_a10e60cab9be4b4dabb580ca2e96a76c",
      "max": 466132,
      "min": 0,
      "orientation": "horizontal",
      "style": "IPY_MODEL_c860494ea27d432799e138038d50c6c8",
      "value": 466132
     }
    },
    "d0865b3923c94a78a3e9411e959eba49": {
     "model_module": "@jupyter-widgets/controls",
     "model_name": "HTMLModel",
     "model_module_version": "1.5.0",
     "state": {
      "_dom_classes": [],
      "_model_module": "@jupyter-widgets/controls",
      "_model_module_version": "1.5.0",
      "_model_name": "HTMLModel",
      "_view_count": null,
      "_view_module": "@jupyter-widgets/controls",
      "_view_module_version": "1.5.0",
      "_view_name": "HTMLView",
      "description": "",
      "description_tooltip": null,
      "layout": "IPY_MODEL_16c6cc6b79344c10a917ee6ebbf3c321",
      "placeholder": "​",
      "style": "IPY_MODEL_53c751373aed4d4d8e74e44effa431a8",
      "value": " 466k/466k [00:00&lt;00:00, 2.89MB/s]"
     }
    },
    "9cbcfc1c7a9a4084a02cab681ad414e1": {
     "model_module": "@jupyter-widgets/base",
     "model_name": "LayoutModel",
     "model_module_version": "1.2.0",
     "state": {
      "_model_module": "@jupyter-widgets/base",
      "_model_module_version": "1.2.0",
      "_model_name": "LayoutModel",
      "_view_count": null,
      "_view_module": "@jupyter-widgets/base",
      "_view_module_version": "1.2.0",
      "_view_name": "LayoutView",
      "align_content": null,
      "align_items": null,
      "align_self": null,
      "border": null,
      "bottom": null,
      "display": null,
      "flex": null,
      "flex_flow": null,
      "grid_area": null,
      "grid_auto_columns": null,
      "grid_auto_flow": null,
      "grid_auto_rows": null,
      "grid_column": null,
      "grid_gap": null,
      "grid_row": null,
      "grid_template_areas": null,
      "grid_template_columns": null,
      "grid_template_rows": null,
      "height": null,
      "justify_content": null,
      "justify_items": null,
      "left": null,
      "margin": null,
      "max_height": null,
      "max_width": null,
      "min_height": null,
      "min_width": null,
      "object_fit": null,
      "object_position": null,
      "order": null,
      "overflow": null,
      "overflow_x": null,
      "overflow_y": null,
      "padding": null,
      "right": null,
      "top": null,
      "visibility": null,
      "width": null
     }
    },
    "70d282779ca34f24af98f0ce246ab788": {
     "model_module": "@jupyter-widgets/base",
     "model_name": "LayoutModel",
     "model_module_version": "1.2.0",
     "state": {
      "_model_module": "@jupyter-widgets/base",
      "_model_module_version": "1.2.0",
      "_model_name": "LayoutModel",
      "_view_count": null,
      "_view_module": "@jupyter-widgets/base",
      "_view_module_version": "1.2.0",
      "_view_name": "LayoutView",
      "align_content": null,
      "align_items": null,
      "align_self": null,
      "border": null,
      "bottom": null,
      "display": null,
      "flex": null,
      "flex_flow": null,
      "grid_area": null,
      "grid_auto_columns": null,
      "grid_auto_flow": null,
      "grid_auto_rows": null,
      "grid_column": null,
      "grid_gap": null,
      "grid_row": null,
      "grid_template_areas": null,
      "grid_template_columns": null,
      "grid_template_rows": null,
      "height": null,
      "justify_content": null,
      "justify_items": null,
      "left": null,
      "margin": null,
      "max_height": null,
      "max_width": null,
      "min_height": null,
      "min_width": null,
      "object_fit": null,
      "object_position": null,
      "order": null,
      "overflow": null,
      "overflow_x": null,
      "overflow_y": null,
      "padding": null,
      "right": null,
      "top": null,
      "visibility": null,
      "width": null
     }
    },
    "f04f1f184c184ca58d9d7f468b0a8cb3": {
     "model_module": "@jupyter-widgets/controls",
     "model_name": "DescriptionStyleModel",
     "model_module_version": "1.5.0",
     "state": {
      "_model_module": "@jupyter-widgets/controls",
      "_model_module_version": "1.5.0",
      "_model_name": "DescriptionStyleModel",
      "_view_count": null,
      "_view_module": "@jupyter-widgets/base",
      "_view_module_version": "1.2.0",
      "_view_name": "StyleView",
      "description_width": ""
     }
    },
    "a10e60cab9be4b4dabb580ca2e96a76c": {
     "model_module": "@jupyter-widgets/base",
     "model_name": "LayoutModel",
     "model_module_version": "1.2.0",
     "state": {
      "_model_module": "@jupyter-widgets/base",
      "_model_module_version": "1.2.0",
      "_model_name": "LayoutModel",
      "_view_count": null,
      "_view_module": "@jupyter-widgets/base",
      "_view_module_version": "1.2.0",
      "_view_name": "LayoutView",
      "align_content": null,
      "align_items": null,
      "align_self": null,
      "border": null,
      "bottom": null,
      "display": null,
      "flex": null,
      "flex_flow": null,
      "grid_area": null,
      "grid_auto_columns": null,
      "grid_auto_flow": null,
      "grid_auto_rows": null,
      "grid_column": null,
      "grid_gap": null,
      "grid_row": null,
      "grid_template_areas": null,
      "grid_template_columns": null,
      "grid_template_rows": null,
      "height": null,
      "justify_content": null,
      "justify_items": null,
      "left": null,
      "margin": null,
      "max_height": null,
      "max_width": null,
      "min_height": null,
      "min_width": null,
      "object_fit": null,
      "object_position": null,
      "order": null,
      "overflow": null,
      "overflow_x": null,
      "overflow_y": null,
      "padding": null,
      "right": null,
      "top": null,
      "visibility": null,
      "width": null
     }
    },
    "c860494ea27d432799e138038d50c6c8": {
     "model_module": "@jupyter-widgets/controls",
     "model_name": "ProgressStyleModel",
     "model_module_version": "1.5.0",
     "state": {
      "_model_module": "@jupyter-widgets/controls",
      "_model_module_version": "1.5.0",
      "_model_name": "ProgressStyleModel",
      "_view_count": null,
      "_view_module": "@jupyter-widgets/base",
      "_view_module_version": "1.2.0",
      "_view_name": "StyleView",
      "bar_color": null,
      "description_width": ""
     }
    },
    "16c6cc6b79344c10a917ee6ebbf3c321": {
     "model_module": "@jupyter-widgets/base",
     "model_name": "LayoutModel",
     "model_module_version": "1.2.0",
     "state": {
      "_model_module": "@jupyter-widgets/base",
      "_model_module_version": "1.2.0",
      "_model_name": "LayoutModel",
      "_view_count": null,
      "_view_module": "@jupyter-widgets/base",
      "_view_module_version": "1.2.0",
      "_view_name": "LayoutView",
      "align_content": null,
      "align_items": null,
      "align_self": null,
      "border": null,
      "bottom": null,
      "display": null,
      "flex": null,
      "flex_flow": null,
      "grid_area": null,
      "grid_auto_columns": null,
      "grid_auto_flow": null,
      "grid_auto_rows": null,
      "grid_column": null,
      "grid_gap": null,
      "grid_row": null,
      "grid_template_areas": null,
      "grid_template_columns": null,
      "grid_template_rows": null,
      "height": null,
      "justify_content": null,
      "justify_items": null,
      "left": null,
      "margin": null,
      "max_height": null,
      "max_width": null,
      "min_height": null,
      "min_width": null,
      "object_fit": null,
      "object_position": null,
      "order": null,
      "overflow": null,
      "overflow_x": null,
      "overflow_y": null,
      "padding": null,
      "right": null,
      "top": null,
      "visibility": null,
      "width": null
     }
    },
    "53c751373aed4d4d8e74e44effa431a8": {
     "model_module": "@jupyter-widgets/controls",
     "model_name": "DescriptionStyleModel",
     "model_module_version": "1.5.0",
     "state": {
      "_model_module": "@jupyter-widgets/controls",
      "_model_module_version": "1.5.0",
      "_model_name": "DescriptionStyleModel",
      "_view_count": null,
      "_view_module": "@jupyter-widgets/base",
      "_view_module_version": "1.2.0",
      "_view_name": "StyleView",
      "description_width": ""
     }
    },
    "8964168c25b74e7bab8f154a86e005fa": {
     "model_module": "@jupyter-widgets/controls",
     "model_name": "HBoxModel",
     "model_module_version": "1.5.0",
     "state": {
      "_dom_classes": [],
      "_model_module": "@jupyter-widgets/controls",
      "_model_module_version": "1.5.0",
      "_model_name": "HBoxModel",
      "_view_count": null,
      "_view_module": "@jupyter-widgets/controls",
      "_view_module_version": "1.5.0",
      "_view_name": "HBoxView",
      "box_style": "",
      "children": [
       "IPY_MODEL_3fd05e4ce5574343a1284c6ed91b4d07",
       "IPY_MODEL_4aa5b7583be541308a8f2080852f953d",
       "IPY_MODEL_24079334cbe14a91a276349570f0c2f7"
      ],
      "layout": "IPY_MODEL_2f82c820972b4371bb028636b9d541c6"
     }
    },
    "3fd05e4ce5574343a1284c6ed91b4d07": {
     "model_module": "@jupyter-widgets/controls",
     "model_name": "HTMLModel",
     "model_module_version": "1.5.0",
     "state": {
      "_dom_classes": [],
      "_model_module": "@jupyter-widgets/controls",
      "_model_module_version": "1.5.0",
      "_model_name": "HTMLModel",
      "_view_count": null,
      "_view_module": "@jupyter-widgets/controls",
      "_view_module_version": "1.5.0",
      "_view_name": "HTMLView",
      "description": "",
      "description_tooltip": null,
      "layout": "IPY_MODEL_f3ee2a50b772474eabea3e745d488169",
      "placeholder": "​",
      "style": "IPY_MODEL_f8952af1dedc4738a523a4b986f3496d",
      "value": "Downloading (…)cial_tokens_map.json: 100%"
     }
    },
    "4aa5b7583be541308a8f2080852f953d": {
     "model_module": "@jupyter-widgets/controls",
     "model_name": "FloatProgressModel",
     "model_module_version": "1.5.0",
     "state": {
      "_dom_classes": [],
      "_model_module": "@jupyter-widgets/controls",
      "_model_module_version": "1.5.0",
      "_model_name": "FloatProgressModel",
      "_view_count": null,
      "_view_module": "@jupyter-widgets/controls",
      "_view_module_version": "1.5.0",
      "_view_name": "ProgressView",
      "bar_style": "success",
      "description": "",
      "description_tooltip": null,
      "layout": "IPY_MODEL_0d680e33cba14e4d818f98ec116d3956",
      "max": 112,
      "min": 0,
      "orientation": "horizontal",
      "style": "IPY_MODEL_30f1e7d13d22456fadf07a39eda3ed17",
      "value": 112
     }
    },
    "24079334cbe14a91a276349570f0c2f7": {
     "model_module": "@jupyter-widgets/controls",
     "model_name": "HTMLModel",
     "model_module_version": "1.5.0",
     "state": {
      "_dom_classes": [],
      "_model_module": "@jupyter-widgets/controls",
      "_model_module_version": "1.5.0",
      "_model_name": "HTMLModel",
      "_view_count": null,
      "_view_module": "@jupyter-widgets/controls",
      "_view_module_version": "1.5.0",
      "_view_name": "HTMLView",
      "description": "",
      "description_tooltip": null,
      "layout": "IPY_MODEL_d0451f78664c46a5923d3e5e89721a73",
      "placeholder": "​",
      "style": "IPY_MODEL_8cb46dd259d149baa4e162f4ed111a01",
      "value": " 112/112 [00:00&lt;00:00, 3.13kB/s]"
     }
    },
    "2f82c820972b4371bb028636b9d541c6": {
     "model_module": "@jupyter-widgets/base",
     "model_name": "LayoutModel",
     "model_module_version": "1.2.0",
     "state": {
      "_model_module": "@jupyter-widgets/base",
      "_model_module_version": "1.2.0",
      "_model_name": "LayoutModel",
      "_view_count": null,
      "_view_module": "@jupyter-widgets/base",
      "_view_module_version": "1.2.0",
      "_view_name": "LayoutView",
      "align_content": null,
      "align_items": null,
      "align_self": null,
      "border": null,
      "bottom": null,
      "display": null,
      "flex": null,
      "flex_flow": null,
      "grid_area": null,
      "grid_auto_columns": null,
      "grid_auto_flow": null,
      "grid_auto_rows": null,
      "grid_column": null,
      "grid_gap": null,
      "grid_row": null,
      "grid_template_areas": null,
      "grid_template_columns": null,
      "grid_template_rows": null,
      "height": null,
      "justify_content": null,
      "justify_items": null,
      "left": null,
      "margin": null,
      "max_height": null,
      "max_width": null,
      "min_height": null,
      "min_width": null,
      "object_fit": null,
      "object_position": null,
      "order": null,
      "overflow": null,
      "overflow_x": null,
      "overflow_y": null,
      "padding": null,
      "right": null,
      "top": null,
      "visibility": null,
      "width": null
     }
    },
    "f3ee2a50b772474eabea3e745d488169": {
     "model_module": "@jupyter-widgets/base",
     "model_name": "LayoutModel",
     "model_module_version": "1.2.0",
     "state": {
      "_model_module": "@jupyter-widgets/base",
      "_model_module_version": "1.2.0",
      "_model_name": "LayoutModel",
      "_view_count": null,
      "_view_module": "@jupyter-widgets/base",
      "_view_module_version": "1.2.0",
      "_view_name": "LayoutView",
      "align_content": null,
      "align_items": null,
      "align_self": null,
      "border": null,
      "bottom": null,
      "display": null,
      "flex": null,
      "flex_flow": null,
      "grid_area": null,
      "grid_auto_columns": null,
      "grid_auto_flow": null,
      "grid_auto_rows": null,
      "grid_column": null,
      "grid_gap": null,
      "grid_row": null,
      "grid_template_areas": null,
      "grid_template_columns": null,
      "grid_template_rows": null,
      "height": null,
      "justify_content": null,
      "justify_items": null,
      "left": null,
      "margin": null,
      "max_height": null,
      "max_width": null,
      "min_height": null,
      "min_width": null,
      "object_fit": null,
      "object_position": null,
      "order": null,
      "overflow": null,
      "overflow_x": null,
      "overflow_y": null,
      "padding": null,
      "right": null,
      "top": null,
      "visibility": null,
      "width": null
     }
    },
    "f8952af1dedc4738a523a4b986f3496d": {
     "model_module": "@jupyter-widgets/controls",
     "model_name": "DescriptionStyleModel",
     "model_module_version": "1.5.0",
     "state": {
      "_model_module": "@jupyter-widgets/controls",
      "_model_module_version": "1.5.0",
      "_model_name": "DescriptionStyleModel",
      "_view_count": null,
      "_view_module": "@jupyter-widgets/base",
      "_view_module_version": "1.2.0",
      "_view_name": "StyleView",
      "description_width": ""
     }
    },
    "0d680e33cba14e4d818f98ec116d3956": {
     "model_module": "@jupyter-widgets/base",
     "model_name": "LayoutModel",
     "model_module_version": "1.2.0",
     "state": {
      "_model_module": "@jupyter-widgets/base",
      "_model_module_version": "1.2.0",
      "_model_name": "LayoutModel",
      "_view_count": null,
      "_view_module": "@jupyter-widgets/base",
      "_view_module_version": "1.2.0",
      "_view_name": "LayoutView",
      "align_content": null,
      "align_items": null,
      "align_self": null,
      "border": null,
      "bottom": null,
      "display": null,
      "flex": null,
      "flex_flow": null,
      "grid_area": null,
      "grid_auto_columns": null,
      "grid_auto_flow": null,
      "grid_auto_rows": null,
      "grid_column": null,
      "grid_gap": null,
      "grid_row": null,
      "grid_template_areas": null,
      "grid_template_columns": null,
      "grid_template_rows": null,
      "height": null,
      "justify_content": null,
      "justify_items": null,
      "left": null,
      "margin": null,
      "max_height": null,
      "max_width": null,
      "min_height": null,
      "min_width": null,
      "object_fit": null,
      "object_position": null,
      "order": null,
      "overflow": null,
      "overflow_x": null,
      "overflow_y": null,
      "padding": null,
      "right": null,
      "top": null,
      "visibility": null,
      "width": null
     }
    },
    "30f1e7d13d22456fadf07a39eda3ed17": {
     "model_module": "@jupyter-widgets/controls",
     "model_name": "ProgressStyleModel",
     "model_module_version": "1.5.0",
     "state": {
      "_model_module": "@jupyter-widgets/controls",
      "_model_module_version": "1.5.0",
      "_model_name": "ProgressStyleModel",
      "_view_count": null,
      "_view_module": "@jupyter-widgets/base",
      "_view_module_version": "1.2.0",
      "_view_name": "StyleView",
      "bar_color": null,
      "description_width": ""
     }
    },
    "d0451f78664c46a5923d3e5e89721a73": {
     "model_module": "@jupyter-widgets/base",
     "model_name": "LayoutModel",
     "model_module_version": "1.2.0",
     "state": {
      "_model_module": "@jupyter-widgets/base",
      "_model_module_version": "1.2.0",
      "_model_name": "LayoutModel",
      "_view_count": null,
      "_view_module": "@jupyter-widgets/base",
      "_view_module_version": "1.2.0",
      "_view_name": "LayoutView",
      "align_content": null,
      "align_items": null,
      "align_self": null,
      "border": null,
      "bottom": null,
      "display": null,
      "flex": null,
      "flex_flow": null,
      "grid_area": null,
      "grid_auto_columns": null,
      "grid_auto_flow": null,
      "grid_auto_rows": null,
      "grid_column": null,
      "grid_gap": null,
      "grid_row": null,
      "grid_template_areas": null,
      "grid_template_columns": null,
      "grid_template_rows": null,
      "height": null,
      "justify_content": null,
      "justify_items": null,
      "left": null,
      "margin": null,
      "max_height": null,
      "max_width": null,
      "min_height": null,
      "min_width": null,
      "object_fit": null,
      "object_position": null,
      "order": null,
      "overflow": null,
      "overflow_x": null,
      "overflow_y": null,
      "padding": null,
      "right": null,
      "top": null,
      "visibility": null,
      "width": null
     }
    },
    "8cb46dd259d149baa4e162f4ed111a01": {
     "model_module": "@jupyter-widgets/controls",
     "model_name": "DescriptionStyleModel",
     "model_module_version": "1.5.0",
     "state": {
      "_model_module": "@jupyter-widgets/controls",
      "_model_module_version": "1.5.0",
      "_model_name": "DescriptionStyleModel",
      "_view_count": null,
      "_view_module": "@jupyter-widgets/base",
      "_view_module_version": "1.2.0",
      "_view_name": "StyleView",
      "description_width": ""
     }
    },
    "27df3b6a7ca642d094cff19d6a4d4fb1": {
     "model_module": "@jupyter-widgets/controls",
     "model_name": "HBoxModel",
     "model_module_version": "1.5.0",
     "state": {
      "_dom_classes": [],
      "_model_module": "@jupyter-widgets/controls",
      "_model_module_version": "1.5.0",
      "_model_name": "HBoxModel",
      "_view_count": null,
      "_view_module": "@jupyter-widgets/controls",
      "_view_module_version": "1.5.0",
      "_view_name": "HBoxView",
      "box_style": "",
      "children": [
       "IPY_MODEL_d446296e71e64a6398e540c2c898c56d",
       "IPY_MODEL_aadf719896e84910ab0f905ccbb052d7",
       "IPY_MODEL_349c7cad86514b11b8a26a73cb854af5"
      ],
      "layout": "IPY_MODEL_c15fcfe3b05c4eae87b2ee5176f3142f"
     }
    },
    "d446296e71e64a6398e540c2c898c56d": {
     "model_module": "@jupyter-widgets/controls",
     "model_name": "HTMLModel",
     "model_module_version": "1.5.0",
     "state": {
      "_dom_classes": [],
      "_model_module": "@jupyter-widgets/controls",
      "_model_module_version": "1.5.0",
      "_model_name": "HTMLModel",
      "_view_count": null,
      "_view_module": "@jupyter-widgets/controls",
      "_view_module_version": "1.5.0",
      "_view_name": "HTMLView",
      "description": "",
      "description_tooltip": null,
      "layout": "IPY_MODEL_473de9da34474b9b89bffb5ba98334d4",
      "placeholder": "​",
      "style": "IPY_MODEL_92910e376bef43b39fe45e229fc5787f",
      "value": "Map: 100%"
     }
    },
    "aadf719896e84910ab0f905ccbb052d7": {
     "model_module": "@jupyter-widgets/controls",
     "model_name": "FloatProgressModel",
     "model_module_version": "1.5.0",
     "state": {
      "_dom_classes": [],
      "_model_module": "@jupyter-widgets/controls",
      "_model_module_version": "1.5.0",
      "_model_name": "FloatProgressModel",
      "_view_count": null,
      "_view_module": "@jupyter-widgets/controls",
      "_view_module_version": "1.5.0",
      "_view_name": "ProgressView",
      "bar_style": "",
      "description": "",
      "description_tooltip": null,
      "layout": "IPY_MODEL_a1c242203e274d6eb78acc315f71a611",
      "max": 3668,
      "min": 0,
      "orientation": "horizontal",
      "style": "IPY_MODEL_b6e6730907544fa4893e68b4957e2d8f",
      "value": 3668
     }
    },
    "349c7cad86514b11b8a26a73cb854af5": {
     "model_module": "@jupyter-widgets/controls",
     "model_name": "HTMLModel",
     "model_module_version": "1.5.0",
     "state": {
      "_dom_classes": [],
      "_model_module": "@jupyter-widgets/controls",
      "_model_module_version": "1.5.0",
      "_model_name": "HTMLModel",
      "_view_count": null,
      "_view_module": "@jupyter-widgets/controls",
      "_view_module_version": "1.5.0",
      "_view_name": "HTMLView",
      "description": "",
      "description_tooltip": null,
      "layout": "IPY_MODEL_2921298b9b7347438f2c684d7ce7d496",
      "placeholder": "​",
      "style": "IPY_MODEL_b40aa0cafb9d49698538c0ccc6de5af8",
      "value": " 3668/3668 [00:02&lt;00:00, 1570.31 examples/s]"
     }
    },
    "c15fcfe3b05c4eae87b2ee5176f3142f": {
     "model_module": "@jupyter-widgets/base",
     "model_name": "LayoutModel",
     "model_module_version": "1.2.0",
     "state": {
      "_model_module": "@jupyter-widgets/base",
      "_model_module_version": "1.2.0",
      "_model_name": "LayoutModel",
      "_view_count": null,
      "_view_module": "@jupyter-widgets/base",
      "_view_module_version": "1.2.0",
      "_view_name": "LayoutView",
      "align_content": null,
      "align_items": null,
      "align_self": null,
      "border": null,
      "bottom": null,
      "display": null,
      "flex": null,
      "flex_flow": null,
      "grid_area": null,
      "grid_auto_columns": null,
      "grid_auto_flow": null,
      "grid_auto_rows": null,
      "grid_column": null,
      "grid_gap": null,
      "grid_row": null,
      "grid_template_areas": null,
      "grid_template_columns": null,
      "grid_template_rows": null,
      "height": null,
      "justify_content": null,
      "justify_items": null,
      "left": null,
      "margin": null,
      "max_height": null,
      "max_width": null,
      "min_height": null,
      "min_width": null,
      "object_fit": null,
      "object_position": null,
      "order": null,
      "overflow": null,
      "overflow_x": null,
      "overflow_y": null,
      "padding": null,
      "right": null,
      "top": null,
      "visibility": "hidden",
      "width": null
     }
    },
    "473de9da34474b9b89bffb5ba98334d4": {
     "model_module": "@jupyter-widgets/base",
     "model_name": "LayoutModel",
     "model_module_version": "1.2.0",
     "state": {
      "_model_module": "@jupyter-widgets/base",
      "_model_module_version": "1.2.0",
      "_model_name": "LayoutModel",
      "_view_count": null,
      "_view_module": "@jupyter-widgets/base",
      "_view_module_version": "1.2.0",
      "_view_name": "LayoutView",
      "align_content": null,
      "align_items": null,
      "align_self": null,
      "border": null,
      "bottom": null,
      "display": null,
      "flex": null,
      "flex_flow": null,
      "grid_area": null,
      "grid_auto_columns": null,
      "grid_auto_flow": null,
      "grid_auto_rows": null,
      "grid_column": null,
      "grid_gap": null,
      "grid_row": null,
      "grid_template_areas": null,
      "grid_template_columns": null,
      "grid_template_rows": null,
      "height": null,
      "justify_content": null,
      "justify_items": null,
      "left": null,
      "margin": null,
      "max_height": null,
      "max_width": null,
      "min_height": null,
      "min_width": null,
      "object_fit": null,
      "object_position": null,
      "order": null,
      "overflow": null,
      "overflow_x": null,
      "overflow_y": null,
      "padding": null,
      "right": null,
      "top": null,
      "visibility": null,
      "width": null
     }
    },
    "92910e376bef43b39fe45e229fc5787f": {
     "model_module": "@jupyter-widgets/controls",
     "model_name": "DescriptionStyleModel",
     "model_module_version": "1.5.0",
     "state": {
      "_model_module": "@jupyter-widgets/controls",
      "_model_module_version": "1.5.0",
      "_model_name": "DescriptionStyleModel",
      "_view_count": null,
      "_view_module": "@jupyter-widgets/base",
      "_view_module_version": "1.2.0",
      "_view_name": "StyleView",
      "description_width": ""
     }
    },
    "a1c242203e274d6eb78acc315f71a611": {
     "model_module": "@jupyter-widgets/base",
     "model_name": "LayoutModel",
     "model_module_version": "1.2.0",
     "state": {
      "_model_module": "@jupyter-widgets/base",
      "_model_module_version": "1.2.0",
      "_model_name": "LayoutModel",
      "_view_count": null,
      "_view_module": "@jupyter-widgets/base",
      "_view_module_version": "1.2.0",
      "_view_name": "LayoutView",
      "align_content": null,
      "align_items": null,
      "align_self": null,
      "border": null,
      "bottom": null,
      "display": null,
      "flex": null,
      "flex_flow": null,
      "grid_area": null,
      "grid_auto_columns": null,
      "grid_auto_flow": null,
      "grid_auto_rows": null,
      "grid_column": null,
      "grid_gap": null,
      "grid_row": null,
      "grid_template_areas": null,
      "grid_template_columns": null,
      "grid_template_rows": null,
      "height": null,
      "justify_content": null,
      "justify_items": null,
      "left": null,
      "margin": null,
      "max_height": null,
      "max_width": null,
      "min_height": null,
      "min_width": null,
      "object_fit": null,
      "object_position": null,
      "order": null,
      "overflow": null,
      "overflow_x": null,
      "overflow_y": null,
      "padding": null,
      "right": null,
      "top": null,
      "visibility": null,
      "width": null
     }
    },
    "b6e6730907544fa4893e68b4957e2d8f": {
     "model_module": "@jupyter-widgets/controls",
     "model_name": "ProgressStyleModel",
     "model_module_version": "1.5.0",
     "state": {
      "_model_module": "@jupyter-widgets/controls",
      "_model_module_version": "1.5.0",
      "_model_name": "ProgressStyleModel",
      "_view_count": null,
      "_view_module": "@jupyter-widgets/base",
      "_view_module_version": "1.2.0",
      "_view_name": "StyleView",
      "bar_color": null,
      "description_width": ""
     }
    },
    "2921298b9b7347438f2c684d7ce7d496": {
     "model_module": "@jupyter-widgets/base",
     "model_name": "LayoutModel",
     "model_module_version": "1.2.0",
     "state": {
      "_model_module": "@jupyter-widgets/base",
      "_model_module_version": "1.2.0",
      "_model_name": "LayoutModel",
      "_view_count": null,
      "_view_module": "@jupyter-widgets/base",
      "_view_module_version": "1.2.0",
      "_view_name": "LayoutView",
      "align_content": null,
      "align_items": null,
      "align_self": null,
      "border": null,
      "bottom": null,
      "display": null,
      "flex": null,
      "flex_flow": null,
      "grid_area": null,
      "grid_auto_columns": null,
      "grid_auto_flow": null,
      "grid_auto_rows": null,
      "grid_column": null,
      "grid_gap": null,
      "grid_row": null,
      "grid_template_areas": null,
      "grid_template_columns": null,
      "grid_template_rows": null,
      "height": null,
      "justify_content": null,
      "justify_items": null,
      "left": null,
      "margin": null,
      "max_height": null,
      "max_width": null,
      "min_height": null,
      "min_width": null,
      "object_fit": null,
      "object_position": null,
      "order": null,
      "overflow": null,
      "overflow_x": null,
      "overflow_y": null,
      "padding": null,
      "right": null,
      "top": null,
      "visibility": null,
      "width": null
     }
    },
    "b40aa0cafb9d49698538c0ccc6de5af8": {
     "model_module": "@jupyter-widgets/controls",
     "model_name": "DescriptionStyleModel",
     "model_module_version": "1.5.0",
     "state": {
      "_model_module": "@jupyter-widgets/controls",
      "_model_module_version": "1.5.0",
      "_model_name": "DescriptionStyleModel",
      "_view_count": null,
      "_view_module": "@jupyter-widgets/base",
      "_view_module_version": "1.2.0",
      "_view_name": "StyleView",
      "description_width": ""
     }
    },
    "e0990a09f6fd4398bfe96715f0dc7865": {
     "model_module": "@jupyter-widgets/controls",
     "model_name": "HBoxModel",
     "model_module_version": "1.5.0",
     "state": {
      "_dom_classes": [],
      "_model_module": "@jupyter-widgets/controls",
      "_model_module_version": "1.5.0",
      "_model_name": "HBoxModel",
      "_view_count": null,
      "_view_module": "@jupyter-widgets/controls",
      "_view_module_version": "1.5.0",
      "_view_name": "HBoxView",
      "box_style": "",
      "children": [
       "IPY_MODEL_cc618e14876644ca945d0cf556aa6577",
       "IPY_MODEL_9d83bf9f4e1c4b729311a4ed93efe94f",
       "IPY_MODEL_a7bcb7c1181e482e9efdf8dc2ca3de97"
      ],
      "layout": "IPY_MODEL_56a9d8b97b5944a68c9b6b45ee2f7ceb"
     }
    },
    "cc618e14876644ca945d0cf556aa6577": {
     "model_module": "@jupyter-widgets/controls",
     "model_name": "HTMLModel",
     "model_module_version": "1.5.0",
     "state": {
      "_dom_classes": [],
      "_model_module": "@jupyter-widgets/controls",
      "_model_module_version": "1.5.0",
      "_model_name": "HTMLModel",
      "_view_count": null,
      "_view_module": "@jupyter-widgets/controls",
      "_view_module_version": "1.5.0",
      "_view_name": "HTMLView",
      "description": "",
      "description_tooltip": null,
      "layout": "IPY_MODEL_e0652a8aa6e847d4820664b6a9a3df45",
      "placeholder": "​",
      "style": "IPY_MODEL_cd3eceb052cf4c02823b657e7851ab56",
      "value": "Map: 100%"
     }
    },
    "9d83bf9f4e1c4b729311a4ed93efe94f": {
     "model_module": "@jupyter-widgets/controls",
     "model_name": "FloatProgressModel",
     "model_module_version": "1.5.0",
     "state": {
      "_dom_classes": [],
      "_model_module": "@jupyter-widgets/controls",
      "_model_module_version": "1.5.0",
      "_model_name": "FloatProgressModel",
      "_view_count": null,
      "_view_module": "@jupyter-widgets/controls",
      "_view_module_version": "1.5.0",
      "_view_name": "ProgressView",
      "bar_style": "",
      "description": "",
      "description_tooltip": null,
      "layout": "IPY_MODEL_8b823fa311804164a7f2e55a7c941af8",
      "max": 408,
      "min": 0,
      "orientation": "horizontal",
      "style": "IPY_MODEL_6c8df211bd19471785f1af6229df8737",
      "value": 408
     }
    },
    "a7bcb7c1181e482e9efdf8dc2ca3de97": {
     "model_module": "@jupyter-widgets/controls",
     "model_name": "HTMLModel",
     "model_module_version": "1.5.0",
     "state": {
      "_dom_classes": [],
      "_model_module": "@jupyter-widgets/controls",
      "_model_module_version": "1.5.0",
      "_model_name": "HTMLModel",
      "_view_count": null,
      "_view_module": "@jupyter-widgets/controls",
      "_view_module_version": "1.5.0",
      "_view_name": "HTMLView",
      "description": "",
      "description_tooltip": null,
      "layout": "IPY_MODEL_dae1eca0d39741c2b159e015ff22b516",
      "placeholder": "​",
      "style": "IPY_MODEL_d7918c115ceb405cb6f32b60d3f7b8ab",
      "value": " 408/408 [00:00&lt;00:00, 1655.93 examples/s]"
     }
    },
    "56a9d8b97b5944a68c9b6b45ee2f7ceb": {
     "model_module": "@jupyter-widgets/base",
     "model_name": "LayoutModel",
     "model_module_version": "1.2.0",
     "state": {
      "_model_module": "@jupyter-widgets/base",
      "_model_module_version": "1.2.0",
      "_model_name": "LayoutModel",
      "_view_count": null,
      "_view_module": "@jupyter-widgets/base",
      "_view_module_version": "1.2.0",
      "_view_name": "LayoutView",
      "align_content": null,
      "align_items": null,
      "align_self": null,
      "border": null,
      "bottom": null,
      "display": null,
      "flex": null,
      "flex_flow": null,
      "grid_area": null,
      "grid_auto_columns": null,
      "grid_auto_flow": null,
      "grid_auto_rows": null,
      "grid_column": null,
      "grid_gap": null,
      "grid_row": null,
      "grid_template_areas": null,
      "grid_template_columns": null,
      "grid_template_rows": null,
      "height": null,
      "justify_content": null,
      "justify_items": null,
      "left": null,
      "margin": null,
      "max_height": null,
      "max_width": null,
      "min_height": null,
      "min_width": null,
      "object_fit": null,
      "object_position": null,
      "order": null,
      "overflow": null,
      "overflow_x": null,
      "overflow_y": null,
      "padding": null,
      "right": null,
      "top": null,
      "visibility": "hidden",
      "width": null
     }
    },
    "e0652a8aa6e847d4820664b6a9a3df45": {
     "model_module": "@jupyter-widgets/base",
     "model_name": "LayoutModel",
     "model_module_version": "1.2.0",
     "state": {
      "_model_module": "@jupyter-widgets/base",
      "_model_module_version": "1.2.0",
      "_model_name": "LayoutModel",
      "_view_count": null,
      "_view_module": "@jupyter-widgets/base",
      "_view_module_version": "1.2.0",
      "_view_name": "LayoutView",
      "align_content": null,
      "align_items": null,
      "align_self": null,
      "border": null,
      "bottom": null,
      "display": null,
      "flex": null,
      "flex_flow": null,
      "grid_area": null,
      "grid_auto_columns": null,
      "grid_auto_flow": null,
      "grid_auto_rows": null,
      "grid_column": null,
      "grid_gap": null,
      "grid_row": null,
      "grid_template_areas": null,
      "grid_template_columns": null,
      "grid_template_rows": null,
      "height": null,
      "justify_content": null,
      "justify_items": null,
      "left": null,
      "margin": null,
      "max_height": null,
      "max_width": null,
      "min_height": null,
      "min_width": null,
      "object_fit": null,
      "object_position": null,
      "order": null,
      "overflow": null,
      "overflow_x": null,
      "overflow_y": null,
      "padding": null,
      "right": null,
      "top": null,
      "visibility": null,
      "width": null
     }
    },
    "cd3eceb052cf4c02823b657e7851ab56": {
     "model_module": "@jupyter-widgets/controls",
     "model_name": "DescriptionStyleModel",
     "model_module_version": "1.5.0",
     "state": {
      "_model_module": "@jupyter-widgets/controls",
      "_model_module_version": "1.5.0",
      "_model_name": "DescriptionStyleModel",
      "_view_count": null,
      "_view_module": "@jupyter-widgets/base",
      "_view_module_version": "1.2.0",
      "_view_name": "StyleView",
      "description_width": ""
     }
    },
    "8b823fa311804164a7f2e55a7c941af8": {
     "model_module": "@jupyter-widgets/base",
     "model_name": "LayoutModel",
     "model_module_version": "1.2.0",
     "state": {
      "_model_module": "@jupyter-widgets/base",
      "_model_module_version": "1.2.0",
      "_model_name": "LayoutModel",
      "_view_count": null,
      "_view_module": "@jupyter-widgets/base",
      "_view_module_version": "1.2.0",
      "_view_name": "LayoutView",
      "align_content": null,
      "align_items": null,
      "align_self": null,
      "border": null,
      "bottom": null,
      "display": null,
      "flex": null,
      "flex_flow": null,
      "grid_area": null,
      "grid_auto_columns": null,
      "grid_auto_flow": null,
      "grid_auto_rows": null,
      "grid_column": null,
      "grid_gap": null,
      "grid_row": null,
      "grid_template_areas": null,
      "grid_template_columns": null,
      "grid_template_rows": null,
      "height": null,
      "justify_content": null,
      "justify_items": null,
      "left": null,
      "margin": null,
      "max_height": null,
      "max_width": null,
      "min_height": null,
      "min_width": null,
      "object_fit": null,
      "object_position": null,
      "order": null,
      "overflow": null,
      "overflow_x": null,
      "overflow_y": null,
      "padding": null,
      "right": null,
      "top": null,
      "visibility": null,
      "width": null
     }
    },
    "6c8df211bd19471785f1af6229df8737": {
     "model_module": "@jupyter-widgets/controls",
     "model_name": "ProgressStyleModel",
     "model_module_version": "1.5.0",
     "state": {
      "_model_module": "@jupyter-widgets/controls",
      "_model_module_version": "1.5.0",
      "_model_name": "ProgressStyleModel",
      "_view_count": null,
      "_view_module": "@jupyter-widgets/base",
      "_view_module_version": "1.2.0",
      "_view_name": "StyleView",
      "bar_color": null,
      "description_width": ""
     }
    },
    "dae1eca0d39741c2b159e015ff22b516": {
     "model_module": "@jupyter-widgets/base",
     "model_name": "LayoutModel",
     "model_module_version": "1.2.0",
     "state": {
      "_model_module": "@jupyter-widgets/base",
      "_model_module_version": "1.2.0",
      "_model_name": "LayoutModel",
      "_view_count": null,
      "_view_module": "@jupyter-widgets/base",
      "_view_module_version": "1.2.0",
      "_view_name": "LayoutView",
      "align_content": null,
      "align_items": null,
      "align_self": null,
      "border": null,
      "bottom": null,
      "display": null,
      "flex": null,
      "flex_flow": null,
      "grid_area": null,
      "grid_auto_columns": null,
      "grid_auto_flow": null,
      "grid_auto_rows": null,
      "grid_column": null,
      "grid_gap": null,
      "grid_row": null,
      "grid_template_areas": null,
      "grid_template_columns": null,
      "grid_template_rows": null,
      "height": null,
      "justify_content": null,
      "justify_items": null,
      "left": null,
      "margin": null,
      "max_height": null,
      "max_width": null,
      "min_height": null,
      "min_width": null,
      "object_fit": null,
      "object_position": null,
      "order": null,
      "overflow": null,
      "overflow_x": null,
      "overflow_y": null,
      "padding": null,
      "right": null,
      "top": null,
      "visibility": null,
      "width": null
     }
    },
    "d7918c115ceb405cb6f32b60d3f7b8ab": {
     "model_module": "@jupyter-widgets/controls",
     "model_name": "DescriptionStyleModel",
     "model_module_version": "1.5.0",
     "state": {
      "_model_module": "@jupyter-widgets/controls",
      "_model_module_version": "1.5.0",
      "_model_name": "DescriptionStyleModel",
      "_view_count": null,
      "_view_module": "@jupyter-widgets/base",
      "_view_module_version": "1.2.0",
      "_view_name": "StyleView",
      "description_width": ""
     }
    },
    "71517d2c98064e479fc0ba88d6cdbdd0": {
     "model_module": "@jupyter-widgets/controls",
     "model_name": "HBoxModel",
     "model_module_version": "1.5.0",
     "state": {
      "_dom_classes": [],
      "_model_module": "@jupyter-widgets/controls",
      "_model_module_version": "1.5.0",
      "_model_name": "HBoxModel",
      "_view_count": null,
      "_view_module": "@jupyter-widgets/controls",
      "_view_module_version": "1.5.0",
      "_view_name": "HBoxView",
      "box_style": "",
      "children": [
       "IPY_MODEL_1d2e7773299e40579e0e21c6f778f116",
       "IPY_MODEL_ba20d1c02800413d972af3fd2a330b39",
       "IPY_MODEL_f0a03f5e01794c4199a7212eacf0bc09"
      ],
      "layout": "IPY_MODEL_e322913efed24faa9e23d14d84544912"
     }
    },
    "1d2e7773299e40579e0e21c6f778f116": {
     "model_module": "@jupyter-widgets/controls",
     "model_name": "HTMLModel",
     "model_module_version": "1.5.0",
     "state": {
      "_dom_classes": [],
      "_model_module": "@jupyter-widgets/controls",
      "_model_module_version": "1.5.0",
      "_model_name": "HTMLModel",
      "_view_count": null,
      "_view_module": "@jupyter-widgets/controls",
      "_view_module_version": "1.5.0",
      "_view_name": "HTMLView",
      "description": "",
      "description_tooltip": null,
      "layout": "IPY_MODEL_7525c4c0b3ff4a46b488da60fb94280c",
      "placeholder": "​",
      "style": "IPY_MODEL_395f38e9dc3a4057ad45e386e79f1723",
      "value": "Map: 100%"
     }
    },
    "ba20d1c02800413d972af3fd2a330b39": {
     "model_module": "@jupyter-widgets/controls",
     "model_name": "FloatProgressModel",
     "model_module_version": "1.5.0",
     "state": {
      "_dom_classes": [],
      "_model_module": "@jupyter-widgets/controls",
      "_model_module_version": "1.5.0",
      "_model_name": "FloatProgressModel",
      "_view_count": null,
      "_view_module": "@jupyter-widgets/controls",
      "_view_module_version": "1.5.0",
      "_view_name": "ProgressView",
      "bar_style": "",
      "description": "",
      "description_tooltip": null,
      "layout": "IPY_MODEL_b665acbbf1a04c3baabb70ad93362c1c",
      "max": 1725,
      "min": 0,
      "orientation": "horizontal",
      "style": "IPY_MODEL_2f1ad3d18d684ca2b7aac9b3b25cb102",
      "value": 1725
     }
    },
    "f0a03f5e01794c4199a7212eacf0bc09": {
     "model_module": "@jupyter-widgets/controls",
     "model_name": "HTMLModel",
     "model_module_version": "1.5.0",
     "state": {
      "_dom_classes": [],
      "_model_module": "@jupyter-widgets/controls",
      "_model_module_version": "1.5.0",
      "_model_name": "HTMLModel",
      "_view_count": null,
      "_view_module": "@jupyter-widgets/controls",
      "_view_module_version": "1.5.0",
      "_view_name": "HTMLView",
      "description": "",
      "description_tooltip": null,
      "layout": "IPY_MODEL_c7f25c6e6e7d44a38e22bab5401e0bfd",
      "placeholder": "​",
      "style": "IPY_MODEL_792b0003471b4b91a6b8fc9aef961eec",
      "value": " 1725/1725 [00:00&lt;00:00, 3375.66 examples/s]"
     }
    },
    "e322913efed24faa9e23d14d84544912": {
     "model_module": "@jupyter-widgets/base",
     "model_name": "LayoutModel",
     "model_module_version": "1.2.0",
     "state": {
      "_model_module": "@jupyter-widgets/base",
      "_model_module_version": "1.2.0",
      "_model_name": "LayoutModel",
      "_view_count": null,
      "_view_module": "@jupyter-widgets/base",
      "_view_module_version": "1.2.0",
      "_view_name": "LayoutView",
      "align_content": null,
      "align_items": null,
      "align_self": null,
      "border": null,
      "bottom": null,
      "display": null,
      "flex": null,
      "flex_flow": null,
      "grid_area": null,
      "grid_auto_columns": null,
      "grid_auto_flow": null,
      "grid_auto_rows": null,
      "grid_column": null,
      "grid_gap": null,
      "grid_row": null,
      "grid_template_areas": null,
      "grid_template_columns": null,
      "grid_template_rows": null,
      "height": null,
      "justify_content": null,
      "justify_items": null,
      "left": null,
      "margin": null,
      "max_height": null,
      "max_width": null,
      "min_height": null,
      "min_width": null,
      "object_fit": null,
      "object_position": null,
      "order": null,
      "overflow": null,
      "overflow_x": null,
      "overflow_y": null,
      "padding": null,
      "right": null,
      "top": null,
      "visibility": "hidden",
      "width": null
     }
    },
    "7525c4c0b3ff4a46b488da60fb94280c": {
     "model_module": "@jupyter-widgets/base",
     "model_name": "LayoutModel",
     "model_module_version": "1.2.0",
     "state": {
      "_model_module": "@jupyter-widgets/base",
      "_model_module_version": "1.2.0",
      "_model_name": "LayoutModel",
      "_view_count": null,
      "_view_module": "@jupyter-widgets/base",
      "_view_module_version": "1.2.0",
      "_view_name": "LayoutView",
      "align_content": null,
      "align_items": null,
      "align_self": null,
      "border": null,
      "bottom": null,
      "display": null,
      "flex": null,
      "flex_flow": null,
      "grid_area": null,
      "grid_auto_columns": null,
      "grid_auto_flow": null,
      "grid_auto_rows": null,
      "grid_column": null,
      "grid_gap": null,
      "grid_row": null,
      "grid_template_areas": null,
      "grid_template_columns": null,
      "grid_template_rows": null,
      "height": null,
      "justify_content": null,
      "justify_items": null,
      "left": null,
      "margin": null,
      "max_height": null,
      "max_width": null,
      "min_height": null,
      "min_width": null,
      "object_fit": null,
      "object_position": null,
      "order": null,
      "overflow": null,
      "overflow_x": null,
      "overflow_y": null,
      "padding": null,
      "right": null,
      "top": null,
      "visibility": null,
      "width": null
     }
    },
    "395f38e9dc3a4057ad45e386e79f1723": {
     "model_module": "@jupyter-widgets/controls",
     "model_name": "DescriptionStyleModel",
     "model_module_version": "1.5.0",
     "state": {
      "_model_module": "@jupyter-widgets/controls",
      "_model_module_version": "1.5.0",
      "_model_name": "DescriptionStyleModel",
      "_view_count": null,
      "_view_module": "@jupyter-widgets/base",
      "_view_module_version": "1.2.0",
      "_view_name": "StyleView",
      "description_width": ""
     }
    },
    "b665acbbf1a04c3baabb70ad93362c1c": {
     "model_module": "@jupyter-widgets/base",
     "model_name": "LayoutModel",
     "model_module_version": "1.2.0",
     "state": {
      "_model_module": "@jupyter-widgets/base",
      "_model_module_version": "1.2.0",
      "_model_name": "LayoutModel",
      "_view_count": null,
      "_view_module": "@jupyter-widgets/base",
      "_view_module_version": "1.2.0",
      "_view_name": "LayoutView",
      "align_content": null,
      "align_items": null,
      "align_self": null,
      "border": null,
      "bottom": null,
      "display": null,
      "flex": null,
      "flex_flow": null,
      "grid_area": null,
      "grid_auto_columns": null,
      "grid_auto_flow": null,
      "grid_auto_rows": null,
      "grid_column": null,
      "grid_gap": null,
      "grid_row": null,
      "grid_template_areas": null,
      "grid_template_columns": null,
      "grid_template_rows": null,
      "height": null,
      "justify_content": null,
      "justify_items": null,
      "left": null,
      "margin": null,
      "max_height": null,
      "max_width": null,
      "min_height": null,
      "min_width": null,
      "object_fit": null,
      "object_position": null,
      "order": null,
      "overflow": null,
      "overflow_x": null,
      "overflow_y": null,
      "padding": null,
      "right": null,
      "top": null,
      "visibility": null,
      "width": null
     }
    },
    "2f1ad3d18d684ca2b7aac9b3b25cb102": {
     "model_module": "@jupyter-widgets/controls",
     "model_name": "ProgressStyleModel",
     "model_module_version": "1.5.0",
     "state": {
      "_model_module": "@jupyter-widgets/controls",
      "_model_module_version": "1.5.0",
      "_model_name": "ProgressStyleModel",
      "_view_count": null,
      "_view_module": "@jupyter-widgets/base",
      "_view_module_version": "1.2.0",
      "_view_name": "StyleView",
      "bar_color": null,
      "description_width": ""
     }
    },
    "c7f25c6e6e7d44a38e22bab5401e0bfd": {
     "model_module": "@jupyter-widgets/base",
     "model_name": "LayoutModel",
     "model_module_version": "1.2.0",
     "state": {
      "_model_module": "@jupyter-widgets/base",
      "_model_module_version": "1.2.0",
      "_model_name": "LayoutModel",
      "_view_count": null,
      "_view_module": "@jupyter-widgets/base",
      "_view_module_version": "1.2.0",
      "_view_name": "LayoutView",
      "align_content": null,
      "align_items": null,
      "align_self": null,
      "border": null,
      "bottom": null,
      "display": null,
      "flex": null,
      "flex_flow": null,
      "grid_area": null,
      "grid_auto_columns": null,
      "grid_auto_flow": null,
      "grid_auto_rows": null,
      "grid_column": null,
      "grid_gap": null,
      "grid_row": null,
      "grid_template_areas": null,
      "grid_template_columns": null,
      "grid_template_rows": null,
      "height": null,
      "justify_content": null,
      "justify_items": null,
      "left": null,
      "margin": null,
      "max_height": null,
      "max_width": null,
      "min_height": null,
      "min_width": null,
      "object_fit": null,
      "object_position": null,
      "order": null,
      "overflow": null,
      "overflow_x": null,
      "overflow_y": null,
      "padding": null,
      "right": null,
      "top": null,
      "visibility": null,
      "width": null
     }
    },
    "792b0003471b4b91a6b8fc9aef961eec": {
     "model_module": "@jupyter-widgets/controls",
     "model_name": "DescriptionStyleModel",
     "model_module_version": "1.5.0",
     "state": {
      "_model_module": "@jupyter-widgets/controls",
      "_model_module_version": "1.5.0",
      "_model_name": "DescriptionStyleModel",
      "_view_count": null,
      "_view_module": "@jupyter-widgets/base",
      "_view_module_version": "1.2.0",
      "_view_name": "StyleView",
      "description_width": ""
     }
    },
    "0785379a54304bf1b70117cd79fa768e": {
     "model_module": "@jupyter-widgets/controls",
     "model_name": "HBoxModel",
     "model_module_version": "1.5.0",
     "state": {
      "_dom_classes": [],
      "_model_module": "@jupyter-widgets/controls",
      "_model_module_version": "1.5.0",
      "_model_name": "HBoxModel",
      "_view_count": null,
      "_view_module": "@jupyter-widgets/controls",
      "_view_module_version": "1.5.0",
      "_view_name": "HBoxView",
      "box_style": "",
      "children": [
       "IPY_MODEL_95c19eb60b8345f0b098eca0682d4e70",
       "IPY_MODEL_ccf8ff81211f49299bdf2ec805dafd8e",
       "IPY_MODEL_7171aa79f11b458799790fe1b153850c"
      ],
      "layout": "IPY_MODEL_7c5c23bbb95644ac8d95aea70419783d"
     }
    },
    "95c19eb60b8345f0b098eca0682d4e70": {
     "model_module": "@jupyter-widgets/controls",
     "model_name": "HTMLModel",
     "model_module_version": "1.5.0",
     "state": {
      "_dom_classes": [],
      "_model_module": "@jupyter-widgets/controls",
      "_model_module_version": "1.5.0",
      "_model_name": "HTMLModel",
      "_view_count": null,
      "_view_module": "@jupyter-widgets/controls",
      "_view_module_version": "1.5.0",
      "_view_name": "HTMLView",
      "description": "",
      "description_tooltip": null,
      "layout": "IPY_MODEL_93fceaad54694c4ab89b015e2278114d",
      "placeholder": "​",
      "style": "IPY_MODEL_9b1fa7405edd4cf48f5e18e0aab9cc36",
      "value": "Downloading (…)lve/main/config.json: 100%"
     }
    },
    "ccf8ff81211f49299bdf2ec805dafd8e": {
     "model_module": "@jupyter-widgets/controls",
     "model_name": "FloatProgressModel",
     "model_module_version": "1.5.0",
     "state": {
      "_dom_classes": [],
      "_model_module": "@jupyter-widgets/controls",
      "_model_module_version": "1.5.0",
      "_model_name": "FloatProgressModel",
      "_view_count": null,
      "_view_module": "@jupyter-widgets/controls",
      "_view_module_version": "1.5.0",
      "_view_name": "ProgressView",
      "bar_style": "success",
      "description": "",
      "description_tooltip": null,
      "layout": "IPY_MODEL_61e785c25d1a41f1835c540236cea628",
      "max": 697,
      "min": 0,
      "orientation": "horizontal",
      "style": "IPY_MODEL_8d1a930674664637944aa34e23a2111c",
      "value": 697
     }
    },
    "7171aa79f11b458799790fe1b153850c": {
     "model_module": "@jupyter-widgets/controls",
     "model_name": "HTMLModel",
     "model_module_version": "1.5.0",
     "state": {
      "_dom_classes": [],
      "_model_module": "@jupyter-widgets/controls",
      "_model_module_version": "1.5.0",
      "_model_name": "HTMLModel",
      "_view_count": null,
      "_view_module": "@jupyter-widgets/controls",
      "_view_module_version": "1.5.0",
      "_view_name": "HTMLView",
      "description": "",
      "description_tooltip": null,
      "layout": "IPY_MODEL_25ed2e66f0e24fcd858a370adae67861",
      "placeholder": "​",
      "style": "IPY_MODEL_22a691647c7648c79feb6949191146f1",
      "value": " 697/697 [00:00&lt;00:00, 36.0kB/s]"
     }
    },
    "7c5c23bbb95644ac8d95aea70419783d": {
     "model_module": "@jupyter-widgets/base",
     "model_name": "LayoutModel",
     "model_module_version": "1.2.0",
     "state": {
      "_model_module": "@jupyter-widgets/base",
      "_model_module_version": "1.2.0",
      "_model_name": "LayoutModel",
      "_view_count": null,
      "_view_module": "@jupyter-widgets/base",
      "_view_module_version": "1.2.0",
      "_view_name": "LayoutView",
      "align_content": null,
      "align_items": null,
      "align_self": null,
      "border": null,
      "bottom": null,
      "display": null,
      "flex": null,
      "flex_flow": null,
      "grid_area": null,
      "grid_auto_columns": null,
      "grid_auto_flow": null,
      "grid_auto_rows": null,
      "grid_column": null,
      "grid_gap": null,
      "grid_row": null,
      "grid_template_areas": null,
      "grid_template_columns": null,
      "grid_template_rows": null,
      "height": null,
      "justify_content": null,
      "justify_items": null,
      "left": null,
      "margin": null,
      "max_height": null,
      "max_width": null,
      "min_height": null,
      "min_width": null,
      "object_fit": null,
      "object_position": null,
      "order": null,
      "overflow": null,
      "overflow_x": null,
      "overflow_y": null,
      "padding": null,
      "right": null,
      "top": null,
      "visibility": null,
      "width": null
     }
    },
    "93fceaad54694c4ab89b015e2278114d": {
     "model_module": "@jupyter-widgets/base",
     "model_name": "LayoutModel",
     "model_module_version": "1.2.0",
     "state": {
      "_model_module": "@jupyter-widgets/base",
      "_model_module_version": "1.2.0",
      "_model_name": "LayoutModel",
      "_view_count": null,
      "_view_module": "@jupyter-widgets/base",
      "_view_module_version": "1.2.0",
      "_view_name": "LayoutView",
      "align_content": null,
      "align_items": null,
      "align_self": null,
      "border": null,
      "bottom": null,
      "display": null,
      "flex": null,
      "flex_flow": null,
      "grid_area": null,
      "grid_auto_columns": null,
      "grid_auto_flow": null,
      "grid_auto_rows": null,
      "grid_column": null,
      "grid_gap": null,
      "grid_row": null,
      "grid_template_areas": null,
      "grid_template_columns": null,
      "grid_template_rows": null,
      "height": null,
      "justify_content": null,
      "justify_items": null,
      "left": null,
      "margin": null,
      "max_height": null,
      "max_width": null,
      "min_height": null,
      "min_width": null,
      "object_fit": null,
      "object_position": null,
      "order": null,
      "overflow": null,
      "overflow_x": null,
      "overflow_y": null,
      "padding": null,
      "right": null,
      "top": null,
      "visibility": null,
      "width": null
     }
    },
    "9b1fa7405edd4cf48f5e18e0aab9cc36": {
     "model_module": "@jupyter-widgets/controls",
     "model_name": "DescriptionStyleModel",
     "model_module_version": "1.5.0",
     "state": {
      "_model_module": "@jupyter-widgets/controls",
      "_model_module_version": "1.5.0",
      "_model_name": "DescriptionStyleModel",
      "_view_count": null,
      "_view_module": "@jupyter-widgets/base",
      "_view_module_version": "1.2.0",
      "_view_name": "StyleView",
      "description_width": ""
     }
    },
    "61e785c25d1a41f1835c540236cea628": {
     "model_module": "@jupyter-widgets/base",
     "model_name": "LayoutModel",
     "model_module_version": "1.2.0",
     "state": {
      "_model_module": "@jupyter-widgets/base",
      "_model_module_version": "1.2.0",
      "_model_name": "LayoutModel",
      "_view_count": null,
      "_view_module": "@jupyter-widgets/base",
      "_view_module_version": "1.2.0",
      "_view_name": "LayoutView",
      "align_content": null,
      "align_items": null,
      "align_self": null,
      "border": null,
      "bottom": null,
      "display": null,
      "flex": null,
      "flex_flow": null,
      "grid_area": null,
      "grid_auto_columns": null,
      "grid_auto_flow": null,
      "grid_auto_rows": null,
      "grid_column": null,
      "grid_gap": null,
      "grid_row": null,
      "grid_template_areas": null,
      "grid_template_columns": null,
      "grid_template_rows": null,
      "height": null,
      "justify_content": null,
      "justify_items": null,
      "left": null,
      "margin": null,
      "max_height": null,
      "max_width": null,
      "min_height": null,
      "min_width": null,
      "object_fit": null,
      "object_position": null,
      "order": null,
      "overflow": null,
      "overflow_x": null,
      "overflow_y": null,
      "padding": null,
      "right": null,
      "top": null,
      "visibility": null,
      "width": null
     }
    },
    "8d1a930674664637944aa34e23a2111c": {
     "model_module": "@jupyter-widgets/controls",
     "model_name": "ProgressStyleModel",
     "model_module_version": "1.5.0",
     "state": {
      "_model_module": "@jupyter-widgets/controls",
      "_model_module_version": "1.5.0",
      "_model_name": "ProgressStyleModel",
      "_view_count": null,
      "_view_module": "@jupyter-widgets/base",
      "_view_module_version": "1.2.0",
      "_view_name": "StyleView",
      "bar_color": null,
      "description_width": ""
     }
    },
    "25ed2e66f0e24fcd858a370adae67861": {
     "model_module": "@jupyter-widgets/base",
     "model_name": "LayoutModel",
     "model_module_version": "1.2.0",
     "state": {
      "_model_module": "@jupyter-widgets/base",
      "_model_module_version": "1.2.0",
      "_model_name": "LayoutModel",
      "_view_count": null,
      "_view_module": "@jupyter-widgets/base",
      "_view_module_version": "1.2.0",
      "_view_name": "LayoutView",
      "align_content": null,
      "align_items": null,
      "align_self": null,
      "border": null,
      "bottom": null,
      "display": null,
      "flex": null,
      "flex_flow": null,
      "grid_area": null,
      "grid_auto_columns": null,
      "grid_auto_flow": null,
      "grid_auto_rows": null,
      "grid_column": null,
      "grid_gap": null,
      "grid_row": null,
      "grid_template_areas": null,
      "grid_template_columns": null,
      "grid_template_rows": null,
      "height": null,
      "justify_content": null,
      "justify_items": null,
      "left": null,
      "margin": null,
      "max_height": null,
      "max_width": null,
      "min_height": null,
      "min_width": null,
      "object_fit": null,
      "object_position": null,
      "order": null,
      "overflow": null,
      "overflow_x": null,
      "overflow_y": null,
      "padding": null,
      "right": null,
      "top": null,
      "visibility": null,
      "width": null
     }
    },
    "22a691647c7648c79feb6949191146f1": {
     "model_module": "@jupyter-widgets/controls",
     "model_name": "DescriptionStyleModel",
     "model_module_version": "1.5.0",
     "state": {
      "_model_module": "@jupyter-widgets/controls",
      "_model_module_version": "1.5.0",
      "_model_name": "DescriptionStyleModel",
      "_view_count": null,
      "_view_module": "@jupyter-widgets/base",
      "_view_module_version": "1.2.0",
      "_view_name": "StyleView",
      "description_width": ""
     }
    },
    "21f20840340b4936aeb3e9d7bb55450f": {
     "model_module": "@jupyter-widgets/controls",
     "model_name": "HBoxModel",
     "model_module_version": "1.5.0",
     "state": {
      "_dom_classes": [],
      "_model_module": "@jupyter-widgets/controls",
      "_model_module_version": "1.5.0",
      "_model_name": "HBoxModel",
      "_view_count": null,
      "_view_module": "@jupyter-widgets/controls",
      "_view_module_version": "1.5.0",
      "_view_name": "HBoxView",
      "box_style": "",
      "children": [
       "IPY_MODEL_d3fb0458ae5f4dfc863edc814ea36bbf",
       "IPY_MODEL_ceb04c518e4548ad8e2529f8e653ea09",
       "IPY_MODEL_0c70010804ae4fd2997c717bb6d08846"
      ],
      "layout": "IPY_MODEL_d033d7b3cf0c4be9a4c547f661264926"
     }
    },
    "d3fb0458ae5f4dfc863edc814ea36bbf": {
     "model_module": "@jupyter-widgets/controls",
     "model_name": "HTMLModel",
     "model_module_version": "1.5.0",
     "state": {
      "_dom_classes": [],
      "_model_module": "@jupyter-widgets/controls",
      "_model_module_version": "1.5.0",
      "_model_name": "HTMLModel",
      "_view_count": null,
      "_view_module": "@jupyter-widgets/controls",
      "_view_module_version": "1.5.0",
      "_view_name": "HTMLView",
      "description": "",
      "description_tooltip": null,
      "layout": "IPY_MODEL_2eee87ac44a9435b91ab681a262888fa",
      "placeholder": "​",
      "style": "IPY_MODEL_bed4d841458d432ab5963f1c06d3257d",
      "value": "Downloading pytorch_model.bin: 100%"
     }
    },
    "ceb04c518e4548ad8e2529f8e653ea09": {
     "model_module": "@jupyter-widgets/controls",
     "model_name": "FloatProgressModel",
     "model_module_version": "1.5.0",
     "state": {
      "_dom_classes": [],
      "_model_module": "@jupyter-widgets/controls",
      "_model_module_version": "1.5.0",
      "_model_name": "FloatProgressModel",
      "_view_count": null,
      "_view_module": "@jupyter-widgets/controls",
      "_view_module_version": "1.5.0",
      "_view_name": "ProgressView",
      "bar_style": "success",
      "description": "",
      "description_tooltip": null,
      "layout": "IPY_MODEL_767069c067c04d0d976e02c99391e391",
      "max": 438024457,
      "min": 0,
      "orientation": "horizontal",
      "style": "IPY_MODEL_a8a33e681d10489e856847f3d5a9c82c",
      "value": 438024457
     }
    },
    "0c70010804ae4fd2997c717bb6d08846": {
     "model_module": "@jupyter-widgets/controls",
     "model_name": "HTMLModel",
     "model_module_version": "1.5.0",
     "state": {
      "_dom_classes": [],
      "_model_module": "@jupyter-widgets/controls",
      "_model_module_version": "1.5.0",
      "_model_name": "HTMLModel",
      "_view_count": null,
      "_view_module": "@jupyter-widgets/controls",
      "_view_module_version": "1.5.0",
      "_view_name": "HTMLView",
      "description": "",
      "description_tooltip": null,
      "layout": "IPY_MODEL_39e61d3dae014d839ae5ae476d465d5f",
      "placeholder": "​",
      "style": "IPY_MODEL_c88b301777c245668300834328e49598",
      "value": " 438M/438M [00:07&lt;00:00, 60.5MB/s]"
     }
    },
    "d033d7b3cf0c4be9a4c547f661264926": {
     "model_module": "@jupyter-widgets/base",
     "model_name": "LayoutModel",
     "model_module_version": "1.2.0",
     "state": {
      "_model_module": "@jupyter-widgets/base",
      "_model_module_version": "1.2.0",
      "_model_name": "LayoutModel",
      "_view_count": null,
      "_view_module": "@jupyter-widgets/base",
      "_view_module_version": "1.2.0",
      "_view_name": "LayoutView",
      "align_content": null,
      "align_items": null,
      "align_self": null,
      "border": null,
      "bottom": null,
      "display": null,
      "flex": null,
      "flex_flow": null,
      "grid_area": null,
      "grid_auto_columns": null,
      "grid_auto_flow": null,
      "grid_auto_rows": null,
      "grid_column": null,
      "grid_gap": null,
      "grid_row": null,
      "grid_template_areas": null,
      "grid_template_columns": null,
      "grid_template_rows": null,
      "height": null,
      "justify_content": null,
      "justify_items": null,
      "left": null,
      "margin": null,
      "max_height": null,
      "max_width": null,
      "min_height": null,
      "min_width": null,
      "object_fit": null,
      "object_position": null,
      "order": null,
      "overflow": null,
      "overflow_x": null,
      "overflow_y": null,
      "padding": null,
      "right": null,
      "top": null,
      "visibility": null,
      "width": null
     }
    },
    "2eee87ac44a9435b91ab681a262888fa": {
     "model_module": "@jupyter-widgets/base",
     "model_name": "LayoutModel",
     "model_module_version": "1.2.0",
     "state": {
      "_model_module": "@jupyter-widgets/base",
      "_model_module_version": "1.2.0",
      "_model_name": "LayoutModel",
      "_view_count": null,
      "_view_module": "@jupyter-widgets/base",
      "_view_module_version": "1.2.0",
      "_view_name": "LayoutView",
      "align_content": null,
      "align_items": null,
      "align_self": null,
      "border": null,
      "bottom": null,
      "display": null,
      "flex": null,
      "flex_flow": null,
      "grid_area": null,
      "grid_auto_columns": null,
      "grid_auto_flow": null,
      "grid_auto_rows": null,
      "grid_column": null,
      "grid_gap": null,
      "grid_row": null,
      "grid_template_areas": null,
      "grid_template_columns": null,
      "grid_template_rows": null,
      "height": null,
      "justify_content": null,
      "justify_items": null,
      "left": null,
      "margin": null,
      "max_height": null,
      "max_width": null,
      "min_height": null,
      "min_width": null,
      "object_fit": null,
      "object_position": null,
      "order": null,
      "overflow": null,
      "overflow_x": null,
      "overflow_y": null,
      "padding": null,
      "right": null,
      "top": null,
      "visibility": null,
      "width": null
     }
    },
    "bed4d841458d432ab5963f1c06d3257d": {
     "model_module": "@jupyter-widgets/controls",
     "model_name": "DescriptionStyleModel",
     "model_module_version": "1.5.0",
     "state": {
      "_model_module": "@jupyter-widgets/controls",
      "_model_module_version": "1.5.0",
      "_model_name": "DescriptionStyleModel",
      "_view_count": null,
      "_view_module": "@jupyter-widgets/base",
      "_view_module_version": "1.2.0",
      "_view_name": "StyleView",
      "description_width": ""
     }
    },
    "767069c067c04d0d976e02c99391e391": {
     "model_module": "@jupyter-widgets/base",
     "model_name": "LayoutModel",
     "model_module_version": "1.2.0",
     "state": {
      "_model_module": "@jupyter-widgets/base",
      "_model_module_version": "1.2.0",
      "_model_name": "LayoutModel",
      "_view_count": null,
      "_view_module": "@jupyter-widgets/base",
      "_view_module_version": "1.2.0",
      "_view_name": "LayoutView",
      "align_content": null,
      "align_items": null,
      "align_self": null,
      "border": null,
      "bottom": null,
      "display": null,
      "flex": null,
      "flex_flow": null,
      "grid_area": null,
      "grid_auto_columns": null,
      "grid_auto_flow": null,
      "grid_auto_rows": null,
      "grid_column": null,
      "grid_gap": null,
      "grid_row": null,
      "grid_template_areas": null,
      "grid_template_columns": null,
      "grid_template_rows": null,
      "height": null,
      "justify_content": null,
      "justify_items": null,
      "left": null,
      "margin": null,
      "max_height": null,
      "max_width": null,
      "min_height": null,
      "min_width": null,
      "object_fit": null,
      "object_position": null,
      "order": null,
      "overflow": null,
      "overflow_x": null,
      "overflow_y": null,
      "padding": null,
      "right": null,
      "top": null,
      "visibility": null,
      "width": null
     }
    },
    "a8a33e681d10489e856847f3d5a9c82c": {
     "model_module": "@jupyter-widgets/controls",
     "model_name": "ProgressStyleModel",
     "model_module_version": "1.5.0",
     "state": {
      "_model_module": "@jupyter-widgets/controls",
      "_model_module_version": "1.5.0",
      "_model_name": "ProgressStyleModel",
      "_view_count": null,
      "_view_module": "@jupyter-widgets/base",
      "_view_module_version": "1.2.0",
      "_view_name": "StyleView",
      "bar_color": null,
      "description_width": ""
     }
    },
    "39e61d3dae014d839ae5ae476d465d5f": {
     "model_module": "@jupyter-widgets/base",
     "model_name": "LayoutModel",
     "model_module_version": "1.2.0",
     "state": {
      "_model_module": "@jupyter-widgets/base",
      "_model_module_version": "1.2.0",
      "_model_name": "LayoutModel",
      "_view_count": null,
      "_view_module": "@jupyter-widgets/base",
      "_view_module_version": "1.2.0",
      "_view_name": "LayoutView",
      "align_content": null,
      "align_items": null,
      "align_self": null,
      "border": null,
      "bottom": null,
      "display": null,
      "flex": null,
      "flex_flow": null,
      "grid_area": null,
      "grid_auto_columns": null,
      "grid_auto_flow": null,
      "grid_auto_rows": null,
      "grid_column": null,
      "grid_gap": null,
      "grid_row": null,
      "grid_template_areas": null,
      "grid_template_columns": null,
      "grid_template_rows": null,
      "height": null,
      "justify_content": null,
      "justify_items": null,
      "left": null,
      "margin": null,
      "max_height": null,
      "max_width": null,
      "min_height": null,
      "min_width": null,
      "object_fit": null,
      "object_position": null,
      "order": null,
      "overflow": null,
      "overflow_x": null,
      "overflow_y": null,
      "padding": null,
      "right": null,
      "top": null,
      "visibility": null,
      "width": null
     }
    },
    "c88b301777c245668300834328e49598": {
     "model_module": "@jupyter-widgets/controls",
     "model_name": "DescriptionStyleModel",
     "model_module_version": "1.5.0",
     "state": {
      "_model_module": "@jupyter-widgets/controls",
      "_model_module_version": "1.5.0",
      "_model_name": "DescriptionStyleModel",
      "_view_count": null,
      "_view_module": "@jupyter-widgets/base",
      "_view_module_version": "1.2.0",
      "_view_name": "StyleView",
      "description_width": ""
     }
    }
   }
  }
 },
 "cells": [
  {
   "cell_type": "code",
   "source": [
    "!pip install transformers ecco datasets metrics transformers-interpret > /dev/null"
   ],
   "metadata": {
    "id": "wv9yFQABFYcr"
   },
   "execution_count": 1,
   "outputs": []
  },
  {
   "cell_type": "code",
   "execution_count": 2,
   "metadata": {
    "id": "7LFH6sZTFHWS"
   },
   "outputs": [],
   "source": [
    "from transformers import AutoTokenizer, AutoModelForSequenceClassification\n",
    "import torch\n",
    "import ecco\n",
    "from transformers_interpret import PairwiseSequenceClassificationExplainer\n",
    "from datasets import load_dataset, load_metric\n",
    "import warnings\n",
    "\n",
    "warnings.filterwarnings('ignore')"
   ]
  },
  {
   "cell_type": "markdown",
   "source": [
    "# Transformers"
   ],
   "metadata": {
    "id": "geCdPOgJ2HjN"
   }
  },
  {
   "cell_type": "markdown",
   "source": [
    "# Encoder Only Models"
   ],
   "metadata": {
    "id": "ktuiEWx7KayK"
   }
  },
  {
   "cell_type": "markdown",
   "source": [
    "## Layer Integrated Gradients"
   ],
   "metadata": {
    "id": "4aN4Zeig2xFB"
   }
  },
  {
   "cell_type": "code",
   "source": [
    "model_identifier = \"yoshitomo-matsubara/bert-base-uncased-mrpc\"  # model ID from huggingface"
   ],
   "metadata": {
    "id": "R_YgomQHK8Fu"
   },
   "execution_count": 19,
   "outputs": []
  },
  {
   "cell_type": "code",
   "source": [
    "# load dataset\n",
    "\n",
    "mrpc = load_dataset(\"glue\", \"mrpc\")"
   ],
   "metadata": {
    "colab": {
     "base_uri": "https://localhost:8080/",
     "height": 67,
     "referenced_widgets": [
      "f60f8781f141435194d84ebb08181c92",
      "736996839d0c46828d5437936ef4eef7",
      "8a15fe23eb9543a49a8ab4a951ff1c80",
      "dc13060fb9194cf1bba4d00f07e39f49",
      "1de84320d51a4d95be577229f4b84c9d",
      "a71db39163a14cf78926a0313e27fc18",
      "e8428fab3e3245879016782c28444197",
      "457e23638c344ad4a526092d55478d9a",
      "cc638122add141e19d87ffd6384a840e",
      "145fe487a0c04085bbb46c2bf942b522",
      "80e958ea6160447b90b0dcaace975551"
     ]
    },
    "id": "mSgHNVclKhb7",
    "outputId": "90a62841-b3e5-4beb-dbdc-f1ddbf560189"
   },
   "execution_count": 4,
   "outputs": [
    {
     "output_type": "stream",
     "name": "stderr",
     "text": [
      "WARNING:datasets.builder:Found cached dataset glue (/root/.cache/huggingface/datasets/glue/mrpc/1.0.0/dacbe3125aa31d7f70367a07a8a9e72a5a0bfeb5fc42e75c9db75b96da6053ad)\n"
     ]
    },
    {
     "output_type": "display_data",
     "data": {
      "text/plain": [
       "  0%|          | 0/3 [00:00<?, ?it/s]"
      ],
      "application/vnd.jupyter.widget-view+json": {
       "version_major": 2,
       "version_minor": 0,
       "model_id": "f60f8781f141435194d84ebb08181c92"
      }
     },
     "metadata": {}
    }
   ]
  },
  {
   "cell_type": "code",
   "source": [
    "mrpc['validation'][0]"
   ],
   "metadata": {
    "colab": {
     "base_uri": "https://localhost:8080/"
    },
    "id": "W5o8V8VaMlbL",
    "outputId": "31ac2b70-548f-43bc-c594-88cdc622879a"
   },
   "execution_count": 5,
   "outputs": [
    {
     "output_type": "execute_result",
     "data": {
      "text/plain": [
       "{'sentence1': \"He said the foodservice pie business doesn 't fit the company 's long-term growth strategy .\",\n",
       " 'sentence2': '\" The foodservice pie business does not fit our long-term growth strategy .',\n",
       " 'label': 1,\n",
       " 'idx': 9}"
      ]
     },
     "metadata": {},
     "execution_count": 5
    }
   ]
  },
  {
   "cell_type": "code",
   "source": [
    "# tokenize examples\n",
    "tokenizer = AutoTokenizer.from_pretrained(model_identifier)\n",
    "\n",
    "def tokenizer_fn(examples):\n",
    "    tokenized = tokenizer(examples['sentence1'], examples['sentence2'], truncation=True, max_length=128, padding='max_length')\n",
    "    input_ids = tokenized['input_ids']\n",
    "    tokenized['input'] = [tokenizer.convert_ids_to_tokens(x) for x in input_ids]\n",
    "    return tokenized\n",
    "\n",
    "mrpc_tokenized = mrpc.map(tokenizer_fn, batched=True)\n",
    "mrpc_input = [x['input'] for x in mrpc_tokenized['validation']]"
   ],
   "metadata": {
    "colab": {
     "base_uri": "https://localhost:8080/",
     "height": 145,
     "referenced_widgets": [
      "bc0f8bb89d1f4b2580f282aba125c780",
      "4ff0bdb20d9f420c965016c37a382595",
      "38095cab88564ab79df9df9e25d437b9",
      "c2b393c6cf6442acaa318edd2386e112",
      "1ab202f60a9340c5a3bba8b67b0273db",
      "67d21f66d5384c3db9142316bb8228f7",
      "8d069a0e18f84dd8bb71a14c0763efdd",
      "09ce5617a74b4452a48d1345b73ec2b1",
      "1dcace0753d4422f82c8c174de35708b",
      "0948522b828d4bd986fb04ee23013e8f",
      "e15f8f45d609427a94054cdd9cf6751b",
      "38361e29d35241d8af087396dd9da75f",
      "a0f6405732e843668337e905196e0847",
      "b90cfc61f1a9434fb30a218884eef2b6",
      "ca26542a195e494eb6ccd2458a4cb857",
      "4e236be494f445f5a1850a05d6bf6847",
      "c6e17a07dd1145f984f56da6e9c68181",
      "90ff51cdb8a8497e9a24b79f79e247c7",
      "b18e7b5de00d4ae9ae5d71b03ae48bac",
      "6aab4347a43d4ae6bec58782ba63db70",
      "3022f1482eaa4219bef1a2fcf4208138",
      "7b349ff78d2143d2964984501ea6add8",
      "21f610e233c549fe9877965593e009df",
      "07d65c12faa0440b8870837c83756a91",
      "1744803e241343b48d2aaabc6d63b355",
      "d0865b3923c94a78a3e9411e959eba49",
      "9cbcfc1c7a9a4084a02cab681ad414e1",
      "70d282779ca34f24af98f0ce246ab788",
      "f04f1f184c184ca58d9d7f468b0a8cb3",
      "a10e60cab9be4b4dabb580ca2e96a76c",
      "c860494ea27d432799e138038d50c6c8",
      "16c6cc6b79344c10a917ee6ebbf3c321",
      "53c751373aed4d4d8e74e44effa431a8",
      "8964168c25b74e7bab8f154a86e005fa",
      "3fd05e4ce5574343a1284c6ed91b4d07",
      "4aa5b7583be541308a8f2080852f953d",
      "24079334cbe14a91a276349570f0c2f7",
      "2f82c820972b4371bb028636b9d541c6",
      "f3ee2a50b772474eabea3e745d488169",
      "f8952af1dedc4738a523a4b986f3496d",
      "0d680e33cba14e4d818f98ec116d3956",
      "30f1e7d13d22456fadf07a39eda3ed17",
      "d0451f78664c46a5923d3e5e89721a73",
      "8cb46dd259d149baa4e162f4ed111a01",
      "27df3b6a7ca642d094cff19d6a4d4fb1",
      "d446296e71e64a6398e540c2c898c56d",
      "aadf719896e84910ab0f905ccbb052d7",
      "349c7cad86514b11b8a26a73cb854af5",
      "c15fcfe3b05c4eae87b2ee5176f3142f",
      "473de9da34474b9b89bffb5ba98334d4",
      "92910e376bef43b39fe45e229fc5787f",
      "a1c242203e274d6eb78acc315f71a611",
      "b6e6730907544fa4893e68b4957e2d8f",
      "2921298b9b7347438f2c684d7ce7d496",
      "b40aa0cafb9d49698538c0ccc6de5af8",
      "e0990a09f6fd4398bfe96715f0dc7865",
      "cc618e14876644ca945d0cf556aa6577",
      "9d83bf9f4e1c4b729311a4ed93efe94f",
      "a7bcb7c1181e482e9efdf8dc2ca3de97",
      "56a9d8b97b5944a68c9b6b45ee2f7ceb",
      "e0652a8aa6e847d4820664b6a9a3df45",
      "cd3eceb052cf4c02823b657e7851ab56",
      "8b823fa311804164a7f2e55a7c941af8",
      "6c8df211bd19471785f1af6229df8737",
      "dae1eca0d39741c2b159e015ff22b516",
      "d7918c115ceb405cb6f32b60d3f7b8ab",
      "71517d2c98064e479fc0ba88d6cdbdd0",
      "1d2e7773299e40579e0e21c6f778f116",
      "ba20d1c02800413d972af3fd2a330b39",
      "f0a03f5e01794c4199a7212eacf0bc09",
      "e322913efed24faa9e23d14d84544912",
      "7525c4c0b3ff4a46b488da60fb94280c",
      "395f38e9dc3a4057ad45e386e79f1723",
      "b665acbbf1a04c3baabb70ad93362c1c",
      "2f1ad3d18d684ca2b7aac9b3b25cb102",
      "c7f25c6e6e7d44a38e22bab5401e0bfd",
      "792b0003471b4b91a6b8fc9aef961eec"
     ]
    },
    "id": "OQvqHHcYL3ag",
    "outputId": "027bb477-1b8b-4f5a-8c85-ee4eeca7dffb"
   },
   "execution_count": 154,
   "outputs": [
    {
     "output_type": "display_data",
     "data": {
      "text/plain": [
       "Downloading (…)okenizer_config.json:   0%|          | 0.00/303 [00:00<?, ?B/s]"
      ],
      "application/vnd.jupyter.widget-view+json": {
       "version_major": 2,
       "version_minor": 0,
       "model_id": "bc0f8bb89d1f4b2580f282aba125c780"
      }
     },
     "metadata": {}
    },
    {
     "output_type": "display_data",
     "data": {
      "text/plain": [
       "Downloading (…)solve/main/vocab.txt:   0%|          | 0.00/232k [00:00<?, ?B/s]"
      ],
      "application/vnd.jupyter.widget-view+json": {
       "version_major": 2,
       "version_minor": 0,
       "model_id": "38361e29d35241d8af087396dd9da75f"
      }
     },
     "metadata": {}
    },
    {
     "output_type": "display_data",
     "data": {
      "text/plain": [
       "Downloading (…)/main/tokenizer.json:   0%|          | 0.00/466k [00:00<?, ?B/s]"
      ],
      "application/vnd.jupyter.widget-view+json": {
       "version_major": 2,
       "version_minor": 0,
       "model_id": "21f610e233c549fe9877965593e009df"
      }
     },
     "metadata": {}
    },
    {
     "output_type": "display_data",
     "data": {
      "text/plain": [
       "Downloading (…)cial_tokens_map.json:   0%|          | 0.00/112 [00:00<?, ?B/s]"
      ],
      "application/vnd.jupyter.widget-view+json": {
       "version_major": 2,
       "version_minor": 0,
       "model_id": "8964168c25b74e7bab8f154a86e005fa"
      }
     },
     "metadata": {}
    },
    {
     "output_type": "display_data",
     "data": {
      "text/plain": [
       "Map:   0%|          | 0/3668 [00:00<?, ? examples/s]"
      ],
      "application/vnd.jupyter.widget-view+json": {
       "version_major": 2,
       "version_minor": 0,
       "model_id": "27df3b6a7ca642d094cff19d6a4d4fb1"
      }
     },
     "metadata": {}
    },
    {
     "output_type": "display_data",
     "data": {
      "text/plain": [
       "Map:   0%|          | 0/408 [00:00<?, ? examples/s]"
      ],
      "application/vnd.jupyter.widget-view+json": {
       "version_major": 2,
       "version_minor": 0,
       "model_id": "e0990a09f6fd4398bfe96715f0dc7865"
      }
     },
     "metadata": {}
    },
    {
     "output_type": "display_data",
     "data": {
      "text/plain": [
       "Map:   0%|          | 0/1725 [00:00<?, ? examples/s]"
      ],
      "application/vnd.jupyter.widget-view+json": {
       "version_major": 2,
       "version_minor": 0,
       "model_id": "71517d2c98064e479fc0ba88d6cdbdd0"
      }
     },
     "metadata": {}
    }
   ]
  },
  {
   "cell_type": "code",
   "source": [
    "mrpc_input[0]"
   ],
   "metadata": {
    "colab": {
     "base_uri": "https://localhost:8080/"
    },
    "id": "-t0-oGFRMx1h",
    "outputId": "6898cf27-d478-46fc-ba05-175961edb23a"
   },
   "execution_count": 7,
   "outputs": [
    {
     "output_type": "execute_result",
     "data": {
      "text/plain": [
       "['[CLS]',\n",
       " 'he',\n",
       " 'said',\n",
       " 'the',\n",
       " 'foods',\n",
       " '##er',\n",
       " '##vic',\n",
       " '##e',\n",
       " 'pie',\n",
       " 'business',\n",
       " 'doesn',\n",
       " \"'\",\n",
       " 't',\n",
       " 'fit',\n",
       " 'the',\n",
       " 'company',\n",
       " \"'\",\n",
       " 's',\n",
       " 'long',\n",
       " '-',\n",
       " 'term',\n",
       " 'growth',\n",
       " 'strategy',\n",
       " '.',\n",
       " '[SEP]',\n",
       " '\"',\n",
       " 'the',\n",
       " 'foods',\n",
       " '##er',\n",
       " '##vic',\n",
       " '##e',\n",
       " 'pie',\n",
       " 'business',\n",
       " 'does',\n",
       " 'not',\n",
       " 'fit',\n",
       " 'our',\n",
       " 'long',\n",
       " '-',\n",
       " 'term',\n",
       " 'growth',\n",
       " 'strategy',\n",
       " '.',\n",
       " '[SEP]']"
      ]
     },
     "metadata": {},
     "execution_count": 7
    }
   ]
  },
  {
   "cell_type": "code",
   "source": [
    "model = AutoModelForSequenceClassification.from_pretrained(model_identifier, id2label={0: 'not equivalent', 1: 'equivalent'})"
   ],
   "metadata": {
    "colab": {
     "base_uri": "https://localhost:8080/",
     "height": 81,
     "referenced_widgets": [
      "0785379a54304bf1b70117cd79fa768e",
      "95c19eb60b8345f0b098eca0682d4e70",
      "ccf8ff81211f49299bdf2ec805dafd8e",
      "7171aa79f11b458799790fe1b153850c",
      "7c5c23bbb95644ac8d95aea70419783d",
      "93fceaad54694c4ab89b015e2278114d",
      "9b1fa7405edd4cf48f5e18e0aab9cc36",
      "61e785c25d1a41f1835c540236cea628",
      "8d1a930674664637944aa34e23a2111c",
      "25ed2e66f0e24fcd858a370adae67861",
      "22a691647c7648c79feb6949191146f1",
      "21f20840340b4936aeb3e9d7bb55450f",
      "d3fb0458ae5f4dfc863edc814ea36bbf",
      "ceb04c518e4548ad8e2529f8e653ea09",
      "0c70010804ae4fd2997c717bb6d08846",
      "d033d7b3cf0c4be9a4c547f661264926",
      "2eee87ac44a9435b91ab681a262888fa",
      "bed4d841458d432ab5963f1c06d3257d",
      "767069c067c04d0d976e02c99391e391",
      "a8a33e681d10489e856847f3d5a9c82c",
      "39e61d3dae014d839ae5ae476d465d5f",
      "c88b301777c245668300834328e49598"
     ]
    },
    "id": "_lahIbexY9ul",
    "outputId": "15572e86-1ded-4eec-a001-3a921ea839a0"
   },
   "execution_count": 20,
   "outputs": [
    {
     "output_type": "display_data",
     "data": {
      "text/plain": [
       "Downloading (…)lve/main/config.json:   0%|          | 0.00/697 [00:00<?, ?B/s]"
      ],
      "application/vnd.jupyter.widget-view+json": {
       "version_major": 2,
       "version_minor": 0,
       "model_id": "0785379a54304bf1b70117cd79fa768e"
      }
     },
     "metadata": {}
    },
    {
     "output_type": "display_data",
     "data": {
      "text/plain": [
       "Downloading pytorch_model.bin:   0%|          | 0.00/438M [00:00<?, ?B/s]"
      ],
      "application/vnd.jupyter.widget-view+json": {
       "version_major": 2,
       "version_minor": 0,
       "model_id": "21f20840340b4936aeb3e9d7bb55450f"
      }
     },
     "metadata": {}
    }
   ]
  },
  {
   "cell_type": "code",
   "source": [
    "pairwise_explainer = PairwiseSequenceClassificationExplainer(model, tokenizer)\n",
    "\n",
    "sample_id = 33\n",
    "query = mrpc['validation']['sentence1'][sample_id]\n",
    "context = mrpc['validation']['sentence2'][sample_id]\n",
    "pairwise_attr = pairwise_explainer(query, context, class_name=\"equivalent\")\n",
    "pairwise_attr"
   ],
   "metadata": {
    "colab": {
     "base_uri": "https://localhost:8080/"
    },
    "id": "_KY6xvcLg1hQ",
    "outputId": "868bab78-3a33-4b8b-8451-8eea3a87e433"
   },
   "execution_count": 30,
   "outputs": [
    {
     "output_type": "execute_result",
     "data": {
      "text/plain": [
       "[('[CLS]', 0.0),\n",
       " ('at', 0.002256995349345658),\n",
       " ('community', -0.24258172951039192),\n",
       " ('colleges', -0.07289701288713903),\n",
       " (',', 0.07535342802453096),\n",
       " ('tuition', -0.3130243995565343),\n",
       " ('will', 0.33207001568622796),\n",
       " ('jump', -0.6422741289107403),\n",
       " ('to', 0.13318481534314075),\n",
       " ('$', 0.029904325380982942),\n",
       " ('2', 0.025189137923712298),\n",
       " (',', -0.006500380263097067),\n",
       " ('800', -0.05628099950156019),\n",
       " ('from', 0.00510322486611351),\n",
       " ('$', 0.002365061352022029),\n",
       " ('2', -0.06287543872619068),\n",
       " (',', -0.0017820083820939807),\n",
       " ('500', 0.001892479640711604),\n",
       " ('.', -0.06298990544082968),\n",
       " ('[SEP]', 0.0),\n",
       " ('community', -0.1721238410761472),\n",
       " ('college', -0.018057225076535798),\n",
       " ('students', 0.037843978086682176),\n",
       " ('will', 0.18248906926181685),\n",
       " ('see', 0.17215637523716082),\n",
       " ('their', 0.11071299342822064),\n",
       " ('tuition', -0.3227152122604722),\n",
       " ('rise', 0.08272707937829359),\n",
       " ('by', 0.15167683061105833),\n",
       " ('$', 0.01750948023732602),\n",
       " ('300', 0.04113354169264424),\n",
       " ('to', 0.07057943403899553),\n",
       " ('$', 0.013406508372903338),\n",
       " ('2', -0.09803790305928056),\n",
       " (',', 0.0319972015352312),\n",
       " ('800', -0.10102571152631232),\n",
       " ('or', 0.09727337774746471),\n",
       " ('12', -0.016574835397427382),\n",
       " ('percent', -0.01898885805006216),\n",
       " ('.', -0.016560082420218558),\n",
       " ('[SEP]', 0.0)]"
      ]
     },
     "metadata": {},
     "execution_count": 30
    }
   ]
  },
  {
   "cell_type": "code",
   "source": [
    "pairwise_explainer.predicted_class_index, pairwise_explainer.predicted_class_name"
   ],
   "metadata": {
    "colab": {
     "base_uri": "https://localhost:8080/"
    },
    "id": "-K9Quobjh52c",
    "outputId": "77f1e02c-e79c-40e2-ecdd-0101b4b4af4c"
   },
   "execution_count": 31,
   "outputs": [
    {
     "output_type": "execute_result",
     "data": {
      "text/plain": [
       "(array(0), 'not equivalent')"
      ]
     },
     "metadata": {},
     "execution_count": 31
    }
   ]
  },
  {
   "cell_type": "code",
   "source": [
    "_ = pairwise_explainer.visualize(true_class=model.config.id2label[mrpc['validation']['label'][sample_id]])"
   ],
   "metadata": {
    "colab": {
     "base_uri": "https://localhost:8080/",
     "height": 99
    },
    "id": "sD5DpiRJkchY",
    "outputId": "647ffab2-a7b6-4e88-c62f-1bc8b54d5b03"
   },
   "execution_count": 33,
   "outputs": [
    {
     "output_type": "display_data",
     "data": {
      "text/plain": [
       "<IPython.core.display.HTML object>"
      ],
      "text/html": [
       "<table width: 100%><div style=\"border-top: 1px solid; margin-top: 5px;             padding-top: 5px; display: inline-block\"><b>Legend: </b><span style=\"display: inline-block; width: 10px; height: 10px;                 border: 1px solid; background-color:                 hsl(0, 75%, 60%)\"></span> Negative  <span style=\"display: inline-block; width: 10px; height: 10px;                 border: 1px solid; background-color:                 hsl(0, 75%, 100%)\"></span> Neutral  <span style=\"display: inline-block; width: 10px; height: 10px;                 border: 1px solid; background-color:                 hsl(120, 75%, 50%)\"></span> Positive  </div><tr><th>True Label</th><th>Predicted Label</th><th>Attribution Label</th><th>Attribution Score</th><th>Word Importance</th><tr><td><text style=\"padding-right:2em\"><b>equivalent</b></text></td><td><text style=\"padding-right:2em\"><b>not equivalent (0.14)</b></text></td><td><text style=\"padding-right:2em\"><b>not equivalent</b></text></td><td><text style=\"padding-right:2em\"><b>-0.61</b></text></td><td><mark style=\"background-color: hsl(0, 75%, 100%); opacity:1.0;                     line-height:1.75\"><font color=\"black\"> [CLS]                    </font></mark><mark style=\"background-color: hsl(120, 75%, 100%); opacity:1.0;                     line-height:1.75\"><font color=\"black\"> at                    </font></mark><mark style=\"background-color: hsl(0, 75%, 91%); opacity:1.0;                     line-height:1.75\"><font color=\"black\"> community                    </font></mark><mark style=\"background-color: hsl(0, 75%, 98%); opacity:1.0;                     line-height:1.75\"><font color=\"black\"> colleges                    </font></mark><mark style=\"background-color: hsl(120, 75%, 97%); opacity:1.0;                     line-height:1.75\"><font color=\"black\"> ,                    </font></mark><mark style=\"background-color: hsl(0, 75%, 88%); opacity:1.0;                     line-height:1.75\"><font color=\"black\"> tuition                    </font></mark><mark style=\"background-color: hsl(120, 75%, 84%); opacity:1.0;                     line-height:1.75\"><font color=\"black\"> will                    </font></mark><mark style=\"background-color: hsl(0, 75%, 75%); opacity:1.0;                     line-height:1.75\"><font color=\"black\"> jump                    </font></mark><mark style=\"background-color: hsl(120, 75%, 94%); opacity:1.0;                     line-height:1.75\"><font color=\"black\"> to                    </font></mark><mark style=\"background-color: hsl(120, 75%, 99%); opacity:1.0;                     line-height:1.75\"><font color=\"black\"> $                    </font></mark><mark style=\"background-color: hsl(120, 75%, 99%); opacity:1.0;                     line-height:1.75\"><font color=\"black\"> 2                    </font></mark><mark style=\"background-color: hsl(0, 75%, 100%); opacity:1.0;                     line-height:1.75\"><font color=\"black\"> ,                    </font></mark><mark style=\"background-color: hsl(0, 75%, 98%); opacity:1.0;                     line-height:1.75\"><font color=\"black\"> 800                    </font></mark><mark style=\"background-color: hsl(120, 75%, 100%); opacity:1.0;                     line-height:1.75\"><font color=\"black\"> from                    </font></mark><mark style=\"background-color: hsl(120, 75%, 100%); opacity:1.0;                     line-height:1.75\"><font color=\"black\"> $                    </font></mark><mark style=\"background-color: hsl(0, 75%, 98%); opacity:1.0;                     line-height:1.75\"><font color=\"black\"> 2                    </font></mark><mark style=\"background-color: hsl(0, 75%, 100%); opacity:1.0;                     line-height:1.75\"><font color=\"black\"> ,                    </font></mark><mark style=\"background-color: hsl(120, 75%, 100%); opacity:1.0;                     line-height:1.75\"><font color=\"black\"> 500                    </font></mark><mark style=\"background-color: hsl(0, 75%, 98%); opacity:1.0;                     line-height:1.75\"><font color=\"black\"> .                    </font></mark><mark style=\"background-color: hsl(0, 75%, 100%); opacity:1.0;                     line-height:1.75\"><font color=\"black\"> [SEP]                    </font></mark><mark style=\"background-color: hsl(0, 75%, 94%); opacity:1.0;                     line-height:1.75\"><font color=\"black\"> community                    </font></mark><mark style=\"background-color: hsl(0, 75%, 100%); opacity:1.0;                     line-height:1.75\"><font color=\"black\"> college                    </font></mark><mark style=\"background-color: hsl(120, 75%, 99%); opacity:1.0;                     line-height:1.75\"><font color=\"black\"> students                    </font></mark><mark style=\"background-color: hsl(120, 75%, 91%); opacity:1.0;                     line-height:1.75\"><font color=\"black\"> will                    </font></mark><mark style=\"background-color: hsl(120, 75%, 92%); opacity:1.0;                     line-height:1.75\"><font color=\"black\"> see                    </font></mark><mark style=\"background-color: hsl(120, 75%, 95%); opacity:1.0;                     line-height:1.75\"><font color=\"black\"> their                    </font></mark><mark style=\"background-color: hsl(0, 75%, 88%); opacity:1.0;                     line-height:1.75\"><font color=\"black\"> tuition                    </font></mark><mark style=\"background-color: hsl(120, 75%, 96%); opacity:1.0;                     line-height:1.75\"><font color=\"black\"> rise                    </font></mark><mark style=\"background-color: hsl(120, 75%, 93%); opacity:1.0;                     line-height:1.75\"><font color=\"black\"> by                    </font></mark><mark style=\"background-color: hsl(120, 75%, 100%); opacity:1.0;                     line-height:1.75\"><font color=\"black\"> $                    </font></mark><mark style=\"background-color: hsl(120, 75%, 98%); opacity:1.0;                     line-height:1.75\"><font color=\"black\"> 300                    </font></mark><mark style=\"background-color: hsl(120, 75%, 97%); opacity:1.0;                     line-height:1.75\"><font color=\"black\"> to                    </font></mark><mark style=\"background-color: hsl(120, 75%, 100%); opacity:1.0;                     line-height:1.75\"><font color=\"black\"> $                    </font></mark><mark style=\"background-color: hsl(0, 75%, 97%); opacity:1.0;                     line-height:1.75\"><font color=\"black\"> 2                    </font></mark><mark style=\"background-color: hsl(120, 75%, 99%); opacity:1.0;                     line-height:1.75\"><font color=\"black\"> ,                    </font></mark><mark style=\"background-color: hsl(0, 75%, 96%); opacity:1.0;                     line-height:1.75\"><font color=\"black\"> 800                    </font></mark><mark style=\"background-color: hsl(120, 75%, 96%); opacity:1.0;                     line-height:1.75\"><font color=\"black\"> or                    </font></mark><mark style=\"background-color: hsl(0, 75%, 100%); opacity:1.0;                     line-height:1.75\"><font color=\"black\"> 12                    </font></mark><mark style=\"background-color: hsl(0, 75%, 100%); opacity:1.0;                     line-height:1.75\"><font color=\"black\"> percent                    </font></mark><mark style=\"background-color: hsl(0, 75%, 100%); opacity:1.0;                     line-height:1.75\"><font color=\"black\"> .                    </font></mark><mark style=\"background-color: hsl(0, 75%, 100%); opacity:1.0;                     line-height:1.75\"><font color=\"black\"> [SEP]                    </font></mark></td><tr></table>"
      ]
     },
     "metadata": {}
    }
   ]
  },
  {
   "cell_type": "code",
   "source": [
    "pairwise_explainer = PairwiseSequenceClassificationExplainer(model, tokenizer)\n",
    "\n",
    "sample_id = 33\n",
    "query = mrpc['validation']['sentence1'][sample_id]\n",
    "context = mrpc['validation']['sentence2'][sample_id]\n",
    "pairwise_attr = pairwise_explainer(query, context, index=0)\n",
    "_ = pairwise_explainer.visualize(true_class=model.config.id2label[mrpc['validation']['label'][sample_id]])"
   ],
   "metadata": {
    "colab": {
     "base_uri": "https://localhost:8080/",
     "height": 99
    },
    "id": "lFDB97AVnUBy",
    "outputId": "60c7f3c1-c795-47b3-db90-2e03fccd5c7e"
   },
   "execution_count": 34,
   "outputs": [
    {
     "output_type": "display_data",
     "data": {
      "text/plain": [
       "<IPython.core.display.HTML object>"
      ],
      "text/html": [
       "<table width: 100%><div style=\"border-top: 1px solid; margin-top: 5px;             padding-top: 5px; display: inline-block\"><b>Legend: </b><span style=\"display: inline-block; width: 10px; height: 10px;                 border: 1px solid; background-color:                 hsl(0, 75%, 60%)\"></span> Negative  <span style=\"display: inline-block; width: 10px; height: 10px;                 border: 1px solid; background-color:                 hsl(0, 75%, 100%)\"></span> Neutral  <span style=\"display: inline-block; width: 10px; height: 10px;                 border: 1px solid; background-color:                 hsl(120, 75%, 50%)\"></span> Positive  </div><tr><th>True Label</th><th>Predicted Label</th><th>Attribution Label</th><th>Attribution Score</th><th>Word Importance</th><tr><td><text style=\"padding-right:2em\"><b>equivalent</b></text></td><td><text style=\"padding-right:2em\"><b>not equivalent (0.14)</b></text></td><td><text style=\"padding-right:2em\"><b>not equivalent</b></text></td><td><text style=\"padding-right:2em\"><b>-0.61</b></text></td><td><mark style=\"background-color: hsl(0, 75%, 100%); opacity:1.0;                     line-height:1.75\"><font color=\"black\"> [CLS]                    </font></mark><mark style=\"background-color: hsl(120, 75%, 100%); opacity:1.0;                     line-height:1.75\"><font color=\"black\"> at                    </font></mark><mark style=\"background-color: hsl(0, 75%, 91%); opacity:1.0;                     line-height:1.75\"><font color=\"black\"> community                    </font></mark><mark style=\"background-color: hsl(0, 75%, 98%); opacity:1.0;                     line-height:1.75\"><font color=\"black\"> colleges                    </font></mark><mark style=\"background-color: hsl(120, 75%, 97%); opacity:1.0;                     line-height:1.75\"><font color=\"black\"> ,                    </font></mark><mark style=\"background-color: hsl(0, 75%, 88%); opacity:1.0;                     line-height:1.75\"><font color=\"black\"> tuition                    </font></mark><mark style=\"background-color: hsl(120, 75%, 84%); opacity:1.0;                     line-height:1.75\"><font color=\"black\"> will                    </font></mark><mark style=\"background-color: hsl(0, 75%, 75%); opacity:1.0;                     line-height:1.75\"><font color=\"black\"> jump                    </font></mark><mark style=\"background-color: hsl(120, 75%, 94%); opacity:1.0;                     line-height:1.75\"><font color=\"black\"> to                    </font></mark><mark style=\"background-color: hsl(120, 75%, 99%); opacity:1.0;                     line-height:1.75\"><font color=\"black\"> $                    </font></mark><mark style=\"background-color: hsl(120, 75%, 99%); opacity:1.0;                     line-height:1.75\"><font color=\"black\"> 2                    </font></mark><mark style=\"background-color: hsl(0, 75%, 100%); opacity:1.0;                     line-height:1.75\"><font color=\"black\"> ,                    </font></mark><mark style=\"background-color: hsl(0, 75%, 98%); opacity:1.0;                     line-height:1.75\"><font color=\"black\"> 800                    </font></mark><mark style=\"background-color: hsl(120, 75%, 100%); opacity:1.0;                     line-height:1.75\"><font color=\"black\"> from                    </font></mark><mark style=\"background-color: hsl(120, 75%, 100%); opacity:1.0;                     line-height:1.75\"><font color=\"black\"> $                    </font></mark><mark style=\"background-color: hsl(0, 75%, 98%); opacity:1.0;                     line-height:1.75\"><font color=\"black\"> 2                    </font></mark><mark style=\"background-color: hsl(0, 75%, 100%); opacity:1.0;                     line-height:1.75\"><font color=\"black\"> ,                    </font></mark><mark style=\"background-color: hsl(120, 75%, 100%); opacity:1.0;                     line-height:1.75\"><font color=\"black\"> 500                    </font></mark><mark style=\"background-color: hsl(0, 75%, 98%); opacity:1.0;                     line-height:1.75\"><font color=\"black\"> .                    </font></mark><mark style=\"background-color: hsl(0, 75%, 100%); opacity:1.0;                     line-height:1.75\"><font color=\"black\"> [SEP]                    </font></mark><mark style=\"background-color: hsl(0, 75%, 94%); opacity:1.0;                     line-height:1.75\"><font color=\"black\"> community                    </font></mark><mark style=\"background-color: hsl(0, 75%, 100%); opacity:1.0;                     line-height:1.75\"><font color=\"black\"> college                    </font></mark><mark style=\"background-color: hsl(120, 75%, 99%); opacity:1.0;                     line-height:1.75\"><font color=\"black\"> students                    </font></mark><mark style=\"background-color: hsl(120, 75%, 91%); opacity:1.0;                     line-height:1.75\"><font color=\"black\"> will                    </font></mark><mark style=\"background-color: hsl(120, 75%, 92%); opacity:1.0;                     line-height:1.75\"><font color=\"black\"> see                    </font></mark><mark style=\"background-color: hsl(120, 75%, 95%); opacity:1.0;                     line-height:1.75\"><font color=\"black\"> their                    </font></mark><mark style=\"background-color: hsl(0, 75%, 88%); opacity:1.0;                     line-height:1.75\"><font color=\"black\"> tuition                    </font></mark><mark style=\"background-color: hsl(120, 75%, 96%); opacity:1.0;                     line-height:1.75\"><font color=\"black\"> rise                    </font></mark><mark style=\"background-color: hsl(120, 75%, 93%); opacity:1.0;                     line-height:1.75\"><font color=\"black\"> by                    </font></mark><mark style=\"background-color: hsl(120, 75%, 100%); opacity:1.0;                     line-height:1.75\"><font color=\"black\"> $                    </font></mark><mark style=\"background-color: hsl(120, 75%, 98%); opacity:1.0;                     line-height:1.75\"><font color=\"black\"> 300                    </font></mark><mark style=\"background-color: hsl(120, 75%, 97%); opacity:1.0;                     line-height:1.75\"><font color=\"black\"> to                    </font></mark><mark style=\"background-color: hsl(120, 75%, 100%); opacity:1.0;                     line-height:1.75\"><font color=\"black\"> $                    </font></mark><mark style=\"background-color: hsl(0, 75%, 97%); opacity:1.0;                     line-height:1.75\"><font color=\"black\"> 2                    </font></mark><mark style=\"background-color: hsl(120, 75%, 99%); opacity:1.0;                     line-height:1.75\"><font color=\"black\"> ,                    </font></mark><mark style=\"background-color: hsl(0, 75%, 96%); opacity:1.0;                     line-height:1.75\"><font color=\"black\"> 800                    </font></mark><mark style=\"background-color: hsl(120, 75%, 96%); opacity:1.0;                     line-height:1.75\"><font color=\"black\"> or                    </font></mark><mark style=\"background-color: hsl(0, 75%, 100%); opacity:1.0;                     line-height:1.75\"><font color=\"black\"> 12                    </font></mark><mark style=\"background-color: hsl(0, 75%, 100%); opacity:1.0;                     line-height:1.75\"><font color=\"black\"> percent                    </font></mark><mark style=\"background-color: hsl(0, 75%, 100%); opacity:1.0;                     line-height:1.75\"><font color=\"black\"> .                    </font></mark><mark style=\"background-color: hsl(0, 75%, 100%); opacity:1.0;                     line-height:1.75\"><font color=\"black\"> [SEP]                    </font></mark></td><tr></table>"
      ]
     },
     "metadata": {}
    }
   ]
  },
  {
   "cell_type": "code",
   "source": [
    "pairwise_explainer = PairwiseSequenceClassificationExplainer(model, tokenizer)\n",
    "\n",
    "sample_id = 33\n",
    "query = mrpc['validation']['sentence1'][sample_id]\n",
    "context = mrpc['validation']['sentence2'][sample_id]\n",
    "pairwise_attr = pairwise_explainer(query, context, index=1)\n",
    "_ = pairwise_explainer.visualize(true_class=model.config.id2label[mrpc['validation']['label'][sample_id]])"
   ],
   "metadata": {
    "colab": {
     "base_uri": "https://localhost:8080/",
     "height": 99
    },
    "id": "9Dd--nOCrv9X",
    "outputId": "2fed266e-5828-45ae-f872-40779aba4907"
   },
   "execution_count": 35,
   "outputs": [
    {
     "output_type": "display_data",
     "data": {
      "text/plain": [
       "<IPython.core.display.HTML object>"
      ],
      "text/html": [
       "<table width: 100%><div style=\"border-top: 1px solid; margin-top: 5px;             padding-top: 5px; display: inline-block\"><b>Legend: </b><span style=\"display: inline-block; width: 10px; height: 10px;                 border: 1px solid; background-color:                 hsl(0, 75%, 60%)\"></span> Negative  <span style=\"display: inline-block; width: 10px; height: 10px;                 border: 1px solid; background-color:                 hsl(0, 75%, 100%)\"></span> Neutral  <span style=\"display: inline-block; width: 10px; height: 10px;                 border: 1px solid; background-color:                 hsl(120, 75%, 50%)\"></span> Positive  </div><tr><th>True Label</th><th>Predicted Label</th><th>Attribution Label</th><th>Attribution Score</th><th>Word Importance</th><tr><td><text style=\"padding-right:2em\"><b>equivalent</b></text></td><td><text style=\"padding-right:2em\"><b>not equivalent (0.86)</b></text></td><td><text style=\"padding-right:2em\"><b>equivalent</b></text></td><td><text style=\"padding-right:2em\"><b>0.61</b></text></td><td><mark style=\"background-color: hsl(0, 75%, 100%); opacity:1.0;                     line-height:1.75\"><font color=\"black\"> [CLS]                    </font></mark><mark style=\"background-color: hsl(0, 75%, 100%); opacity:1.0;                     line-height:1.75\"><font color=\"black\"> at                    </font></mark><mark style=\"background-color: hsl(120, 75%, 88%); opacity:1.0;                     line-height:1.75\"><font color=\"black\"> community                    </font></mark><mark style=\"background-color: hsl(120, 75%, 97%); opacity:1.0;                     line-height:1.75\"><font color=\"black\"> colleges                    </font></mark><mark style=\"background-color: hsl(0, 75%, 97%); opacity:1.0;                     line-height:1.75\"><font color=\"black\"> ,                    </font></mark><mark style=\"background-color: hsl(120, 75%, 85%); opacity:1.0;                     line-height:1.75\"><font color=\"black\"> tuition                    </font></mark><mark style=\"background-color: hsl(0, 75%, 87%); opacity:1.0;                     line-height:1.75\"><font color=\"black\"> will                    </font></mark><mark style=\"background-color: hsl(120, 75%, 68%); opacity:1.0;                     line-height:1.75\"><font color=\"black\"> jump                    </font></mark><mark style=\"background-color: hsl(0, 75%, 95%); opacity:1.0;                     line-height:1.75\"><font color=\"black\"> to                    </font></mark><mark style=\"background-color: hsl(0, 75%, 99%); opacity:1.0;                     line-height:1.75\"><font color=\"black\"> $                    </font></mark><mark style=\"background-color: hsl(0, 75%, 99%); opacity:1.0;                     line-height:1.75\"><font color=\"black\"> 2                    </font></mark><mark style=\"background-color: hsl(120, 75%, 100%); opacity:1.0;                     line-height:1.75\"><font color=\"black\"> ,                    </font></mark><mark style=\"background-color: hsl(120, 75%, 98%); opacity:1.0;                     line-height:1.75\"><font color=\"black\"> 800                    </font></mark><mark style=\"background-color: hsl(0, 75%, 100%); opacity:1.0;                     line-height:1.75\"><font color=\"black\"> from                    </font></mark><mark style=\"background-color: hsl(0, 75%, 100%); opacity:1.0;                     line-height:1.75\"><font color=\"black\"> $                    </font></mark><mark style=\"background-color: hsl(120, 75%, 97%); opacity:1.0;                     line-height:1.75\"><font color=\"black\"> 2                    </font></mark><mark style=\"background-color: hsl(120, 75%, 100%); opacity:1.0;                     line-height:1.75\"><font color=\"black\"> ,                    </font></mark><mark style=\"background-color: hsl(0, 75%, 100%); opacity:1.0;                     line-height:1.75\"><font color=\"black\"> 500                    </font></mark><mark style=\"background-color: hsl(120, 75%, 97%); opacity:1.0;                     line-height:1.75\"><font color=\"black\"> .                    </font></mark><mark style=\"background-color: hsl(0, 75%, 100%); opacity:1.0;                     line-height:1.75\"><font color=\"black\"> [SEP]                    </font></mark><mark style=\"background-color: hsl(120, 75%, 92%); opacity:1.0;                     line-height:1.75\"><font color=\"black\"> community                    </font></mark><mark style=\"background-color: hsl(120, 75%, 100%); opacity:1.0;                     line-height:1.75\"><font color=\"black\"> college                    </font></mark><mark style=\"background-color: hsl(0, 75%, 99%); opacity:1.0;                     line-height:1.75\"><font color=\"black\"> students                    </font></mark><mark style=\"background-color: hsl(0, 75%, 93%); opacity:1.0;                     line-height:1.75\"><font color=\"black\"> will                    </font></mark><mark style=\"background-color: hsl(0, 75%, 94%); opacity:1.0;                     line-height:1.75\"><font color=\"black\"> see                    </font></mark><mark style=\"background-color: hsl(0, 75%, 96%); opacity:1.0;                     line-height:1.75\"><font color=\"black\"> their                    </font></mark><mark style=\"background-color: hsl(120, 75%, 84%); opacity:1.0;                     line-height:1.75\"><font color=\"black\"> tuition                    </font></mark><mark style=\"background-color: hsl(0, 75%, 97%); opacity:1.0;                     line-height:1.75\"><font color=\"black\"> rise                    </font></mark><mark style=\"background-color: hsl(0, 75%, 94%); opacity:1.0;                     line-height:1.75\"><font color=\"black\"> by                    </font></mark><mark style=\"background-color: hsl(0, 75%, 100%); opacity:1.0;                     line-height:1.75\"><font color=\"black\"> $                    </font></mark><mark style=\"background-color: hsl(0, 75%, 99%); opacity:1.0;                     line-height:1.75\"><font color=\"black\"> 300                    </font></mark><mark style=\"background-color: hsl(0, 75%, 98%); opacity:1.0;                     line-height:1.75\"><font color=\"black\"> to                    </font></mark><mark style=\"background-color: hsl(0, 75%, 100%); opacity:1.0;                     line-height:1.75\"><font color=\"black\"> $                    </font></mark><mark style=\"background-color: hsl(120, 75%, 96%); opacity:1.0;                     line-height:1.75\"><font color=\"black\"> 2                    </font></mark><mark style=\"background-color: hsl(0, 75%, 99%); opacity:1.0;                     line-height:1.75\"><font color=\"black\"> ,                    </font></mark><mark style=\"background-color: hsl(120, 75%, 95%); opacity:1.0;                     line-height:1.75\"><font color=\"black\"> 800                    </font></mark><mark style=\"background-color: hsl(0, 75%, 97%); opacity:1.0;                     line-height:1.75\"><font color=\"black\"> or                    </font></mark><mark style=\"background-color: hsl(120, 75%, 100%); opacity:1.0;                     line-height:1.75\"><font color=\"black\"> 12                    </font></mark><mark style=\"background-color: hsl(120, 75%, 100%); opacity:1.0;                     line-height:1.75\"><font color=\"black\"> percent                    </font></mark><mark style=\"background-color: hsl(120, 75%, 100%); opacity:1.0;                     line-height:1.75\"><font color=\"black\"> .                    </font></mark><mark style=\"background-color: hsl(0, 75%, 100%); opacity:1.0;                     line-height:1.75\"><font color=\"black\"> [SEP]                    </font></mark></td><tr></table>"
      ]
     },
     "metadata": {}
    }
   ]
  },
  {
   "cell_type": "markdown",
   "source": [
    "## Similarity"
   ],
   "metadata": {
    "id": "ltyTnocO8K3o"
   }
  },
  {
   "cell_type": "code",
   "source": [
    "model = AutoModelForSequenceClassification.from_pretrained(model_identifier, id2label={0: 'not equivalent', 1: 'equivalent'}, output_hidden_states=True)\n",
    "model = model.eval().cuda()"
   ],
   "metadata": {
    "id": "wCMRZtWd8M8C"
   },
   "execution_count": 160,
   "outputs": []
  },
  {
   "cell_type": "code",
   "source": [
    "mrpc_subset = mrpc_tokenized['validation'][:100]\n",
    "mrpc_subset = {key: torch.tensor(mrpc_subset[key]).cuda() for key in ['input_ids', 'attention_mask', 'token_type_ids']}"
   ],
   "metadata": {
    "id": "0Dy0FBzt8qw8"
   },
   "execution_count": 161,
   "outputs": []
  },
  {
   "cell_type": "code",
   "source": [
    "outputs = model(**mrpc_subset)"
   ],
   "metadata": {
    "id": "znZognUc9MrI"
   },
   "execution_count": 162,
   "outputs": []
  },
  {
   "cell_type": "code",
   "source": [
    "outputs.hidden_states.__len__()"
   ],
   "metadata": {
    "colab": {
     "base_uri": "https://localhost:8080/"
    },
    "id": "mO3ruO5Y9axY",
    "outputId": "0b863006-d620-48aa-a7ec-9b4ec2492b3d"
   },
   "execution_count": 166,
   "outputs": [
    {
     "output_type": "execute_result",
     "data": {
      "text/plain": [
       "13"
      ]
     },
     "metadata": {},
     "execution_count": 166
    }
   ]
  },
  {
   "cell_type": "code",
   "source": [
    "outputs.hidden_states[0].shape"
   ],
   "metadata": {
    "colab": {
     "base_uri": "https://localhost:8080/"
    },
    "id": "ByPFSz1T9iat",
    "outputId": "61e1c25a-104a-4d2a-faa8-770f8980b9e3"
   },
   "execution_count": 167,
   "outputs": [
    {
     "output_type": "execute_result",
     "data": {
      "text/plain": [
       "torch.Size([100, 128, 768])"
      ]
     },
     "metadata": {},
     "execution_count": 167
    }
   ]
  },
  {
   "cell_type": "code",
   "source": [
    "hidden_states = {}\n",
    "\n",
    "for i, layer in enumerate(outputs.hidden_states):\n",
    "    mask = mrpc_subset['attention_mask'].view(-1)\n",
    "    hs = layer.view(-1, 768)\n",
    "    active_tokens = hs[mask].detach().cpu().numpy()\n",
    "    hidden_states[i] = active_tokens"
   ],
   "metadata": {
    "id": "WAUwK4MQ9oIK"
   },
   "execution_count": 169,
   "outputs": []
  },
  {
   "cell_type": "code",
   "source": [
    "from ecco import analysis\n",
    "import tqdm\n",
    "import seaborn as sns\n",
    "import pandas as pd\n",
    "import numpy as np\n",
    "\n",
    "\n",
    "similarity_scores = {\"score\": [], \"i\": [], \"j\": []}\n",
    "for i in tqdm.trange(len(hidden_states)):\n",
    "    for j in range(len(hidden_states)):\n",
    "        if i < j:\n",
    "            similarity_scores[\"score\"].append(analysis.cka(hidden_states[i], hidden_states[j]))\n",
    "            similarity_scores[\"i\"].append(i)\n",
    "            similarity_scores[\"j\"].append(j)\n",
    "\n",
    "\n",
    "heat_data = pd.DataFrame(data=similarity_scores).pivot(\"i\", \"j\", \"score\").reindex(index=np.arange(12, -1, -1))\n",
    "sns.heatmap(data=heat_data, annot=True, fmt=\".2f\", linewidth=.5)"
   ],
   "metadata": {
    "colab": {
     "base_uri": "https://localhost:8080/",
     "height": 485
    },
    "id": "vSl1ilhW-ia5",
    "outputId": "30d555a0-1017-4039-e442-b6c1baf38ee8"
   },
   "execution_count": 175,
   "outputs": [
    {
     "output_type": "stream",
     "name": "stderr",
     "text": [
      "100%|██████████| 13/13 [13:16<00:00, 61.26s/it]\n"
     ]
    },
    {
     "output_type": "execute_result",
     "data": {
      "text/plain": [
       "<Axes: xlabel='j', ylabel='i'>"
      ]
     },
     "metadata": {},
     "execution_count": 175
    },
    {
     "output_type": "display_data",
     "data": {
      "text/plain": [
       "<Figure size 640x480 with 2 Axes>"
      ],
      "image/png": "[encoded data removed]"
     },
     "metadata": {}
    }
   ]
  },
  {
   "cell_type": "markdown",
   "source": [
    "# Generative Models"
   ],
   "metadata": {
    "id": "jKXfbvhnsPM0"
   }
  },
  {
   "cell_type": "code",
   "source": [
    "lm = ecco.from_pretrained('distilgpt2', activations=True)"
   ],
   "metadata": {
    "id": "V7r39MNgsOXD"
   },
   "execution_count": 114,
   "outputs": []
  },
  {
   "cell_type": "code",
   "source": [
    "text = \" it was a matter of\"\n",
    "\n",
    "# Generate one token\n",
    "output_1 = lm.generate(text, generate=1, do_sample=False)"
   ],
   "metadata": {
    "colab": {
     "base_uri": "https://localhost:8080/",
     "height": 50
    },
    "id": "XX2BGMCDsgnT",
    "outputId": "45e232d4-b675-4c54-fd2a-1d927b65994b"
   },
   "execution_count": 41,
   "outputs": [
    {
     "output_type": "display_data",
     "data": {
      "text/plain": [
       "<IPython.core.display.HTML object>"
      ],
      "text/html": [
       "<html lang=\"en\">\n",
       "<script src=\"https://requirejs.org/docs/release/2.3.6/minified/require.js\"></script>\n",
       "<script>\n",
       "    var ecco_url = 'https://storage.googleapis.com/ml-intro/ecco/'\n",
       "    //var ecco_url = 'http://localhost:8000/'\n",
       "\n",
       "    if (window.ecco === undefined) window.ecco = {}\n",
       "\n",
       "    // Setup the paths of the script we'll be using\n",
       "    requirejs.config({\n",
       "        urlArgs: \"bust=\" + (new Date()).getTime(),\n",
       "        nodeRequire: require,\n",
       "        paths: {\n",
       "            d3: \"https://d3js.org/d3.v6.min\", // This is only for use in setup.html and basic.html\n",
       "            \"d3-array\": \"https://d3js.org/d3-array.v2.min\",\n",
       "            jquery: \"https://code.jquery.com/jquery-3.5.1.min\",\n",
       "            ecco: ecco_url + 'js/0.0.6/ecco-bundle.min',\n",
       "            xregexp: 'https://cdnjs.cloudflare.com/ajax/libs/xregexp/3.2.0/xregexp-all.min'\n",
       "        }\n",
       "    });\n",
       "\n",
       "    // Add the css file\n",
       "    //requirejs(['d3'],\n",
       "    //    function (d3) {\n",
       "    //        d3.select('#css').attr('href', ecco_url + 'html/styles.css')\n",
       "    //    })\n",
       "\n",
       "    console.log('Ecco initialize!!')\n",
       "\n",
       "    // returns a 'basic' object. basic.init() selects the html div we'll be\n",
       "    // rendering the html into, adds styles.css to the document.\n",
       "    define('basic', ['d3'],\n",
       "        function (d3) {\n",
       "            return {\n",
       "                init: function (viz_id = null) {\n",
       "                    if (viz_id == null) {\n",
       "                        viz_id = \"viz_\" + Math.round(Math.random() * 10000000)\n",
       "                    }\n",
       "                    // Select the div rendered below, change its id\n",
       "                    const div = d3.select('#basic').attr('id', viz_id),\n",
       "                        div_parent = d3.select('#' + viz_id).node().parentNode\n",
       "\n",
       "                    // Link to CSS file\n",
       "                    d3.select(div_parent).insert('link')\n",
       "                        .attr('rel', 'stylesheet')\n",
       "                        .attr('type', 'text/css')\n",
       "                        .attr('href', ecco_url + 'html/0.0.2/styles.css')\n",
       "\n",
       "                    return viz_id\n",
       "                }\n",
       "            }\n",
       "        }, function (err) {\n",
       "            console.log(err);\n",
       "        }\n",
       "    )\n",
       "</script>\n",
       "\n",
       "<head>\n",
       "    <link id='css' rel=\"stylesheet\" type=\"text/css\">\n",
       "</head>\n",
       "<div id=\"basic\"></div>\n"
      ]
     },
     "metadata": {}
    },
    {
     "output_type": "display_data",
     "data": {
      "text/plain": [
       "<IPython.core.display.Javascript object>"
      ],
      "application/javascript": [
       "\n",
       "         requirejs( ['basic', 'ecco'], function(basic, ecco){\n",
       "            basic.init('viz_790492') // Python needs to know the viz id. Used for each output token.\n",
       "            window.ecco['viz_790492'] = new ecco.renderOutputSequence({\n",
       "                    parentDiv: 'viz_790492',\n",
       "                    data: {\"tokens\": [{\"token\": \"it\", \"is_partial\": false, \"position\": 0, \"token_id\": 340, \"type\": \"input\"}, {\"token\": \"was\", \"is_partial\": false, \"position\": 1, \"token_id\": 373, \"type\": \"input\"}, {\"token\": \"a\", \"is_partial\": false, \"position\": 2, \"token_id\": 257, \"type\": \"input\"}, {\"token\": \"matter\", \"is_partial\": false, \"position\": 3, \"token_id\": 2300, \"type\": \"input\"}, {\"token\": \"of\", \"is_partial\": false, \"position\": 4, \"token_id\": 286, \"type\": \"input\"}]},\n",
       "                    tokenization_config: {\"token_prefix\": \"\\u0120\", \"partial_token_prefix\": \"\"}\n",
       "            \n",
       "            })\n",
       "         }, function (err) {\n",
       "            console.log(err);\n",
       "        })\n",
       "        "
      ]
     },
     "metadata": {}
    },
    {
     "output_type": "stream",
     "name": "stderr",
     "text": [
      "Setting `pad_token_id` to `eos_token_id`:50256 for open-end generation.\n"
     ]
    },
    {
     "output_type": "display_data",
     "data": {
      "text/plain": [
       "<IPython.core.display.Javascript object>"
      ],
      "application/javascript": [
       "\n",
       "        // We don't really need these require scripts. But this is to avert\n",
       "        //this code from running before display_input_sequence which DOES require external files\n",
       "        requirejs(['basic', 'ecco'], function(basic, ecco){\n",
       "                console.log('addToken viz_id', 'viz_790492');\n",
       "                window.ecco['viz_790492'].addToken({\"token\": \"time\", \"is_partial\": false, \"token_id\": 640, \"position\": 5, \"type\": \"output\"})\n",
       "                window.ecco['viz_790492'].redraw()\n",
       "        })\n",
       "        "
      ]
     },
     "metadata": {}
    }
   ]
  },
  {
   "cell_type": "code",
   "source": [
    "output_1 = lm.generate(text, generate=10, do_sample=False)"
   ],
   "metadata": {
    "colab": {
     "base_uri": "https://localhost:8080/",
     "height": 50
    },
    "id": "q1ddVjx-sv3f",
    "outputId": "2871e64c-f1c7-4deb-c953-644e132806db"
   },
   "execution_count": 49,
   "outputs": [
    {
     "output_type": "display_data",
     "data": {
      "text/plain": [
       "<IPython.core.display.HTML object>"
      ],
      "text/html": [
       "<html lang=\"en\">\n",
       "<script src=\"https://requirejs.org/docs/release/2.3.6/minified/require.js\"></script>\n",
       "<script>\n",
       "    var ecco_url = 'https://storage.googleapis.com/ml-intro/ecco/'\n",
       "    //var ecco_url = 'http://localhost:8000/'\n",
       "\n",
       "    if (window.ecco === undefined) window.ecco = {}\n",
       "\n",
       "    // Setup the paths of the script we'll be using\n",
       "    requirejs.config({\n",
       "        urlArgs: \"bust=\" + (new Date()).getTime(),\n",
       "        nodeRequire: require,\n",
       "        paths: {\n",
       "            d3: \"https://d3js.org/d3.v6.min\", // This is only for use in setup.html and basic.html\n",
       "            \"d3-array\": \"https://d3js.org/d3-array.v2.min\",\n",
       "            jquery: \"https://code.jquery.com/jquery-3.5.1.min\",\n",
       "            ecco: ecco_url + 'js/0.0.6/ecco-bundle.min',\n",
       "            xregexp: 'https://cdnjs.cloudflare.com/ajax/libs/xregexp/3.2.0/xregexp-all.min'\n",
       "        }\n",
       "    });\n",
       "\n",
       "    // Add the css file\n",
       "    //requirejs(['d3'],\n",
       "    //    function (d3) {\n",
       "    //        d3.select('#css').attr('href', ecco_url + 'html/styles.css')\n",
       "    //    })\n",
       "\n",
       "    console.log('Ecco initialize!!')\n",
       "\n",
       "    // returns a 'basic' object. basic.init() selects the html div we'll be\n",
       "    // rendering the html into, adds styles.css to the document.\n",
       "    define('basic', ['d3'],\n",
       "        function (d3) {\n",
       "            return {\n",
       "                init: function (viz_id = null) {\n",
       "                    if (viz_id == null) {\n",
       "                        viz_id = \"viz_\" + Math.round(Math.random() * 10000000)\n",
       "                    }\n",
       "                    // Select the div rendered below, change its id\n",
       "                    const div = d3.select('#basic').attr('id', viz_id),\n",
       "                        div_parent = d3.select('#' + viz_id).node().parentNode\n",
       "\n",
       "                    // Link to CSS file\n",
       "                    d3.select(div_parent).insert('link')\n",
       "                        .attr('rel', 'stylesheet')\n",
       "                        .attr('type', 'text/css')\n",
       "                        .attr('href', ecco_url + 'html/0.0.2/styles.css')\n",
       "\n",
       "                    return viz_id\n",
       "                }\n",
       "            }\n",
       "        }, function (err) {\n",
       "            console.log(err);\n",
       "        }\n",
       "    )\n",
       "</script>\n",
       "\n",
       "<head>\n",
       "    <link id='css' rel=\"stylesheet\" type=\"text/css\">\n",
       "</head>\n",
       "<div id=\"basic\"></div>\n"
      ]
     },
     "metadata": {}
    },
    {
     "output_type": "display_data",
     "data": {
      "text/plain": [
       "<IPython.core.display.Javascript object>"
      ],
      "application/javascript": [
       "\n",
       "         requirejs( ['basic', 'ecco'], function(basic, ecco){\n",
       "            basic.init('viz_471337') // Python needs to know the viz id. Used for each output token.\n",
       "            window.ecco['viz_471337'] = new ecco.renderOutputSequence({\n",
       "                    parentDiv: 'viz_471337',\n",
       "                    data: {\"tokens\": [{\"token\": \"it\", \"is_partial\": false, \"position\": 0, \"token_id\": 340, \"type\": \"input\"}, {\"token\": \"was\", \"is_partial\": false, \"position\": 1, \"token_id\": 373, \"type\": \"input\"}, {\"token\": \"a\", \"is_partial\": false, \"position\": 2, \"token_id\": 257, \"type\": \"input\"}, {\"token\": \"matter\", \"is_partial\": false, \"position\": 3, \"token_id\": 2300, \"type\": \"input\"}, {\"token\": \"of\", \"is_partial\": false, \"position\": 4, \"token_id\": 286, \"type\": \"input\"}]},\n",
       "                    tokenization_config: {\"token_prefix\": \"\\u0120\", \"partial_token_prefix\": \"\"}\n",
       "            \n",
       "            })\n",
       "         }, function (err) {\n",
       "            console.log(err);\n",
       "        })\n",
       "        "
      ]
     },
     "metadata": {}
    },
    {
     "output_type": "stream",
     "name": "stderr",
     "text": [
      "Setting `pad_token_id` to `eos_token_id`:50256 for open-end generation.\n"
     ]
    },
    {
     "output_type": "display_data",
     "data": {
      "text/plain": [
       "<IPython.core.display.Javascript object>"
      ],
      "application/javascript": [
       "\n",
       "        // We don't really need these require scripts. But this is to avert\n",
       "        //this code from running before display_input_sequence which DOES require external files\n",
       "        requirejs(['basic', 'ecco'], function(basic, ecco){\n",
       "                console.log('addToken viz_id', 'viz_471337');\n",
       "                window.ecco['viz_471337'].addToken({\"token\": \"time\", \"is_partial\": false, \"token_id\": 640, \"position\": 5, \"type\": \"output\"})\n",
       "                window.ecco['viz_471337'].redraw()\n",
       "        })\n",
       "        "
      ]
     },
     "metadata": {}
    },
    {
     "output_type": "display_data",
     "data": {
      "text/plain": [
       "<IPython.core.display.Javascript object>"
      ],
      "application/javascript": [
       "\n",
       "        // We don't really need these require scripts. But this is to avert\n",
       "        //this code from running before display_input_sequence which DOES require external files\n",
       "        requirejs(['basic', 'ecco'], function(basic, ecco){\n",
       "                console.log('addToken viz_id', 'viz_471337');\n",
       "                window.ecco['viz_471337'].addToken({\"token\": \"before\", \"is_partial\": false, \"token_id\": 878, \"position\": 6, \"type\": \"output\"})\n",
       "                window.ecco['viz_471337'].redraw()\n",
       "        })\n",
       "        "
      ]
     },
     "metadata": {}
    },
    {
     "output_type": "display_data",
     "data": {
      "text/plain": [
       "<IPython.core.display.Javascript object>"
      ],
      "application/javascript": [
       "\n",
       "        // We don't really need these require scripts. But this is to avert\n",
       "        //this code from running before display_input_sequence which DOES require external files\n",
       "        requirejs(['basic', 'ecco'], function(basic, ecco){\n",
       "                console.log('addToken viz_id', 'viz_471337');\n",
       "                window.ecco['viz_471337'].addToken({\"token\": \"the\", \"is_partial\": false, \"token_id\": 262, \"position\": 7, \"type\": \"output\"})\n",
       "                window.ecco['viz_471337'].redraw()\n",
       "        })\n",
       "        "
      ]
     },
     "metadata": {}
    },
    {
     "output_type": "display_data",
     "data": {
      "text/plain": [
       "<IPython.core.display.Javascript object>"
      ],
      "application/javascript": [
       "\n",
       "        // We don't really need these require scripts. But this is to avert\n",
       "        //this code from running before display_input_sequence which DOES require external files\n",
       "        requirejs(['basic', 'ecco'], function(basic, ecco){\n",
       "                console.log('addToken viz_id', 'viz_471337');\n",
       "                window.ecco['viz_471337'].addToken({\"token\": \"world\", \"is_partial\": false, \"token_id\": 995, \"position\": 8, \"type\": \"output\"})\n",
       "                window.ecco['viz_471337'].redraw()\n",
       "        })\n",
       "        "
      ]
     },
     "metadata": {}
    },
    {
     "output_type": "display_data",
     "data": {
      "text/plain": [
       "<IPython.core.display.Javascript object>"
      ],
      "application/javascript": [
       "\n",
       "        // We don't really need these require scripts. But this is to avert\n",
       "        //this code from running before display_input_sequence which DOES require external files\n",
       "        requirejs(['basic', 'ecco'], function(basic, ecco){\n",
       "                console.log('addToken viz_id', 'viz_471337');\n",
       "                window.ecco['viz_471337'].addToken({\"token\": \"was\", \"is_partial\": false, \"token_id\": 373, \"position\": 9, \"type\": \"output\"})\n",
       "                window.ecco['viz_471337'].redraw()\n",
       "        })\n",
       "        "
      ]
     },
     "metadata": {}
    },
    {
     "output_type": "display_data",
     "data": {
      "text/plain": [
       "<IPython.core.display.Javascript object>"
      ],
      "application/javascript": [
       "\n",
       "        // We don't really need these require scripts. But this is to avert\n",
       "        //this code from running before display_input_sequence which DOES require external files\n",
       "        requirejs(['basic', 'ecco'], function(basic, ecco){\n",
       "                console.log('addToken viz_id', 'viz_471337');\n",
       "                window.ecco['viz_471337'].addToken({\"token\": \"ready\", \"is_partial\": false, \"token_id\": 3492, \"position\": 10, \"type\": \"output\"})\n",
       "                window.ecco['viz_471337'].redraw()\n",
       "        })\n",
       "        "
      ]
     },
     "metadata": {}
    },
    {
     "output_type": "display_data",
     "data": {
      "text/plain": [
       "<IPython.core.display.Javascript object>"
      ],
      "application/javascript": [
       "\n",
       "        // We don't really need these require scripts. But this is to avert\n",
       "        //this code from running before display_input_sequence which DOES require external files\n",
       "        requirejs(['basic', 'ecco'], function(basic, ecco){\n",
       "                console.log('addToken viz_id', 'viz_471337');\n",
       "                window.ecco['viz_471337'].addToken({\"token\": \"to\", \"is_partial\": false, \"token_id\": 284, \"position\": 11, \"type\": \"output\"})\n",
       "                window.ecco['viz_471337'].redraw()\n",
       "        })\n",
       "        "
      ]
     },
     "metadata": {}
    },
    {
     "output_type": "display_data",
     "data": {
      "text/plain": [
       "<IPython.core.display.Javascript object>"
      ],
      "application/javascript": [
       "\n",
       "        // We don't really need these require scripts. But this is to avert\n",
       "        //this code from running before display_input_sequence which DOES require external files\n",
       "        requirejs(['basic', 'ecco'], function(basic, ecco){\n",
       "                console.log('addToken viz_id', 'viz_471337');\n",
       "                window.ecco['viz_471337'].addToken({\"token\": \"accept\", \"is_partial\": false, \"token_id\": 2453, \"position\": 12, \"type\": \"output\"})\n",
       "                window.ecco['viz_471337'].redraw()\n",
       "        })\n",
       "        "
      ]
     },
     "metadata": {}
    },
    {
     "output_type": "display_data",
     "data": {
      "text/plain": [
       "<IPython.core.display.Javascript object>"
      ],
      "application/javascript": [
       "\n",
       "        // We don't really need these require scripts. But this is to avert\n",
       "        //this code from running before display_input_sequence which DOES require external files\n",
       "        requirejs(['basic', 'ecco'], function(basic, ecco){\n",
       "                console.log('addToken viz_id', 'viz_471337');\n",
       "                window.ecco['viz_471337'].addToken({\"token\": \"the\", \"is_partial\": false, \"token_id\": 262, \"position\": 13, \"type\": \"output\"})\n",
       "                window.ecco['viz_471337'].redraw()\n",
       "        })\n",
       "        "
      ]
     },
     "metadata": {}
    },
    {
     "output_type": "display_data",
     "data": {
      "text/plain": [
       "<IPython.core.display.Javascript object>"
      ],
      "application/javascript": [
       "\n",
       "        // We don't really need these require scripts. But this is to avert\n",
       "        //this code from running before display_input_sequence which DOES require external files\n",
       "        requirejs(['basic', 'ecco'], function(basic, ecco){\n",
       "                console.log('addToken viz_id', 'viz_471337');\n",
       "                window.ecco['viz_471337'].addToken({\"token\": \"fact\", \"is_partial\": false, \"token_id\": 1109, \"position\": 14, \"type\": \"output\"})\n",
       "                window.ecco['viz_471337'].redraw()\n",
       "        })\n",
       "        "
      ]
     },
     "metadata": {}
    }
   ]
  },
  {
   "cell_type": "code",
   "source": [
    "output_1.layer_predictions(position=5, layer=5, topk=10)"
   ],
   "metadata": {
    "colab": {
     "base_uri": "https://localhost:8080/",
     "height": 210
    },
    "id": "is8HNJJ5syJJ",
    "outputId": "73b35781-cfd5-4670-97d4-7b7245ffb7b7"
   },
   "execution_count": 43,
   "outputs": [
    {
     "output_type": "display_data",
     "data": {
      "text/plain": [
       "<IPython.core.display.HTML object>"
      ],
      "text/html": [
       "<html lang=\"en\">\n",
       "<script src=\"https://requirejs.org/docs/release/2.3.6/minified/require.js\"></script>\n",
       "<script>\n",
       "    var ecco_url = 'https://storage.googleapis.com/ml-intro/ecco/'\n",
       "    //var ecco_url = 'http://localhost:8000/'\n",
       "\n",
       "    if (window.ecco === undefined) window.ecco = {}\n",
       "\n",
       "    // Setup the paths of the script we'll be using\n",
       "    requirejs.config({\n",
       "        urlArgs: \"bust=\" + (new Date()).getTime(),\n",
       "        nodeRequire: require,\n",
       "        paths: {\n",
       "            d3: \"https://d3js.org/d3.v6.min\", // This is only for use in setup.html and basic.html\n",
       "            \"d3-array\": \"https://d3js.org/d3-array.v2.min\",\n",
       "            jquery: \"https://code.jquery.com/jquery-3.5.1.min\",\n",
       "            ecco: ecco_url + 'js/0.0.6/ecco-bundle.min',\n",
       "            xregexp: 'https://cdnjs.cloudflare.com/ajax/libs/xregexp/3.2.0/xregexp-all.min'\n",
       "        }\n",
       "    });\n",
       "\n",
       "    // Add the css file\n",
       "    //requirejs(['d3'],\n",
       "    //    function (d3) {\n",
       "    //        d3.select('#css').attr('href', ecco_url + 'html/styles.css')\n",
       "    //    })\n",
       "\n",
       "    console.log('Ecco initialize!!')\n",
       "\n",
       "    // returns a 'basic' object. basic.init() selects the html div we'll be\n",
       "    // rendering the html into, adds styles.css to the document.\n",
       "    define('basic', ['d3'],\n",
       "        function (d3) {\n",
       "            return {\n",
       "                init: function (viz_id = null) {\n",
       "                    if (viz_id == null) {\n",
       "                        viz_id = \"viz_\" + Math.round(Math.random() * 10000000)\n",
       "                    }\n",
       "                    // Select the div rendered below, change its id\n",
       "                    const div = d3.select('#basic').attr('id', viz_id),\n",
       "                        div_parent = d3.select('#' + viz_id).node().parentNode\n",
       "\n",
       "                    // Link to CSS file\n",
       "                    d3.select(div_parent).insert('link')\n",
       "                        .attr('rel', 'stylesheet')\n",
       "                        .attr('type', 'text/css')\n",
       "                        .attr('href', ecco_url + 'html/0.0.2/styles.css')\n",
       "\n",
       "                    return viz_id\n",
       "                }\n",
       "            }\n",
       "        }, function (err) {\n",
       "            console.log(err);\n",
       "        }\n",
       "    )\n",
       "</script>\n",
       "\n",
       "<head>\n",
       "    <link id='css' rel=\"stylesheet\" type=\"text/css\">\n",
       "</head>\n",
       "<div id=\"basic\"></div>\n"
      ]
     },
     "metadata": {}
    },
    {
     "output_type": "display_data",
     "data": {
      "text/plain": [
       "<IPython.core.display.Javascript object>"
      ],
      "application/javascript": [
       "\n",
       "         requirejs(['basic', 'ecco'], function(basic, ecco){\n",
       "            const viz_id = basic.init()\n",
       "\n",
       "\n",
       "            let pred = new ecco.LayerPredictions({\n",
       "                parentDiv: viz_id,\n",
       "                data:[[{\"token\": \" time\", \"prob\": \"0.16099276\", \"ranking\": 1, \"layer\": 5}, {\"token\": \" the\", \"prob\": \"0.023775935\", \"ranking\": 2, \"layer\": 5}, {\"token\": \" fact\", \"prob\": \"0.016822336\", \"ranking\": 3, \"layer\": 5}, {\"token\": \" a\", \"prob\": \"0.0152503885\", \"ranking\": 4, \"layer\": 5}, {\"token\": \" course\", \"prob\": \"0.011499309\", \"ranking\": 5, \"layer\": 5}, {\"token\": \" faith\", \"prob\": \"0.009632143\", \"ranking\": 6, \"layer\": 5}, {\"token\": \" principle\", \"prob\": \"0.009305215\", \"ranking\": 7, \"layer\": 5}, {\"token\": \" personal\", \"prob\": \"0.009230161\", \"ranking\": 8, \"layer\": 5}, {\"token\": \" great\", \"prob\": \"0.008408422\", \"ranking\": 9, \"layer\": 5}, {\"token\": \" public\", \"prob\": \"0.008183523\", \"ranking\": 10, \"layer\": 5}]]\n",
       "            })\n",
       "            pred.init()\n",
       "         }, function (err) {\n",
       "            console.log(viz_id, err);\n",
       "        })"
      ]
     },
     "metadata": {}
    }
   ]
  },
  {
   "cell_type": "code",
   "source": [
    "output_1.layer_predictions(position=6, layer=5, topk=10)"
   ],
   "metadata": {
    "colab": {
     "base_uri": "https://localhost:8080/",
     "height": 210
    },
    "id": "x2Dpqpyws_ts",
    "outputId": "c8299a4a-6534-4337-d39c-fb115890feba"
   },
   "execution_count": 44,
   "outputs": [
    {
     "output_type": "display_data",
     "data": {
      "text/plain": [
       "<IPython.core.display.HTML object>"
      ],
      "text/html": [
       "<html lang=\"en\">\n",
       "<script src=\"https://requirejs.org/docs/release/2.3.6/minified/require.js\"></script>\n",
       "<script>\n",
       "    var ecco_url = 'https://storage.googleapis.com/ml-intro/ecco/'\n",
       "    //var ecco_url = 'http://localhost:8000/'\n",
       "\n",
       "    if (window.ecco === undefined) window.ecco = {}\n",
       "\n",
       "    // Setup the paths of the script we'll be using\n",
       "    requirejs.config({\n",
       "        urlArgs: \"bust=\" + (new Date()).getTime(),\n",
       "        nodeRequire: require,\n",
       "        paths: {\n",
       "            d3: \"https://d3js.org/d3.v6.min\", // This is only for use in setup.html and basic.html\n",
       "            \"d3-array\": \"https://d3js.org/d3-array.v2.min\",\n",
       "            jquery: \"https://code.jquery.com/jquery-3.5.1.min\",\n",
       "            ecco: ecco_url + 'js/0.0.6/ecco-bundle.min',\n",
       "            xregexp: 'https://cdnjs.cloudflare.com/ajax/libs/xregexp/3.2.0/xregexp-all.min'\n",
       "        }\n",
       "    });\n",
       "\n",
       "    // Add the css file\n",
       "    //requirejs(['d3'],\n",
       "    //    function (d3) {\n",
       "    //        d3.select('#css').attr('href', ecco_url + 'html/styles.css')\n",
       "    //    })\n",
       "\n",
       "    console.log('Ecco initialize!!')\n",
       "\n",
       "    // returns a 'basic' object. basic.init() selects the html div we'll be\n",
       "    // rendering the html into, adds styles.css to the document.\n",
       "    define('basic', ['d3'],\n",
       "        function (d3) {\n",
       "            return {\n",
       "                init: function (viz_id = null) {\n",
       "                    if (viz_id == null) {\n",
       "                        viz_id = \"viz_\" + Math.round(Math.random() * 10000000)\n",
       "                    }\n",
       "                    // Select the div rendered below, change its id\n",
       "                    const div = d3.select('#basic').attr('id', viz_id),\n",
       "                        div_parent = d3.select('#' + viz_id).node().parentNode\n",
       "\n",
       "                    // Link to CSS file\n",
       "                    d3.select(div_parent).insert('link')\n",
       "                        .attr('rel', 'stylesheet')\n",
       "                        .attr('type', 'text/css')\n",
       "                        .attr('href', ecco_url + 'html/0.0.2/styles.css')\n",
       "\n",
       "                    return viz_id\n",
       "                }\n",
       "            }\n",
       "        }, function (err) {\n",
       "            console.log(err);\n",
       "        }\n",
       "    )\n",
       "</script>\n",
       "\n",
       "<head>\n",
       "    <link id='css' rel=\"stylesheet\" type=\"text/css\">\n",
       "</head>\n",
       "<div id=\"basic\"></div>\n"
      ]
     },
     "metadata": {}
    },
    {
     "output_type": "display_data",
     "data": {
      "text/plain": [
       "<IPython.core.display.Javascript object>"
      ],
      "application/javascript": [
       "\n",
       "         requirejs(['basic', 'ecco'], function(basic, ecco){\n",
       "            const viz_id = basic.init()\n",
       "\n",
       "\n",
       "            let pred = new ecco.LayerPredictions({\n",
       "                parentDiv: viz_id,\n",
       "                data:[[{\"token\": \" before\", \"prob\": \"0.4604451\", \"ranking\": 1, \"layer\": 5}, {\"token\": \".\", \"prob\": \"0.110074736\", \"ranking\": 2, \"layer\": 5}, {\"token\": \" ago\", \"prob\": \"0.08153952\", \"ranking\": 3, \"layer\": 5}, {\"token\": \",\", \"prob\": \"0.064029925\", \"ranking\": 4, \"layer\": 5}, {\"token\": \" until\", \"prob\": \"0.0547278\", \"ranking\": 5, \"layer\": 5}, {\"token\": \" for\", \"prob\": \"0.051484432\", \"ranking\": 6, \"layer\": 5}, {\"token\": \" and\", \"prob\": \"0.02283205\", \"ranking\": 7, \"layer\": 5}, {\"token\": \" after\", \"prob\": \"0.018105306\", \"ranking\": 8, \"layer\": 5}, {\"token\": \" that\", \"prob\": \"0.01006068\", \"ranking\": 9, \"layer\": 5}, {\"token\": \" since\", \"prob\": \"0.009608945\", \"ranking\": 10, \"layer\": 5}]]\n",
       "            })\n",
       "            pred.init()\n",
       "         }, function (err) {\n",
       "            console.log(viz_id, err);\n",
       "        })"
      ]
     },
     "metadata": {}
    }
   ]
  },
  {
   "cell_type": "code",
   "source": [
    "output_1.layer_predictions(position=7, layer=5, topk=10)"
   ],
   "metadata": {
    "colab": {
     "base_uri": "https://localhost:8080/",
     "height": 210
    },
    "id": "Kc2pW09htB8C",
    "outputId": "b8decb03-6db5-4a80-e0f9-417f779f2ff6"
   },
   "execution_count": 45,
   "outputs": [
    {
     "output_type": "display_data",
     "data": {
      "text/plain": [
       "<IPython.core.display.HTML object>"
      ],
      "text/html": [
       "<html lang=\"en\">\n",
       "<script src=\"https://requirejs.org/docs/release/2.3.6/minified/require.js\"></script>\n",
       "<script>\n",
       "    var ecco_url = 'https://storage.googleapis.com/ml-intro/ecco/'\n",
       "    //var ecco_url = 'http://localhost:8000/'\n",
       "\n",
       "    if (window.ecco === undefined) window.ecco = {}\n",
       "\n",
       "    // Setup the paths of the script we'll be using\n",
       "    requirejs.config({\n",
       "        urlArgs: \"bust=\" + (new Date()).getTime(),\n",
       "        nodeRequire: require,\n",
       "        paths: {\n",
       "            d3: \"https://d3js.org/d3.v6.min\", // This is only for use in setup.html and basic.html\n",
       "            \"d3-array\": \"https://d3js.org/d3-array.v2.min\",\n",
       "            jquery: \"https://code.jquery.com/jquery-3.5.1.min\",\n",
       "            ecco: ecco_url + 'js/0.0.6/ecco-bundle.min',\n",
       "            xregexp: 'https://cdnjs.cloudflare.com/ajax/libs/xregexp/3.2.0/xregexp-all.min'\n",
       "        }\n",
       "    });\n",
       "\n",
       "    // Add the css file\n",
       "    //requirejs(['d3'],\n",
       "    //    function (d3) {\n",
       "    //        d3.select('#css').attr('href', ecco_url + 'html/styles.css')\n",
       "    //    })\n",
       "\n",
       "    console.log('Ecco initialize!!')\n",
       "\n",
       "    // returns a 'basic' object. basic.init() selects the html div we'll be\n",
       "    // rendering the html into, adds styles.css to the document.\n",
       "    define('basic', ['d3'],\n",
       "        function (d3) {\n",
       "            return {\n",
       "                init: function (viz_id = null) {\n",
       "                    if (viz_id == null) {\n",
       "                        viz_id = \"viz_\" + Math.round(Math.random() * 10000000)\n",
       "                    }\n",
       "                    // Select the div rendered below, change its id\n",
       "                    const div = d3.select('#basic').attr('id', viz_id),\n",
       "                        div_parent = d3.select('#' + viz_id).node().parentNode\n",
       "\n",
       "                    // Link to CSS file\n",
       "                    d3.select(div_parent).insert('link')\n",
       "                        .attr('rel', 'stylesheet')\n",
       "                        .attr('type', 'text/css')\n",
       "                        .attr('href', ecco_url + 'html/0.0.2/styles.css')\n",
       "\n",
       "                    return viz_id\n",
       "                }\n",
       "            }\n",
       "        }, function (err) {\n",
       "            console.log(err);\n",
       "        }\n",
       "    )\n",
       "</script>\n",
       "\n",
       "<head>\n",
       "    <link id='css' rel=\"stylesheet\" type=\"text/css\">\n",
       "</head>\n",
       "<div id=\"basic\"></div>\n"
      ]
     },
     "metadata": {}
    },
    {
     "output_type": "display_data",
     "data": {
      "text/plain": [
       "<IPython.core.display.Javascript object>"
      ],
      "application/javascript": [
       "\n",
       "         requirejs(['basic', 'ecco'], function(basic, ecco){\n",
       "            const viz_id = basic.init()\n",
       "\n",
       "\n",
       "            let pred = new ecco.LayerPredictions({\n",
       "                parentDiv: viz_id,\n",
       "                data:[[{\"token\": \" the\", \"prob\": \"0.19253506\", \"ranking\": 1, \"layer\": 5}, {\"token\": \" we\", \"prob\": \"0.13346846\", \"ranking\": 2, \"layer\": 5}, {\"token\": \" I\", \"prob\": \"0.100951165\", \"ranking\": 3, \"layer\": 5}, {\"token\": \" he\", \"prob\": \"0.04279273\", \"ranking\": 4, \"layer\": 5}, {\"token\": \" it\", \"prob\": \"0.03483619\", \"ranking\": 5, \"layer\": 5}, {\"token\": \" a\", \"prob\": \"0.025948767\", \"ranking\": 6, \"layer\": 5}, {\"token\": \" you\", \"prob\": \"0.023759754\", \"ranking\": 7, \"layer\": 5}, {\"token\": \" anyone\", \"prob\": \"0.013113875\", \"ranking\": 8, \"layer\": 5}, {\"token\": \" that\", \"prob\": \"0.012612599\", \"ranking\": 9, \"layer\": 5}, {\"token\": \" they\", \"prob\": \"0.012433078\", \"ranking\": 10, \"layer\": 5}]]\n",
       "            })\n",
       "            pred.init()\n",
       "         }, function (err) {\n",
       "            console.log(viz_id, err);\n",
       "        })"
      ]
     },
     "metadata": {}
    }
   ]
  },
  {
   "cell_type": "code",
   "source": [
    "lm.tokenizer(\" time attitude money\")['input_ids']"
   ],
   "metadata": {
    "colab": {
     "base_uri": "https://localhost:8080/"
    },
    "id": "Sb40oZ8ptHQH",
    "outputId": "e3d64de4-1792-41b2-dae6-1142122d5d70"
   },
   "execution_count": 47,
   "outputs": [
    {
     "output_type": "execute_result",
     "data": {
      "text/plain": [
       "[640, 9408, 1637]"
      ]
     },
     "metadata": {},
     "execution_count": 47
    }
   ]
  },
  {
   "cell_type": "code",
   "source": [
    "output_1.rankings_watch(watch=lm.tokenizer(\" time attitude money\")['input_ids'], position=5)"
   ],
   "metadata": {
    "colab": {
     "base_uri": "https://localhost:8080/",
     "height": 512
    },
    "id": "T4fm31v3taTu",
    "outputId": "97f01279-956f-4fd7-8618-2f21481b0340"
   },
   "execution_count": 54,
   "outputs": [
    {
     "output_type": "display_data",
     "data": {
      "text/plain": [
       "<Figure size 370x340 with 3 Axes>"
      ],
      "image/png": "[encoded data removed]"
     },
     "metadata": {}
    }
   ]
  },
  {
   "cell_type": "code",
   "source": [
    "text = \" Budapest is located in the country of\"\n",
    "\n",
    "# Generate one token\n",
    "output_2 = lm.generate(text, generate=3, do_sample=False)"
   ],
   "metadata": {
    "colab": {
     "base_uri": "https://localhost:8080/",
     "height": 50
    },
    "id": "tOnmruDPugmJ",
    "outputId": "471d80a9-a39f-4608-d0f0-defab5a50929"
   },
   "execution_count": 102,
   "outputs": [
    {
     "output_type": "display_data",
     "data": {
      "text/plain": [
       "<IPython.core.display.HTML object>"
      ],
      "text/html": [
       "<html lang=\"en\">\n",
       "<script src=\"https://requirejs.org/docs/release/2.3.6/minified/require.js\"></script>\n",
       "<script>\n",
       "    var ecco_url = 'https://storage.googleapis.com/ml-intro/ecco/'\n",
       "    //var ecco_url = 'http://localhost:8000/'\n",
       "\n",
       "    if (window.ecco === undefined) window.ecco = {}\n",
       "\n",
       "    // Setup the paths of the script we'll be using\n",
       "    requirejs.config({\n",
       "        urlArgs: \"bust=\" + (new Date()).getTime(),\n",
       "        nodeRequire: require,\n",
       "        paths: {\n",
       "            d3: \"https://d3js.org/d3.v6.min\", // This is only for use in setup.html and basic.html\n",
       "            \"d3-array\": \"https://d3js.org/d3-array.v2.min\",\n",
       "            jquery: \"https://code.jquery.com/jquery-3.5.1.min\",\n",
       "            ecco: ecco_url + 'js/0.0.6/ecco-bundle.min',\n",
       "            xregexp: 'https://cdnjs.cloudflare.com/ajax/libs/xregexp/3.2.0/xregexp-all.min'\n",
       "        }\n",
       "    });\n",
       "\n",
       "    // Add the css file\n",
       "    //requirejs(['d3'],\n",
       "    //    function (d3) {\n",
       "    //        d3.select('#css').attr('href', ecco_url + 'html/styles.css')\n",
       "    //    })\n",
       "\n",
       "    console.log('Ecco initialize!!')\n",
       "\n",
       "    // returns a 'basic' object. basic.init() selects the html div we'll be\n",
       "    // rendering the html into, adds styles.css to the document.\n",
       "    define('basic', ['d3'],\n",
       "        function (d3) {\n",
       "            return {\n",
       "                init: function (viz_id = null) {\n",
       "                    if (viz_id == null) {\n",
       "                        viz_id = \"viz_\" + Math.round(Math.random() * 10000000)\n",
       "                    }\n",
       "                    // Select the div rendered below, change its id\n",
       "                    const div = d3.select('#basic').attr('id', viz_id),\n",
       "                        div_parent = d3.select('#' + viz_id).node().parentNode\n",
       "\n",
       "                    // Link to CSS file\n",
       "                    d3.select(div_parent).insert('link')\n",
       "                        .attr('rel', 'stylesheet')\n",
       "                        .attr('type', 'text/css')\n",
       "                        .attr('href', ecco_url + 'html/0.0.2/styles.css')\n",
       "\n",
       "                    return viz_id\n",
       "                }\n",
       "            }\n",
       "        }, function (err) {\n",
       "            console.log(err);\n",
       "        }\n",
       "    )\n",
       "</script>\n",
       "\n",
       "<head>\n",
       "    <link id='css' rel=\"stylesheet\" type=\"text/css\">\n",
       "</head>\n",
       "<div id=\"basic\"></div>\n"
      ]
     },
     "metadata": {}
    },
    {
     "output_type": "display_data",
     "data": {
      "text/plain": [
       "<IPython.core.display.Javascript object>"
      ],
      "application/javascript": [
       "\n",
       "         requirejs( ['basic', 'ecco'], function(basic, ecco){\n",
       "            basic.init('viz_552102') // Python needs to know the viz id. Used for each output token.\n",
       "            window.ecco['viz_552102'] = new ecco.renderOutputSequence({\n",
       "                    parentDiv: 'viz_552102',\n",
       "                    data: {\"tokens\": [{\"token\": \"Budapest\", \"is_partial\": false, \"position\": 0, \"token_id\": 40959, \"type\": \"input\"}, {\"token\": \"is\", \"is_partial\": false, \"position\": 1, \"token_id\": 318, \"type\": \"input\"}, {\"token\": \"located\", \"is_partial\": false, \"position\": 2, \"token_id\": 5140, \"type\": \"input\"}, {\"token\": \"in\", \"is_partial\": false, \"position\": 3, \"token_id\": 287, \"type\": \"input\"}, {\"token\": \"the\", \"is_partial\": false, \"position\": 4, \"token_id\": 262, \"type\": \"input\"}, {\"token\": \"country\", \"is_partial\": false, \"position\": 5, \"token_id\": 1499, \"type\": \"input\"}, {\"token\": \"of\", \"is_partial\": false, \"position\": 6, \"token_id\": 286, \"type\": \"input\"}]},\n",
       "                    tokenization_config: {\"token_prefix\": \"\\u0120\", \"partial_token_prefix\": \"\"}\n",
       "            \n",
       "            })\n",
       "         }, function (err) {\n",
       "            console.log(err);\n",
       "        })\n",
       "        "
      ]
     },
     "metadata": {}
    },
    {
     "output_type": "stream",
     "name": "stderr",
     "text": [
      "Setting `pad_token_id` to `eos_token_id`:50256 for open-end generation.\n"
     ]
    },
    {
     "output_type": "display_data",
     "data": {
      "text/plain": [
       "<IPython.core.display.Javascript object>"
      ],
      "application/javascript": [
       "\n",
       "        // We don't really need these require scripts. But this is to avert\n",
       "        //this code from running before display_input_sequence which DOES require external files\n",
       "        requirejs(['basic', 'ecco'], function(basic, ecco){\n",
       "                console.log('addToken viz_id', 'viz_552102');\n",
       "                window.ecco['viz_552102'].addToken({\"token\": \"the\", \"is_partial\": false, \"token_id\": 262, \"position\": 7, \"type\": \"output\"})\n",
       "                window.ecco['viz_552102'].redraw()\n",
       "        })\n",
       "        "
      ]
     },
     "metadata": {}
    },
    {
     "output_type": "display_data",
     "data": {
      "text/plain": [
       "<IPython.core.display.Javascript object>"
      ],
      "application/javascript": [
       "\n",
       "        // We don't really need these require scripts. But this is to avert\n",
       "        //this code from running before display_input_sequence which DOES require external files\n",
       "        requirejs(['basic', 'ecco'], function(basic, ecco){\n",
       "                console.log('addToken viz_id', 'viz_552102');\n",
       "                window.ecco['viz_552102'].addToken({\"token\": \"United\", \"is_partial\": false, \"token_id\": 1578, \"position\": 8, \"type\": \"output\"})\n",
       "                window.ecco['viz_552102'].redraw()\n",
       "        })\n",
       "        "
      ]
     },
     "metadata": {}
    },
    {
     "output_type": "display_data",
     "data": {
      "text/plain": [
       "<IPython.core.display.Javascript object>"
      ],
      "application/javascript": [
       "\n",
       "        // We don't really need these require scripts. But this is to avert\n",
       "        //this code from running before display_input_sequence which DOES require external files\n",
       "        requirejs(['basic', 'ecco'], function(basic, ecco){\n",
       "                console.log('addToken viz_id', 'viz_552102');\n",
       "                window.ecco['viz_552102'].addToken({\"token\": \"States\", \"is_partial\": false, \"token_id\": 1829, \"position\": 9, \"type\": \"output\"})\n",
       "                window.ecco['viz_552102'].redraw()\n",
       "        })\n",
       "        "
      ]
     },
     "metadata": {}
    }
   ]
  },
  {
   "cell_type": "code",
   "source": [
    "output_2.layer_predictions(position=7, layer=5)"
   ],
   "metadata": {
    "colab": {
     "base_uri": "https://localhost:8080/",
     "height": 210
    },
    "id": "eu9MqGvv3KeZ",
    "outputId": "ef79e484-0522-432d-cdd2-f97ebc9f33ed"
   },
   "execution_count": 103,
   "outputs": [
    {
     "output_type": "display_data",
     "data": {
      "text/plain": [
       "<IPython.core.display.HTML object>"
      ],
      "text/html": [
       "<html lang=\"en\">\n",
       "<script src=\"https://requirejs.org/docs/release/2.3.6/minified/require.js\"></script>\n",
       "<script>\n",
       "    var ecco_url = 'https://storage.googleapis.com/ml-intro/ecco/'\n",
       "    //var ecco_url = 'http://localhost:8000/'\n",
       "\n",
       "    if (window.ecco === undefined) window.ecco = {}\n",
       "\n",
       "    // Setup the paths of the script we'll be using\n",
       "    requirejs.config({\n",
       "        urlArgs: \"bust=\" + (new Date()).getTime(),\n",
       "        nodeRequire: require,\n",
       "        paths: {\n",
       "            d3: \"https://d3js.org/d3.v6.min\", // This is only for use in setup.html and basic.html\n",
       "            \"d3-array\": \"https://d3js.org/d3-array.v2.min\",\n",
       "            jquery: \"https://code.jquery.com/jquery-3.5.1.min\",\n",
       "            ecco: ecco_url + 'js/0.0.6/ecco-bundle.min',\n",
       "            xregexp: 'https://cdnjs.cloudflare.com/ajax/libs/xregexp/3.2.0/xregexp-all.min'\n",
       "        }\n",
       "    });\n",
       "\n",
       "    // Add the css file\n",
       "    //requirejs(['d3'],\n",
       "    //    function (d3) {\n",
       "    //        d3.select('#css').attr('href', ecco_url + 'html/styles.css')\n",
       "    //    })\n",
       "\n",
       "    console.log('Ecco initialize!!')\n",
       "\n",
       "    // returns a 'basic' object. basic.init() selects the html div we'll be\n",
       "    // rendering the html into, adds styles.css to the document.\n",
       "    define('basic', ['d3'],\n",
       "        function (d3) {\n",
       "            return {\n",
       "                init: function (viz_id = null) {\n",
       "                    if (viz_id == null) {\n",
       "                        viz_id = \"viz_\" + Math.round(Math.random() * 10000000)\n",
       "                    }\n",
       "                    // Select the div rendered below, change its id\n",
       "                    const div = d3.select('#basic').attr('id', viz_id),\n",
       "                        div_parent = d3.select('#' + viz_id).node().parentNode\n",
       "\n",
       "                    // Link to CSS file\n",
       "                    d3.select(div_parent).insert('link')\n",
       "                        .attr('rel', 'stylesheet')\n",
       "                        .attr('type', 'text/css')\n",
       "                        .attr('href', ecco_url + 'html/0.0.2/styles.css')\n",
       "\n",
       "                    return viz_id\n",
       "                }\n",
       "            }\n",
       "        }, function (err) {\n",
       "            console.log(err);\n",
       "        }\n",
       "    )\n",
       "</script>\n",
       "\n",
       "<head>\n",
       "    <link id='css' rel=\"stylesheet\" type=\"text/css\">\n",
       "</head>\n",
       "<div id=\"basic\"></div>\n"
      ]
     },
     "metadata": {}
    },
    {
     "output_type": "display_data",
     "data": {
      "text/plain": [
       "<IPython.core.display.Javascript object>"
      ],
      "application/javascript": [
       "\n",
       "         requirejs(['basic', 'ecco'], function(basic, ecco){\n",
       "            const viz_id = basic.init()\n",
       "\n",
       "\n",
       "            let pred = new ecco.LayerPredictions({\n",
       "                parentDiv: viz_id,\n",
       "                data:[[{\"token\": \" the\", \"prob\": \"0.0198856\", \"ranking\": 1, \"layer\": 5}, {\"token\": \" New\", \"prob\": \"0.01165172\", \"ranking\": 2, \"layer\": 5}, {\"token\": \" T\", \"prob\": \"0.009606698\", \"ranking\": 3, \"layer\": 5}, {\"token\": \" Singapore\", \"prob\": \"0.00722432\", \"ranking\": 4, \"layer\": 5}, {\"token\": \" Hong\", \"prob\": \"0.007060712\", \"ranking\": 5, \"layer\": 5}, {\"token\": \" Belgium\", \"prob\": \"0.0069500785\", \"ranking\": 6, \"layer\": 5}, {\"token\": \" B\", \"prob\": \"0.006683392\", \"ranking\": 7, \"layer\": 5}, {\"token\": \" Kazakhstan\", \"prob\": \"0.00666562\", \"ranking\": 8, \"layer\": 5}, {\"token\": \" China\", \"prob\": \"0.0065954314\", \"ranking\": 9, \"layer\": 5}, {\"token\": \" Hungary\", \"prob\": \"0.0065929405\", \"ranking\": 10, \"layer\": 5}]]\n",
       "            })\n",
       "            pred.init()\n",
       "         }, function (err) {\n",
       "            console.log(viz_id, err);\n",
       "        })"
      ]
     },
     "metadata": {}
    }
   ]
  },
  {
   "cell_type": "code",
   "source": [
    "output_2.rankings_watch(watch=lm.tokenizer(\" United Hungary Hungarian\")['input_ids'], position=7)"
   ],
   "metadata": {
    "colab": {
     "base_uri": "https://localhost:8080/",
     "height": 547
    },
    "id": "-8N6Z2yavK7e",
    "outputId": "f14209e2-0293-4598-bd9a-da77d52df323"
   },
   "execution_count": 69,
   "outputs": [
    {
     "output_type": "display_data",
     "data": {
      "text/plain": [
       "<Figure size 370x340 with 3 Axes>"
      ],
      "image/png": "[encoded data removed]"
     },
     "metadata": {}
    }
   ]
  },
  {
   "cell_type": "code",
   "source": [
    "output_2.layer_predictions(position=7, layer=5, topk=10)"
   ],
   "metadata": {
    "colab": {
     "base_uri": "https://localhost:8080/",
     "height": 210
    },
    "id": "OA7VNmM_vpHe",
    "outputId": "89bf2775-a286-47a6-c1d4-a550758f60b4"
   },
   "execution_count": 70,
   "outputs": [
    {
     "output_type": "display_data",
     "data": {
      "text/plain": [
       "<IPython.core.display.HTML object>"
      ],
      "text/html": [
       "<html lang=\"en\">\n",
       "<script src=\"https://requirejs.org/docs/release/2.3.6/minified/require.js\"></script>\n",
       "<script>\n",
       "    var ecco_url = 'https://storage.googleapis.com/ml-intro/ecco/'\n",
       "    //var ecco_url = 'http://localhost:8000/'\n",
       "\n",
       "    if (window.ecco === undefined) window.ecco = {}\n",
       "\n",
       "    // Setup the paths of the script we'll be using\n",
       "    requirejs.config({\n",
       "        urlArgs: \"bust=\" + (new Date()).getTime(),\n",
       "        nodeRequire: require,\n",
       "        paths: {\n",
       "            d3: \"https://d3js.org/d3.v6.min\", // This is only for use in setup.html and basic.html\n",
       "            \"d3-array\": \"https://d3js.org/d3-array.v2.min\",\n",
       "            jquery: \"https://code.jquery.com/jquery-3.5.1.min\",\n",
       "            ecco: ecco_url + 'js/0.0.6/ecco-bundle.min',\n",
       "            xregexp: 'https://cdnjs.cloudflare.com/ajax/libs/xregexp/3.2.0/xregexp-all.min'\n",
       "        }\n",
       "    });\n",
       "\n",
       "    // Add the css file\n",
       "    //requirejs(['d3'],\n",
       "    //    function (d3) {\n",
       "    //        d3.select('#css').attr('href', ecco_url + 'html/styles.css')\n",
       "    //    })\n",
       "\n",
       "    console.log('Ecco initialize!!')\n",
       "\n",
       "    // returns a 'basic' object. basic.init() selects the html div we'll be\n",
       "    // rendering the html into, adds styles.css to the document.\n",
       "    define('basic', ['d3'],\n",
       "        function (d3) {\n",
       "            return {\n",
       "                init: function (viz_id = null) {\n",
       "                    if (viz_id == null) {\n",
       "                        viz_id = \"viz_\" + Math.round(Math.random() * 10000000)\n",
       "                    }\n",
       "                    // Select the div rendered below, change its id\n",
       "                    const div = d3.select('#basic').attr('id', viz_id),\n",
       "                        div_parent = d3.select('#' + viz_id).node().parentNode\n",
       "\n",
       "                    // Link to CSS file\n",
       "                    d3.select(div_parent).insert('link')\n",
       "                        .attr('rel', 'stylesheet')\n",
       "                        .attr('type', 'text/css')\n",
       "                        .attr('href', ecco_url + 'html/0.0.2/styles.css')\n",
       "\n",
       "                    return viz_id\n",
       "                }\n",
       "            }\n",
       "        }, function (err) {\n",
       "            console.log(err);\n",
       "        }\n",
       "    )\n",
       "</script>\n",
       "\n",
       "<head>\n",
       "    <link id='css' rel=\"stylesheet\" type=\"text/css\">\n",
       "</head>\n",
       "<div id=\"basic\"></div>\n"
      ]
     },
     "metadata": {}
    },
    {
     "output_type": "display_data",
     "data": {
      "text/plain": [
       "<IPython.core.display.Javascript object>"
      ],
      "application/javascript": [
       "\n",
       "         requirejs(['basic', 'ecco'], function(basic, ecco){\n",
       "            const viz_id = basic.init()\n",
       "\n",
       "\n",
       "            let pred = new ecco.LayerPredictions({\n",
       "                parentDiv: viz_id,\n",
       "                data:[[{\"token\": \" the\", \"prob\": \"0.0198856\", \"ranking\": 1, \"layer\": 5}, {\"token\": \" New\", \"prob\": \"0.01165172\", \"ranking\": 2, \"layer\": 5}, {\"token\": \" T\", \"prob\": \"0.009606698\", \"ranking\": 3, \"layer\": 5}, {\"token\": \" Singapore\", \"prob\": \"0.00722432\", \"ranking\": 4, \"layer\": 5}, {\"token\": \" Hong\", \"prob\": \"0.007060712\", \"ranking\": 5, \"layer\": 5}, {\"token\": \" Belgium\", \"prob\": \"0.0069500785\", \"ranking\": 6, \"layer\": 5}, {\"token\": \" B\", \"prob\": \"0.006683392\", \"ranking\": 7, \"layer\": 5}, {\"token\": \" Kazakhstan\", \"prob\": \"0.00666562\", \"ranking\": 8, \"layer\": 5}, {\"token\": \" China\", \"prob\": \"0.0065954314\", \"ranking\": 9, \"layer\": 5}, {\"token\": \" Hungary\", \"prob\": \"0.0065929405\", \"ranking\": 10, \"layer\": 5}]]\n",
       "            })\n",
       "            pred.init()\n",
       "         }, function (err) {\n",
       "            console.log(viz_id, err);\n",
       "        })"
      ]
     },
     "metadata": {}
    }
   ]
  },
  {
   "cell_type": "code",
   "source": [
    "output_2.rankings_watch(watch=lm.tokenizer(\" United Hungary Hungarian\")['input_ids'], position=8)"
   ],
   "metadata": {
    "colab": {
     "base_uri": "https://localhost:8080/",
     "height": 547
    },
    "id": "JcipOf8Zv63B",
    "outputId": "f4a5f63e-4dab-42f8-b86e-477ef654a89f"
   },
   "execution_count": 73,
   "outputs": [
    {
     "output_type": "display_data",
     "data": {
      "text/plain": [
       "<Figure size 370x340 with 3 Axes>"
      ],
      "image/png": "[encoded data removed]"
     },
     "metadata": {}
    }
   ]
  },
  {
   "cell_type": "code",
   "source": [
    "output_2.layer_predictions(position=8, layer=5, topk=10)"
   ],
   "metadata": {
    "colab": {
     "base_uri": "https://localhost:8080/",
     "height": 210
    },
    "id": "VKxu7Mpevzo6",
    "outputId": "883e8ee0-0601-4334-82f4-f756177b4e88"
   },
   "execution_count": 71,
   "outputs": [
    {
     "output_type": "display_data",
     "data": {
      "text/plain": [
       "<IPython.core.display.HTML object>"
      ],
      "text/html": [
       "<html lang=\"en\">\n",
       "<script src=\"https://requirejs.org/docs/release/2.3.6/minified/require.js\"></script>\n",
       "<script>\n",
       "    var ecco_url = 'https://storage.googleapis.com/ml-intro/ecco/'\n",
       "    //var ecco_url = 'http://localhost:8000/'\n",
       "\n",
       "    if (window.ecco === undefined) window.ecco = {}\n",
       "\n",
       "    // Setup the paths of the script we'll be using\n",
       "    requirejs.config({\n",
       "        urlArgs: \"bust=\" + (new Date()).getTime(),\n",
       "        nodeRequire: require,\n",
       "        paths: {\n",
       "            d3: \"https://d3js.org/d3.v6.min\", // This is only for use in setup.html and basic.html\n",
       "            \"d3-array\": \"https://d3js.org/d3-array.v2.min\",\n",
       "            jquery: \"https://code.jquery.com/jquery-3.5.1.min\",\n",
       "            ecco: ecco_url + 'js/0.0.6/ecco-bundle.min',\n",
       "            xregexp: 'https://cdnjs.cloudflare.com/ajax/libs/xregexp/3.2.0/xregexp-all.min'\n",
       "        }\n",
       "    });\n",
       "\n",
       "    // Add the css file\n",
       "    //requirejs(['d3'],\n",
       "    //    function (d3) {\n",
       "    //        d3.select('#css').attr('href', ecco_url + 'html/styles.css')\n",
       "    //    })\n",
       "\n",
       "    console.log('Ecco initialize!!')\n",
       "\n",
       "    // returns a 'basic' object. basic.init() selects the html div we'll be\n",
       "    // rendering the html into, adds styles.css to the document.\n",
       "    define('basic', ['d3'],\n",
       "        function (d3) {\n",
       "            return {\n",
       "                init: function (viz_id = null) {\n",
       "                    if (viz_id == null) {\n",
       "                        viz_id = \"viz_\" + Math.round(Math.random() * 10000000)\n",
       "                    }\n",
       "                    // Select the div rendered below, change its id\n",
       "                    const div = d3.select('#basic').attr('id', viz_id),\n",
       "                        div_parent = d3.select('#' + viz_id).node().parentNode\n",
       "\n",
       "                    // Link to CSS file\n",
       "                    d3.select(div_parent).insert('link')\n",
       "                        .attr('rel', 'stylesheet')\n",
       "                        .attr('type', 'text/css')\n",
       "                        .attr('href', ecco_url + 'html/0.0.2/styles.css')\n",
       "\n",
       "                    return viz_id\n",
       "                }\n",
       "            }\n",
       "        }, function (err) {\n",
       "            console.log(err);\n",
       "        }\n",
       "    )\n",
       "</script>\n",
       "\n",
       "<head>\n",
       "    <link id='css' rel=\"stylesheet\" type=\"text/css\">\n",
       "</head>\n",
       "<div id=\"basic\"></div>\n"
      ]
     },
     "metadata": {}
    },
    {
     "output_type": "display_data",
     "data": {
      "text/plain": [
       "<IPython.core.display.Javascript object>"
      ],
      "application/javascript": [
       "\n",
       "         requirejs(['basic', 'ecco'], function(basic, ecco){\n",
       "            const viz_id = basic.init()\n",
       "\n",
       "\n",
       "            let pred = new ecco.LayerPredictions({\n",
       "                parentDiv: viz_id,\n",
       "                data:[[{\"token\": \" United\", \"prob\": \"0.08895554\", \"ranking\": 1, \"layer\": 5}, {\"token\": \" Czech\", \"prob\": \"0.035967484\", \"ranking\": 2, \"layer\": 5}, {\"token\": \" Netherlands\", \"prob\": \"0.03584585\", \"ranking\": 3, \"layer\": 5}, {\"token\": \" capital\", \"prob\": \"0.025755545\", \"ranking\": 4, \"layer\": 5}, {\"token\": \" UK\", \"prob\": \"0.021021225\", \"ranking\": 5, \"layer\": 5}, {\"token\": \" Philippines\", \"prob\": \"0.02079614\", \"ranking\": 6, \"layer\": 5}, {\"token\": \" country\", \"prob\": \"0.016816963\", \"ranking\": 7, \"layer\": 5}, {\"token\": \" former\", \"prob\": \"0.013517964\", \"ranking\": 8, \"layer\": 5}, {\"token\": \" Republic\", \"prob\": \"0.013486084\", \"ranking\": 9, \"layer\": 5}, {\"token\": \" US\", \"prob\": \"0.009596905\", \"ranking\": 10, \"layer\": 5}]]\n",
       "            })\n",
       "            pred.init()\n",
       "         }, function (err) {\n",
       "            console.log(viz_id, err);\n",
       "        })"
      ]
     },
     "metadata": {}
    }
   ]
  },
  {
   "cell_type": "code",
   "source": [
    "output_2.rankings_watch(watch=lm.tokenizer(\" United Hungary Hungarian\")['input_ids'], position=9)"
   ],
   "metadata": {
    "colab": {
     "base_uri": "https://localhost:8080/",
     "height": 547
    },
    "id": "yJjhN6VOv9c6",
    "outputId": "93b53c8b-171c-4e6c-fa85-353601263c62"
   },
   "execution_count": 74,
   "outputs": [
    {
     "output_type": "display_data",
     "data": {
      "text/plain": [
       "<Figure size 370x340 with 3 Axes>"
      ],
      "image/png": "[encoded data removed]"
     },
     "metadata": {}
    }
   ]
  },
  {
   "cell_type": "code",
   "source": [
    "output_2.layer_predictions(position=9, layer=5, topk=10)"
   ],
   "metadata": {
    "colab": {
     "base_uri": "https://localhost:8080/",
     "height": 210
    },
    "id": "P87QnYoJvz_E",
    "outputId": "2f768d8f-53a0-4c0c-a7c2-2bc85ad395ce"
   },
   "execution_count": 72,
   "outputs": [
    {
     "output_type": "display_data",
     "data": {
      "text/plain": [
       "<IPython.core.display.HTML object>"
      ],
      "text/html": [
       "<html lang=\"en\">\n",
       "<script src=\"https://requirejs.org/docs/release/2.3.6/minified/require.js\"></script>\n",
       "<script>\n",
       "    var ecco_url = 'https://storage.googleapis.com/ml-intro/ecco/'\n",
       "    //var ecco_url = 'http://localhost:8000/'\n",
       "\n",
       "    if (window.ecco === undefined) window.ecco = {}\n",
       "\n",
       "    // Setup the paths of the script we'll be using\n",
       "    requirejs.config({\n",
       "        urlArgs: \"bust=\" + (new Date()).getTime(),\n",
       "        nodeRequire: require,\n",
       "        paths: {\n",
       "            d3: \"https://d3js.org/d3.v6.min\", // This is only for use in setup.html and basic.html\n",
       "            \"d3-array\": \"https://d3js.org/d3-array.v2.min\",\n",
       "            jquery: \"https://code.jquery.com/jquery-3.5.1.min\",\n",
       "            ecco: ecco_url + 'js/0.0.6/ecco-bundle.min',\n",
       "            xregexp: 'https://cdnjs.cloudflare.com/ajax/libs/xregexp/3.2.0/xregexp-all.min'\n",
       "        }\n",
       "    });\n",
       "\n",
       "    // Add the css file\n",
       "    //requirejs(['d3'],\n",
       "    //    function (d3) {\n",
       "    //        d3.select('#css').attr('href', ecco_url + 'html/styles.css')\n",
       "    //    })\n",
       "\n",
       "    console.log('Ecco initialize!!')\n",
       "\n",
       "    // returns a 'basic' object. basic.init() selects the html div we'll be\n",
       "    // rendering the html into, adds styles.css to the document.\n",
       "    define('basic', ['d3'],\n",
       "        function (d3) {\n",
       "            return {\n",
       "                init: function (viz_id = null) {\n",
       "                    if (viz_id == null) {\n",
       "                        viz_id = \"viz_\" + Math.round(Math.random() * 10000000)\n",
       "                    }\n",
       "                    // Select the div rendered below, change its id\n",
       "                    const div = d3.select('#basic').attr('id', viz_id),\n",
       "                        div_parent = d3.select('#' + viz_id).node().parentNode\n",
       "\n",
       "                    // Link to CSS file\n",
       "                    d3.select(div_parent).insert('link')\n",
       "                        .attr('rel', 'stylesheet')\n",
       "                        .attr('type', 'text/css')\n",
       "                        .attr('href', ecco_url + 'html/0.0.2/styles.css')\n",
       "\n",
       "                    return viz_id\n",
       "                }\n",
       "            }\n",
       "        }, function (err) {\n",
       "            console.log(err);\n",
       "        }\n",
       "    )\n",
       "</script>\n",
       "\n",
       "<head>\n",
       "    <link id='css' rel=\"stylesheet\" type=\"text/css\">\n",
       "</head>\n",
       "<div id=\"basic\"></div>\n"
      ]
     },
     "metadata": {}
    },
    {
     "output_type": "display_data",
     "data": {
      "text/plain": [
       "<IPython.core.display.Javascript object>"
      ],
      "application/javascript": [
       "\n",
       "         requirejs(['basic', 'ecco'], function(basic, ecco){\n",
       "            const viz_id = basic.init()\n",
       "\n",
       "\n",
       "            let pred = new ecco.LayerPredictions({\n",
       "                parentDiv: viz_id,\n",
       "                data:[[{\"token\": \" States\", \"prob\": \"0.7478376\", \"ranking\": 1, \"layer\": 5}, {\"token\": \" Kingdom\", \"prob\": \"0.22032416\", \"ranking\": 2, \"layer\": 5}, {\"token\": \" Arab\", \"prob\": \"0.018972049\", \"ranking\": 3, \"layer\": 5}, {\"token\": \" Nations\", \"prob\": \"0.0053714365\", \"ranking\": 4, \"layer\": 5}, {\"token\": \" State\", \"prob\": \"0.00073027745\", \"ranking\": 5, \"layer\": 5}, {\"token\": \" Republic\", \"prob\": \"0.00063900725\", \"ranking\": 6, \"layer\": 5}, {\"token\": \" states\", \"prob\": \"0.0004606048\", \"ranking\": 7, \"layer\": 5}, {\"token\": \" S\", \"prob\": \"0.00018399794\", \"ranking\": 8, \"layer\": 5}, {\"token\": \" Russia\", \"prob\": \"0.00014774445\", \"ranking\": 9, \"layer\": 5}, {\"token\": \" Netherlands\", \"prob\": \"0.00013635853\", \"ranking\": 10, \"layer\": 5}]]\n",
       "            })\n",
       "            pred.init()\n",
       "         }, function (err) {\n",
       "            console.log(viz_id, err);\n",
       "        })"
      ]
     },
     "metadata": {}
    }
   ]
  },
  {
   "cell_type": "code",
   "source": [
    "text= \"The countries of the European Union are:\\n1. Austria\\n2. Belgium\\n3. Bulgaria\\n4.\"\n",
    "\n",
    "output_3 = lm.generate(text, generate=20, do_sample=True)"
   ],
   "metadata": {
    "colab": {
     "base_uri": "https://localhost:8080/",
     "height": 347
    },
    "id": "r4cTN40LwIFZ",
    "outputId": "b95ceefc-addb-4395-cbad-0a22698453d0"
   },
   "execution_count": 129,
   "outputs": [
    {
     "output_type": "display_data",
     "data": {
      "text/plain": [
       "<IPython.core.display.HTML object>"
      ],
      "text/html": [
       "<html lang=\"en\">\n",
       "<script src=\"https://requirejs.org/docs/release/2.3.6/minified/require.js\"></script>\n",
       "<script>\n",
       "    var ecco_url = 'https://storage.googleapis.com/ml-intro/ecco/'\n",
       "    //var ecco_url = 'http://localhost:8000/'\n",
       "\n",
       "    if (window.ecco === undefined) window.ecco = {}\n",
       "\n",
       "    // Setup the paths of the script we'll be using\n",
       "    requirejs.config({\n",
       "        urlArgs: \"bust=\" + (new Date()).getTime(),\n",
       "        nodeRequire: require,\n",
       "        paths: {\n",
       "            d3: \"https://d3js.org/d3.v6.min\", // This is only for use in setup.html and basic.html\n",
       "            \"d3-array\": \"https://d3js.org/d3-array.v2.min\",\n",
       "            jquery: \"https://code.jquery.com/jquery-3.5.1.min\",\n",
       "            ecco: ecco_url + 'js/0.0.6/ecco-bundle.min',\n",
       "            xregexp: 'https://cdnjs.cloudflare.com/ajax/libs/xregexp/3.2.0/xregexp-all.min'\n",
       "        }\n",
       "    });\n",
       "\n",
       "    // Add the css file\n",
       "    //requirejs(['d3'],\n",
       "    //    function (d3) {\n",
       "    //        d3.select('#css').attr('href', ecco_url + 'html/styles.css')\n",
       "    //    })\n",
       "\n",
       "    console.log('Ecco initialize!!')\n",
       "\n",
       "    // returns a 'basic' object. basic.init() selects the html div we'll be\n",
       "    // rendering the html into, adds styles.css to the document.\n",
       "    define('basic', ['d3'],\n",
       "        function (d3) {\n",
       "            return {\n",
       "                init: function (viz_id = null) {\n",
       "                    if (viz_id == null) {\n",
       "                        viz_id = \"viz_\" + Math.round(Math.random() * 10000000)\n",
       "                    }\n",
       "                    // Select the div rendered below, change its id\n",
       "                    const div = d3.select('#basic').attr('id', viz_id),\n",
       "                        div_parent = d3.select('#' + viz_id).node().parentNode\n",
       "\n",
       "                    // Link to CSS file\n",
       "                    d3.select(div_parent).insert('link')\n",
       "                        .attr('rel', 'stylesheet')\n",
       "                        .attr('type', 'text/css')\n",
       "                        .attr('href', ecco_url + 'html/0.0.2/styles.css')\n",
       "\n",
       "                    return viz_id\n",
       "                }\n",
       "            }\n",
       "        }, function (err) {\n",
       "            console.log(err);\n",
       "        }\n",
       "    )\n",
       "</script>\n",
       "\n",
       "<head>\n",
       "    <link id='css' rel=\"stylesheet\" type=\"text/css\">\n",
       "</head>\n",
       "<div id=\"basic\"></div>\n"
      ]
     },
     "metadata": {}
    },
    {
     "output_type": "display_data",
     "data": {
      "text/plain": [
       "<IPython.core.display.Javascript object>"
      ],
      "application/javascript": [
       "\n",
       "         requirejs( ['basic', 'ecco'], function(basic, ecco){\n",
       "            basic.init('viz_907639') // Python needs to know the viz id. Used for each output token.\n",
       "            window.ecco['viz_907639'] = new ecco.renderOutputSequence({\n",
       "                    parentDiv: 'viz_907639',\n",
       "                    data: {\"tokens\": [{\"token\": \"The\", \"is_partial\": true, \"position\": 0, \"token_id\": 464, \"type\": \"input\"}, {\"token\": \"countries\", \"is_partial\": false, \"position\": 1, \"token_id\": 2678, \"type\": \"input\"}, {\"token\": \"of\", \"is_partial\": false, \"position\": 2, \"token_id\": 286, \"type\": \"input\"}, {\"token\": \"the\", \"is_partial\": false, \"position\": 3, \"token_id\": 262, \"type\": \"input\"}, {\"token\": \"European\", \"is_partial\": false, \"position\": 4, \"token_id\": 3427, \"type\": \"input\"}, {\"token\": \"Union\", \"is_partial\": false, \"position\": 5, \"token_id\": 4479, \"type\": \"input\"}, {\"token\": \"are\", \"is_partial\": false, \"position\": 6, \"token_id\": 389, \"type\": \"input\"}, {\"token\": \":\", \"is_partial\": true, \"position\": 7, \"token_id\": 25, \"type\": \"input\"}, {\"token\": \"\\n\", \"is_partial\": true, \"position\": 8, \"token_id\": 198, \"type\": \"input\"}, {\"token\": \"1\", \"is_partial\": true, \"position\": 9, \"token_id\": 16, \"type\": \"input\"}, {\"token\": \".\", \"is_partial\": true, \"position\": 10, \"token_id\": 13, \"type\": \"input\"}, {\"token\": \"Austria\", \"is_partial\": false, \"position\": 11, \"token_id\": 17322, \"type\": \"input\"}, {\"token\": \"\\n\", \"is_partial\": true, \"position\": 12, \"token_id\": 198, \"type\": \"input\"}, {\"token\": \"2\", \"is_partial\": true, \"position\": 13, \"token_id\": 17, \"type\": \"input\"}, {\"token\": \".\", \"is_partial\": true, \"position\": 14, \"token_id\": 13, \"type\": \"input\"}, {\"token\": \"Belgium\", \"is_partial\": false, \"position\": 15, \"token_id\": 15664, \"type\": \"input\"}, {\"token\": \"\\n\", \"is_partial\": true, \"position\": 16, \"token_id\": 198, \"type\": \"input\"}, {\"token\": \"3\", \"is_partial\": true, \"position\": 17, \"token_id\": 18, \"type\": \"input\"}, {\"token\": \".\", \"is_partial\": true, \"position\": 18, \"token_id\": 13, \"type\": \"input\"}, {\"token\": \"Bulgaria\", \"is_partial\": false, \"position\": 19, \"token_id\": 27902, \"type\": \"input\"}, {\"token\": \"\\n\", \"is_partial\": true, \"position\": 20, \"token_id\": 198, \"type\": \"input\"}, {\"token\": \"4\", \"is_partial\": true, \"position\": 21, \"token_id\": 19, \"type\": \"input\"}, {\"token\": \".\", \"is_partial\": true, \"position\": 22, \"token_id\": 13, \"type\": \"input\"}]},\n",
       "                    tokenization_config: {\"token_prefix\": \"\\u0120\", \"partial_token_prefix\": \"\"}\n",
       "            \n",
       "            })\n",
       "         }, function (err) {\n",
       "            console.log(err);\n",
       "        })\n",
       "        "
      ]
     },
     "metadata": {}
    },
    {
     "output_type": "stream",
     "name": "stderr",
     "text": [
      "Setting `pad_token_id` to `eos_token_id`:50256 for open-end generation.\n"
     ]
    },
    {
     "output_type": "display_data",
     "data": {
      "text/plain": [
       "<IPython.core.display.Javascript object>"
      ],
      "application/javascript": [
       "\n",
       "        // We don't really need these require scripts. But this is to avert\n",
       "        //this code from running before display_input_sequence which DOES require external files\n",
       "        requirejs(['basic', 'ecco'], function(basic, ecco){\n",
       "                console.log('addToken viz_id', 'viz_907639');\n",
       "                window.ecco['viz_907639'].addToken({\"token\": \"Czech\", \"is_partial\": false, \"token_id\": 16639, \"position\": 23, \"type\": \"output\"})\n",
       "                window.ecco['viz_907639'].redraw()\n",
       "        })\n",
       "        "
      ]
     },
     "metadata": {}
    },
    {
     "output_type": "display_data",
     "data": {
      "text/plain": [
       "<IPython.core.display.Javascript object>"
      ],
      "application/javascript": [
       "\n",
       "        // We don't really need these require scripts. But this is to avert\n",
       "        //this code from running before display_input_sequence which DOES require external files\n",
       "        requirejs(['basic', 'ecco'], function(basic, ecco){\n",
       "                console.log('addToken viz_id', 'viz_907639');\n",
       "                window.ecco['viz_907639'].addToken({\"token\": \"Republic\", \"is_partial\": false, \"token_id\": 2066, \"position\": 24, \"type\": \"output\"})\n",
       "                window.ecco['viz_907639'].redraw()\n",
       "        })\n",
       "        "
      ]
     },
     "metadata": {}
    },
    {
     "output_type": "display_data",
     "data": {
      "text/plain": [
       "<IPython.core.display.Javascript object>"
      ],
      "application/javascript": [
       "\n",
       "        // We don't really need these require scripts. But this is to avert\n",
       "        //this code from running before display_input_sequence which DOES require external files\n",
       "        requirejs(['basic', 'ecco'], function(basic, ecco){\n",
       "                console.log('addToken viz_id', 'viz_907639');\n",
       "                window.ecco['viz_907639'].addToken({\"token\": \"\\n\", \"is_partial\": true, \"token_id\": 198, \"position\": 25, \"type\": \"output\"})\n",
       "                window.ecco['viz_907639'].redraw()\n",
       "        })\n",
       "        "
      ]
     },
     "metadata": {}
    },
    {
     "output_type": "display_data",
     "data": {
      "text/plain": [
       "<IPython.core.display.Javascript object>"
      ],
      "application/javascript": [
       "\n",
       "        // We don't really need these require scripts. But this is to avert\n",
       "        //this code from running before display_input_sequence which DOES require external files\n",
       "        requirejs(['basic', 'ecco'], function(basic, ecco){\n",
       "                console.log('addToken viz_id', 'viz_907639');\n",
       "                window.ecco['viz_907639'].addToken({\"token\": \"5\", \"is_partial\": true, \"token_id\": 20, \"position\": 26, \"type\": \"output\"})\n",
       "                window.ecco['viz_907639'].redraw()\n",
       "        })\n",
       "        "
      ]
     },
     "metadata": {}
    },
    {
     "output_type": "display_data",
     "data": {
      "text/plain": [
       "<IPython.core.display.Javascript object>"
      ],
      "application/javascript": [
       "\n",
       "        // We don't really need these require scripts. But this is to avert\n",
       "        //this code from running before display_input_sequence which DOES require external files\n",
       "        requirejs(['basic', 'ecco'], function(basic, ecco){\n",
       "                console.log('addToken viz_id', 'viz_907639');\n",
       "                window.ecco['viz_907639'].addToken({\"token\": \".\", \"is_partial\": true, \"token_id\": 13, \"position\": 27, \"type\": \"output\"})\n",
       "                window.ecco['viz_907639'].redraw()\n",
       "        })\n",
       "        "
      ]
     },
     "metadata": {}
    },
    {
     "output_type": "display_data",
     "data": {
      "text/plain": [
       "<IPython.core.display.Javascript object>"
      ],
      "application/javascript": [
       "\n",
       "        // We don't really need these require scripts. But this is to avert\n",
       "        //this code from running before display_input_sequence which DOES require external files\n",
       "        requirejs(['basic', 'ecco'], function(basic, ecco){\n",
       "                console.log('addToken viz_id', 'viz_907639');\n",
       "                window.ecco['viz_907639'].addToken({\"token\": \"Denmark\", \"is_partial\": false, \"token_id\": 16490, \"position\": 28, \"type\": \"output\"})\n",
       "                window.ecco['viz_907639'].redraw()\n",
       "        })\n",
       "        "
      ]
     },
     "metadata": {}
    },
    {
     "output_type": "display_data",
     "data": {
      "text/plain": [
       "<IPython.core.display.Javascript object>"
      ],
      "application/javascript": [
       "\n",
       "        // We don't really need these require scripts. But this is to avert\n",
       "        //this code from running before display_input_sequence which DOES require external files\n",
       "        requirejs(['basic', 'ecco'], function(basic, ecco){\n",
       "                console.log('addToken viz_id', 'viz_907639');\n",
       "                window.ecco['viz_907639'].addToken({\"token\": \"\\n\", \"is_partial\": true, \"token_id\": 198, \"position\": 29, \"type\": \"output\"})\n",
       "                window.ecco['viz_907639'].redraw()\n",
       "        })\n",
       "        "
      ]
     },
     "metadata": {}
    },
    {
     "output_type": "display_data",
     "data": {
      "text/plain": [
       "<IPython.core.display.Javascript object>"
      ],
      "application/javascript": [
       "\n",
       "        // We don't really need these require scripts. But this is to avert\n",
       "        //this code from running before display_input_sequence which DOES require external files\n",
       "        requirejs(['basic', 'ecco'], function(basic, ecco){\n",
       "                console.log('addToken viz_id', 'viz_907639');\n",
       "                window.ecco['viz_907639'].addToken({\"token\": \"6\", \"is_partial\": true, \"token_id\": 21, \"position\": 30, \"type\": \"output\"})\n",
       "                window.ecco['viz_907639'].redraw()\n",
       "        })\n",
       "        "
      ]
     },
     "metadata": {}
    },
    {
     "output_type": "display_data",
     "data": {
      "text/plain": [
       "<IPython.core.display.Javascript object>"
      ],
      "application/javascript": [
       "\n",
       "        // We don't really need these require scripts. But this is to avert\n",
       "        //this code from running before display_input_sequence which DOES require external files\n",
       "        requirejs(['basic', 'ecco'], function(basic, ecco){\n",
       "                console.log('addToken viz_id', 'viz_907639');\n",
       "                window.ecco['viz_907639'].addToken({\"token\": \".\", \"is_partial\": true, \"token_id\": 13, \"position\": 31, \"type\": \"output\"})\n",
       "                window.ecco['viz_907639'].redraw()\n",
       "        })\n",
       "        "
      ]
     },
     "metadata": {}
    },
    {
     "output_type": "display_data",
     "data": {
      "text/plain": [
       "<IPython.core.display.Javascript object>"
      ],
      "application/javascript": [
       "\n",
       "        // We don't really need these require scripts. But this is to avert\n",
       "        //this code from running before display_input_sequence which DOES require external files\n",
       "        requirejs(['basic', 'ecco'], function(basic, ecco){\n",
       "                console.log('addToken viz_id', 'viz_907639');\n",
       "                window.ecco['viz_907639'].addToken({\"token\": \"Estonia\", \"is_partial\": false, \"token_id\": 30912, \"position\": 32, \"type\": \"output\"})\n",
       "                window.ecco['viz_907639'].redraw()\n",
       "        })\n",
       "        "
      ]
     },
     "metadata": {}
    },
    {
     "output_type": "display_data",
     "data": {
      "text/plain": [
       "<IPython.core.display.Javascript object>"
      ],
      "application/javascript": [
       "\n",
       "        // We don't really need these require scripts. But this is to avert\n",
       "        //this code from running before display_input_sequence which DOES require external files\n",
       "        requirejs(['basic', 'ecco'], function(basic, ecco){\n",
       "                console.log('addToken viz_id', 'viz_907639');\n",
       "                window.ecco['viz_907639'].addToken({\"token\": \"\\n\", \"is_partial\": true, \"token_id\": 198, \"position\": 33, \"type\": \"output\"})\n",
       "                window.ecco['viz_907639'].redraw()\n",
       "        })\n",
       "        "
      ]
     },
     "metadata": {}
    },
    {
     "output_type": "display_data",
     "data": {
      "text/plain": [
       "<IPython.core.display.Javascript object>"
      ],
      "application/javascript": [
       "\n",
       "        // We don't really need these require scripts. But this is to avert\n",
       "        //this code from running before display_input_sequence which DOES require external files\n",
       "        requirejs(['basic', 'ecco'], function(basic, ecco){\n",
       "                console.log('addToken viz_id', 'viz_907639');\n",
       "                window.ecco['viz_907639'].addToken({\"token\": \"7\", \"is_partial\": true, \"token_id\": 22, \"position\": 34, \"type\": \"output\"})\n",
       "                window.ecco['viz_907639'].redraw()\n",
       "        })\n",
       "        "
      ]
     },
     "metadata": {}
    },
    {
     "output_type": "display_data",
     "data": {
      "text/plain": [
       "<IPython.core.display.Javascript object>"
      ],
      "application/javascript": [
       "\n",
       "        // We don't really need these require scripts. But this is to avert\n",
       "        //this code from running before display_input_sequence which DOES require external files\n",
       "        requirejs(['basic', 'ecco'], function(basic, ecco){\n",
       "                console.log('addToken viz_id', 'viz_907639');\n",
       "                window.ecco['viz_907639'].addToken({\"token\": \".\", \"is_partial\": true, \"token_id\": 13, \"position\": 35, \"type\": \"output\"})\n",
       "                window.ecco['viz_907639'].redraw()\n",
       "        })\n",
       "        "
      ]
     },
     "metadata": {}
    },
    {
     "output_type": "display_data",
     "data": {
      "text/plain": [
       "<IPython.core.display.Javascript object>"
      ],
      "application/javascript": [
       "\n",
       "        // We don't really need these require scripts. But this is to avert\n",
       "        //this code from running before display_input_sequence which DOES require external files\n",
       "        requirejs(['basic', 'ecco'], function(basic, ecco){\n",
       "                console.log('addToken viz_id', 'viz_907639');\n",
       "                window.ecco['viz_907639'].addToken({\"token\": \"Hungary\", \"is_partial\": false, \"token_id\": 19562, \"position\": 36, \"type\": \"output\"})\n",
       "                window.ecco['viz_907639'].redraw()\n",
       "        })\n",
       "        "
      ]
     },
     "metadata": {}
    },
    {
     "output_type": "display_data",
     "data": {
      "text/plain": [
       "<IPython.core.display.Javascript object>"
      ],
      "application/javascript": [
       "\n",
       "        // We don't really need these require scripts. But this is to avert\n",
       "        //this code from running before display_input_sequence which DOES require external files\n",
       "        requirejs(['basic', 'ecco'], function(basic, ecco){\n",
       "                console.log('addToken viz_id', 'viz_907639');\n",
       "                window.ecco['viz_907639'].addToken({\"token\": \"\\n\", \"is_partial\": true, \"token_id\": 198, \"position\": 37, \"type\": \"output\"})\n",
       "                window.ecco['viz_907639'].redraw()\n",
       "        })\n",
       "        "
      ]
     },
     "metadata": {}
    },
    {
     "output_type": "display_data",
     "data": {
      "text/plain": [
       "<IPython.core.display.Javascript object>"
      ],
      "application/javascript": [
       "\n",
       "        // We don't really need these require scripts. But this is to avert\n",
       "        //this code from running before display_input_sequence which DOES require external files\n",
       "        requirejs(['basic', 'ecco'], function(basic, ecco){\n",
       "                console.log('addToken viz_id', 'viz_907639');\n",
       "                window.ecco['viz_907639'].addToken({\"token\": \"8\", \"is_partial\": true, \"token_id\": 23, \"position\": 38, \"type\": \"output\"})\n",
       "                window.ecco['viz_907639'].redraw()\n",
       "        })\n",
       "        "
      ]
     },
     "metadata": {}
    },
    {
     "output_type": "display_data",
     "data": {
      "text/plain": [
       "<IPython.core.display.Javascript object>"
      ],
      "application/javascript": [
       "\n",
       "        // We don't really need these require scripts. But this is to avert\n",
       "        //this code from running before display_input_sequence which DOES require external files\n",
       "        requirejs(['basic', 'ecco'], function(basic, ecco){\n",
       "                console.log('addToken viz_id', 'viz_907639');\n",
       "                window.ecco['viz_907639'].addToken({\"token\": \".\", \"is_partial\": true, \"token_id\": 13, \"position\": 39, \"type\": \"output\"})\n",
       "                window.ecco['viz_907639'].redraw()\n",
       "        })\n",
       "        "
      ]
     },
     "metadata": {}
    },
    {
     "output_type": "display_data",
     "data": {
      "text/plain": [
       "<IPython.core.display.Javascript object>"
      ],
      "application/javascript": [
       "\n",
       "        // We don't really need these require scripts. But this is to avert\n",
       "        //this code from running before display_input_sequence which DOES require external files\n",
       "        requirejs(['basic', 'ecco'], function(basic, ecco){\n",
       "                console.log('addToken viz_id', 'viz_907639');\n",
       "                window.ecco['viz_907639'].addToken({\"token\": \"Italy\", \"is_partial\": false, \"token_id\": 8031, \"position\": 40, \"type\": \"output\"})\n",
       "                window.ecco['viz_907639'].redraw()\n",
       "        })\n",
       "        "
      ]
     },
     "metadata": {}
    },
    {
     "output_type": "display_data",
     "data": {
      "text/plain": [
       "<IPython.core.display.Javascript object>"
      ],
      "application/javascript": [
       "\n",
       "        // We don't really need these require scripts. But this is to avert\n",
       "        //this code from running before display_input_sequence which DOES require external files\n",
       "        requirejs(['basic', 'ecco'], function(basic, ecco){\n",
       "                console.log('addToken viz_id', 'viz_907639');\n",
       "                window.ecco['viz_907639'].addToken({\"token\": \"\\n\", \"is_partial\": true, \"token_id\": 198, \"position\": 41, \"type\": \"output\"})\n",
       "                window.ecco['viz_907639'].redraw()\n",
       "        })\n",
       "        "
      ]
     },
     "metadata": {}
    },
    {
     "output_type": "display_data",
     "data": {
      "text/plain": [
       "<IPython.core.display.Javascript object>"
      ],
      "application/javascript": [
       "\n",
       "        // We don't really need these require scripts. But this is to avert\n",
       "        //this code from running before display_input_sequence which DOES require external files\n",
       "        requirejs(['basic', 'ecco'], function(basic, ecco){\n",
       "                console.log('addToken viz_id', 'viz_907639');\n",
       "                window.ecco['viz_907639'].addToken({\"token\": \"9\", \"is_partial\": true, \"token_id\": 24, \"position\": 42, \"type\": \"output\"})\n",
       "                window.ecco['viz_907639'].redraw()\n",
       "        })\n",
       "        "
      ]
     },
     "metadata": {}
    }
   ]
  },
  {
   "cell_type": "code",
   "source": [
    "text= \"The countries and their capitals are:\\n1. Austria - Vienna\\n2. Germany - Berlin\\n3. France - Paris\\n4. Hungary - \"\n",
    "\n",
    "output__ = lm.generate(text, generate=20, do_sample=True)"
   ],
   "metadata": {
    "colab": {
     "base_uri": "https://localhost:8080/",
     "height": 281
    },
    "id": "RoWIOmEMwevL",
    "outputId": "74226efc-07aa-4257-871d-4219075cdcf8"
   },
   "execution_count": 118,
   "outputs": [
    {
     "output_type": "display_data",
     "data": {
      "text/plain": [
       "<IPython.core.display.HTML object>"
      ],
      "text/html": [
       "<html lang=\"en\">\n",
       "<script src=\"https://requirejs.org/docs/release/2.3.6/minified/require.js\"></script>\n",
       "<script>\n",
       "    var ecco_url = 'https://storage.googleapis.com/ml-intro/ecco/'\n",
       "    //var ecco_url = 'http://localhost:8000/'\n",
       "\n",
       "    if (window.ecco === undefined) window.ecco = {}\n",
       "\n",
       "    // Setup the paths of the script we'll be using\n",
       "    requirejs.config({\n",
       "        urlArgs: \"bust=\" + (new Date()).getTime(),\n",
       "        nodeRequire: require,\n",
       "        paths: {\n",
       "            d3: \"https://d3js.org/d3.v6.min\", // This is only for use in setup.html and basic.html\n",
       "            \"d3-array\": \"https://d3js.org/d3-array.v2.min\",\n",
       "            jquery: \"https://code.jquery.com/jquery-3.5.1.min\",\n",
       "            ecco: ecco_url + 'js/0.0.6/ecco-bundle.min',\n",
       "            xregexp: 'https://cdnjs.cloudflare.com/ajax/libs/xregexp/3.2.0/xregexp-all.min'\n",
       "        }\n",
       "    });\n",
       "\n",
       "    // Add the css file\n",
       "    //requirejs(['d3'],\n",
       "    //    function (d3) {\n",
       "    //        d3.select('#css').attr('href', ecco_url + 'html/styles.css')\n",
       "    //    })\n",
       "\n",
       "    console.log('Ecco initialize!!')\n",
       "\n",
       "    // returns a 'basic' object. basic.init() selects the html div we'll be\n",
       "    // rendering the html into, adds styles.css to the document.\n",
       "    define('basic', ['d3'],\n",
       "        function (d3) {\n",
       "            return {\n",
       "                init: function (viz_id = null) {\n",
       "                    if (viz_id == null) {\n",
       "                        viz_id = \"viz_\" + Math.round(Math.random() * 10000000)\n",
       "                    }\n",
       "                    // Select the div rendered below, change its id\n",
       "                    const div = d3.select('#basic').attr('id', viz_id),\n",
       "                        div_parent = d3.select('#' + viz_id).node().parentNode\n",
       "\n",
       "                    // Link to CSS file\n",
       "                    d3.select(div_parent).insert('link')\n",
       "                        .attr('rel', 'stylesheet')\n",
       "                        .attr('type', 'text/css')\n",
       "                        .attr('href', ecco_url + 'html/0.0.2/styles.css')\n",
       "\n",
       "                    return viz_id\n",
       "                }\n",
       "            }\n",
       "        }, function (err) {\n",
       "            console.log(err);\n",
       "        }\n",
       "    )\n",
       "</script>\n",
       "\n",
       "<head>\n",
       "    <link id='css' rel=\"stylesheet\" type=\"text/css\">\n",
       "</head>\n",
       "<div id=\"basic\"></div>\n"
      ]
     },
     "metadata": {}
    },
    {
     "output_type": "display_data",
     "data": {
      "text/plain": [
       "<IPython.core.display.Javascript object>"
      ],
      "application/javascript": [
       "\n",
       "         requirejs( ['basic', 'ecco'], function(basic, ecco){\n",
       "            basic.init('viz_161670') // Python needs to know the viz id. Used for each output token.\n",
       "            window.ecco['viz_161670'] = new ecco.renderOutputSequence({\n",
       "                    parentDiv: 'viz_161670',\n",
       "                    data: {\"tokens\": [{\"token\": \"The\", \"is_partial\": true, \"position\": 0, \"token_id\": 464, \"type\": \"input\"}, {\"token\": \"countries\", \"is_partial\": false, \"position\": 1, \"token_id\": 2678, \"type\": \"input\"}, {\"token\": \"and\", \"is_partial\": false, \"position\": 2, \"token_id\": 290, \"type\": \"input\"}, {\"token\": \"their\", \"is_partial\": false, \"position\": 3, \"token_id\": 511, \"type\": \"input\"}, {\"token\": \"capitals\", \"is_partial\": false, \"position\": 4, \"token_id\": 44590, \"type\": \"input\"}, {\"token\": \"are\", \"is_partial\": false, \"position\": 5, \"token_id\": 389, \"type\": \"input\"}, {\"token\": \":\", \"is_partial\": true, \"position\": 6, \"token_id\": 25, \"type\": \"input\"}, {\"token\": \"\\n\", \"is_partial\": true, \"position\": 7, \"token_id\": 198, \"type\": \"input\"}, {\"token\": \"1\", \"is_partial\": true, \"position\": 8, \"token_id\": 16, \"type\": \"input\"}, {\"token\": \".\", \"is_partial\": true, \"position\": 9, \"token_id\": 13, \"type\": \"input\"}, {\"token\": \"Austria\", \"is_partial\": false, \"position\": 10, \"token_id\": 17322, \"type\": \"input\"}, {\"token\": \"-\", \"is_partial\": false, \"position\": 11, \"token_id\": 532, \"type\": \"input\"}, {\"token\": \"Vienna\", \"is_partial\": false, \"position\": 12, \"token_id\": 23825, \"type\": \"input\"}, {\"token\": \"\\n\", \"is_partial\": true, \"position\": 13, \"token_id\": 198, \"type\": \"input\"}, {\"token\": \"2\", \"is_partial\": true, \"position\": 14, \"token_id\": 17, \"type\": \"input\"}, {\"token\": \".\", \"is_partial\": true, \"position\": 15, \"token_id\": 13, \"type\": \"input\"}, {\"token\": \"Germany\", \"is_partial\": false, \"position\": 16, \"token_id\": 4486, \"type\": \"input\"}, {\"token\": \"-\", \"is_partial\": false, \"position\": 17, \"token_id\": 532, \"type\": \"input\"}, {\"token\": \"Berlin\", \"is_partial\": false, \"position\": 18, \"token_id\": 11307, \"type\": \"input\"}, {\"token\": \"\\n\", \"is_partial\": true, \"position\": 19, \"token_id\": 198, \"type\": \"input\"}, {\"token\": \"3\", \"is_partial\": true, \"position\": 20, \"token_id\": 18, \"type\": \"input\"}, {\"token\": \".\", \"is_partial\": true, \"position\": 21, \"token_id\": 13, \"type\": \"input\"}, {\"token\": \"France\", \"is_partial\": false, \"position\": 22, \"token_id\": 4881, \"type\": \"input\"}, {\"token\": \"-\", \"is_partial\": false, \"position\": 23, \"token_id\": 532, \"type\": \"input\"}, {\"token\": \"Paris\", \"is_partial\": false, \"position\": 24, \"token_id\": 6342, \"type\": \"input\"}, {\"token\": \"\\n\", \"is_partial\": true, \"position\": 25, \"token_id\": 198, \"type\": \"input\"}, {\"token\": \"4\", \"is_partial\": true, \"position\": 26, \"token_id\": 19, \"type\": \"input\"}, {\"token\": \".\", \"is_partial\": true, \"position\": 27, \"token_id\": 13, \"type\": \"input\"}, {\"token\": \"Hungary\", \"is_partial\": false, \"position\": 28, \"token_id\": 19562, \"type\": \"input\"}, {\"token\": \"-\", \"is_partial\": false, \"position\": 29, \"token_id\": 532, \"type\": \"input\"}, {\"token\": \"\", \"is_partial\": false, \"position\": 30, \"token_id\": 220, \"type\": \"input\"}]},\n",
       "                    tokenization_config: {\"token_prefix\": \"\\u0120\", \"partial_token_prefix\": \"\"}\n",
       "            \n",
       "            })\n",
       "         }, function (err) {\n",
       "            console.log(err);\n",
       "        })\n",
       "        "
      ]
     },
     "metadata": {}
    },
    {
     "output_type": "stream",
     "name": "stderr",
     "text": [
      "Setting `pad_token_id` to `eos_token_id`:50256 for open-end generation.\n"
     ]
    },
    {
     "output_type": "display_data",
     "data": {
      "text/plain": [
       "<IPython.core.display.Javascript object>"
      ],
      "application/javascript": [
       "\n",
       "        // We don't really need these require scripts. But this is to avert\n",
       "        //this code from running before display_input_sequence which DOES require external files\n",
       "        requirejs(['basic', 'ecco'], function(basic, ecco){\n",
       "                console.log('addToken viz_id', 'viz_161670');\n",
       "                window.ecco['viz_161670'].addToken({\"token\": \"\\u00c2\", \"is_partial\": true, \"token_id\": 5523, \"position\": 31, \"type\": \"output\"})\n",
       "                window.ecco['viz_161670'].redraw()\n",
       "        })\n",
       "        "
      ]
     },
     "metadata": {}
    },
    {
     "output_type": "display_data",
     "data": {
      "text/plain": [
       "<IPython.core.display.Javascript object>"
      ],
      "application/javascript": [
       "\n",
       "        // We don't really need these require scripts. But this is to avert\n",
       "        //this code from running before display_input_sequence which DOES require external files\n",
       "        requirejs(['basic', 'ecco'], function(basic, ecco){\n",
       "                console.log('addToken viz_id', 'viz_161670');\n",
       "                window.ecco['viz_161670'].addToken({\"token\": \"Brussels\", \"is_partial\": false, \"token_id\": 16445, \"position\": 32, \"type\": \"output\"})\n",
       "                window.ecco['viz_161670'].redraw()\n",
       "        })\n",
       "        "
      ]
     },
     "metadata": {}
    },
    {
     "output_type": "display_data",
     "data": {
      "text/plain": [
       "<IPython.core.display.Javascript object>"
      ],
      "application/javascript": [
       "\n",
       "        // We don't really need these require scripts. But this is to avert\n",
       "        //this code from running before display_input_sequence which DOES require external files\n",
       "        requirejs(['basic', 'ecco'], function(basic, ecco){\n",
       "                console.log('addToken viz_id', 'viz_161670');\n",
       "                window.ecco['viz_161670'].addToken({\"token\": \"\\n\", \"is_partial\": true, \"token_id\": 198, \"position\": 33, \"type\": \"output\"})\n",
       "                window.ecco['viz_161670'].redraw()\n",
       "        })\n",
       "        "
      ]
     },
     "metadata": {}
    },
    {
     "output_type": "display_data",
     "data": {
      "text/plain": [
       "<IPython.core.display.Javascript object>"
      ],
      "application/javascript": [
       "\n",
       "        // We don't really need these require scripts. But this is to avert\n",
       "        //this code from running before display_input_sequence which DOES require external files\n",
       "        requirejs(['basic', 'ecco'], function(basic, ecco){\n",
       "                console.log('addToken viz_id', 'viz_161670');\n",
       "                window.ecco['viz_161670'].addToken({\"token\": \"5\", \"is_partial\": true, \"token_id\": 20, \"position\": 34, \"type\": \"output\"})\n",
       "                window.ecco['viz_161670'].redraw()\n",
       "        })\n",
       "        "
      ]
     },
     "metadata": {}
    },
    {
     "output_type": "display_data",
     "data": {
      "text/plain": [
       "<IPython.core.display.Javascript object>"
      ],
      "application/javascript": [
       "\n",
       "        // We don't really need these require scripts. But this is to avert\n",
       "        //this code from running before display_input_sequence which DOES require external files\n",
       "        requirejs(['basic', 'ecco'], function(basic, ecco){\n",
       "                console.log('addToken viz_id', 'viz_161670');\n",
       "                window.ecco['viz_161670'].addToken({\"token\": \".\", \"is_partial\": true, \"token_id\": 13, \"position\": 35, \"type\": \"output\"})\n",
       "                window.ecco['viz_161670'].redraw()\n",
       "        })\n",
       "        "
      ]
     },
     "metadata": {}
    },
    {
     "output_type": "display_data",
     "data": {
      "text/plain": [
       "<IPython.core.display.Javascript object>"
      ],
      "application/javascript": [
       "\n",
       "        // We don't really need these require scripts. But this is to avert\n",
       "        //this code from running before display_input_sequence which DOES require external files\n",
       "        requirejs(['basic', 'ecco'], function(basic, ecco){\n",
       "                console.log('addToken viz_id', 'viz_161670');\n",
       "                window.ecco['viz_161670'].addToken({\"token\": \"Luxembourg\", \"is_partial\": false, \"token_id\": 31864, \"position\": 36, \"type\": \"output\"})\n",
       "                window.ecco['viz_161670'].redraw()\n",
       "        })\n",
       "        "
      ]
     },
     "metadata": {}
    },
    {
     "output_type": "display_data",
     "data": {
      "text/plain": [
       "<IPython.core.display.Javascript object>"
      ],
      "application/javascript": [
       "\n",
       "        // We don't really need these require scripts. But this is to avert\n",
       "        //this code from running before display_input_sequence which DOES require external files\n",
       "        requirejs(['basic', 'ecco'], function(basic, ecco){\n",
       "                console.log('addToken viz_id', 'viz_161670');\n",
       "                window.ecco['viz_161670'].addToken({\"token\": \"-\", \"is_partial\": false, \"token_id\": 532, \"position\": 37, \"type\": \"output\"})\n",
       "                window.ecco['viz_161670'].redraw()\n",
       "        })\n",
       "        "
      ]
     },
     "metadata": {}
    },
    {
     "output_type": "display_data",
     "data": {
      "text/plain": [
       "<IPython.core.display.Javascript object>"
      ],
      "application/javascript": [
       "\n",
       "        // We don't really need these require scripts. But this is to avert\n",
       "        //this code from running before display_input_sequence which DOES require external files\n",
       "        requirejs(['basic', 'ecco'], function(basic, ecco){\n",
       "                console.log('addToken viz_id', 'viz_161670');\n",
       "                window.ecco['viz_161670'].addToken({\"token\": \"Brussels\", \"is_partial\": false, \"token_id\": 16445, \"position\": 38, \"type\": \"output\"})\n",
       "                window.ecco['viz_161670'].redraw()\n",
       "        })\n",
       "        "
      ]
     },
     "metadata": {}
    },
    {
     "output_type": "display_data",
     "data": {
      "text/plain": [
       "<IPython.core.display.Javascript object>"
      ],
      "application/javascript": [
       "\n",
       "        // We don't really need these require scripts. But this is to avert\n",
       "        //this code from running before display_input_sequence which DOES require external files\n",
       "        requirejs(['basic', 'ecco'], function(basic, ecco){\n",
       "                console.log('addToken viz_id', 'viz_161670');\n",
       "                window.ecco['viz_161670'].addToken({\"token\": \"\\n\", \"is_partial\": true, \"token_id\": 198, \"position\": 39, \"type\": \"output\"})\n",
       "                window.ecco['viz_161670'].redraw()\n",
       "        })\n",
       "        "
      ]
     },
     "metadata": {}
    },
    {
     "output_type": "display_data",
     "data": {
      "text/plain": [
       "<IPython.core.display.Javascript object>"
      ],
      "application/javascript": [
       "\n",
       "        // We don't really need these require scripts. But this is to avert\n",
       "        //this code from running before display_input_sequence which DOES require external files\n",
       "        requirejs(['basic', 'ecco'], function(basic, ecco){\n",
       "                console.log('addToken viz_id', 'viz_161670');\n",
       "                window.ecco['viz_161670'].addToken({\"token\": \"6\", \"is_partial\": true, \"token_id\": 21, \"position\": 40, \"type\": \"output\"})\n",
       "                window.ecco['viz_161670'].redraw()\n",
       "        })\n",
       "        "
      ]
     },
     "metadata": {}
    },
    {
     "output_type": "display_data",
     "data": {
      "text/plain": [
       "<IPython.core.display.Javascript object>"
      ],
      "application/javascript": [
       "\n",
       "        // We don't really need these require scripts. But this is to avert\n",
       "        //this code from running before display_input_sequence which DOES require external files\n",
       "        requirejs(['basic', 'ecco'], function(basic, ecco){\n",
       "                console.log('addToken viz_id', 'viz_161670');\n",
       "                window.ecco['viz_161670'].addToken({\"token\": \".\", \"is_partial\": true, \"token_id\": 13, \"position\": 41, \"type\": \"output\"})\n",
       "                window.ecco['viz_161670'].redraw()\n",
       "        })\n",
       "        "
      ]
     },
     "metadata": {}
    },
    {
     "output_type": "display_data",
     "data": {
      "text/plain": [
       "<IPython.core.display.Javascript object>"
      ],
      "application/javascript": [
       "\n",
       "        // We don't really need these require scripts. But this is to avert\n",
       "        //this code from running before display_input_sequence which DOES require external files\n",
       "        requirejs(['basic', 'ecco'], function(basic, ecco){\n",
       "                console.log('addToken viz_id', 'viz_161670');\n",
       "                window.ecco['viz_161670'].addToken({\"token\": \"Slovenia\", \"is_partial\": false, \"token_id\": 37562, \"position\": 42, \"type\": \"output\"})\n",
       "                window.ecco['viz_161670'].redraw()\n",
       "        })\n",
       "        "
      ]
     },
     "metadata": {}
    },
    {
     "output_type": "display_data",
     "data": {
      "text/plain": [
       "<IPython.core.display.Javascript object>"
      ],
      "application/javascript": [
       "\n",
       "        // We don't really need these require scripts. But this is to avert\n",
       "        //this code from running before display_input_sequence which DOES require external files\n",
       "        requirejs(['basic', 'ecco'], function(basic, ecco){\n",
       "                console.log('addToken viz_id', 'viz_161670');\n",
       "                window.ecco['viz_161670'].addToken({\"token\": \"-\", \"is_partial\": false, \"token_id\": 532, \"position\": 43, \"type\": \"output\"})\n",
       "                window.ecco['viz_161670'].redraw()\n",
       "        })\n",
       "        "
      ]
     },
     "metadata": {}
    },
    {
     "output_type": "display_data",
     "data": {
      "text/plain": [
       "<IPython.core.display.Javascript object>"
      ],
      "application/javascript": [
       "\n",
       "        // We don't really need these require scripts. But this is to avert\n",
       "        //this code from running before display_input_sequence which DOES require external files\n",
       "        requirejs(['basic', 'ecco'], function(basic, ecco){\n",
       "                console.log('addToken viz_id', 'viz_161670');\n",
       "                window.ecco['viz_161670'].addToken({\"token\": \"\", \"is_partial\": false, \"token_id\": 220, \"position\": 44, \"type\": \"output\"})\n",
       "                window.ecco['viz_161670'].redraw()\n",
       "        })\n",
       "        "
      ]
     },
     "metadata": {}
    },
    {
     "output_type": "display_data",
     "data": {
      "text/plain": [
       "<IPython.core.display.Javascript object>"
      ],
      "application/javascript": [
       "\n",
       "        // We don't really need these require scripts. But this is to avert\n",
       "        //this code from running before display_input_sequence which DOES require external files\n",
       "        requirejs(['basic', 'ecco'], function(basic, ecco){\n",
       "                console.log('addToken viz_id', 'viz_161670');\n",
       "                window.ecco['viz_161670'].addToken({\"token\": \"\\u00c2\", \"is_partial\": true, \"token_id\": 5523, \"position\": 45, \"type\": \"output\"})\n",
       "                window.ecco['viz_161670'].redraw()\n",
       "        })\n",
       "        "
      ]
     },
     "metadata": {}
    },
    {
     "output_type": "display_data",
     "data": {
      "text/plain": [
       "<IPython.core.display.Javascript object>"
      ],
      "application/javascript": [
       "\n",
       "        // We don't really need these require scripts. But this is to avert\n",
       "        //this code from running before display_input_sequence which DOES require external files\n",
       "        requirejs(['basic', 'ecco'], function(basic, ecco){\n",
       "                console.log('addToken viz_id', 'viz_161670');\n",
       "                window.ecco['viz_161670'].addToken({\"token\": \"Budapest\", \"is_partial\": false, \"token_id\": 40959, \"position\": 46, \"type\": \"output\"})\n",
       "                window.ecco['viz_161670'].redraw()\n",
       "        })\n",
       "        "
      ]
     },
     "metadata": {}
    },
    {
     "output_type": "display_data",
     "data": {
      "text/plain": [
       "<IPython.core.display.Javascript object>"
      ],
      "application/javascript": [
       "\n",
       "        // We don't really need these require scripts. But this is to avert\n",
       "        //this code from running before display_input_sequence which DOES require external files\n",
       "        requirejs(['basic', 'ecco'], function(basic, ecco){\n",
       "                console.log('addToken viz_id', 'viz_161670');\n",
       "                window.ecco['viz_161670'].addToken({\"token\": \"\\n\", \"is_partial\": true, \"token_id\": 198, \"position\": 47, \"type\": \"output\"})\n",
       "                window.ecco['viz_161670'].redraw()\n",
       "        })\n",
       "        "
      ]
     },
     "metadata": {}
    },
    {
     "output_type": "display_data",
     "data": {
      "text/plain": [
       "<IPython.core.display.Javascript object>"
      ],
      "application/javascript": [
       "\n",
       "        // We don't really need these require scripts. But this is to avert\n",
       "        //this code from running before display_input_sequence which DOES require external files\n",
       "        requirejs(['basic', 'ecco'], function(basic, ecco){\n",
       "                console.log('addToken viz_id', 'viz_161670');\n",
       "                window.ecco['viz_161670'].addToken({\"token\": \"7\", \"is_partial\": true, \"token_id\": 22, \"position\": 48, \"type\": \"output\"})\n",
       "                window.ecco['viz_161670'].redraw()\n",
       "        })\n",
       "        "
      ]
     },
     "metadata": {}
    },
    {
     "output_type": "display_data",
     "data": {
      "text/plain": [
       "<IPython.core.display.Javascript object>"
      ],
      "application/javascript": [
       "\n",
       "        // We don't really need these require scripts. But this is to avert\n",
       "        //this code from running before display_input_sequence which DOES require external files\n",
       "        requirejs(['basic', 'ecco'], function(basic, ecco){\n",
       "                console.log('addToken viz_id', 'viz_161670');\n",
       "                window.ecco['viz_161670'].addToken({\"token\": \".\", \"is_partial\": true, \"token_id\": 13, \"position\": 49, \"type\": \"output\"})\n",
       "                window.ecco['viz_161670'].redraw()\n",
       "        })\n",
       "        "
      ]
     },
     "metadata": {}
    },
    {
     "output_type": "display_data",
     "data": {
      "text/plain": [
       "<IPython.core.display.Javascript object>"
      ],
      "application/javascript": [
       "\n",
       "        // We don't really need these require scripts. But this is to avert\n",
       "        //this code from running before display_input_sequence which DOES require external files\n",
       "        requirejs(['basic', 'ecco'], function(basic, ecco){\n",
       "                console.log('addToken viz_id', 'viz_161670');\n",
       "                window.ecco['viz_161670'].addToken({\"token\": \"Slovenia\", \"is_partial\": false, \"token_id\": 37562, \"position\": 50, \"type\": \"output\"})\n",
       "                window.ecco['viz_161670'].redraw()\n",
       "        })\n",
       "        "
      ]
     },
     "metadata": {}
    }
   ]
  },
  {
   "cell_type": "code",
   "source": [
    "output_3.rankings()"
   ],
   "metadata": {
    "colab": {
     "base_uri": "https://localhost:8080/",
     "height": 461
    },
    "id": "BZGTrUQwxa5f",
    "outputId": "b353aa77-def6-4c94-93e5-f10fd6eda564"
   },
   "execution_count": 130,
   "outputs": [
    {
     "output_type": "display_data",
     "data": {
      "text/plain": [
       "<Figure size 1900x340 with 3 Axes>"
      ],
      "image/png": "[encoded data removed]"
     },
     "metadata": {}
    }
   ]
  },
  {
   "cell_type": "code",
   "source": [
    "nmf = output_3.run_nmf(n_components=6)\n",
    "nmf"
   ],
   "metadata": {
    "colab": {
     "base_uri": "https://localhost:8080/"
    },
    "id": "_Su6pXppxpBj",
    "outputId": "0ec92f4f-5aa4-4b09-a86d-4d4412681924"
   },
   "execution_count": 131,
   "outputs": [
    {
     "output_type": "execute_result",
     "data": {
      "text/plain": [
       "<ecco.output.NMF at 0x7f68183b6c40>"
      ]
     },
     "metadata": {},
     "execution_count": 131
    }
   ]
  },
  {
   "cell_type": "code",
   "source": [
    "nmf.explore()"
   ],
   "metadata": {
    "colab": {
     "base_uri": "https://localhost:8080/",
     "height": 438
    },
    "id": "p2T7pz470j4m",
    "outputId": "1f2f7bac-3571-4616-e23c-233ad53ac9d6"
   },
   "execution_count": 132,
   "outputs": [
    {
     "output_type": "display_data",
     "data": {
      "text/plain": [
       "<IPython.core.display.HTML object>"
      ],
      "text/html": [
       "<html lang=\"en\">\n",
       "<script src=\"https://requirejs.org/docs/release/2.3.6/minified/require.js\"></script>\n",
       "<script>\n",
       "    var ecco_url = 'https://storage.googleapis.com/ml-intro/ecco/'\n",
       "    //var ecco_url = 'http://localhost:8000/'\n",
       "\n",
       "    if (window.ecco === undefined) window.ecco = {}\n",
       "\n",
       "    // Setup the paths of the script we'll be using\n",
       "    requirejs.config({\n",
       "        urlArgs: \"bust=\" + (new Date()).getTime(),\n",
       "        nodeRequire: require,\n",
       "        paths: {\n",
       "            d3: \"https://d3js.org/d3.v6.min\", // This is only for use in setup.html and basic.html\n",
       "            \"d3-array\": \"https://d3js.org/d3-array.v2.min\",\n",
       "            jquery: \"https://code.jquery.com/jquery-3.5.1.min\",\n",
       "            ecco: ecco_url + 'js/0.0.6/ecco-bundle.min',\n",
       "            xregexp: 'https://cdnjs.cloudflare.com/ajax/libs/xregexp/3.2.0/xregexp-all.min'\n",
       "        }\n",
       "    });\n",
       "\n",
       "    // Add the css file\n",
       "    //requirejs(['d3'],\n",
       "    //    function (d3) {\n",
       "    //        d3.select('#css').attr('href', ecco_url + 'html/styles.css')\n",
       "    //    })\n",
       "\n",
       "    console.log('Ecco initialize!!')\n",
       "\n",
       "    // returns a 'basic' object. basic.init() selects the html div we'll be\n",
       "    // rendering the html into, adds styles.css to the document.\n",
       "    define('basic', ['d3'],\n",
       "        function (d3) {\n",
       "            return {\n",
       "                init: function (viz_id = null) {\n",
       "                    if (viz_id == null) {\n",
       "                        viz_id = \"viz_\" + Math.round(Math.random() * 10000000)\n",
       "                    }\n",
       "                    // Select the div rendered below, change its id\n",
       "                    const div = d3.select('#basic').attr('id', viz_id),\n",
       "                        div_parent = d3.select('#' + viz_id).node().parentNode\n",
       "\n",
       "                    // Link to CSS file\n",
       "                    d3.select(div_parent).insert('link')\n",
       "                        .attr('rel', 'stylesheet')\n",
       "                        .attr('type', 'text/css')\n",
       "                        .attr('href', ecco_url + 'html/0.0.2/styles.css')\n",
       "\n",
       "                    return viz_id\n",
       "                }\n",
       "            }\n",
       "        }, function (err) {\n",
       "            console.log(err);\n",
       "        }\n",
       "    )\n",
       "</script>\n",
       "\n",
       "<head>\n",
       "    <link id='css' rel=\"stylesheet\" type=\"text/css\">\n",
       "</head>\n",
       "<div id=\"basic\"></div>\n"
      ]
     },
     "metadata": {}
    },
    {
     "output_type": "display_data",
     "data": {
      "text/plain": [
       "<IPython.core.display.Javascript object>"
      ],
      "application/javascript": [
       "\n",
       "         requirejs(['basic', 'ecco'], function(basic, ecco){\n",
       "            const viz_id = basic.init()\n",
       "            \n",
       "            ecco.interactiveTokensAndFactorSparklines(viz_id, {'tokens': [{'token': 'The', 'token_id': 464, 'type': 'input', 'position': 0}, {'token': 'Ġcountries', 'token_id': 2678, 'type': 'input', 'position': 1}, {'token': 'Ġof', 'token_id': 286, 'type': 'input', 'position': 2}, {'token': 'Ġthe', 'token_id': 262, 'type': 'input', 'position': 3}, {'token': 'ĠEuropean', 'token_id': 3427, 'type': 'input', 'position': 4}, {'token': 'ĠUnion', 'token_id': 4479, 'type': 'input', 'position': 5}, {'token': 'Ġare', 'token_id': 389, 'type': 'input', 'position': 6}, {'token': ':', 'token_id': 25, 'type': 'input', 'position': 7}, {'token': 'Ċ', 'token_id': 198, 'type': 'input', 'position': 8}, {'token': '1', 'token_id': 16, 'type': 'input', 'position': 9}, {'token': '.', 'token_id': 13, 'type': 'input', 'position': 10}, {'token': 'ĠAustria', 'token_id': 17322, 'type': 'input', 'position': 11}, {'token': 'Ċ', 'token_id': 198, 'type': 'input', 'position': 12}, {'token': '2', 'token_id': 17, 'type': 'input', 'position': 13}, {'token': '.', 'token_id': 13, 'type': 'input', 'position': 14}, {'token': 'ĠBelgium', 'token_id': 15664, 'type': 'input', 'position': 15}, {'token': 'Ċ', 'token_id': 198, 'type': 'input', 'position': 16}, {'token': '3', 'token_id': 18, 'type': 'input', 'position': 17}, {'token': '.', 'token_id': 13, 'type': 'input', 'position': 18}, {'token': 'ĠBulgaria', 'token_id': 27902, 'type': 'input', 'position': 19}, {'token': 'Ċ', 'token_id': 198, 'type': 'input', 'position': 20}, {'token': '4', 'token_id': 19, 'type': 'input', 'position': 21}, {'token': '.', 'token_id': 13, 'type': 'input', 'position': 22}, {'token': 'ĠCzech', 'token_id': 16639, 'type': 'output', 'position': 23}, {'token': 'ĠRepublic', 'token_id': 2066, 'type': 'output', 'position': 24}, {'token': 'Ċ', 'token_id': 198, 'type': 'output', 'position': 25}, {'token': '5', 'token_id': 20, 'type': 'output', 'position': 26}, {'token': '.', 'token_id': 13, 'type': 'output', 'position': 27}, {'token': 'ĠDenmark', 'token_id': 16490, 'type': 'output', 'position': 28}, {'token': 'Ċ', 'token_id': 198, 'type': 'output', 'position': 29}, {'token': '6', 'token_id': 21, 'type': 'output', 'position': 30}, {'token': '.', 'token_id': 13, 'type': 'output', 'position': 31}, {'token': 'ĠEstonia', 'token_id': 30912, 'type': 'output', 'position': 32}, {'token': 'Ċ', 'token_id': 198, 'type': 'output', 'position': 33}, {'token': '7', 'token_id': 22, 'type': 'output', 'position': 34}, {'token': '.', 'token_id': 13, 'type': 'output', 'position': 35}, {'token': 'ĠHungary', 'token_id': 19562, 'type': 'output', 'position': 36}, {'token': 'Ċ', 'token_id': 198, 'type': 'output', 'position': 37}, {'token': '8', 'token_id': 23, 'type': 'output', 'position': 38}, {'token': '.', 'token_id': 13, 'type': 'output', 'position': 39}, {'token': 'ĠItaly', 'token_id': 8031, 'type': 'output', 'position': 40}, {'token': 'Ċ', 'token_id': 198, 'type': 'output', 'position': 41}, {'token': '9', 'token_id': 24, 'type': 'output', 'position': 42}], 'factors': [[[0.0, 0.0, 0.01739923097193241, 0.0053910864517092705, 0.0, 0.0, 0.006636851001530886, 0.08384347707033157, 0.0, 0.04456884413957596, 0.1969275176525116, 0.003482697531580925, 0.0, 0.006652731914073229, 0.3687531650066376, 0.008061823435127735, 0.0005710390396416187, 0.006868281867355108, 0.38141414523124695, 0.0, 0.00633883336558938, 0.0010421541519463062, 0.3631856143474579, 0.3631856143474579, 0.03037683293223381, 0.00013567421410698444, 0.004540731199085712, 0.0, 0.35292527079582214, 0.0, 0.0005621035234071314, 0.0, 0.337228000164032, 0.0, 0.006558640394359827, 0.0, 0.32740411162376404, 0.0, 0.0008258395246230066, 0.0, 0.3116416931152344, 0.0, 0.0], [0.0, 0.0, 0.0, 0.0, 0.0, 0.0, 0.0032014213502407074, 0.0, 0.22981098294258118, 0.0, 0.0, 0.0, 0.37702667713165283, 0.0, 0.0, 0.0, 0.5498295426368713, 0.0, 0.0, 0.0, 0.5976001024246216, 0.0, 0.03537851572036743, 0.03537851572036743, 0.0, 0.0364278145134449, 0.6417285799980164, 0.001587846432812512, 0.020575430244207382, 0.010790294967591763, 0.6343080401420593, 0.001265125349164009, 0.03459884598851204, 0.001421788358129561, 0.6200566291809082, 0.0, 0.03659335523843765, 0.01003175601363182, 0.6227686405181885, 0.0, 0.041155461221933365, 0.016753340139985085, 0.615710437297821], [0.0, 0.10721836239099503, 0.0, 0.0, 0.25832271575927734, 0.17385542392730713, 0.0, 0.0, 0.0, 0.018854085355997086, 0.0, 0.6569746732711792, 0.035894278436899185, 0.0, 0.0, 0.8089659214019775, 0.020056646317243576, 0.0, 0.0, 0.8882172107696533, 0.01879429817199707, 0.0, 0.0, 0.0, 0.7759221792221069, 0.726285994052887, 0.0, 0.00534048629924655, 0.0, 0.8137168288230896, 0.005340126808732748, 0.014476411044597626, 0.0, 0.8635876774787903, 0.0, 0.006128684151917696, 0.000175422930624336, 0.8140472769737244, 0.0, 0.02239418216049671, 0.011420723982155323, 0.7530513405799866, 0.0], [0.0, 0.0, 0.006295534782111645, 0.0, 0.0, 0.0, 0.00463748537003994, 0.0, 0.06216828152537346, 0.1693926751613617, 0.0, 0.0, 0.04913966730237007, 0.7061789035797119, 0.0, 0.0, 0.01195130217820406, 0.7531777620315552, 0.0, 0.0, 0.0, 0.7374557852745056, 0.0, 0.0, 0.0, 0.0, 0.0, 0.707374632358551, 0.0, 0.021278228610754013, 0.0, 0.7092893719673157, 0.007222512271255255, 0.008492231369018555, 0.0008991086506284773, 0.7190157175064087, 0.005675112828612328, 0.01767304725944996, 0.0, 0.7043556571006775, 0.0072394730523228645, 0.04644548147916794, 0.0], [2.1925973892211914, 0.0, 0.0, 0.008131972514092922, 0.0, 0.0, 0.0, 0.0009475312544964254, 0.008915232494473457, 0.001173238968476653, 0.008486434817314148, 0.0, 0.004671895410865545, 0.0, 0.0, 0.0010733103845268488, 0.0, 0.0, 0.0, 0.0004091357404831797, 0.0, 0.0, 0.0, 0.0, 0.0, 0.003059744369238615, 0.0, 3.556746742106043e-05, 0.0, 0.0, 0.0, 0.00095346849411726, 0.0, 0.0, 0.0, 0.0, 0.0, 0.0, 0.0, 0.0007469899719581008, 0.0, 0.0, 0.0], [0.0, 0.4040648341178894, 0.4132022559642792, 0.4263887107372284, 0.3732771873474121, 0.4283205568790436, 0.42444461584091187, 0.3525579571723938, 0.2931672930717468, 0.24584811925888062, 0.23142993450164795, 0.10407107323408127, 0.13318303227424622, 0.03147665411233902, 0.0730835571885109, 0.020752938464283943, 0.034143105149269104, 0.0, 0.011015348136425018, 0.0, 0.005540113430470228, 0.0, 0.0, 0.0, 0.02585645392537117, 0.049131762236356735, 0.0, 0.0, 0.0, 0.0, 0.0, 0.0, 0.0, 0.0, 0.0, 0.0, 0.0, 0.0, 0.0, 0.0, 0.0, 0.0, 0.0]]]},\n",
       "            {\n",
       "            'hltrCFG': {'tokenization_config': {\"token_prefix\": \"\\u0120\", \"partial_token_prefix\": \"\"}\n",
       "                }\n",
       "            })\n",
       "         }, function (err) {\n",
       "            console.log(err);\n",
       "        })"
      ]
     },
     "metadata": {}
    }
   ]
  }
 ]
}
